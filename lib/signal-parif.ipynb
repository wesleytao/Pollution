{
 "cells": [
  {
   "cell_type": "code",
   "execution_count": 17,
   "metadata": {},
   "outputs": [],
   "source": [
    "import pandas as pd\n",
    "import numpy as np\n",
    "import re\n",
    "from datetime import datetime\n",
    "from pandas import Index\n",
    "import matplotlib.pyplot as plt\n",
    "from pytrends.request import TrendReq\n",
    "from pytrends import request\n",
    "import pickle"
   ]
  },
  {
   "cell_type": "code",
   "execution_count": 113,
   "metadata": {},
   "outputs": [],
   "source": [
    "def signal_process(table,event_var='PM25_Marseille_Longchamp',event_threshold = 40,preceeding_hour =2, duration = 6,var_name_list='air pollution'):\n",
    "    \"\"\"Find the spike in pm25 and plot a sliding window for google trend \"\"\"\n",
    "\n",
    "    index_list=np.where(table[event_var]>event_threshold)[0]\n",
    "    \n",
    "    # add first element\n",
    "    shrink_index_list = [index_list[0]]\n",
    "    date_set ={table.datetime[index_list[0]]}\n",
    "    \n",
    "    # exclude for the same day\n",
    "    for cnt in range(1,len(index_list)):\n",
    "        if table.datetime[index_list[cnt]] in date_set:\n",
    "            pass\n",
    "        else:\n",
    "            shrink_index_list.append(index_list[cnt].copy())\n",
    "            date_set.add(table.datetime[index_list[cnt]])\n",
    "    \n",
    "    bind_list = []\n",
    "    for start_index in shrink_index_list:\n",
    "        this_sequence = table.loc[range(start_index-preceeding_hour,start_index+duration),\n",
    "                                  var_name_list]\n",
    "        start_date = table.datetime[start_index]\n",
    "        tuples = list(zip([start_date]*(duration+preceeding_hour),range(-preceeding_hour,duration)))\n",
    "\n",
    "        this_sequence.index = pd.MultiIndex.from_tuples(tuples,names=['event_date_index','hour_index'])\n",
    "    #         this_sequence = (this_sequence- this_sequence.mean())/this_sequence.std()\n",
    "\n",
    "        bind_list.append(this_sequence)\n",
    "    new_table=pd.concat(bind_list)     \n",
    "    \n",
    "    return new_table"
   ]
  },
  {
   "cell_type": "code",
   "execution_count": 18,
   "metadata": {},
   "outputs": [],
   "source": [
    "def fetching_trend(airdata, kw_list,location_code='FR-U',timezone = 0):\n",
    "    input_table = airdata\n",
    "    newest_datetime   = max(input_table['datetime'])\n",
    "    earliest_datetime = min(input_table['datetime'])\n",
    "    pytrends = TrendReq(hl='En-US', tz=timezone)\n",
    "    print(\"fectching trend \")\n",
    "    ggtrend_list =[]\n",
    "    for keyword in kw_list:\n",
    "        \n",
    "        this_list = [keyword]\n",
    "        try: \n",
    "            topic_code = pytrends.suggestions(keyword)[0]['mid']\n",
    "            this_list.append(topic_code)\n",
    "        except IndexError:\n",
    "            pass\n",
    "            \n",
    "        ggtrend = pytrends.get_historical_interest(this_list, \n",
    "                                 year_start=earliest_datetime.year,\n",
    "                                          month_start=earliest_datetime.month, \n",
    "                                          day_start=earliest_datetime.days_in_month, \n",
    "                                          hour_start=earliest_datetime.hour, \n",
    "                                 year_end=newest_datetime.year,\n",
    "                                          month_end=newest_datetime.month, \n",
    "                                          day_end=newest_datetime.days_in_month, \n",
    "                                          hour_end=newest_datetime.hour, \n",
    "                                 cat=0, # all categorical\n",
    "                                          geo=location_code,  # Provence-Alpes-Côte d'Azur\n",
    "                                          gprop='',  # no specific group # image #hastag etc\n",
    "                                          sleep=0)\n",
    "        if len(this_list)==2: \n",
    "            ggtrend.columns= Index([keyword, keyword+\" topic\", 'isPartial'], dtype='object')\n",
    "        ggtrend_list.append(ggtrend)\n",
    "    print(\"trend is fectched\")\n",
    "    return ggtrend_list"
   ]
  },
  {
   "cell_type": "code",
   "execution_count": 4,
   "metadata": {},
   "outputs": [],
   "source": [
    "# loading table "
   ]
  },
  {
   "cell_type": "code",
   "execution_count": 5,
   "metadata": {},
   "outputs": [],
   "source": [
    "parca_table= pd.read_csv(\"../stage/parif.csv\")"
   ]
  },
  {
   "cell_type": "code",
   "execution_count": 6,
   "metadata": {},
   "outputs": [],
   "source": [
    "parca_table['datetime']=parca_table['datetime'].apply(lambda string: datetime.strptime(string,'%Y-%m-%d %H:%M:%S'))"
   ]
  },
  {
   "cell_type": "code",
   "execution_count": 7,
   "metadata": {},
   "outputs": [],
   "source": [
    "full_date_time = pd.date_range(parca_table[['datetime']].min()[0],parca_table[['datetime']].max()[0],freq='H')\n",
    "full_time_set = set(map(lambda mytime: mytime.strftime(\"%Y-%m-%d %H:%M:%S\"),full_date_time.to_series())) \n",
    "data_time_set = set(map(lambda timestamp: str(timestamp),parca_table['datetime']))\n",
    "    # pad na values\n",
    "if len(full_time_set) != len(data_time_set):\n",
    "    pad_time = full_time_set -data_time_set\n",
    "    pad_table = pd.DataFrame()\n",
    "    pad_table['datetime']=[datetime.strptime(mytime,\"%Y-%m-%d %H:%M:%S\") for mytime in pad_time]\n",
    "    for column in parca_table.columns:\n",
    "        if column !=\"datetime\":\n",
    "            pad_table[column]=None\n",
    "    parca_table = pd.concat([parca_table,pad_table],ignore_index=True)"
   ]
  },
  {
   "cell_type": "code",
   "execution_count": 8,
   "metadata": {},
   "outputs": [],
   "source": [
    "# fetching google trend"
   ]
  },
  {
   "cell_type": "code",
   "execution_count": 9,
   "metadata": {},
   "outputs": [
    {
     "data": {
      "text/plain": [
       "DatetimeIndex(['2017-01-01 00:00:00', '2017-01-01 01:00:00',\n",
       "               '2017-01-01 02:00:00', '2017-01-01 03:00:00',\n",
       "               '2017-01-01 04:00:00', '2017-01-01 05:00:00',\n",
       "               '2017-01-01 06:00:00', '2017-01-01 07:00:00',\n",
       "               '2017-01-01 08:00:00', '2017-01-01 09:00:00',\n",
       "               ...\n",
       "               '2018-08-18 14:00:00', '2018-08-18 15:00:00',\n",
       "               '2018-08-18 16:00:00', '2018-08-18 17:00:00',\n",
       "               '2018-08-18 18:00:00', '2018-08-18 19:00:00',\n",
       "               '2018-08-18 20:00:00', '2018-08-18 21:00:00',\n",
       "               '2018-08-18 22:00:00', '2018-08-18 23:00:00'],\n",
       "              dtype='datetime64[ns]', length=14280, freq='H')"
      ]
     },
     "execution_count": 9,
     "metadata": {},
     "output_type": "execute_result"
    }
   ],
   "source": [
    "full_date_time"
   ]
  },
  {
   "cell_type": "code",
   "execution_count": 20,
   "metadata": {},
   "outputs": [],
   "source": [
    "KW_LIST= ['asthme',\n",
    "#           'difficulté à respirer',\n",
    "#           'difficultés respiratoires',\n",
    "#           'difficulté pour respirer',\n",
    "#           'sensation d’étouffement',\n",
    "          'dyspnée',\n",
    "#           'spasmophilie',\n",
    "#           'nuage de pollution',\n",
    "#           'saleté de l’air',\n",
    "#           'particules nocives',\n",
    "          'respiration',\n",
    "#           'maladies respiratoires',\n",
    "          'pollution de l’air',\n",
    "#           'pollution atmosphérique',\n",
    "#           'pollution',\n",
    "          'Masque', #mask\n",
    "          \"Purificateur d'air\", #air purifier\n",
    "         ]"
   ]
  },
  {
   "cell_type": "code",
   "execution_count": 21,
   "metadata": {},
   "outputs": [],
   "source": [
    "LOCATION_CODE = 'FR-J'  # for Île-de-France"
   ]
  },
  {
   "cell_type": "code",
   "execution_count": 22,
   "metadata": {},
   "outputs": [
    {
     "name": "stdout",
     "output_type": "stream",
     "text": [
      "fectching trend \n",
      "The request failed: Google returned a response with code 500.\n",
      "The request failed: Google returned a response with code 429.\n",
      "The request failed: Google returned a response with code 429.\n",
      "The request failed: Google returned a response with code 429.\n",
      "The request failed: Google returned a response with code 429.\n",
      "The request failed: Google returned a response with code 429.\n",
      "The request failed: Google returned a response with code 429.\n",
      "The request failed: Google returned a response with code 500.\n",
      "The request failed: Google returned a response with code 500.\n",
      "The request failed: Google returned a response with code 500.\n",
      "The request failed: Google returned a response with code 500.\n",
      "The request failed: Google returned a response with code 500.\n",
      "The request failed: Google returned a response with code 500.\n",
      "The request failed: Google returned a response with code 500.\n",
      "The request failed: Google returned a response with code 500.\n",
      "The request failed: Google returned a response with code 500.\n",
      "The request failed: Google returned a response with code 500.\n",
      "The request failed: Google returned a response with code 500.\n",
      "The request failed: Google returned a response with code 500.\n",
      "The request failed: Google returned a response with code 500.\n",
      "The request failed: Google returned a response with code 500.\n",
      "The request failed: Google returned a response with code 500.\n",
      "The request failed: Google returned a response with code 500.\n",
      "The request failed: Google returned a response with code 500.\n",
      "The request failed: Google returned a response with code 500.\n",
      "The request failed: Google returned a response with code 500.\n",
      "The request failed: Google returned a response with code 500.\n",
      "The request failed: Google returned a response with code 500.\n",
      "The request failed: Google returned a response with code 500.\n",
      "The request failed: Google returned a response with code 500.\n",
      "The request failed: Google returned a response with code 500.\n",
      "The request failed: Google returned a response with code 500.\n",
      "The request failed: Google returned a response with code 500.\n",
      "The request failed: Google returned a response with code 500.\n",
      "The request failed: Google returned a response with code 500.\n",
      "The request failed: Google returned a response with code 500.\n",
      "The request failed: Google returned a response with code 500.\n",
      "The request failed: Google returned a response with code 500.\n",
      "The request failed: Google returned a response with code 500.\n",
      "The request failed: Google returned a response with code 500.\n",
      "The request failed: Google returned a response with code 500.\n",
      "The request failed: Google returned a response with code 500.\n",
      "The request failed: Google returned a response with code 500.\n",
      "The request failed: Google returned a response with code 500.\n",
      "The request failed: Google returned a response with code 500.\n",
      "The request failed: Google returned a response with code 500.\n",
      "The request failed: Google returned a response with code 500.\n",
      "The request failed: Google returned a response with code 500.\n",
      "The request failed: Google returned a response with code 500.\n",
      "The request failed: Google returned a response with code 500.\n",
      "The request failed: Google returned a response with code 500.\n",
      "The request failed: Google returned a response with code 500.\n",
      "The request failed: Google returned a response with code 500.\n",
      "The request failed: Google returned a response with code 500.\n",
      "The request failed: Google returned a response with code 500.\n",
      "The request failed: Google returned a response with code 500.\n",
      "The request failed: Google returned a response with code 500.\n",
      "The request failed: Google returned a response with code 500.\n",
      "The request failed: Google returned a response with code 500.\n",
      "The request failed: Google returned a response with code 500.\n",
      "The request failed: Google returned a response with code 500.\n",
      "trend is fectched\n"
     ]
    },
    {
     "ename": "ValueError",
     "evalue": "Shape of passed values is (18, 14519), indices imply (18, 14020)",
     "output_type": "error",
     "traceback": [
      "\u001b[1;31m---------------------------------------------------------------------------\u001b[0m",
      "\u001b[1;31mValueError\u001b[0m                                Traceback (most recent call last)",
      "\u001b[1;32m<ipython-input-22-086bbf512ce3>\u001b[0m in \u001b[0;36m<module>\u001b[1;34m()\u001b[0m\n\u001b[0;32m      1\u001b[0m \u001b[0mggtrend_list\u001b[0m \u001b[1;33m=\u001b[0m \u001b[0mfetching_trend\u001b[0m\u001b[1;33m(\u001b[0m\u001b[0mparca_table\u001b[0m\u001b[1;33m,\u001b[0m\u001b[0mkw_list\u001b[0m\u001b[1;33m=\u001b[0m\u001b[0mKW_LIST\u001b[0m\u001b[1;33m,\u001b[0m\u001b[0mlocation_code\u001b[0m\u001b[1;33m=\u001b[0m\u001b[0mLOCATION_CODE\u001b[0m\u001b[1;33m,\u001b[0m\u001b[0mtimezone\u001b[0m \u001b[1;33m=\u001b[0m \u001b[1;36m0\u001b[0m\u001b[1;33m)\u001b[0m\u001b[1;33m\u001b[0m\u001b[0m\n\u001b[1;32m----> 2\u001b[1;33m \u001b[0mggtrend\u001b[0m\u001b[1;33m=\u001b[0m\u001b[0mpd\u001b[0m\u001b[1;33m.\u001b[0m\u001b[0mconcat\u001b[0m\u001b[1;33m(\u001b[0m\u001b[0mggtrend_list\u001b[0m\u001b[1;33m,\u001b[0m\u001b[0maxis\u001b[0m\u001b[1;33m=\u001b[0m\u001b[1;36m1\u001b[0m\u001b[1;33m)\u001b[0m\u001b[1;33m\u001b[0m\u001b[0m\n\u001b[0m\u001b[0;32m      3\u001b[0m \u001b[0mggtrend\u001b[0m\u001b[1;33m.\u001b[0m\u001b[0mreset_index\u001b[0m\u001b[1;33m(\u001b[0m\u001b[0minplace\u001b[0m\u001b[1;33m=\u001b[0m\u001b[1;32mTrue\u001b[0m\u001b[1;33m)\u001b[0m\u001b[1;33m\u001b[0m\u001b[0m\n",
      "\u001b[1;32m~\\Anaconda3\\lib\\site-packages\\pandas\\core\\reshape\\concat.py\u001b[0m in \u001b[0;36mconcat\u001b[1;34m(objs, axis, join, join_axes, ignore_index, keys, levels, names, verify_integrity, copy)\u001b[0m\n\u001b[0;32m    211\u001b[0m                        \u001b[0mverify_integrity\u001b[0m\u001b[1;33m=\u001b[0m\u001b[0mverify_integrity\u001b[0m\u001b[1;33m,\u001b[0m\u001b[1;33m\u001b[0m\u001b[0m\n\u001b[0;32m    212\u001b[0m                        copy=copy)\n\u001b[1;32m--> 213\u001b[1;33m     \u001b[1;32mreturn\u001b[0m \u001b[0mop\u001b[0m\u001b[1;33m.\u001b[0m\u001b[0mget_result\u001b[0m\u001b[1;33m(\u001b[0m\u001b[1;33m)\u001b[0m\u001b[1;33m\u001b[0m\u001b[0m\n\u001b[0m\u001b[0;32m    214\u001b[0m \u001b[1;33m\u001b[0m\u001b[0m\n\u001b[0;32m    215\u001b[0m \u001b[1;33m\u001b[0m\u001b[0m\n",
      "\u001b[1;32m~\\Anaconda3\\lib\\site-packages\\pandas\\core\\reshape\\concat.py\u001b[0m in \u001b[0;36mget_result\u001b[1;34m(self)\u001b[0m\n\u001b[0;32m    406\u001b[0m             new_data = concatenate_block_managers(\n\u001b[0;32m    407\u001b[0m                 \u001b[0mmgrs_indexers\u001b[0m\u001b[1;33m,\u001b[0m \u001b[0mself\u001b[0m\u001b[1;33m.\u001b[0m\u001b[0mnew_axes\u001b[0m\u001b[1;33m,\u001b[0m \u001b[0mconcat_axis\u001b[0m\u001b[1;33m=\u001b[0m\u001b[0mself\u001b[0m\u001b[1;33m.\u001b[0m\u001b[0maxis\u001b[0m\u001b[1;33m,\u001b[0m\u001b[1;33m\u001b[0m\u001b[0m\n\u001b[1;32m--> 408\u001b[1;33m                 copy=self.copy)\n\u001b[0m\u001b[0;32m    409\u001b[0m             \u001b[1;32mif\u001b[0m \u001b[1;32mnot\u001b[0m \u001b[0mself\u001b[0m\u001b[1;33m.\u001b[0m\u001b[0mcopy\u001b[0m\u001b[1;33m:\u001b[0m\u001b[1;33m\u001b[0m\u001b[0m\n\u001b[0;32m    410\u001b[0m                 \u001b[0mnew_data\u001b[0m\u001b[1;33m.\u001b[0m\u001b[0m_consolidate_inplace\u001b[0m\u001b[1;33m(\u001b[0m\u001b[1;33m)\u001b[0m\u001b[1;33m\u001b[0m\u001b[0m\n",
      "\u001b[1;32m~\\Anaconda3\\lib\\site-packages\\pandas\\core\\internals.py\u001b[0m in \u001b[0;36mconcatenate_block_managers\u001b[1;34m(mgrs_indexers, axes, concat_axis, copy)\u001b[0m\n\u001b[0;32m   5205\u001b[0m         \u001b[0mblocks\u001b[0m\u001b[1;33m.\u001b[0m\u001b[0mappend\u001b[0m\u001b[1;33m(\u001b[0m\u001b[0mb\u001b[0m\u001b[1;33m)\u001b[0m\u001b[1;33m\u001b[0m\u001b[0m\n\u001b[0;32m   5206\u001b[0m \u001b[1;33m\u001b[0m\u001b[0m\n\u001b[1;32m-> 5207\u001b[1;33m     \u001b[1;32mreturn\u001b[0m \u001b[0mBlockManager\u001b[0m\u001b[1;33m(\u001b[0m\u001b[0mblocks\u001b[0m\u001b[1;33m,\u001b[0m \u001b[0maxes\u001b[0m\u001b[1;33m)\u001b[0m\u001b[1;33m\u001b[0m\u001b[0m\n\u001b[0m\u001b[0;32m   5208\u001b[0m \u001b[1;33m\u001b[0m\u001b[0m\n\u001b[0;32m   5209\u001b[0m \u001b[1;33m\u001b[0m\u001b[0m\n",
      "\u001b[1;32m~\\Anaconda3\\lib\\site-packages\\pandas\\core\\internals.py\u001b[0m in \u001b[0;36m__init__\u001b[1;34m(self, blocks, axes, do_integrity_check, fastpath)\u001b[0m\n\u001b[0;32m   3031\u001b[0m \u001b[1;33m\u001b[0m\u001b[0m\n\u001b[0;32m   3032\u001b[0m         \u001b[1;32mif\u001b[0m \u001b[0mdo_integrity_check\u001b[0m\u001b[1;33m:\u001b[0m\u001b[1;33m\u001b[0m\u001b[0m\n\u001b[1;32m-> 3033\u001b[1;33m             \u001b[0mself\u001b[0m\u001b[1;33m.\u001b[0m\u001b[0m_verify_integrity\u001b[0m\u001b[1;33m(\u001b[0m\u001b[1;33m)\u001b[0m\u001b[1;33m\u001b[0m\u001b[0m\n\u001b[0m\u001b[0;32m   3034\u001b[0m \u001b[1;33m\u001b[0m\u001b[0m\n\u001b[0;32m   3035\u001b[0m         \u001b[0mself\u001b[0m\u001b[1;33m.\u001b[0m\u001b[0m_consolidate_check\u001b[0m\u001b[1;33m(\u001b[0m\u001b[1;33m)\u001b[0m\u001b[1;33m\u001b[0m\u001b[0m\n",
      "\u001b[1;32m~\\Anaconda3\\lib\\site-packages\\pandas\\core\\internals.py\u001b[0m in \u001b[0;36m_verify_integrity\u001b[1;34m(self)\u001b[0m\n\u001b[0;32m   3242\u001b[0m         \u001b[1;32mfor\u001b[0m \u001b[0mblock\u001b[0m \u001b[1;32min\u001b[0m \u001b[0mself\u001b[0m\u001b[1;33m.\u001b[0m\u001b[0mblocks\u001b[0m\u001b[1;33m:\u001b[0m\u001b[1;33m\u001b[0m\u001b[0m\n\u001b[0;32m   3243\u001b[0m             \u001b[1;32mif\u001b[0m \u001b[0mblock\u001b[0m\u001b[1;33m.\u001b[0m\u001b[0m_verify_integrity\u001b[0m \u001b[1;32mand\u001b[0m \u001b[0mblock\u001b[0m\u001b[1;33m.\u001b[0m\u001b[0mshape\u001b[0m\u001b[1;33m[\u001b[0m\u001b[1;36m1\u001b[0m\u001b[1;33m:\u001b[0m\u001b[1;33m]\u001b[0m \u001b[1;33m!=\u001b[0m \u001b[0mmgr_shape\u001b[0m\u001b[1;33m[\u001b[0m\u001b[1;36m1\u001b[0m\u001b[1;33m:\u001b[0m\u001b[1;33m]\u001b[0m\u001b[1;33m:\u001b[0m\u001b[1;33m\u001b[0m\u001b[0m\n\u001b[1;32m-> 3244\u001b[1;33m                 \u001b[0mconstruction_error\u001b[0m\u001b[1;33m(\u001b[0m\u001b[0mtot_items\u001b[0m\u001b[1;33m,\u001b[0m \u001b[0mblock\u001b[0m\u001b[1;33m.\u001b[0m\u001b[0mshape\u001b[0m\u001b[1;33m[\u001b[0m\u001b[1;36m1\u001b[0m\u001b[1;33m:\u001b[0m\u001b[1;33m]\u001b[0m\u001b[1;33m,\u001b[0m \u001b[0mself\u001b[0m\u001b[1;33m.\u001b[0m\u001b[0maxes\u001b[0m\u001b[1;33m)\u001b[0m\u001b[1;33m\u001b[0m\u001b[0m\n\u001b[0m\u001b[0;32m   3245\u001b[0m         \u001b[1;32mif\u001b[0m \u001b[0mlen\u001b[0m\u001b[1;33m(\u001b[0m\u001b[0mself\u001b[0m\u001b[1;33m.\u001b[0m\u001b[0mitems\u001b[0m\u001b[1;33m)\u001b[0m \u001b[1;33m!=\u001b[0m \u001b[0mtot_items\u001b[0m\u001b[1;33m:\u001b[0m\u001b[1;33m\u001b[0m\u001b[0m\n\u001b[0;32m   3246\u001b[0m             raise AssertionError('Number of manager items must equal union of '\n",
      "\u001b[1;32m~\\Anaconda3\\lib\\site-packages\\pandas\\core\\internals.py\u001b[0m in \u001b[0;36mconstruction_error\u001b[1;34m(tot_items, block_shape, axes, e)\u001b[0m\n\u001b[0;32m   4606\u001b[0m         \u001b[1;32mraise\u001b[0m \u001b[0mValueError\u001b[0m\u001b[1;33m(\u001b[0m\u001b[1;34m\"Empty data passed with indices specified.\"\u001b[0m\u001b[1;33m)\u001b[0m\u001b[1;33m\u001b[0m\u001b[0m\n\u001b[0;32m   4607\u001b[0m     raise ValueError(\"Shape of passed values is {0}, indices imply {1}\".format(\n\u001b[1;32m-> 4608\u001b[1;33m         passed, implied))\n\u001b[0m\u001b[0;32m   4609\u001b[0m \u001b[1;33m\u001b[0m\u001b[0m\n\u001b[0;32m   4610\u001b[0m \u001b[1;33m\u001b[0m\u001b[0m\n",
      "\u001b[1;31mValueError\u001b[0m: Shape of passed values is (18, 14519), indices imply (18, 14020)"
     ]
    }
   ],
   "source": [
    "ggtrend_list = fetching_trend(parca_table,kw_list=KW_LIST,location_code=LOCATION_CODE,timezone = 0)\n"
   ]
  },
  {
   "cell_type": "code",
   "execution_count": 54,
   "metadata": {},
   "outputs": [
    {
     "name": "stdout",
     "output_type": "stream",
     "text": [
      "(13681, 3)\n",
      "                     asthme  asthme topic isPartial\n",
      "date                                               \n",
      "2017-01-31 00:00:00      43            65     False\n",
      "2017-01-31 01:00:00      23            38     False\n",
      "2017-01-31 02:00:00      11            45     False\n",
      "2017-01-31 03:00:00      52            65     False\n",
      "2017-01-31 04:00:00      10            20     False\n",
      "(12667, 3)\n",
      "                     dyspnée  dyspnée topic isPartial\n",
      "date                                                 \n",
      "2017-01-31 00:00:00       17             17     False\n",
      "2017-01-31 01:00:00       15             15     False\n",
      "2017-01-31 02:00:00        0             22     False\n",
      "2017-01-31 03:00:00        0            100     False\n",
      "2017-01-31 04:00:00        0             57     False\n",
      "(13681, 3)\n",
      "                     respiration  respiration topic isPartial\n",
      "date                                                         \n",
      "2017-01-31 00:00:00           25                 71     False\n",
      "2017-01-31 01:00:00           17                 77     False\n",
      "2017-01-31 02:00:00           13                 57     False\n",
      "2017-01-31 03:00:00           22                 59     False\n",
      "2017-01-31 04:00:00           34                 79     False\n",
      "(5400, 3)\n",
      "                     pollution de l’air  pollution de l’air topic isPartial\n",
      "date                                                                       \n",
      "2017-05-09 00:00:00                   0                         0     False\n",
      "2017-05-09 01:00:00                   0                        25     False\n",
      "2017-05-09 02:00:00                   0                         0     False\n",
      "2017-05-09 03:00:00                   0                         0     False\n",
      "2017-05-09 04:00:00                   0                        31     False\n",
      "(13681, 3)\n",
      "                     Masque  Masque topic isPartial\n",
      "date                                               \n",
      "2017-01-31 00:00:00      63             0     False\n",
      "2017-01-31 01:00:00      64             0     False\n",
      "2017-01-31 02:00:00      55             0     False\n",
      "2017-01-31 03:00:00      71             0     False\n",
      "2017-01-31 04:00:00      45             0     False\n",
      "(13681, 3)\n",
      "                     Purificateur d'air  Purificateur d'air topic isPartial\n",
      "date                                                                       \n",
      "2017-01-31 00:00:00                   0                        17     False\n",
      "2017-01-31 01:00:00                   0                         6     False\n",
      "2017-01-31 02:00:00                   0                         0     False\n",
      "2017-01-31 03:00:00                   0                         0     False\n",
      "2017-01-31 04:00:00                   0                         8     False\n"
     ]
    }
   ],
   "source": [
    "for ggtrend in ggtrend_list:\n",
    "    print (ggtrend.shape)\n",
    "    print(ggtrend.head())"
   ]
  },
  {
   "cell_type": "code",
   "execution_count": 68,
   "metadata": {},
   "outputs": [],
   "source": [
    "mydata = ggtrend_list[0].reset_index()"
   ]
  },
  {
   "cell_type": "code",
   "execution_count": 69,
   "metadata": {},
   "outputs": [],
   "source": [
    "for i in range(1,6):\n",
    "    mydata=mydata.merge(ggtrend_list[i].reset_index(),on='date',how='outer')"
   ]
  },
  {
   "cell_type": "code",
   "execution_count": 71,
   "metadata": {},
   "outputs": [],
   "source": [
    "ggtrend=mydata"
   ]
  },
  {
   "cell_type": "code",
   "execution_count": 77,
   "metadata": {},
   "outputs": [],
   "source": [
    "ggtrend.drop(columns=['isPartial_x','isPartial_y'],inplace=True)"
   ]
  },
  {
   "cell_type": "code",
   "execution_count": 78,
   "metadata": {},
   "outputs": [],
   "source": [
    "merged_t=parca_table.merge(ggtrend,left_on='datetime',right_on='date',how='outer')\n",
    "kw_str  =\"_\".join(KW_LIST)\n",
    "merged_t.to_csv(\"../stage/parif_{}_{}.csv\".format(kw_str,parca_table.columns[1]))"
   ]
  },
  {
   "cell_type": "code",
   "execution_count": 81,
   "metadata": {},
   "outputs": [
    {
     "data": {
      "text/html": [
       "<div>\n",
       "<style scoped>\n",
       "    .dataframe tbody tr th:only-of-type {\n",
       "        vertical-align: middle;\n",
       "    }\n",
       "\n",
       "    .dataframe tbody tr th {\n",
       "        vertical-align: top;\n",
       "    }\n",
       "\n",
       "    .dataframe thead th {\n",
       "        text-align: right;\n",
       "    }\n",
       "</style>\n",
       "<table border=\"1\" class=\"dataframe\">\n",
       "  <thead>\n",
       "    <tr style=\"text-align: right;\">\n",
       "      <th></th>\n",
       "      <th>PA04C_PM25</th>\n",
       "      <th>PA04C_PM10</th>\n",
       "      <th>PA04C_O3</th>\n",
       "      <th>PA04C_NO2</th>\n",
       "      <th>PA04C_CO</th>\n",
       "      <th>datetime</th>\n",
       "      <th>date</th>\n",
       "      <th>asthme</th>\n",
       "      <th>asthme topic</th>\n",
       "      <th>dyspnée</th>\n",
       "      <th>dyspnée topic</th>\n",
       "      <th>respiration</th>\n",
       "      <th>respiration topic</th>\n",
       "      <th>pollution de l’air</th>\n",
       "      <th>pollution de l’air topic</th>\n",
       "      <th>Masque</th>\n",
       "      <th>Masque topic</th>\n",
       "      <th>Purificateur d'air</th>\n",
       "      <th>Purificateur d'air topic</th>\n",
       "    </tr>\n",
       "  </thead>\n",
       "  <tbody>\n",
       "    <tr>\n",
       "      <th>0</th>\n",
       "      <td>27.0</td>\n",
       "      <td>29.0</td>\n",
       "      <td>12.0</td>\n",
       "      <td>29.0</td>\n",
       "      <td>400.0</td>\n",
       "      <td>2017-01-01 00:00:00</td>\n",
       "      <td>NaT</td>\n",
       "      <td>NaN</td>\n",
       "      <td>NaN</td>\n",
       "      <td>NaN</td>\n",
       "      <td>NaN</td>\n",
       "      <td>NaN</td>\n",
       "      <td>NaN</td>\n",
       "      <td>NaN</td>\n",
       "      <td>NaN</td>\n",
       "      <td>NaN</td>\n",
       "      <td>NaN</td>\n",
       "      <td>NaN</td>\n",
       "      <td>NaN</td>\n",
       "    </tr>\n",
       "    <tr>\n",
       "      <th>1</th>\n",
       "      <td>28.0</td>\n",
       "      <td>31.0</td>\n",
       "      <td>9.0</td>\n",
       "      <td>36.0</td>\n",
       "      <td>400.0</td>\n",
       "      <td>2017-01-01 01:00:00</td>\n",
       "      <td>NaT</td>\n",
       "      <td>NaN</td>\n",
       "      <td>NaN</td>\n",
       "      <td>NaN</td>\n",
       "      <td>NaN</td>\n",
       "      <td>NaN</td>\n",
       "      <td>NaN</td>\n",
       "      <td>NaN</td>\n",
       "      <td>NaN</td>\n",
       "      <td>NaN</td>\n",
       "      <td>NaN</td>\n",
       "      <td>NaN</td>\n",
       "      <td>NaN</td>\n",
       "    </tr>\n",
       "    <tr>\n",
       "      <th>2</th>\n",
       "      <td>28.0</td>\n",
       "      <td>28.0</td>\n",
       "      <td>8.0</td>\n",
       "      <td>37.0</td>\n",
       "      <td>400.0</td>\n",
       "      <td>2017-01-01 02:00:00</td>\n",
       "      <td>NaT</td>\n",
       "      <td>NaN</td>\n",
       "      <td>NaN</td>\n",
       "      <td>NaN</td>\n",
       "      <td>NaN</td>\n",
       "      <td>NaN</td>\n",
       "      <td>NaN</td>\n",
       "      <td>NaN</td>\n",
       "      <td>NaN</td>\n",
       "      <td>NaN</td>\n",
       "      <td>NaN</td>\n",
       "      <td>NaN</td>\n",
       "      <td>NaN</td>\n",
       "    </tr>\n",
       "    <tr>\n",
       "      <th>3</th>\n",
       "      <td>21.0</td>\n",
       "      <td>24.0</td>\n",
       "      <td>11.0</td>\n",
       "      <td>29.0</td>\n",
       "      <td>400.0</td>\n",
       "      <td>2017-01-01 03:00:00</td>\n",
       "      <td>NaT</td>\n",
       "      <td>NaN</td>\n",
       "      <td>NaN</td>\n",
       "      <td>NaN</td>\n",
       "      <td>NaN</td>\n",
       "      <td>NaN</td>\n",
       "      <td>NaN</td>\n",
       "      <td>NaN</td>\n",
       "      <td>NaN</td>\n",
       "      <td>NaN</td>\n",
       "      <td>NaN</td>\n",
       "      <td>NaN</td>\n",
       "      <td>NaN</td>\n",
       "    </tr>\n",
       "    <tr>\n",
       "      <th>4</th>\n",
       "      <td>17.0</td>\n",
       "      <td>17.0</td>\n",
       "      <td>12.0</td>\n",
       "      <td>28.0</td>\n",
       "      <td>300.0</td>\n",
       "      <td>2017-01-01 04:00:00</td>\n",
       "      <td>NaT</td>\n",
       "      <td>NaN</td>\n",
       "      <td>NaN</td>\n",
       "      <td>NaN</td>\n",
       "      <td>NaN</td>\n",
       "      <td>NaN</td>\n",
       "      <td>NaN</td>\n",
       "      <td>NaN</td>\n",
       "      <td>NaN</td>\n",
       "      <td>NaN</td>\n",
       "      <td>NaN</td>\n",
       "      <td>NaN</td>\n",
       "      <td>NaN</td>\n",
       "    </tr>\n",
       "  </tbody>\n",
       "</table>\n",
       "</div>"
      ],
      "text/plain": [
       "   PA04C_PM25  PA04C_PM10  PA04C_O3  PA04C_NO2  PA04C_CO            datetime  \\\n",
       "0        27.0        29.0      12.0       29.0     400.0 2017-01-01 00:00:00   \n",
       "1        28.0        31.0       9.0       36.0     400.0 2017-01-01 01:00:00   \n",
       "2        28.0        28.0       8.0       37.0     400.0 2017-01-01 02:00:00   \n",
       "3        21.0        24.0      11.0       29.0     400.0 2017-01-01 03:00:00   \n",
       "4        17.0        17.0      12.0       28.0     300.0 2017-01-01 04:00:00   \n",
       "\n",
       "  date  asthme  asthme topic  dyspnée  dyspnée topic  respiration  \\\n",
       "0  NaT     NaN           NaN      NaN            NaN          NaN   \n",
       "1  NaT     NaN           NaN      NaN            NaN          NaN   \n",
       "2  NaT     NaN           NaN      NaN            NaN          NaN   \n",
       "3  NaT     NaN           NaN      NaN            NaN          NaN   \n",
       "4  NaT     NaN           NaN      NaN            NaN          NaN   \n",
       "\n",
       "   respiration topic  pollution de l’air  pollution de l’air topic  Masque  \\\n",
       "0                NaN                 NaN                       NaN     NaN   \n",
       "1                NaN                 NaN                       NaN     NaN   \n",
       "2                NaN                 NaN                       NaN     NaN   \n",
       "3                NaN                 NaN                       NaN     NaN   \n",
       "4                NaN                 NaN                       NaN     NaN   \n",
       "\n",
       "   Masque topic  Purificateur d'air  Purificateur d'air topic  \n",
       "0           NaN                 NaN                       NaN  \n",
       "1           NaN                 NaN                       NaN  \n",
       "2           NaN                 NaN                       NaN  \n",
       "3           NaN                 NaN                       NaN  \n",
       "4           NaN                 NaN                       NaN  "
      ]
     },
     "execution_count": 81,
     "metadata": {},
     "output_type": "execute_result"
    }
   ],
   "source": [
    "merged_t.head()"
   ]
  },
  {
   "cell_type": "code",
   "execution_count": 94,
   "metadata": {},
   "outputs": [
    {
     "data": {
      "text/plain": [
       "Index(['date', 'asthme', 'asthme topic', 'dyspnée', 'dyspnée topic',\n",
       "       'respiration', 'respiration topic', 'pollution de l’air',\n",
       "       'pollution de l’air topic', 'Masque', 'Masque topic',\n",
       "       'Purificateur d'air', 'Purificateur d'air topic'],\n",
       "      dtype='object')"
      ]
     },
     "execution_count": 94,
     "metadata": {},
     "output_type": "execute_result"
    }
   ],
   "source": [
    "ggtrend.columns"
   ]
  },
  {
   "cell_type": "code",
   "execution_count": 106,
   "metadata": {},
   "outputs": [],
   "source": [
    "var_list = ['PA04C_PM25','pollution de l’air topic','Masque','respiration','dyspnée']"
   ]
  },
  {
   "cell_type": "code",
   "execution_count": 124,
   "metadata": {},
   "outputs": [],
   "source": [
    "signal_table=signal_process(merged_t,event_var='PA04C_PM25',preceeding_hour=12,event_threshold = 35,duration = 12,var_name_list=var_list)"
   ]
  },
  {
   "cell_type": "code",
   "execution_count": 125,
   "metadata": {},
   "outputs": [
    {
     "data": {
      "text/plain": [
       "<matplotlib.axes._subplots.AxesSubplot at 0x2530016f9e8>"
      ]
     },
     "execution_count": 125,
     "metadata": {},
     "output_type": "execute_result"
    },
    {
     "data": {
      "image/png": "[encoded data removed]",
      "text/plain": [
       "<Figure size 432x288 with 1 Axes>"
      ]
     },
     "metadata": {},
     "output_type": "display_data"
    }
   ],
   "source": [
    "signal_table.groupby(\"hour_index\").mean().plot()"
   ]
  },
  {
   "cell_type": "code",
   "execution_count": 84,
   "metadata": {},
   "outputs": [],
   "source": [
    "signal_table.to_csv(\"../output/air_parif_threshold_35_colsum_duration_12H.csv\")"
   ]
  }
 ],
 "metadata": {
  "kernelspec": {
   "display_name": "Python 3",
   "language": "python",
   "name": "python3"
  },
  "language_info": {
   "codemirror_mode": {
    "name": "ipython",
    "version": 3
   },
   "file_extension": ".py",
   "mimetype": "text/x-python",
   "name": "python",
   "nbconvert_exporter": "python",
   "pygments_lexer": "ipython3",
   "version": "3.6.4"
  }
 },
 "nbformat": 4,
 "nbformat_minor": 2
}
