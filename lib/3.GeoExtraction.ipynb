{
 "cells": [
  {
   "cell_type": "code",
   "execution_count": 25,
   "metadata": {},
   "outputs": [],
   "source": [
    "import pymongo\n",
    "import json\n",
    "import pandas as pd\n",
    "import time\n",
    "import re\n",
    "import numpy as np\n",
    "from gmplot import gmplot"
   ]
  },
  {
   "cell_type": "code",
   "execution_count": 26,
   "metadata": {},
   "outputs": [],
   "source": [
    "client=pymongo.MongoClient()"
   ]
  },
  {
   "cell_type": "code",
   "execution_count": 27,
   "metadata": {},
   "outputs": [
    {
     "data": {
      "text/plain": [
       "['admin', 'config', 'local', 'pollution', 'twitterdb']"
      ]
     },
     "execution_count": 27,
     "metadata": {},
     "output_type": "execute_result"
    }
   ],
   "source": [
    "client.list_database_names()"
   ]
  },
  {
   "cell_type": "code",
   "execution_count": 28,
   "metadata": {},
   "outputs": [
    {
     "data": {
      "text/plain": [
       "['tweetcollection']"
      ]
     },
     "execution_count": 28,
     "metadata": {},
     "output_type": "execute_result"
    }
   ],
   "source": [
    "db=client.pollution\n",
    "db.collection_names()"
   ]
  },
  {
   "cell_type": "code",
   "execution_count": 6,
   "metadata": {},
   "outputs": [],
   "source": [
    "# db.tweetcollection.find({\"place\":{\"$ne\": None}}).count() # with place tweets\n",
    "# db.tweetcollection.find({\"geo\":{\"$ne\": None}}).count() # with exact location"
   ]
  },
  {
   "cell_type": "code",
   "execution_count": 7,
   "metadata": {},
   "outputs": [
    {
     "data": {
      "text/plain": [
       "['']"
      ]
     },
     "execution_count": 7,
     "metadata": {},
     "output_type": "execute_result"
    }
   ],
   "source": [
    "test=re.compile(r'(^(?=.*air)(?=.*pollution)|love)')\n",
    "test.findall('air asddf asdf  pollution')"
   ]
  },
  {
   "cell_type": "code",
   "execution_count": 11,
   "metadata": {},
   "outputs": [],
   "source": [
    "category_0=[\"r'(^(?=.*air)(?=.*pollution))\",\"空气污染\",\"#airpollution\",\"वायु प्रदुषण\",\"la pollution de l'air\",\"la #pollution\",\"air pollution\",\"l'air #pollution\"]"
   ]
  },
  {
   "cell_type": "code",
   "execution_count": 12,
   "metadata": {},
   "outputs": [
    {
     "data": {
      "text/plain": [
       "[\"r'(^(?=.*air)(?=.*pollution))\",\n",
       " '空气污染',\n",
       " '#airpollution',\n",
       " 'वायु प्रदुषण',\n",
       " \"la pollution de l'air\",\n",
       " 'la #pollution',\n",
       " 'air pollution',\n",
       " \"l'air #pollution\"]"
      ]
     },
     "execution_count": 12,
     "metadata": {},
     "output_type": "execute_result"
    }
   ],
   "source": [
    "category_0"
   ]
  },
  {
   "cell_type": "code",
   "execution_count": 14,
   "metadata": {},
   "outputs": [
    {
     "data": {
      "text/plain": [
       "re.compile(r\"(r'(^(?=.*air)(?=.*pollution))|空气污染|#airpollution|वायु प्रदुषण|la pollution de l'air|la #pollution|air pollution|l'air #pollution)\",\n",
       "re.IGNORECASE|re.UNICODE)"
      ]
     },
     "execution_count": 14,
     "metadata": {},
     "output_type": "execute_result"
    }
   ],
   "source": [
    "regx = re.compile(r'('+'|'.join(category_0)+')', re.IGNORECASE)\n",
    "regx"
   ]
  },
  {
   "cell_type": "code",
   "execution_count": null,
   "metadata": {},
   "outputs": [],
   "source": [
    "# withlocation=list(db.tweetcollection.find({\"geo\":{\"$ne\": None},\"text\":{\"$regex\":pollution_pattern}}))\n",
    "# len(withlocation)"
   ]
  },
  {
   "cell_type": "code",
   "execution_count": 29,
   "metadata": {},
   "outputs": [
    {
     "data": {
      "text/plain": [
       "[{'_id': 994759019909726208,\n",
       "  'contributors': None,\n",
       "  'coordinates': None,\n",
       "  'created_at': 'Fri May 11 02:00:06 +0000 2018',\n",
       "  'display_text_range': [0, 140],\n",
       "  'entities': {'hashtags': [],\n",
       "   'symbols': [],\n",
       "   'urls': [{'display_url': 'twitter.com/i/web/status/9…',\n",
       "     'expanded_url': 'https://twitter.com/i/web/status/994759019909726208',\n",
       "     'indices': [116, 139],\n",
       "     'url': 'https://t.co/tn4KuQLWxN'}],\n",
       "   'user_mentions': [{'id': 1471579316,\n",
       "     'id_str': '1471579316',\n",
       "     'indices': [0, 14],\n",
       "     'name': 'Lucknow Police',\n",
       "     'screen_name': 'lucknowpolice'}]},\n",
       "  'extended_tweet': {'display_text_range': [0, 288],\n",
       "   'entities': {'hashtags': [],\n",
       "    'media': [{'display_url': 'pic.twitter.com/sgJ1WpuiZQ',\n",
       "      'expanded_url': 'https://twitter.com/Pradeepcdri/status/994759019909726208/photo/1',\n",
       "      'id': 994758906042724352,\n",
       "      'id_str': '994758906042724352',\n",
       "      'indices': [289, 312],\n",
       "      'media_url': 'http://pbs.twimg.com/media/Dc4X9F_VMAAZ0vR.jpg',\n",
       "      'media_url_https': 'https://pbs.twimg.com/media/Dc4X9F_VMAAZ0vR.jpg',\n",
       "      'sizes': {'large': {'h': 1536, 'resize': 'fit', 'w': 2048},\n",
       "       'medium': {'h': 900, 'resize': 'fit', 'w': 1200},\n",
       "       'small': {'h': 510, 'resize': 'fit', 'w': 680},\n",
       "       'thumb': {'h': 150, 'resize': 'crop', 'w': 150}},\n",
       "      'type': 'photo',\n",
       "      'url': 'https://t.co/sgJ1WpuiZQ'},\n",
       "     {'display_url': 'pic.twitter.com/sgJ1WpuiZQ',\n",
       "      'expanded_url': 'https://twitter.com/Pradeepcdri/status/994759019909726208/photo/1',\n",
       "      'id': 994758936682156032,\n",
       "      'id_str': '994758936682156032',\n",
       "      'indices': [289, 312],\n",
       "      'media_url': 'http://pbs.twimg.com/media/Dc4X-4IV0AAiUwo.jpg',\n",
       "      'media_url_https': 'https://pbs.twimg.com/media/Dc4X-4IV0AAiUwo.jpg',\n",
       "      'sizes': {'large': {'h': 1536, 'resize': 'fit', 'w': 2048},\n",
       "       'medium': {'h': 900, 'resize': 'fit', 'w': 1200},\n",
       "       'small': {'h': 510, 'resize': 'fit', 'w': 680},\n",
       "       'thumb': {'h': 150, 'resize': 'crop', 'w': 150}},\n",
       "      'type': 'photo',\n",
       "      'url': 'https://t.co/sgJ1WpuiZQ'},\n",
       "     {'display_url': 'pic.twitter.com/sgJ1WpuiZQ',\n",
       "      'expanded_url': 'https://twitter.com/Pradeepcdri/status/994759019909726208/photo/1',\n",
       "      'id': 994758964591054848,\n",
       "      'id_str': '994758964591054848',\n",
       "      'indices': [289, 312],\n",
       "      'media_url': 'http://pbs.twimg.com/media/Dc4YAgGV0AATJ0X.jpg',\n",
       "      'media_url_https': 'https://pbs.twimg.com/media/Dc4YAgGV0AATJ0X.jpg',\n",
       "      'sizes': {'large': {'h': 1536, 'resize': 'fit', 'w': 2048},\n",
       "       'medium': {'h': 900, 'resize': 'fit', 'w': 1200},\n",
       "       'small': {'h': 510, 'resize': 'fit', 'w': 680},\n",
       "       'thumb': {'h': 150, 'resize': 'crop', 'w': 150}},\n",
       "      'type': 'photo',\n",
       "      'url': 'https://t.co/sgJ1WpuiZQ'},\n",
       "     {'display_url': 'pic.twitter.com/sgJ1WpuiZQ',\n",
       "      'expanded_url': 'https://twitter.com/Pradeepcdri/status/994759019909726208/photo/1',\n",
       "      'id': 994758995712724992,\n",
       "      'id_str': '994758995712724992',\n",
       "      'indices': [289, 312],\n",
       "      'media_url': 'http://pbs.twimg.com/media/Dc4YCUCU0AAsWH6.jpg',\n",
       "      'media_url_https': 'https://pbs.twimg.com/media/Dc4YCUCU0AAsWH6.jpg',\n",
       "      'sizes': {'large': {'h': 1536, 'resize': 'fit', 'w': 2048},\n",
       "       'medium': {'h': 900, 'resize': 'fit', 'w': 1200},\n",
       "       'small': {'h': 510, 'resize': 'fit', 'w': 680},\n",
       "       'thumb': {'h': 150, 'resize': 'crop', 'w': 150}},\n",
       "      'type': 'photo',\n",
       "      'url': 'https://t.co/sgJ1WpuiZQ'}],\n",
       "    'symbols': [],\n",
       "    'urls': [],\n",
       "    'user_mentions': [{'id': 1471579316,\n",
       "      'id_str': '1471579316',\n",
       "      'indices': [0, 14],\n",
       "      'name': 'Lucknow Police',\n",
       "      'screen_name': 'lucknowpolice'}]},\n",
       "   'extended_entities': {'media': [{'display_url': 'pic.twitter.com/sgJ1WpuiZQ',\n",
       "      'expanded_url': 'https://twitter.com/Pradeepcdri/status/994759019909726208/photo/1',\n",
       "      'id': 994758906042724352,\n",
       "      'id_str': '994758906042724352',\n",
       "      'indices': [289, 312],\n",
       "      'media_url': 'http://pbs.twimg.com/media/Dc4X9F_VMAAZ0vR.jpg',\n",
       "      'media_url_https': 'https://pbs.twimg.com/media/Dc4X9F_VMAAZ0vR.jpg',\n",
       "      'sizes': {'large': {'h': 1536, 'resize': 'fit', 'w': 2048},\n",
       "       'medium': {'h': 900, 'resize': 'fit', 'w': 1200},\n",
       "       'small': {'h': 510, 'resize': 'fit', 'w': 680},\n",
       "       'thumb': {'h': 150, 'resize': 'crop', 'w': 150}},\n",
       "      'type': 'photo',\n",
       "      'url': 'https://t.co/sgJ1WpuiZQ'},\n",
       "     {'display_url': 'pic.twitter.com/sgJ1WpuiZQ',\n",
       "      'expanded_url': 'https://twitter.com/Pradeepcdri/status/994759019909726208/photo/1',\n",
       "      'id': 994758936682156032,\n",
       "      'id_str': '994758936682156032',\n",
       "      'indices': [289, 312],\n",
       "      'media_url': 'http://pbs.twimg.com/media/Dc4X-4IV0AAiUwo.jpg',\n",
       "      'media_url_https': 'https://pbs.twimg.com/media/Dc4X-4IV0AAiUwo.jpg',\n",
       "      'sizes': {'large': {'h': 1536, 'resize': 'fit', 'w': 2048},\n",
       "       'medium': {'h': 900, 'resize': 'fit', 'w': 1200},\n",
       "       'small': {'h': 510, 'resize': 'fit', 'w': 680},\n",
       "       'thumb': {'h': 150, 'resize': 'crop', 'w': 150}},\n",
       "      'type': 'photo',\n",
       "      'url': 'https://t.co/sgJ1WpuiZQ'},\n",
       "     {'display_url': 'pic.twitter.com/sgJ1WpuiZQ',\n",
       "      'expanded_url': 'https://twitter.com/Pradeepcdri/status/994759019909726208/photo/1',\n",
       "      'id': 994758964591054848,\n",
       "      'id_str': '994758964591054848',\n",
       "      'indices': [289, 312],\n",
       "      'media_url': 'http://pbs.twimg.com/media/Dc4YAgGV0AATJ0X.jpg',\n",
       "      'media_url_https': 'https://pbs.twimg.com/media/Dc4YAgGV0AATJ0X.jpg',\n",
       "      'sizes': {'large': {'h': 1536, 'resize': 'fit', 'w': 2048},\n",
       "       'medium': {'h': 900, 'resize': 'fit', 'w': 1200},\n",
       "       'small': {'h': 510, 'resize': 'fit', 'w': 680},\n",
       "       'thumb': {'h': 150, 'resize': 'crop', 'w': 150}},\n",
       "      'type': 'photo',\n",
       "      'url': 'https://t.co/sgJ1WpuiZQ'},\n",
       "     {'display_url': 'pic.twitter.com/sgJ1WpuiZQ',\n",
       "      'expanded_url': 'https://twitter.com/Pradeepcdri/status/994759019909726208/photo/1',\n",
       "      'id': 994758995712724992,\n",
       "      'id_str': '994758995712724992',\n",
       "      'indices': [289, 312],\n",
       "      'media_url': 'http://pbs.twimg.com/media/Dc4YCUCU0AAsWH6.jpg',\n",
       "      'media_url_https': 'https://pbs.twimg.com/media/Dc4YCUCU0AAsWH6.jpg',\n",
       "      'sizes': {'large': {'h': 1536, 'resize': 'fit', 'w': 2048},\n",
       "       'medium': {'h': 900, 'resize': 'fit', 'w': 1200},\n",
       "       'small': {'h': 510, 'resize': 'fit', 'w': 680},\n",
       "       'thumb': {'h': 150, 'resize': 'crop', 'w': 150}},\n",
       "      'type': 'photo',\n",
       "      'url': 'https://t.co/sgJ1WpuiZQ'}]},\n",
       "   'full_text': '@lucknowpolice REMINDER III:Courtesy no action, heavy trucks/bumpers are freely loving from Bithauli to Kursi road &amp; vice versa via Bhawani bazar &amp; Atal Chauraha.These fast moving trucks are severely damaging newly made road and causing air and noise pollution in residential area https://t.co/sgJ1WpuiZQ'},\n",
       "  'favorite_count': 0,\n",
       "  'favorited': False,\n",
       "  'filter_level': 'low',\n",
       "  'geo': None,\n",
       "  'id_str': '994759019909726208',\n",
       "  'in_reply_to_screen_name': 'lucknowpolice',\n",
       "  'in_reply_to_status_id': None,\n",
       "  'in_reply_to_status_id_str': None,\n",
       "  'in_reply_to_user_id': 1471579316,\n",
       "  'in_reply_to_user_id_str': '1471579316',\n",
       "  'is_quote_status': False,\n",
       "  'lang': 'en',\n",
       "  'place': {'attributes': {},\n",
       "   'bounding_box': {'coordinates': [[[80.560488, 26.869043],\n",
       "      [80.560488, 27.158975],\n",
       "      [81.087937, 27.158975],\n",
       "      [81.087937, 26.869043]]],\n",
       "    'type': 'Polygon'},\n",
       "   'country': 'India',\n",
       "   'country_code': 'IN',\n",
       "   'full_name': 'Malihabad, India',\n",
       "   'id': '5059a3e6aeee43b3',\n",
       "   'name': 'Malihabad',\n",
       "   'place_type': 'city',\n",
       "   'url': 'https://api.twitter.com/1.1/geo/id/5059a3e6aeee43b3.json'},\n",
       "  'possibly_sensitive': False,\n",
       "  'quote_count': 0,\n",
       "  'reply_count': 0,\n",
       "  'retweet_count': 0,\n",
       "  'retweeted': False,\n",
       "  'source': '<a href=\"http://twitter.com/download/android\" rel=\"nofollow\">Twitter for Android</a>',\n",
       "  'text': '@lucknowpolice REMINDER III:Courtesy no action, heavy trucks/bumpers are freely loving from Bithauli to Kursi road… https://t.co/tn4KuQLWxN',\n",
       "  'timestamp_ms': '1526004006732',\n",
       "  'truncated': True,\n",
       "  'user': {'contributors_enabled': False,\n",
       "   'created_at': 'Thu Jun 11 08:49:19 +0000 2009',\n",
       "   'default_profile': False,\n",
       "   'default_profile_image': False,\n",
       "   'description': 'Former Dy. Director, CDRI & science communicator. Winner of The Outstanding Young Person of the World award  vy v by  Junior Chamber International,  USA.',\n",
       "   'favourites_count': 1194,\n",
       "   'follow_request_sent': None,\n",
       "   'followers_count': 1725,\n",
       "   'following': None,\n",
       "   'friends_count': 891,\n",
       "   'geo_enabled': True,\n",
       "   'id': 46348111,\n",
       "   'id_str': '46348111',\n",
       "   'is_translator': False,\n",
       "   'lang': 'en',\n",
       "   'listed_count': 4,\n",
       "   'location': 'India',\n",
       "   'name': 'Pradeep K Srivastava',\n",
       "   'notifications': None,\n",
       "   'profile_background_color': 'C0DEED',\n",
       "   'profile_background_image_url': 'http://abs.twimg.com/images/themes/theme1/bg.png',\n",
       "   'profile_background_image_url_https': 'https://abs.twimg.com/images/themes/theme1/bg.png',\n",
       "   'profile_background_tile': False,\n",
       "   'profile_banner_url': 'https://pbs.twimg.com/profile_banners/46348111/1439229781',\n",
       "   'profile_image_url': 'http://pbs.twimg.com/profile_images/650559408/DSC08635_copy_normal.jpg',\n",
       "   'profile_image_url_https': 'https://pbs.twimg.com/profile_images/650559408/DSC08635_copy_normal.jpg',\n",
       "   'profile_link_color': '2592BA',\n",
       "   'profile_sidebar_border_color': 'C0DEED',\n",
       "   'profile_sidebar_fill_color': 'DDEEF6',\n",
       "   'profile_text_color': '333333',\n",
       "   'profile_use_background_image': True,\n",
       "   'protected': False,\n",
       "   'screen_name': 'Pradeepcdri',\n",
       "   'statuses_count': 2603,\n",
       "   'time_zone': 'New Delhi',\n",
       "   'translator_type': 'none',\n",
       "   'url': None,\n",
       "   'utc_offset': 19800,\n",
       "   'verified': False}}]"
      ]
     },
     "execution_count": 29,
     "metadata": {},
     "output_type": "execute_result"
    }
   ],
   "source": [
    "# withlocation[1]\n",
    "sample=list(db.tweetcollection.find({'_id':994759019909726208}))\n",
    "sample"
   ]
  },
  {
   "cell_type": "code",
   "execution_count": 15,
   "metadata": {},
   "outputs": [],
   "source": [
    "withplace=list(db.tweetcollection.find({\"place\":{\"$ne\": None}}))"
   ]
  },
  {
   "cell_type": "code",
   "execution_count": 16,
   "metadata": {},
   "outputs": [
    {
     "data": {
      "text/plain": [
       "24995"
      ]
     },
     "execution_count": 16,
     "metadata": {},
     "output_type": "execute_result"
    }
   ],
   "source": [
    "len(withplace)"
   ]
  },
  {
   "cell_type": "code",
   "execution_count": 17,
   "metadata": {},
   "outputs": [],
   "source": [
    "def get_coordinate(this_tweet):\n",
    "    '''input  dict  tweet\n",
    "       output list [LONGITUDE LATITUDE]'''\n",
    "    # There are geo-tagged 3 place store geoinformation \n",
    "    # User self-report place \n",
    "    # geo  1 Latitude 2 Longitude \n",
    "    # coordinates 1 LONGITUDE,2 Latitude \n",
    "    # coordinate box same as coordinates\n",
    "    coordiantes=None\n",
    "    try:\n",
    "        coordinates=this_tweet['coordinates']['coordinates']\n",
    "#         print('coordinates {}'.format(this_tweet['coordinates']['coordinates']))\n",
    "    except Exception as e:\n",
    "        pass\n",
    "    \n",
    "    try:\n",
    "        # take average over coordinates box\n",
    "        coordinates=list(np.array(this_tweet['place']['bounding_box']['coordinates'][0]).mean(axis=0))\n",
    "    except Exception as e:\n",
    "        pass\n",
    "\n",
    "    return coordinates"
   ]
  },
  {
   "cell_type": "code",
   "execution_count": 30,
   "metadata": {},
   "outputs": [],
   "source": [
    "def get_retweetid(tweet):\n",
    "    try:\n",
    "        return(tweet[\"retweeted_status\"][\"id\"])\n",
    "    except: \n",
    "        return None\n",
    "    \n",
    "def get_retweet_username(tweet):\n",
    "    try:\n",
    "        return(tweet[\"retweeted_status\"][\"user\"][\"name\"])\n",
    "    except: \n",
    "        return None\n",
    "def get_retweet_followers_count(tweet):\n",
    "    try:\n",
    "        return(tweet[\"retweeted_status\"][\"user\"][\"followers_count\"])\n",
    "    except: \n",
    "        return None\n",
    "def get_retweet_fa(tweet):\n",
    "    try:\n",
    "        return(tweet[\"retweeted_status\"][\"favorite_count\"])\n",
    "    except: \n",
    "        return None\n",
    "def get_retweet_retw(tweet):\n",
    "    try:\n",
    "        return(tweet[\"retweeted_status\"][\"retweet_count\"])\n",
    "    except: \n",
    "        return None\n",
    "def get_retweet_rep(tweet):\n",
    "    try:\n",
    "        return(tweet[\"retweeted_status\"][\"reply_count\"])\n",
    "    except: \n",
    "        return None\n",
    "def get_full_text(tweet):\n",
    "    try:\n",
    "        return(tweet[\"extended_tweet\"][\"full_text\"])\n",
    "    except:\n",
    "        return(tweet[\"text\"])\n",
    "    \n",
    "            \n",
    "    \n",
    "def jsontopandas(tweets_data):\n",
    "    tweets=pd.DataFrame()\n",
    "    tweets['id'] = list(map(lambda tweet: tweet['_id'], tweets_data))\n",
    "    tweets['longitude']=list(map(lambda tweet:get_coordinate(tweet)[0], tweets_data))\n",
    "    tweets['latitude']=list(map(lambda tweet: get_coordinate(tweet)[1], tweets_data))\n",
    "    tweets['place_country']=list(map(lambda tweet: tweet['place']['country'] if tweet['place']!= None else None, tweets_data))\n",
    "    tweets['place_full_name']=list(map(lambda tweet: tweet['place']['full_name'] if tweet['place']!= None else None, tweets_data))\n",
    "    tweets['text']=list(map(lambda tweet: get_full_text(tweet), tweets_data))\n",
    "    tweets[\"user_id\"]=list(map(lambda tweet:tweet[\"user\"][\"id\"],tweets_data))\n",
    "    tweets[\"user_name\"]=list(map(lambda tweet:tweet[\"user\"][\"name\"],tweets_data))\n",
    "    tweets[\"user_followers\"]=list(map(lambda tweet:tweet[\"user\"][\"followers_count\"],tweets_data))\n",
    "    tweets['user_loc']=list(map(lambda tweet: tweet['user']['location'], tweets_data))\n",
    "    tweets['lang']=list(map(lambda tweet: tweet['lang'], tweets_data))\n",
    "    tweets['created_at']=list(map(lambda tweet: time.strftime('%Y-%m-%d %H:%M:%S', time.strptime(tweet['created_at'],'%a %b %d %H:%M:%S +0000 %Y')), tweets_data))\n",
    "    return tweets"
   ]
  },
  {
   "cell_type": "code",
   "execution_count": 31,
   "metadata": {},
   "outputs": [],
   "source": [
    "thistweet=jsontopandas(withplace)"
   ]
  },
  {
   "cell_type": "code",
   "execution_count": 33,
   "metadata": {},
   "outputs": [],
   "source": [
    "# thistweet.head()"
   ]
  },
  {
   "cell_type": "code",
   "execution_count": 44,
   "metadata": {},
   "outputs": [
    {
     "data": {
      "text/html": [
       "<div>\n",
       "<style scoped>\n",
       "    .dataframe tbody tr th:only-of-type {\n",
       "        vertical-align: middle;\n",
       "    }\n",
       "\n",
       "    .dataframe tbody tr th {\n",
       "        vertical-align: top;\n",
       "    }\n",
       "\n",
       "    .dataframe thead th {\n",
       "        text-align: right;\n",
       "    }\n",
       "</style>\n",
       "<table border=\"1\" class=\"dataframe\">\n",
       "  <thead>\n",
       "    <tr style=\"text-align: right;\">\n",
       "      <th></th>\n",
       "      <th>id</th>\n",
       "      <th>longitude</th>\n",
       "      <th>latitude</th>\n",
       "      <th>place_country</th>\n",
       "      <th>place_full_name</th>\n",
       "      <th>text</th>\n",
       "      <th>user_id</th>\n",
       "      <th>user_name</th>\n",
       "      <th>user_followers</th>\n",
       "      <th>user_loc</th>\n",
       "      <th>lang</th>\n",
       "      <th>created_at</th>\n",
       "    </tr>\n",
       "  </thead>\n",
       "  <tbody>\n",
       "    <tr>\n",
       "      <th>51</th>\n",
       "      <td>994759019909726208</td>\n",
       "      <td>80.824213</td>\n",
       "      <td>27.014009</td>\n",
       "      <td>India</td>\n",
       "      <td>Malihabad, India</td>\n",
       "      <td>@lucknowpolice REMINDER III:Courtesy no action...</td>\n",
       "      <td>46348111</td>\n",
       "      <td>Pradeep K Srivastava</td>\n",
       "      <td>1725</td>\n",
       "      <td>India</td>\n",
       "      <td>en</td>\n",
       "      <td>2018-05-11 02:00:06</td>\n",
       "    </tr>\n",
       "  </tbody>\n",
       "</table>\n",
       "</div>"
      ],
      "text/plain": [
       "                    id  longitude   latitude place_country   place_full_name  \\\n",
       "51  994759019909726208  80.824213  27.014009         India  Malihabad, India   \n",
       "\n",
       "                                                 text   user_id  \\\n",
       "51  @lucknowpolice REMINDER III:Courtesy no action...  46348111   \n",
       "\n",
       "               user_name  user_followers user_loc lang           created_at  \n",
       "51  Pradeep K Srivastava            1725    India   en  2018-05-11 02:00:06  "
      ]
     },
     "execution_count": 44,
     "metadata": {},
     "output_type": "execute_result"
    }
   ],
   "source": [
    "thistweet[thistweet.id==994759019909726208]"
   ]
  },
  {
   "cell_type": "code",
   "execution_count": 45,
   "metadata": {},
   "outputs": [
    {
     "data": {
      "text/plain": [
       "'@lucknowpolice REMINDER III:Courtesy no action, heavy trucks/bumpers are freely loving from Bithauli to Kursi road &amp; vice versa via Bhawani bazar &amp; Atal Chauraha.These fast moving trucks are severely damaging newly made road and causing air and noise pollution in residential area https://t.co/sgJ1WpuiZQ'"
      ]
     },
     "execution_count": 45,
     "metadata": {},
     "output_type": "execute_result"
    }
   ],
   "source": [
    "thistweet.text[51]"
   ]
  },
  {
   "cell_type": "code",
   "execution_count": 46,
   "metadata": {},
   "outputs": [],
   "source": [
    "thistweet.to_csv(\"../output/tweet_with_location.csv\",encoding='utf-8')"
   ]
  },
  {
   "cell_type": "code",
   "execution_count": 47,
   "metadata": {},
   "outputs": [],
   "source": [
    "load_tweet=pd.read_csv(\"../output/tweet_with_location.csv\")"
   ]
  },
  {
   "cell_type": "code",
   "execution_count": 49,
   "metadata": {},
   "outputs": [
    {
     "data": {
      "text/plain": [
       "'@lucknowpolice REMINDER III:Courtesy no action, heavy trucks/bumpers are freely loving from Bithauli to Kursi road &amp; vice versa via Bhawani bazar &amp; Atal Chauraha.These fast moving trucks are severely damaging newly made road and causing air and noise pollution in residential area https://t.co/sgJ1WpuiZQ'"
      ]
     },
     "execution_count": 49,
     "metadata": {},
     "output_type": "execute_result"
    }
   ],
   "source": [
    "load_tweet.text[51]"
   ]
  }
 ],
 "metadata": {
  "kernelspec": {
   "display_name": "Python 3",
   "language": "python",
   "name": "python3"
  },
  "language_info": {
   "codemirror_mode": {
    "name": "ipython",
    "version": 3
   },
   "file_extension": ".py",
   "mimetype": "text/x-python",
   "name": "python",
   "nbconvert_exporter": "python",
   "pygments_lexer": "ipython3",
   "version": "3.6.4"
  }
 },
 "nbformat": 4,
 "nbformat_minor": 2
}
