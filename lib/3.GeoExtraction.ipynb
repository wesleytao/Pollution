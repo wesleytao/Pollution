{
 "cells": [
  {
   "cell_type": "code",
   "execution_count": 91,
   "metadata": {},
   "outputs": [],
   "source": [
    "import pymongo\n",
    "import json\n",
    "import pandas as pd\n",
    "import time\n",
    "import re"
   ]
  },
  {
   "cell_type": "code",
   "execution_count": 92,
   "metadata": {},
   "outputs": [],
   "source": [
    "client=pymongo.MongoClient()"
   ]
  },
  {
   "cell_type": "code",
   "execution_count": 93,
   "metadata": {},
   "outputs": [
    {
     "data": {
      "text/plain": [
       "['admin', 'config', 'local', 'pollution', 'twitterdb']"
      ]
     },
     "execution_count": 93,
     "metadata": {},
     "output_type": "execute_result"
    }
   ],
   "source": [
    "client.list_database_names()"
   ]
  },
  {
   "cell_type": "code",
   "execution_count": 94,
   "metadata": {},
   "outputs": [
    {
     "data": {
      "text/plain": [
       "['tweetcollection']"
      ]
     },
     "execution_count": 94,
     "metadata": {},
     "output_type": "execute_result"
    }
   ],
   "source": [
    "db=client.pollution\n",
    "db.collection_names()"
   ]
  },
  {
   "cell_type": "code",
   "execution_count": 95,
   "metadata": {},
   "outputs": [
    {
     "data": {
      "text/plain": [
       "24995"
      ]
     },
     "execution_count": 95,
     "metadata": {},
     "output_type": "execute_result"
    }
   ],
   "source": [
    "db.tweetcollection.find({\"place\":{\"$ne\": None}}).count() # with place tweets"
   ]
  },
  {
   "cell_type": "code",
   "execution_count": 96,
   "metadata": {},
   "outputs": [
    {
     "data": {
      "text/plain": [
       "1013"
      ]
     },
     "execution_count": 96,
     "metadata": {},
     "output_type": "execute_result"
    }
   ],
   "source": [
    "db.tweetcollection.find({\"geo\":{\"$ne\": None}}).count() # with exact location"
   ]
  },
  {
   "cell_type": "code",
   "execution_count": 97,
   "metadata": {},
   "outputs": [],
   "source": [
    "pollution_pattern=\"pollution\""
   ]
  },
  {
   "cell_type": "code",
   "execution_count": 98,
   "metadata": {},
   "outputs": [],
   "source": [
    "category_0=[\"air #pollution\",\"空气污染\",\"#airpollution\",\"वायु प्रदुषण\",\"la pollution de l'air\",\"la #pollution\",\"air pollution\",\"l'air #pollution\"]"
   ]
  },
  {
   "cell_type": "code",
   "execution_count": 99,
   "metadata": {},
   "outputs": [
    {
     "data": {
      "text/plain": [
       "['air #pollution',\n",
       " '空气污染',\n",
       " '#airpollution',\n",
       " 'वायु प्रदुषण',\n",
       " \"la pollution de l'air\",\n",
       " 'la #pollution',\n",
       " 'air pollution',\n",
       " \"l'air #pollution\"]"
      ]
     },
     "execution_count": 99,
     "metadata": {},
     "output_type": "execute_result"
    }
   ],
   "source": [
    "category_0"
   ]
  },
  {
   "cell_type": "code",
   "execution_count": 100,
   "metadata": {},
   "outputs": [
    {
     "data": {
      "text/plain": [
       "re.compile(r\"(air #pollution|空气污染|#airpollution|वायु प्रदुषण|la pollution de l'air|la #pollution|air pollution|l'air #pollution)\",\n",
       "re.IGNORECASE|re.UNICODE)"
      ]
     },
     "execution_count": 100,
     "metadata": {},
     "output_type": "execute_result"
    }
   ],
   "source": [
    "regx = re.compile(r'('+'|'.join(category_0)+')', re.IGNORECASE)\n",
    "regx"
   ]
  },
  {
   "cell_type": "code",
   "execution_count": 101,
   "metadata": {},
   "outputs": [],
   "source": [
    "withlocation=list(db.tweetcollection.find({\"geo\":{\"$ne\": None},\"text\":{\"$regex\":pollution_pattern}}))"
   ]
  },
  {
   "cell_type": "code",
   "execution_count": 102,
   "metadata": {},
   "outputs": [
    {
     "data": {
      "text/plain": [
       "11"
      ]
     },
     "execution_count": 102,
     "metadata": {},
     "output_type": "execute_result"
    }
   ],
   "source": [
    "len(withlocation)"
   ]
  },
  {
   "cell_type": "code",
   "execution_count": 103,
   "metadata": {},
   "outputs": [
    {
     "data": {
      "text/plain": [
       "{'_id': 994691118179602432,\n",
       " 'contributors': None,\n",
       " 'coordinates': {'coordinates': [114.15893555, 22.35388613], 'type': 'Point'},\n",
       " 'created_at': 'Thu May 10 21:30:17 +0000 2018',\n",
       " 'entities': {'hashtags': [],\n",
       "  'symbols': [],\n",
       "  'urls': [{'display_url': 'dlvr.it/QSRjd7',\n",
       "    'expanded_url': 'http://dlvr.it/QSRjd7',\n",
       "    'indices': [94, 117],\n",
       "    'url': 'https://t.co/fqKCIvjV1z'}],\n",
       "  'user_mentions': []},\n",
       " 'favorite_count': 0,\n",
       " 'favorited': False,\n",
       " 'filter_level': 'low',\n",
       " 'geo': {'coordinates': [22.35388613, 114.15893555], 'type': 'Point'},\n",
       " 'id_str': '994691118179602432',\n",
       " 'in_reply_to_screen_name': None,\n",
       " 'in_reply_to_status_id': None,\n",
       " 'in_reply_to_status_id_str': None,\n",
       " 'in_reply_to_user_id': None,\n",
       " 'in_reply_to_user_id_str': None,\n",
       " 'is_quote_status': False,\n",
       " 'lang': 'en',\n",
       " 'place': {'attributes': {},\n",
       "  'bounding_box': {'coordinates': [[[114.141298, 22.344083],\n",
       "     [114.141298, 22.439185],\n",
       "     [114.25441, 22.439185],\n",
       "     [114.25441, 22.344083]]],\n",
       "   'type': 'Polygon'},\n",
       "  'country': '香港',\n",
       "  'country_code': 'HK',\n",
       "  'full_name': '沙田, 香港',\n",
       "  'id': '00e41459272fdc2b',\n",
       "  'name': '沙田',\n",
       "  'place_type': 'admin',\n",
       "  'url': 'https://api.twitter.com/1.1/geo/id/00e41459272fdc2b.json'},\n",
       " 'possibly_sensitive': False,\n",
       " 'quote_count': 0,\n",
       " 'reply_count': 0,\n",
       " 'retweet_count': 0,\n",
       " 'retweeted': False,\n",
       " 'source': '<a href=\"https://dlvrit.com/\" rel=\"nofollow\">dlvr.it</a>',\n",
       " 'text': \"ASIA | AS —  China's Shijiazhuang to take air pollution fight to crematoriums, public toilets https://t.co/fqKCIvjV1z\",\n",
       " 'timestamp_ms': '1525987817698',\n",
       " 'truncated': False,\n",
       " 'user': {'contributors_enabled': False,\n",
       "  'created_at': 'Sat May 29 17:26:03 +0000 2010',\n",
       "  'default_profile': False,\n",
       "  'default_profile_image': False,\n",
       "  'description': '日本語  — 中国 — 한국말 — Tiếng Việt — Australia-Pacific | Keeping up-to-date on global social exclusion — Stigmabase is a Canadian Nonprofit Initiative | F in 2010 —',\n",
       "  'favourites_count': 0,\n",
       "  'follow_request_sent': None,\n",
       "  'followers_count': 3190,\n",
       "  'following': None,\n",
       "  'friends_count': 1426,\n",
       "  'geo_enabled': True,\n",
       "  'id': 149585330,\n",
       "  'id_str': '149585330',\n",
       "  'is_translator': False,\n",
       "  'lang': 'en-gb',\n",
       "  'listed_count': 154,\n",
       "  'location': 'Asia | Australia - Pacific',\n",
       "  'name': 'Stigmabase | ASIA',\n",
       "  'notifications': None,\n",
       "  'profile_background_color': 'FFFFFF',\n",
       "  'profile_background_image_url': 'http://pbs.twimg.com/profile_background_images/378800000124913356/dMFsx_w6.png',\n",
       "  'profile_background_image_url_https': 'https://pbs.twimg.com/profile_background_images/378800000124913356/dMFsx_w6.png',\n",
       "  'profile_background_tile': False,\n",
       "  'profile_banner_url': 'https://pbs.twimg.com/profile_banners/149585330/1385143363',\n",
       "  'profile_image_url': 'http://pbs.twimg.com/profile_images/378800000775146705/565c2c7a07cd44ccf0c57ac63af07551_normal.png',\n",
       "  'profile_image_url_https': 'https://pbs.twimg.com/profile_images/378800000775146705/565c2c7a07cd44ccf0c57ac63af07551_normal.png',\n",
       "  'profile_link_color': '0084B4',\n",
       "  'profile_sidebar_border_color': 'FFFFFF',\n",
       "  'profile_sidebar_fill_color': 'EFEFEF',\n",
       "  'profile_text_color': '333333',\n",
       "  'profile_use_background_image': True,\n",
       "  'protected': False,\n",
       "  'screen_name': 'PairsonnalitesA',\n",
       "  'statuses_count': 1187698,\n",
       "  'time_zone': 'Sydney',\n",
       "  'translator_type': 'none',\n",
       "  'url': 'http://au.stigmabase.org',\n",
       "  'utc_offset': 36000,\n",
       "  'verified': False}}"
      ]
     },
     "execution_count": 103,
     "metadata": {},
     "output_type": "execute_result"
    }
   ],
   "source": [
    "withlocation[1]"
   ]
  },
  {
   "cell_type": "code",
   "execution_count": 106,
   "metadata": {},
   "outputs": [],
   "source": [
    "withplace=list(db.tweetcollection.find({\"place\":{\"$ne\": None}}))"
   ]
  },
  {
   "cell_type": "code",
   "execution_count": 108,
   "metadata": {},
   "outputs": [
    {
     "data": {
      "text/plain": [
       "{'_id': 994256948102021121,\n",
       " 'contributors': None,\n",
       " 'coordinates': None,\n",
       " 'created_at': 'Wed May 09 16:45:03 +0000 2018',\n",
       " 'display_text_range': [0, 76],\n",
       " 'entities': {'hashtags': [],\n",
       "  'media': [{'display_url': 'pic.twitter.com/xu2PMQKcrj',\n",
       "    'expanded_url': 'https://twitter.com/ValleyGreenTeam/status/994256948102021121/photo/1',\n",
       "    'id': 994256937708503041,\n",
       "    'id_str': '994256937708503041',\n",
       "    'indices': [77, 100],\n",
       "    'media_url': 'http://pbs.twimg.com/media/DcxPasOVQAEqUPY.jpg',\n",
       "    'media_url_https': 'https://pbs.twimg.com/media/DcxPasOVQAEqUPY.jpg',\n",
       "    'sizes': {'large': {'h': 1536, 'resize': 'fit', 'w': 2048},\n",
       "     'medium': {'h': 900, 'resize': 'fit', 'w': 1200},\n",
       "     'small': {'h': 510, 'resize': 'fit', 'w': 680},\n",
       "     'thumb': {'h': 150, 'resize': 'crop', 'w': 150}},\n",
       "    'type': 'photo',\n",
       "    'url': 'https://t.co/xu2PMQKcrj'}],\n",
       "  'symbols': [],\n",
       "  'urls': [],\n",
       "  'user_mentions': [{'id': 772369988,\n",
       "    'id_str': '772369988',\n",
       "    'indices': [0, 10],\n",
       "    'name': 'Dibs',\n",
       "    'screen_name': 'DibsMyWay'}]},\n",
       " 'extended_entities': {'media': [{'display_url': 'pic.twitter.com/xu2PMQKcrj',\n",
       "    'expanded_url': 'https://twitter.com/ValleyGreenTeam/status/994256948102021121/photo/1',\n",
       "    'id': 994256937708503041,\n",
       "    'id_str': '994256937708503041',\n",
       "    'indices': [77, 100],\n",
       "    'media_url': 'http://pbs.twimg.com/media/DcxPasOVQAEqUPY.jpg',\n",
       "    'media_url_https': 'https://pbs.twimg.com/media/DcxPasOVQAEqUPY.jpg',\n",
       "    'sizes': {'large': {'h': 1536, 'resize': 'fit', 'w': 2048},\n",
       "     'medium': {'h': 900, 'resize': 'fit', 'w': 1200},\n",
       "     'small': {'h': 510, 'resize': 'fit', 'w': 680},\n",
       "     'thumb': {'h': 150, 'resize': 'crop', 'w': 150}},\n",
       "    'type': 'photo',\n",
       "    'url': 'https://t.co/xu2PMQKcrj'}]},\n",
       " 'favorite_count': 0,\n",
       " 'favorited': False,\n",
       " 'filter_level': 'low',\n",
       " 'geo': None,\n",
       " 'id_str': '994256948102021121',\n",
       " 'in_reply_to_screen_name': 'ValleyGreenTeam',\n",
       " 'in_reply_to_status_id': 994254362925981696,\n",
       " 'in_reply_to_status_id_str': '994254362925981696',\n",
       " 'in_reply_to_user_id': 1651496246,\n",
       " 'in_reply_to_user_id_str': '1651496246',\n",
       " 'is_quote_status': False,\n",
       " 'lang': 'en',\n",
       " 'place': {'attributes': {},\n",
       "  'bounding_box': {'coordinates': [[[-121.416872, 37.883347],\n",
       "     [-121.416872, 38.078305],\n",
       "     [-121.183979, 38.078305],\n",
       "     [-121.183979, 37.883347]]],\n",
       "   'type': 'Polygon'},\n",
       "  'country': 'United States',\n",
       "  'country_code': 'US',\n",
       "  'full_name': 'Stockton, CA',\n",
       "  'id': 'd98e7ce217ade2c5',\n",
       "  'name': 'Stockton',\n",
       "  'place_type': 'city',\n",
       "  'url': 'https://api.twitter.com/1.1/geo/id/d98e7ce217ade2c5.json'},\n",
       " 'possibly_sensitive': False,\n",
       " 'quote_count': 0,\n",
       " 'reply_count': 0,\n",
       " 'retweet_count': 0,\n",
       " 'retweeted': False,\n",
       " 'source': '<a href=\"http://twitter.com/download/iphone\" rel=\"nofollow\">Twitter for iPhone</a>',\n",
       " 'text': '@DibsMyWay now presenting on reducing air pollution through commuter options https://t.co/xu2PMQKcrj',\n",
       " 'timestamp_ms': '1525884303485',\n",
       " 'truncated': False,\n",
       " 'user': {'contributors_enabled': False,\n",
       "  'created_at': 'Tue Aug 06 23:19:43 +0000 2013',\n",
       "  'default_profile': False,\n",
       "  'default_profile_image': False,\n",
       "  'description': 'Acct managed by staff & do not necessarily reflect views of the Chamber.',\n",
       "  'favourites_count': 202,\n",
       "  'follow_request_sent': None,\n",
       "  'followers_count': 76,\n",
       "  'following': None,\n",
       "  'friends_count': 82,\n",
       "  'geo_enabled': True,\n",
       "  'id': 1651496246,\n",
       "  'id_str': '1651496246',\n",
       "  'is_translator': False,\n",
       "  'lang': 'en',\n",
       "  'listed_count': 2,\n",
       "  'location': 'Stockton, CA',\n",
       "  'name': 'Valley Green Team',\n",
       "  'notifications': None,\n",
       "  'profile_background_color': 'B2DFDA',\n",
       "  'profile_background_image_url': 'http://pbs.twimg.com/profile_background_images/378800000056967586/587188e16e0ae61c21dd39b56c070429.jpeg',\n",
       "  'profile_background_image_url_https': 'https://pbs.twimg.com/profile_background_images/378800000056967586/587188e16e0ae61c21dd39b56c070429.jpeg',\n",
       "  'profile_background_tile': False,\n",
       "  'profile_banner_url': 'https://pbs.twimg.com/profile_banners/1651496246/1464033847',\n",
       "  'profile_image_url': 'http://pbs.twimg.com/profile_images/790931620928696320/nSNecFQc_normal.jpg',\n",
       "  'profile_image_url_https': 'https://pbs.twimg.com/profile_images/790931620928696320/nSNecFQc_normal.jpg',\n",
       "  'profile_link_color': '19CF86',\n",
       "  'profile_sidebar_border_color': 'FFFFFF',\n",
       "  'profile_sidebar_fill_color': 'FFFFFF',\n",
       "  'profile_text_color': '333333',\n",
       "  'profile_use_background_image': True,\n",
       "  'protected': False,\n",
       "  'screen_name': 'ValleyGreenTeam',\n",
       "  'statuses_count': 222,\n",
       "  'time_zone': 'Pacific Time (US & Canada)',\n",
       "  'translator_type': 'none',\n",
       "  'url': 'http://www.greenteamsanjoaquin.com/Valley-Green-Team.htm',\n",
       "  'utc_offset': -25200,\n",
       "  'verified': False}}"
      ]
     },
     "execution_count": 108,
     "metadata": {},
     "output_type": "execute_result"
    }
   ],
   "source": [
    "withplace[0]"
   ]
  },
  {
   "cell_type": "code",
   "execution_count": 112,
   "metadata": {},
   "outputs": [],
   "source": [
    "def get_retweetid(tweet):\n",
    "    try:\n",
    "        return(tweet[\"retweeted_status\"][\"id\"])\n",
    "    except: \n",
    "        return None\n",
    "    \n",
    "def get_retweet_username(tweet):\n",
    "    try:\n",
    "        return(tweet[\"retweeted_status\"][\"user\"][\"name\"])\n",
    "    except: \n",
    "        return None\n",
    "def get_retweet_followers_count(tweet):\n",
    "    try:\n",
    "        return(tweet[\"retweeted_status\"][\"user\"][\"followers_count\"])\n",
    "    except: \n",
    "        return None\n",
    "def get_retweet_fa(tweet):\n",
    "    try:\n",
    "        return(tweet[\"retweeted_status\"][\"favorite_count\"])\n",
    "    except: \n",
    "        return None\n",
    "def get_retweet_retw(tweet):\n",
    "    try:\n",
    "        return(tweet[\"retweeted_status\"][\"retweet_count\"])\n",
    "    except: \n",
    "        return None\n",
    "def get_retweet_rep(tweet):\n",
    "    try:\n",
    "        return(tweet[\"retweeted_status\"][\"reply_count\"])\n",
    "    except: \n",
    "        return None\n",
    "    \n",
    "def jsontopandas(tweets_data):\n",
    "    tweets=pd.DataFrame()\n",
    "    tweets['id'] = list(map(lambda tweet: tweet['_id'], tweets_data))\n",
    "    tweets['longitude']\n",
    "    tweets['place_country']=list(map(lambda tweet: tweet['place']['country'] if tweet['place']!= None else None, tweets_data))\n",
    "    tweets['place_full_name']=list(map(lambda tweet: tweet['place']['full_name'] if tweet['place']!= None else None, tweets_data))\n",
    "    tweets['text']=list(map(lambda tweet: tweet['text'], tweets_data))\n",
    "    tweets[\"user_id\"]=list(map(lambda tweet:tweet[\"user\"][\"id\"],tweets_data))\n",
    "    tweets[\"user_name\"]=list(map(lambda tweet:tweet[\"user\"][\"name\"],tweets_data))\n",
    "    tweets[\"user_followers\"]=list(map(lambda tweet:tweet[\"user\"][\"followers_count\"],tweets_data))\n",
    "    tweets['user_loc']=list(map(lambda tweet: tweet['user']['location'], tweets_data))\n",
    "    tweets['lang']=list(map(lambda tweet: tweet['lang'], tweets_data))\n",
    "    tweets['created_at']=list(map(lambda tweet: time.strftime('%Y-%m-%d %H:%M:%S', time.strptime(tweet['created_at'],'%a %b %d %H:%M:%S +0000 %Y')), tweets_data))\n",
    "    return tweets"
   ]
  },
  {
   "cell_type": "code",
   "execution_count": null,
   "metadata": {},
   "outputs": [],
   "source": [
    "thistweet=jsontopandas(withplace)"
   ]
  },
  {
   "cell_type": "code",
   "execution_count": 124,
   "metadata": {},
   "outputs": [],
   "source": [
    "thistweet.to_csv(\"../output/tweet_with_location.csv\")"
   ]
  },
  {
   "cell_type": "code",
   "execution_count": 114,
   "metadata": {},
   "outputs": [],
   "source": [
    "tweets_data=withplace"
   ]
  },
  {
   "cell_type": "code",
   "execution_count": 39,
   "metadata": {},
   "outputs": [],
   "source": [
    "tweets=pd.DataFrame()\n",
    "tweets['id'] = list(map(lambda tweet: tweet['_id'], tweets_data))\n",
    "tweets['place_country']=list(map(lambda tweet: tweet['place']['country'] if tweet['place']!= None else None, tweets_data))\n",
    "tweets['place_full_name']=list(map(lambda tweet: tweet['place']['full_name'] if tweet['place']!= None else None, tweets_data))\n",
    "tweets['text']=list(map(lambda tweet: tweet['text'], tweets_data))\n",
    "tweets[\"user_id\"]=list(map(lambda tweet:tweet[\"user\"][\"id\"],tweets_data))\n",
    "tweets[\"user_name\"]=list(map(lambda tweet:tweet[\"user\"][\"name\"],tweets_data))\n",
    "tweets[\"user_followers\"]=list(map(lambda tweet:tweet[\"user\"][\"followers_count\"],tweets_data))\n",
    "tweets['user_loc']=list(map(lambda tweet: tweet['user']['location'], tweets_data))\n",
    "tweets['lang']=list(map(lambda tweet: tweet['lang'], tweets_data))\n",
    "tweets['created_at']=list(map(lambda tweet: time.strftime('%Y-%m-%d %H:%M:%S', time.strptime(tweet['created_at'],'%a %b %d %H:%M:%S +0000 %Y')), tweets_data))\n",
    "\n",
    "# tweets['retweet_count']=list(map(lambda tweet: tweet['retweet_count'] if tweet['retweet_count']!= None else None, tweets_data))\n",
    "# tweets['reply_count']=list(map(lambda tweet: tweet['reply_count'] if tweet['reply_count']!= None else None, tweets_data))\n",
    "# tweets['favorite_count']=list(map(lambda tweet: tweet['favorite_count'], tweets_data))"
   ]
  },
  {
   "cell_type": "code",
   "execution_count": 125,
   "metadata": {},
   "outputs": [
    {
     "data": {
      "text/plain": [
       "id                 24995\n",
       "place_country      24995\n",
       "place_full_name    24995\n",
       "text               24995\n",
       "user_id            24995\n",
       "user_name          24995\n",
       "user_followers     24995\n",
       "user_loc           20362\n",
       "lang               24995\n",
       "created_at         24995\n",
       "dtype: int64"
      ]
     },
     "execution_count": 125,
     "metadata": {},
     "output_type": "execute_result"
    }
   ],
   "source": [
    "tweets.count()"
   ]
  },
  {
   "cell_type": "code",
   "execution_count": 22,
   "metadata": {},
   "outputs": [],
   "source": [
    "with open(\"../output/withplace.json\",\"a\") as f:\n",
    "    for tweet in withplace:\n",
    "        f.write(json.dumps(tweet))"
   ]
  }
 ],
 "metadata": {
  "kernelspec": {
   "display_name": "Python 3",
   "language": "python",
   "name": "python3"
  },
  "language_info": {
   "codemirror_mode": {
    "name": "ipython",
    "version": 3
   },
   "file_extension": ".py",
   "mimetype": "text/x-python",
   "name": "python",
   "nbconvert_exporter": "python",
   "pygments_lexer": "ipython3",
   "version": "3.6.4"
  }
 },
 "nbformat": 4,
 "nbformat_minor": 2
}
