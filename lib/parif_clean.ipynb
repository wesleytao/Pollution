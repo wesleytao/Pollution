{
 "cells": [
  {
   "cell_type": "code",
   "execution_count": 14,
   "metadata": {},
   "outputs": [],
   "source": [
    "import pandas as pd\n",
    "import numpy as np\n",
    "import re\n",
    "from pandas import Index\n",
    "import matplotlib.pyplot as plt\n",
    "from datetime import datetime"
   ]
  },
  {
   "cell_type": "code",
   "execution_count": 15,
   "metadata": {},
   "outputs": [],
   "source": [
    "pm25_path = \"../data/airparif_PA04C_20180101_20180806.csv\""
   ]
  },
  {
   "cell_type": "code",
   "execution_count": 26,
   "metadata": {},
   "outputs": [],
   "source": [
    "\n",
    "table=pd.read_csv(pm25_path ,sep=';').drop(0,axis=0)\n",
    "table=table.rename(mapper={'heure':'hour'},axis=1)\n",
    "table['datetime'] = list(map(lambda stringdate,\n",
    "         dhour: datetime.strptime(stringdate,'%d/%m/%Y').replace(hour=int(dhour)-1),\n",
    "         table['date'],table['hour']))"
   ]
  },
  {
   "cell_type": "code",
   "execution_count": 27,
   "metadata": {},
   "outputs": [
    {
     "data": {
      "text/html": [
       "<div>\n",
       "<style scoped>\n",
       "    .dataframe tbody tr th:only-of-type {\n",
       "        vertical-align: middle;\n",
       "    }\n",
       "\n",
       "    .dataframe tbody tr th {\n",
       "        vertical-align: top;\n",
       "    }\n",
       "\n",
       "    .dataframe thead th {\n",
       "        text-align: right;\n",
       "    }\n",
       "</style>\n",
       "<table border=\"1\" class=\"dataframe\">\n",
       "  <thead>\n",
       "    <tr style=\"text-align: right;\">\n",
       "      <th></th>\n",
       "      <th>date</th>\n",
       "      <th>hour</th>\n",
       "      <th>PM25</th>\n",
       "      <th>PM10</th>\n",
       "      <th>O3</th>\n",
       "      <th>NO2</th>\n",
       "      <th>CO</th>\n",
       "      <th>datetime</th>\n",
       "    </tr>\n",
       "  </thead>\n",
       "  <tbody>\n",
       "    <tr>\n",
       "      <th>1</th>\n",
       "      <td>01/01/2018</td>\n",
       "      <td>1.0</td>\n",
       "      <td>9</td>\n",
       "      <td>15</td>\n",
       "      <td>67</td>\n",
       "      <td>17</td>\n",
       "      <td>n/d</td>\n",
       "      <td>2018-01-01 00:00:00</td>\n",
       "    </tr>\n",
       "    <tr>\n",
       "      <th>2</th>\n",
       "      <td>01/01/2018</td>\n",
       "      <td>2.0</td>\n",
       "      <td>6</td>\n",
       "      <td>13</td>\n",
       "      <td>70</td>\n",
       "      <td>14</td>\n",
       "      <td>n/d</td>\n",
       "      <td>2018-01-01 01:00:00</td>\n",
       "    </tr>\n",
       "    <tr>\n",
       "      <th>3</th>\n",
       "      <td>01/01/2018</td>\n",
       "      <td>3.0</td>\n",
       "      <td>5</td>\n",
       "      <td>11</td>\n",
       "      <td>68</td>\n",
       "      <td>15</td>\n",
       "      <td>n/d</td>\n",
       "      <td>2018-01-01 02:00:00</td>\n",
       "    </tr>\n",
       "    <tr>\n",
       "      <th>4</th>\n",
       "      <td>01/01/2018</td>\n",
       "      <td>4.0</td>\n",
       "      <td>4</td>\n",
       "      <td>15</td>\n",
       "      <td>67</td>\n",
       "      <td>13</td>\n",
       "      <td>n/d</td>\n",
       "      <td>2018-01-01 03:00:00</td>\n",
       "    </tr>\n",
       "    <tr>\n",
       "      <th>5</th>\n",
       "      <td>01/01/2018</td>\n",
       "      <td>5.0</td>\n",
       "      <td>5</td>\n",
       "      <td>15</td>\n",
       "      <td>66</td>\n",
       "      <td>12</td>\n",
       "      <td>n/d</td>\n",
       "      <td>2018-01-01 04:00:00</td>\n",
       "    </tr>\n",
       "  </tbody>\n",
       "</table>\n",
       "</div>"
      ],
      "text/plain": [
       "         date  hour PM25 PM10  O3 NO2   CO            datetime\n",
       "1  01/01/2018   1.0    9   15  67  17  n/d 2018-01-01 00:00:00\n",
       "2  01/01/2018   2.0    6   13  70  14  n/d 2018-01-01 01:00:00\n",
       "3  01/01/2018   3.0    5   11  68  15  n/d 2018-01-01 02:00:00\n",
       "4  01/01/2018   4.0    4   15  67  13  n/d 2018-01-01 03:00:00\n",
       "5  01/01/2018   5.0    5   15  66  12  n/d 2018-01-01 04:00:00"
      ]
     },
     "execution_count": 27,
     "metadata": {},
     "output_type": "execute_result"
    }
   ],
   "source": [
    "table.head()"
   ]
  },
  {
   "cell_type": "code",
   "execution_count": 28,
   "metadata": {},
   "outputs": [],
   "source": [
    "def str2int(mstr):\n",
    "    if mstr == 'n/d':\n",
    "        return None\n",
    "    else: return int(mstr)"
   ]
  },
  {
   "cell_type": "code",
   "execution_count": 31,
   "metadata": {},
   "outputs": [],
   "source": [
    "pollutant_list=['PM25','PM10','O3','NO2','CO']\n",
    "for pollutant in pollutant_list:\n",
    "    table[\"PA04C_\"+pollutant]=list(map(lambda mstr: str2int(mstr),table[pollutant]))"
   ]
  },
  {
   "cell_type": "code",
   "execution_count": 34,
   "metadata": {},
   "outputs": [],
   "source": [
    "new_name_list = [\"PA04C_\"+term for term in pollutant_list]"
   ]
  },
  {
   "cell_type": "code",
   "execution_count": 35,
   "metadata": {},
   "outputs": [],
   "source": [
    "new_name_list.append(\"datetime\")"
   ]
  },
  {
   "cell_type": "code",
   "execution_count": 38,
   "metadata": {},
   "outputs": [],
   "source": [
    "table[new_name_list].to_csv(\"../stage/parif.csv\",index=False)"
   ]
  }
 ],
 "metadata": {
  "kernelspec": {
   "display_name": "Python 3",
   "language": "python",
   "name": "python3"
  },
  "language_info": {
   "codemirror_mode": {
    "name": "ipython",
    "version": 3
   },
   "file_extension": ".py",
   "mimetype": "text/x-python",
   "name": "python",
   "nbconvert_exporter": "python",
   "pygments_lexer": "ipython3",
   "version": "3.6.4"
  }
 },
 "nbformat": 4,
 "nbformat_minor": 2
}
