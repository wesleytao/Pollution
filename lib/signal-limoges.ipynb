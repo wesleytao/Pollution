{
 "cells": [
  {
   "cell_type": "code",
   "execution_count": 1,
   "metadata": {
    "collapsed": true
   },
   "outputs": [],
   "source": [
    "import pandas as pd\n",
    "import numpy as np\n",
    "import re\n",
    "from datetime import datetime\n",
    "from pandas import Index\n",
    "import matplotlib.pyplot as plt\n",
    "from pytrends.request import TrendReq\n",
    "from pytrends import request\n",
    "import pickle"
   ]
  },
  {
   "cell_type": "code",
   "execution_count": 2,
   "metadata": {
    "collapsed": true
   },
   "outputs": [],
   "source": [
    "def signal_process(table,event_var='PM25_Marseille_Longchamp',event_threshold = 40, duration = 6,var_name_list='air pollution'):\n",
    "    \"\"\"Find the spike in pm25 and plot a sliding window for google trend \"\"\"\n",
    "\n",
    "    index_list=np.where(table[event_var]>event_threshold)[0]\n",
    "    \n",
    "    # add first element\n",
    "    shrink_index_list = [index_list[0]]\n",
    "    date_set ={table.date[index_list[0]]}\n",
    "    \n",
    "    # exclude for the same day\n",
    "    for cnt in range(1,len(index_list)):\n",
    "        if table.date[index_list[cnt]] in date_set:\n",
    "            pass\n",
    "        else:\n",
    "            shrink_index_list.append(index_list[cnt].copy())\n",
    "            date_set.add(table.date[index_list[cnt]])\n",
    "    \n",
    "    bind_list = []\n",
    "    for start_index in shrink_index_list:\n",
    "        this_sequence = table.loc[range(start_index-2,start_index+duration),\n",
    "                                  var_name_list]\n",
    "        start_date = table.datetime[start_index]\n",
    "        tuples = list(zip([start_date]*(duration+2),range(-2,duration)))\n",
    "\n",
    "        this_sequence.index = pd.MultiIndex.from_tuples(tuples,names=['event_date_index','hour_index'])\n",
    "    #         this_sequence = (this_sequence- this_sequence.mean())/this_sequence.std()\n",
    "\n",
    "        bind_list.append(this_sequence)\n",
    "    new_table=pd.concat(bind_list)     \n",
    "    \n",
    "    return new_table"
   ]
  },
  {
   "cell_type": "code",
   "execution_count": 3,
   "metadata": {
    "collapsed": true
   },
   "outputs": [],
   "source": [
    "def fetching_trend(airdata, kw_list,location_code='FR-U',timezone = 0):\n",
    "    input_table = airdata\n",
    "    newest_datetime   = max(input_table['datetime'])\n",
    "    earliest_datetime = min(input_table['datetime'])\n",
    "    pytrends = TrendReq(hl='En-US', tz=timezone)\n",
    "    print(\"fectching trend \")\n",
    "    ggtrend_list =[]\n",
    "    for keyword in kw_list:\n",
    "        \n",
    "        this_list = [keyword]\n",
    "        try: \n",
    "            topic_code = pytrends.suggestions(keyword)[0]['mid']\n",
    "            this_list.append(topic_code)\n",
    "            print(\"keyword {} is encoded as {}\".format(keyword,topic_code))\n",
    "        except IndexError:\n",
    "            pass\n",
    "        print(this_list)\n",
    "        ggtrend = pytrends.get_historical_interest(this_list, \n",
    "                                 year_start=earliest_datetime.year,\n",
    "                                          month_start=earliest_datetime.month, \n",
    "                                          day_start=earliest_datetime.days_in_month, \n",
    "                                          hour_start=earliest_datetime.hour, \n",
    "                                 year_end=newest_datetime.year,\n",
    "                                          month_end=newest_datetime.month, \n",
    "                                          day_end=newest_datetime.days_in_month, \n",
    "                                          hour_end=newest_datetime.hour, \n",
    "                                 cat=0, # all categorical\n",
    "                                          geo=location_code,  # Provence-Alpes-Côte d'Azur\n",
    "                                          gprop='',  # no specific group # image #hastag etc\n",
    "                                          sleep=0)\n",
    "        print(\"save temp file {}\".format(keyword))\n",
    "        with open(\"../stage/{}/{}.p\".format(location_code,keyword),'bw') as f:\n",
    "            pickle.dump(ggtrend,f)\n",
    "            \n",
    "        if len(this_list)==2:\n",
    "            ggtrend.columns= Index([keyword, keyword+\" topic\", 'isPartial'], dtype='object')\n",
    "        \n",
    "        \n",
    "        \n",
    "        ggtrend_list.append(ggtrend)\n",
    "    print(\"trend is fectched\")\n",
    "    return ggtrend_list\n"
   ]
  },
  {
   "cell_type": "code",
   "execution_count": 4,
   "metadata": {
    "collapsed": true
   },
   "outputs": [],
   "source": [
    "# loading table "
   ]
  },
  {
   "cell_type": "code",
   "execution_count": 5,
   "metadata": {
    "collapsed": true
   },
   "outputs": [],
   "source": [
    "Limoges_table = pd.read_csv(\"../stage/limoges.csv\").drop(columns=['Year','Month','Day','UTC Hour'])\n",
    "Limoges_table.columns=Index(['PM25_Limoges', 'PM10_Limoges', 'datetime'], dtype='object')"
   ]
  },
  {
   "cell_type": "code",
   "execution_count": 6,
   "metadata": {
    "collapsed": true
   },
   "outputs": [],
   "source": []
  },
  {
   "cell_type": "code",
   "execution_count": 7,
   "metadata": {},
   "outputs": [
    {
     "data": {
      "text/html": [
       "<div>\n",
       "<style scoped>\n",
       "    .dataframe tbody tr th:only-of-type {\n",
       "        vertical-align: middle;\n",
       "    }\n",
       "\n",
       "    .dataframe tbody tr th {\n",
       "        vertical-align: top;\n",
       "    }\n",
       "\n",
       "    .dataframe thead th {\n",
       "        text-align: right;\n",
       "    }\n",
       "</style>\n",
       "<table border=\"1\" class=\"dataframe\">\n",
       "  <thead>\n",
       "    <tr style=\"text-align: right;\">\n",
       "      <th></th>\n",
       "      <th>PM25_Limoges</th>\n",
       "      <th>PM10_Limoges</th>\n",
       "      <th>datetime</th>\n",
       "    </tr>\n",
       "  </thead>\n",
       "  <tbody>\n",
       "    <tr>\n",
       "      <th>0</th>\n",
       "      <td>21.6</td>\n",
       "      <td>0.50</td>\n",
       "      <td>2013-01-01 00:00:00</td>\n",
       "    </tr>\n",
       "    <tr>\n",
       "      <th>1</th>\n",
       "      <td>15.7</td>\n",
       "      <td>0.63</td>\n",
       "      <td>2013-01-01 01:00:00</td>\n",
       "    </tr>\n",
       "    <tr>\n",
       "      <th>2</th>\n",
       "      <td>13.5</td>\n",
       "      <td>0.66</td>\n",
       "      <td>2013-01-01 02:00:00</td>\n",
       "    </tr>\n",
       "    <tr>\n",
       "      <th>3</th>\n",
       "      <td>11.0</td>\n",
       "      <td>0.68</td>\n",
       "      <td>2013-01-01 03:00:00</td>\n",
       "    </tr>\n",
       "    <tr>\n",
       "      <th>4</th>\n",
       "      <td>9.6</td>\n",
       "      <td>0.67</td>\n",
       "      <td>2013-01-01 04:00:00</td>\n",
       "    </tr>\n",
       "  </tbody>\n",
       "</table>\n",
       "</div>"
      ],
      "text/plain": [
       "   PM25_Limoges  PM10_Limoges             datetime\n",
       "0          21.6          0.50  2013-01-01 00:00:00\n",
       "1          15.7          0.63  2013-01-01 01:00:00\n",
       "2          13.5          0.66  2013-01-01 02:00:00\n",
       "3          11.0          0.68  2013-01-01 03:00:00\n",
       "4           9.6          0.67  2013-01-01 04:00:00"
      ]
     },
     "execution_count": 7,
     "metadata": {},
     "output_type": "execute_result"
    }
   ],
   "source": [
    "Limoges_table.head()"
   ]
  },
  {
   "cell_type": "code",
   "execution_count": 8,
   "metadata": {
    "collapsed": true
   },
   "outputs": [],
   "source": [
    "parca_table = Limoges_table"
   ]
  },
  {
   "cell_type": "code",
   "execution_count": 9,
   "metadata": {
    "collapsed": true
   },
   "outputs": [],
   "source": [
    "full_date_time = pd.date_range(parca_table[['datetime']].min()[0],parca_table[['datetime']].max()[0],freq='H')\n",
    "full_time_set = set(map(lambda mytime: mytime.strftime(\"%Y-%m-%d %H:%M:%S\"),full_date_time.to_series())) \n",
    "data_time_set = set(map(lambda timestamp: str(timestamp),parca_table['datetime']))\n",
    "    # pad na values\n",
    "if len(full_time_set) != len(data_time_set):\n",
    "    pad_time = full_time_set -data_time_set\n",
    "    pad_table = pd.DataFrame()\n",
    "    pad_table['datetime']=[datetime.strptime(mytime,\"%Y-%m-%d %H:%M:%S\") for mytime in pad_time]\n",
    "    for column in parca_table.columns:\n",
    "        if column !=\"datetime\":\n",
    "            pad_table[column]=None\n",
    "    parca_table = pd.concat([parca_table,pad_table],ignore_index=True)"
   ]
  },
  {
   "cell_type": "code",
   "execution_count": 10,
   "metadata": {
    "collapsed": true
   },
   "outputs": [],
   "source": [
    "# fetching google trend"
   ]
  },
  {
   "cell_type": "code",
   "execution_count": 11,
   "metadata": {
    "collapsed": true
   },
   "outputs": [],
   "source": [
    "KW_LIST= [\n",
    "#           'difficulté à respirer',\n",
    "#           'asthme',\n",
    "#           'banane',\n",
    "#           'intoxication alimentaire',\n",
    "#           'difficulté pour respirer',\n",
    "#           'sensation d’étouffement',\n",
    "#           'dyspnée',\n",
    "#           'la diarrhée',\n",
    "#           'spasmophilie',\n",
    "#           'nuage de pollution',\n",
    "#           'saleté de l’air',\n",
    "#           'particules nocives',\n",
    "#           'respiration',\n",
    "#           'difficultés respiratoires',\n",
    "#           'maladies respiratoires',\n",
    "          'pollution de l’air',\n",
    "#           'pollution atmosphérique',\n",
    "#           'pollution',\n",
    "#           'Masque', #mask\n",
    "#           \"Purificateur d'air\", #air purifier\n",
    "          \n",
    "         ]"
   ]
  },
  {
   "cell_type": "code",
   "execution_count": 12,
   "metadata": {
    "collapsed": true
   },
   "outputs": [],
   "source": [
    "LOCATION_CODE = 'FR-B'  # ISO 3166 code\tFR-B  for Nouvelle-Aquitaine mytime.strftime(\"%Y-%m-%d %H:%M:%S\")"
   ]
  },
  {
   "cell_type": "code",
   "execution_count": 13,
   "metadata": {
    "collapsed": true
   },
   "outputs": [],
   "source": [
    "def conv(datestring):\n",
    "    try :\n",
    "        val = datetime.strptime(datestring ,'%Y-%m-%d %H:%M:%S')\n",
    "    except TypeError:\n",
    "        val = datestring\n",
    "    return val"
   ]
  },
  {
   "cell_type": "code",
   "execution_count": 14,
   "metadata": {
    "collapsed": true
   },
   "outputs": [],
   "source": [
    "parca_table['datetime'] = parca_table['datetime'].apply(conv)"
   ]
  },
  {
   "cell_type": "code",
   "execution_count": null,
   "metadata": {
    "scrolled": true
   },
   "outputs": [
    {
     "name": "stdout",
     "output_type": "stream",
     "text": [
      "fectching trend \n",
      "keyword pollution de l’air is encoded as /m/0dc7h\n",
      "['pollution de l’air', '/m/0dc7h']\n",
      "The request failed: Google returned a response with code 500.\n",
      "The request failed: Google returned a response with code 500.\n",
      "The request failed: Google returned a response with code 500.\n",
      "The request failed: Google returned a response with code 500.\n",
      "The request failed: Google returned a response with code 500.\n",
      "The request failed: Google returned a response with code 500.\n",
      "The request failed: Google returned a response with code 500.\n",
      "The request failed: Google returned a response with code 500.\n",
      "The request failed: Google returned a response with code 500.\n",
      "The request failed: Google returned a response with code 500.\n",
      "The request failed: Google returned a response with code 500.\n",
      "The request failed: Google returned a response with code 500.\n",
      "The request failed: Google returned a response with code 500.\n",
      "The request failed: Google returned a response with code 500.\n",
      "The request failed: Google returned a response with code 500.\n",
      "The request failed: Google returned a response with code 500.\n",
      "The request failed: Google returned a response with code 500.\n",
      "The request failed: Google returned a response with code 500.\n",
      "The request failed: Google returned a response with code 500.\n",
      "The request failed: Google returned a response with code 500.\n",
      "The request failed: Google returned a response with code 500.\n",
      "The request failed: Google returned a response with code 500.\n",
      "The request failed: Google returned a response with code 500.\n",
      "The request failed: Google returned a response with code 500.\n",
      "The request failed: Google returned a response with code 500.\n",
      "The request failed: Google returned a response with code 500.\n",
      "The request failed: Google returned a response with code 500.\n",
      "The request failed: Google returned a response with code 500.\n",
      "The request failed: Google returned a response with code 500.\n",
      "The request failed: Google returned a response with code 500.\n",
      "The request failed: Google returned a response with code 500.\n",
      "The request failed: Google returned a response with code 500.\n",
      "The request failed: Google returned a response with code 500.\n",
      "The request failed: Google returned a response with code 500.\n",
      "The request failed: Google returned a response with code 500.\n",
      "The request failed: Google returned a response with code 500.\n",
      "The request failed: Google returned a response with code 500.\n",
      "The request failed: Google returned a response with code 500.\n",
      "The request failed: Google returned a response with code 500.\n",
      "The request failed: Google returned a response with code 500.\n",
      "The request failed: Google returned a response with code 500.\n",
      "The request failed: Google returned a response with code 500.\n",
      "The request failed: Google returned a response with code 500.\n",
      "The request failed: Google returned a response with code 500.\n",
      "The request failed: Google returned a response with code 500.\n",
      "The request failed: Google returned a response with code 500.\n",
      "The request failed: Google returned a response with code 500.\n",
      "The request failed: Google returned a response with code 500.\n",
      "The request failed: Google returned a response with code 500.\n",
      "The request failed: Google returned a response with code 500.\n",
      "The request failed: Google returned a response with code 500.\n",
      "The request failed: Google returned a response with code 500.\n",
      "The request failed: Google returned a response with code 500.\n",
      "The request failed: Google returned a response with code 500.\n",
      "The request failed: Google returned a response with code 500.\n",
      "The request failed: Google returned a response with code 500.\n",
      "The request failed: Google returned a response with code 500.\n",
      "The request failed: Google returned a response with code 500.\n",
      "The request failed: Google returned a response with code 500.\n",
      "The request failed: Google returned a response with code 500.\n",
      "The request failed: Google returned a response with code 500.\n",
      "The request failed: Google returned a response with code 500.\n",
      "The request failed: Google returned a response with code 500.\n",
      "The request failed: Google returned a response with code 500.\n",
      "The request failed: Google returned a response with code 500.\n",
      "The request failed: Google returned a response with code 500.\n",
      "The request failed: Google returned a response with code 500.\n",
      "The request failed: Google returned a response with code 500.\n",
      "The request failed: Google returned a response with code 500.\n",
      "The request failed: Google returned a response with code 500.\n",
      "The request failed: Google returned a response with code 500.\n",
      "The request failed: Google returned a response with code 500.\n",
      "The request failed: Google returned a response with code 500.\n",
      "The request failed: Google returned a response with code 500.\n",
      "The request failed: Google returned a response with code 500.\n",
      "The request failed: Google returned a response with code 500.\n",
      "The request failed: Google returned a response with code 500.\n",
      "The request failed: Google returned a response with code 500.\n",
      "The request failed: Google returned a response with code 500.\n",
      "The request failed: Google returned a response with code 500.\n",
      "The request failed: Google returned a response with code 500.\n",
      "The request failed: Google returned a response with code 500.\n",
      "The request failed: Google returned a response with code 500.\n",
      "The request failed: Google returned a response with code 500.\n",
      "The request failed: Google returned a response with code 500.\n",
      "The request failed: Google returned a response with code 500.\n",
      "The request failed: Google returned a response with code 500.\n",
      "The request failed: Google returned a response with code 500.\n",
      "The request failed: Google returned a response with code 500.\n",
      "The request failed: Google returned a response with code 500.\n",
      "The request failed: Google returned a response with code 500.\n",
      "The request failed: Google returned a response with code 500.\n",
      "The request failed: Google returned a response with code 500.\n",
      "The request failed: Google returned a response with code 500.\n",
      "The request failed: Google returned a response with code 500.\n",
      "The request failed: Google returned a response with code 500.\n",
      "The request failed: Google returned a response with code 500.\n",
      "The request failed: Google returned a response with code 500.\n",
      "The request failed: Google returned a response with code 500.\n",
      "The request failed: Google returned a response with code 500.\n",
      "The request failed: Google returned a response with code 500.\n",
      "The request failed: Google returned a response with code 500.\n",
      "The request failed: Google returned a response with code 500.\n",
      "The request failed: Google returned a response with code 500.\n",
      "The request failed: Google returned a response with code 500.\n",
      "The request failed: Google returned a response with code 500.\n",
      "The request failed: Google returned a response with code 500.\n",
      "The request failed: Google returned a response with code 500.\n",
      "The request failed: Google returned a response with code 500.\n",
      "The request failed: Google returned a response with code 500.\n",
      "The request failed: Google returned a response with code 500.\n",
      "The request failed: Google returned a response with code 500.\n",
      "The request failed: Google returned a response with code 500.\n",
      "The request failed: Google returned a response with code 500.\n",
      "The request failed: Google returned a response with code 500.\n",
      "The request failed: Google returned a response with code 500.\n",
      "The request failed: Google returned a response with code 500.\n",
      "The request failed: Google returned a response with code 500.\n",
      "The request failed: Google returned a response with code 500.\n",
      "The request failed: Google returned a response with code 500.\n",
      "The request failed: Google returned a response with code 500.\n",
      "The request failed: Google returned a response with code 500.\n",
      "The request failed: Google returned a response with code 500.\n",
      "The request failed: Google returned a response with code 500.\n",
      "The request failed: Google returned a response with code 500.\n",
      "The request failed: Google returned a response with code 500.\n",
      "The request failed: Google returned a response with code 500.\n",
      "The request failed: Google returned a response with code 500.\n",
      "The request failed: Google returned a response with code 500.\n",
      "The request failed: Google returned a response with code 500.\n",
      "The request failed: Google returned a response with code 500.\n"
     ]
    },
    {
     "name": "stdout",
     "output_type": "stream",
     "text": [
      "The request failed: Google returned a response with code 500.\n",
      "The request failed: Google returned a response with code 500.\n",
      "The request failed: Google returned a response with code 500.\n",
      "The request failed: Google returned a response with code 500.\n",
      "The request failed: Google returned a response with code 500.\n",
      "The request failed: Google returned a response with code 500.\n",
      "The request failed: Google returned a response with code 500.\n",
      "The request failed: Google returned a response with code 500.\n",
      "The request failed: Google returned a response with code 500.\n",
      "The request failed: Google returned a response with code 500.\n",
      "The request failed: Google returned a response with code 500.\n"
     ]
    }
   ],
   "source": [
    "ggtrend_list = fetching_trend(parca_table,kw_list=KW_LIST,location_code=LOCATION_CODE,timezone = 0)"
   ]
  },
  {
   "cell_type": "code",
   "execution_count": null,
   "metadata": {
    "collapsed": true
   },
   "outputs": [],
   "source": [
    "ggtrend=pd.concat(ggtrend_list,axis=1)"
   ]
  },
  {
   "cell_type": "code",
   "execution_count": null,
   "metadata": {
    "collapsed": true
   },
   "outputs": [],
   "source": [
    "ggtrend.reset_index(inplace=True)"
   ]
  },
  {
   "cell_type": "code",
   "execution_count": null,
   "metadata": {
    "collapsed": true
   },
   "outputs": [],
   "source": [
    "merged_t=parca_table.merge(ggtrend,left_on='datetime',right_on='date')\n",
    "kw_str  =\"_\".join(KW_LIST)\n",
    "merged_t.to_csv(\"../stage/parca_{}_{}.csv\".format(kw_str,parca_table.columns[1]))"
   ]
  },
  {
   "cell_type": "code",
   "execution_count": null,
   "metadata": {
    "collapsed": true
   },
   "outputs": [],
   "source": [
    "signal_table=signal_process(merged_t,event_threshold = 35,duration = 12,var_name_list=list(ggtrend.columns)+['PM25_Marseille_Longchamp'])"
   ]
  },
  {
   "cell_type": "code",
   "execution_count": null,
   "metadata": {
    "collapsed": true
   },
   "outputs": [],
   "source": [
    "signal_table.groupby(\"hour_index\").mean().plot()"
   ]
  },
  {
   "cell_type": "code",
   "execution_count": null,
   "metadata": {
    "collapsed": true
   },
   "outputs": [],
   "source": [
    "signal_table.to_csv(\"../output/air_parca_threshold_35_colsum_duration_12H.csv\")"
   ]
  }
 ],
 "metadata": {
  "kernelspec": {
   "display_name": "Python 3",
   "language": "python",
   "name": "python3"
  },
  "language_info": {
   "codemirror_mode": {
    "name": "ipython",
    "version": 3
   },
   "file_extension": ".py",
   "mimetype": "text/x-python",
   "name": "python",
   "nbconvert_exporter": "python",
   "pygments_lexer": "ipython3",
   "version": "3.6.1"
  }
 },
 "nbformat": 4,
 "nbformat_minor": 2
}
