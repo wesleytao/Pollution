{
 "cells": [
  {
   "cell_type": "code",
   "execution_count": 1,
   "metadata": {},
   "outputs": [],
   "source": [
    "import pandas as pd\n",
    "import numpy as np\n",
    "import re\n",
    "from vaderSentiment.vaderSentiment import SentimentIntensityAnalyzer\n",
    "from googletrans import Translator\n",
    "import time\n",
    "import emoji\n",
    "from tqdm import tqdm,tqdm_notebook"
   ]
  },
  {
   "cell_type": "code",
   "execution_count": 2,
   "metadata": {},
   "outputs": [],
   "source": [
    "df = pd.read_csv('../output/country/France.csv', encoding='utf-8')"
   ]
  },
  {
   "cell_type": "code",
   "execution_count": 3,
   "metadata": {},
   "outputs": [],
   "source": [
    "# use google translator\n",
    "# translator=Translator()\n",
    "translator = Translator(service_urls=[\n",
    "      'translate.google.com',\n",
    "      'translate.google.co.kr',\n",
    "    ])"
   ]
  },
  {
   "cell_type": "code",
   "execution_count": 4,
   "metadata": {},
   "outputs": [],
   "source": [
    "trans=translator.translate(df.text[1],dest='en',src='auto')\n",
    "trans_text=dict()"
   ]
  },
  {
   "cell_type": "code",
   "execution_count": 5,
   "metadata": {},
   "outputs": [],
   "source": [
    "def tran(error_index=None):\n",
    "    new_error_index=[]\n",
    "    if error_index :\n",
    "        for idx in tqdm(error_index):\n",
    "            text=emoji.demojize(df.text[idx])\n",
    "            \n",
    "            try:\n",
    "                trans=translator.translate(text,dest='en',src='auto')\n",
    "                trans_text[idx]=trans.text\n",
    "            except:\n",
    "                new_error_index.append(idx)\n",
    "    else:\n",
    "        old=time.time()\n",
    "        error_index=[]\n",
    "        for i in tqdm_notebook(range(len(df.text))):\n",
    "            text = emoji.demojize(df.text[i])\n",
    "            try:\n",
    "                trans=translator.translate(text,dest='en',src='auto')\n",
    "                trans_text[i]=trans.text\n",
    "            except:\n",
    "                error_index.append(i)\n",
    "        print(time.time()-old)\n",
    "    return new_error_index\n"
   ]
  },
  {
   "cell_type": "code",
   "execution_count": 6,
   "metadata": {
    "scrolled": false
   },
   "outputs": [
    {
     "data": {
      "application/vnd.jupyter.widget-view+json": {
       "model_id": "0d95532059b246bf94cbff31043f1a67",
       "version_major": 2,
       "version_minor": 0
      },
      "text/html": [
       "<p>Failed to display Jupyter Widget of type <code>HBox</code>.</p>\n",
       "<p>\n",
       "  If you're reading this message in the Jupyter Notebook or JupyterLab Notebook, it may mean\n",
       "  that the widgets JavaScript is still loading. If this message persists, it\n",
       "  likely means that the widgets JavaScript library is either not installed or\n",
       "  not enabled. See the <a href=\"https://ipywidgets.readthedocs.io/en/stable/user_install.html\">Jupyter\n",
       "  Widgets Documentation</a> for setup instructions.\n",
       "</p>\n",
       "<p>\n",
       "  If you're reading this message in another frontend (for example, a static\n",
       "  rendering on GitHub or <a href=\"https://nbviewer.jupyter.org/\">NBViewer</a>),\n",
       "  it may mean that your frontend doesn't currently support widgets.\n",
       "</p>\n"
      ],
      "text/plain": [
       "HBox(children=(IntProgress(value=0, max=1990), HTML(value='')))"
      ]
     },
     "metadata": {},
     "output_type": "display_data"
    },
    {
     "name": "stdout",
     "output_type": "stream",
     "text": [
      "\n",
      "888.0044841766357\n"
     ]
    }
   ],
   "source": [
    "e=tran()"
   ]
  },
  {
   "cell_type": "code",
   "execution_count": 8,
   "metadata": {},
   "outputs": [
    {
     "data": {
      "application/vnd.jupyter.widget-view+json": {
       "model_id": "8bc4ef2c06064b1eaa3a0166eaae6727",
       "version_major": 2,
       "version_minor": 0
      },
      "text/html": [
       "<p>Failed to display Jupyter Widget of type <code>HBox</code>.</p>\n",
       "<p>\n",
       "  If you're reading this message in the Jupyter Notebook or JupyterLab Notebook, it may mean\n",
       "  that the widgets JavaScript is still loading. If this message persists, it\n",
       "  likely means that the widgets JavaScript library is either not installed or\n",
       "  not enabled. See the <a href=\"https://ipywidgets.readthedocs.io/en/stable/user_install.html\">Jupyter\n",
       "  Widgets Documentation</a> for setup instructions.\n",
       "</p>\n",
       "<p>\n",
       "  If you're reading this message in another frontend (for example, a static\n",
       "  rendering on GitHub or <a href=\"https://nbviewer.jupyter.org/\">NBViewer</a>),\n",
       "  it may mean that your frontend doesn't currently support widgets.\n",
       "</p>\n"
      ],
      "text/plain": [
       "HBox(children=(IntProgress(value=0, max=1990), HTML(value='')))"
      ]
     },
     "metadata": {},
     "output_type": "display_data"
    },
    {
     "name": "stdout",
     "output_type": "stream",
     "text": [
      "\n",
      "242.1688747406006\n"
     ]
    }
   ],
   "source": [
    "e=tran(e)"
   ]
  },
  {
   "cell_type": "code",
   "execution_count": 11,
   "metadata": {},
   "outputs": [
    {
     "data": {
      "text/plain": [
       "0"
      ]
     },
     "execution_count": 11,
     "metadata": {},
     "output_type": "execute_result"
    }
   ],
   "source": [
    "len(e)"
   ]
  },
  {
   "cell_type": "code",
   "execution_count": 12,
   "metadata": {},
   "outputs": [
    {
     "data": {
      "text/plain": [
       "1986"
      ]
     },
     "execution_count": 12,
     "metadata": {},
     "output_type": "execute_result"
    }
   ],
   "source": [
    "len(trans_text)"
   ]
  },
  {
   "cell_type": "code",
   "execution_count": 13,
   "metadata": {},
   "outputs": [
    {
     "data": {
      "text/plain": [
       "1990"
      ]
     },
     "execution_count": 13,
     "metadata": {},
     "output_type": "execute_result"
    }
   ],
   "source": [
    "len(df)"
   ]
  },
  {
   "cell_type": "code",
   "execution_count": 33,
   "metadata": {},
   "outputs": [],
   "source": [
    "list_trans=[trans_text[i] for i in range(len(df)) ]"
   ]
  },
  {
   "cell_type": "code",
   "execution_count": 34,
   "metadata": {},
   "outputs": [],
   "source": [
    "df[\"trans_text\"]=list_trans"
   ]
  },
  {
   "cell_type": "code",
   "execution_count": 35,
   "metadata": {},
   "outputs": [
    {
     "data": {
      "text/html": [
       "<div>\n",
       "<style scoped>\n",
       "    .dataframe tbody tr th:only-of-type {\n",
       "        vertical-align: middle;\n",
       "    }\n",
       "\n",
       "    .dataframe tbody tr th {\n",
       "        vertical-align: top;\n",
       "    }\n",
       "\n",
       "    .dataframe thead th {\n",
       "        text-align: right;\n",
       "    }\n",
       "</style>\n",
       "<table border=\"1\" class=\"dataframe\">\n",
       "  <thead>\n",
       "    <tr style=\"text-align: right;\">\n",
       "      <th></th>\n",
       "      <th>id</th>\n",
       "      <th>longitude</th>\n",
       "      <th>latitude</th>\n",
       "      <th>place_country</th>\n",
       "      <th>place_full_name</th>\n",
       "      <th>text</th>\n",
       "      <th>user_id</th>\n",
       "      <th>user_name</th>\n",
       "      <th>user_followers</th>\n",
       "      <th>user_loc</th>\n",
       "      <th>lang</th>\n",
       "      <th>created_at</th>\n",
       "      <th>trans_text</th>\n",
       "    </tr>\n",
       "  </thead>\n",
       "  <tbody>\n",
       "    <tr>\n",
       "      <th>0</th>\n",
       "      <td>1003504559875153921</td>\n",
       "      <td>9.046206</td>\n",
       "      <td>41.520942</td>\n",
       "      <td>France</td>\n",
       "      <td>Pianottoli-Caldarello, France</td>\n",
       "      <td>Tout ça semble tellement simple... mais ça ne ...</td>\n",
       "      <td>1630482236</td>\n",
       "      <td>patrice salini</td>\n",
       "      <td>915</td>\n",
       "      <td>pianottoli caldarello</td>\n",
       "      <td>fr</td>\n",
       "      <td>2018-06-04 05:11:45</td>\n",
       "      <td>It all sounds so simple ... but it's not easy!...</td>\n",
       "    </tr>\n",
       "    <tr>\n",
       "      <th>1</th>\n",
       "      <td>1003545074322591744</td>\n",
       "      <td>1.582971</td>\n",
       "      <td>48.965238</td>\n",
       "      <td>France</td>\n",
       "      <td>Boissy-Mauvoisin, France</td>\n",
       "      <td>La définition littérale d’un bug https://t.co/...</td>\n",
       "      <td>34577688</td>\n",
       "      <td>Pierre Dandumont</td>\n",
       "      <td>3651</td>\n",
       "      <td>Dans ma campagne.</td>\n",
       "      <td>fr</td>\n",
       "      <td>2018-06-04 07:52:45</td>\n",
       "      <td>The literal definition of a bug https://t.co/d...</td>\n",
       "    </tr>\n",
       "    <tr>\n",
       "      <th>2</th>\n",
       "      <td>1003547782718939136</td>\n",
       "      <td>2.347003</td>\n",
       "      <td>48.858834</td>\n",
       "      <td>France</td>\n",
       "      <td>Paris, France</td>\n",
       "      <td>@pipedrive Hello, we are a paid customer (@mad...</td>\n",
       "      <td>1264922016</td>\n",
       "      <td>Youssef Rahoui</td>\n",
       "      <td>664</td>\n",
       "      <td>Paris</td>\n",
       "      <td>en</td>\n",
       "      <td>2018-06-04 08:03:31</td>\n",
       "      <td>@pipedrive Hello, we are a paid customer (@mad...</td>\n",
       "    </tr>\n",
       "    <tr>\n",
       "      <th>3</th>\n",
       "      <td>1003548448514347009</td>\n",
       "      <td>2.347003</td>\n",
       "      <td>48.858834</td>\n",
       "      <td>France</td>\n",
       "      <td>Paris, France</td>\n",
       "      <td>Je plussoie ++ #vegetalisonsparis https://t.co...</td>\n",
       "      <td>1095432156</td>\n",
       "      <td>Agathe Lélu</td>\n",
       "      <td>962</td>\n",
       "      <td>Paris</td>\n",
       "      <td>fr</td>\n",
       "      <td>2018-06-04 08:06:09</td>\n",
       "      <td>I more than +++vegetalisonsparis https://t.co/...</td>\n",
       "    </tr>\n",
       "    <tr>\n",
       "      <th>4</th>\n",
       "      <td>1003555075699200000</td>\n",
       "      <td>2.347003</td>\n",
       "      <td>48.858834</td>\n",
       "      <td>France</td>\n",
       "      <td>Paris, France</td>\n",
       "      <td>@jlmoudenc un exemple à prendre pour #Toulouse...</td>\n",
       "      <td>811609616408870912</td>\n",
       "      <td>Kiricus</td>\n",
       "      <td>44</td>\n",
       "      <td>Toulouse, France</td>\n",
       "      <td>fr</td>\n",
       "      <td>2018-06-04 08:32:29</td>\n",
       "      <td>@jlmoudenc an example to take for #Toulouse! w...</td>\n",
       "    </tr>\n",
       "    <tr>\n",
       "      <th>5</th>\n",
       "      <td>1003582954491334657</td>\n",
       "      <td>2.347003</td>\n",
       "      <td>48.858834</td>\n",
       "      <td>France</td>\n",
       "      <td>Paris, France</td>\n",
       "      <td>Or she just hasn't found the right person and ...</td>\n",
       "      <td>419805802</td>\n",
       "      <td>ALRII</td>\n",
       "      <td>641</td>\n",
       "      <td>London</td>\n",
       "      <td>en</td>\n",
       "      <td>2018-06-04 10:23:16</td>\n",
       "      <td>Or she just hasn't found the right person and ...</td>\n",
       "    </tr>\n",
       "    <tr>\n",
       "      <th>6</th>\n",
       "      <td>1003599476341305350</td>\n",
       "      <td>2.332870</td>\n",
       "      <td>48.911783</td>\n",
       "      <td>France</td>\n",
       "      <td>Saint-Ouen, France</td>\n",
       "      <td>#SEDD JB Renard chercheur au @CNRS fait l'inve...</td>\n",
       "      <td>404175902</td>\n",
       "      <td>M-Christine Lanne</td>\n",
       "      <td>16498</td>\n",
       "      <td>France</td>\n",
       "      <td>fr</td>\n",
       "      <td>2018-06-04 11:28:55</td>\n",
       "      <td>#SEDD JB Renard researcher at @CNRS makes an i...</td>\n",
       "    </tr>\n",
       "    <tr>\n",
       "      <th>7</th>\n",
       "      <td>1003601298397237248</td>\n",
       "      <td>2.445818</td>\n",
       "      <td>48.910630</td>\n",
       "      <td>France</td>\n",
       "      <td>Seine-Saint-Denis, Ile-de-France</td>\n",
       "      <td>#SEDD Jean Baptiste #RENARD Chercheur au @CNRS...</td>\n",
       "      <td>92739201</td>\n",
       "      <td>François GARREAU</td>\n",
       "      <td>13106</td>\n",
       "      <td>PARIS 15</td>\n",
       "      <td>fr</td>\n",
       "      <td>2018-06-04 11:36:10</td>\n",
       "      <td>#SEDD Jean Baptiste #RENARD Researcher at @CNR...</td>\n",
       "    </tr>\n",
       "    <tr>\n",
       "      <th>8</th>\n",
       "      <td>1003602974533455872</td>\n",
       "      <td>2.332870</td>\n",
       "      <td>48.911783</td>\n",
       "      <td>France</td>\n",
       "      <td>Saint-Ouen, France</td>\n",
       "      <td>#SEDD Pierre Souvet @Dr_ASEF explique qu'à #To...</td>\n",
       "      <td>404175902</td>\n",
       "      <td>M-Christine Lanne</td>\n",
       "      <td>16497</td>\n",
       "      <td>France</td>\n",
       "      <td>fr</td>\n",
       "      <td>2018-06-04 11:42:49</td>\n",
       "      <td>#SEDD Pierre Souvet @Dr_ASEF explains that at ...</td>\n",
       "    </tr>\n",
       "    <tr>\n",
       "      <th>9</th>\n",
       "      <td>1003605377966133249</td>\n",
       "      <td>3.874268</td>\n",
       "      <td>43.610396</td>\n",
       "      <td>France</td>\n",
       "      <td>Montpellier, France</td>\n",
       "      <td>sınırdışı edilen iranlılara çok üzüldüm bugünü...</td>\n",
       "      <td>129581318</td>\n",
       "      <td>gestapo gündeş</td>\n",
       "      <td>5896</td>\n",
       "      <td>Montpellier, France</td>\n",
       "      <td>tr</td>\n",
       "      <td>2018-06-04 11:52:22</td>\n",
       "      <td>I am very sorry that the deportees are not dep...</td>\n",
       "    </tr>\n",
       "  </tbody>\n",
       "</table>\n",
       "</div>"
      ],
      "text/plain": [
       "                    id  longitude   latitude place_country  \\\n",
       "0  1003504559875153921   9.046206  41.520942        France   \n",
       "1  1003545074322591744   1.582971  48.965238        France   \n",
       "2  1003547782718939136   2.347003  48.858834        France   \n",
       "3  1003548448514347009   2.347003  48.858834        France   \n",
       "4  1003555075699200000   2.347003  48.858834        France   \n",
       "5  1003582954491334657   2.347003  48.858834        France   \n",
       "6  1003599476341305350   2.332870  48.911783        France   \n",
       "7  1003601298397237248   2.445818  48.910630        France   \n",
       "8  1003602974533455872   2.332870  48.911783        France   \n",
       "9  1003605377966133249   3.874268  43.610396        France   \n",
       "\n",
       "                    place_full_name  \\\n",
       "0     Pianottoli-Caldarello, France   \n",
       "1          Boissy-Mauvoisin, France   \n",
       "2                     Paris, France   \n",
       "3                     Paris, France   \n",
       "4                     Paris, France   \n",
       "5                     Paris, France   \n",
       "6                Saint-Ouen, France   \n",
       "7  Seine-Saint-Denis, Ile-de-France   \n",
       "8                Saint-Ouen, France   \n",
       "9               Montpellier, France   \n",
       "\n",
       "                                                text             user_id  \\\n",
       "0  Tout ça semble tellement simple... mais ça ne ...          1630482236   \n",
       "1  La définition littérale d’un bug https://t.co/...            34577688   \n",
       "2  @pipedrive Hello, we are a paid customer (@mad...          1264922016   \n",
       "3  Je plussoie ++ #vegetalisonsparis https://t.co...          1095432156   \n",
       "4  @jlmoudenc un exemple à prendre pour #Toulouse...  811609616408870912   \n",
       "5  Or she just hasn't found the right person and ...           419805802   \n",
       "6  #SEDD JB Renard chercheur au @CNRS fait l'inve...           404175902   \n",
       "7  #SEDD Jean Baptiste #RENARD Chercheur au @CNRS...            92739201   \n",
       "8  #SEDD Pierre Souvet @Dr_ASEF explique qu'à #To...           404175902   \n",
       "9  sınırdışı edilen iranlılara çok üzüldüm bugünü...           129581318   \n",
       "\n",
       "           user_name  user_followers               user_loc lang  \\\n",
       "0     patrice salini             915  pianottoli caldarello   fr   \n",
       "1   Pierre Dandumont            3651      Dans ma campagne.   fr   \n",
       "2     Youssef Rahoui             664                  Paris   en   \n",
       "3        Agathe Lélu             962                  Paris   fr   \n",
       "4            Kiricus              44       Toulouse, France   fr   \n",
       "5              ALRII             641                 London   en   \n",
       "6  M-Christine Lanne           16498                 France   fr   \n",
       "7   François GARREAU           13106               PARIS 15   fr   \n",
       "8  M-Christine Lanne           16497                 France   fr   \n",
       "9     gestapo gündeş            5896    Montpellier, France   tr   \n",
       "\n",
       "            created_at                                         trans_text  \n",
       "0  2018-06-04 05:11:45  It all sounds so simple ... but it's not easy!...  \n",
       "1  2018-06-04 07:52:45  The literal definition of a bug https://t.co/d...  \n",
       "2  2018-06-04 08:03:31  @pipedrive Hello, we are a paid customer (@mad...  \n",
       "3  2018-06-04 08:06:09  I more than +++vegetalisonsparis https://t.co/...  \n",
       "4  2018-06-04 08:32:29  @jlmoudenc an example to take for #Toulouse! w...  \n",
       "5  2018-06-04 10:23:16  Or she just hasn't found the right person and ...  \n",
       "6  2018-06-04 11:28:55  #SEDD JB Renard researcher at @CNRS makes an i...  \n",
       "7  2018-06-04 11:36:10  #SEDD Jean Baptiste #RENARD Researcher at @CNR...  \n",
       "8  2018-06-04 11:42:49  #SEDD Pierre Souvet @Dr_ASEF explains that at ...  \n",
       "9  2018-06-04 11:52:22  I am very sorry that the deportees are not dep...  "
      ]
     },
     "execution_count": 35,
     "metadata": {},
     "output_type": "execute_result"
    }
   ],
   "source": [
    "df_english=df\n",
    "df_english.head(10)"
   ]
  },
  {
   "cell_type": "code",
   "execution_count": 36,
   "metadata": {},
   "outputs": [],
   "source": [
    "sentences = list(df_english['trans_text'])"
   ]
  },
  {
   "cell_type": "code",
   "execution_count": 37,
   "metadata": {},
   "outputs": [],
   "source": [
    "neg = list()\n",
    "neu = list()\n",
    "pos = list()\n",
    "compound = list()\n",
    "analyzer = SentimentIntensityAnalyzer()\n",
    "for sentence in sentences:\n",
    "    vs = analyzer.polarity_scores(sentence)\n",
    "    neg.append(vs['neg'])\n",
    "    neu.append(vs['neu'])\n",
    "    pos.append(vs['pos'])\n",
    "    compound.append(vs['compound'])"
   ]
  },
  {
   "cell_type": "code",
   "execution_count": 38,
   "metadata": {},
   "outputs": [],
   "source": [
    "df_english['neg'] = neg\n",
    "df_english['neu'] = neu\n",
    "df_english['pos'] = pos\n",
    "df_english['compound'] = compound"
   ]
  },
  {
   "cell_type": "code",
   "execution_count": 40,
   "metadata": {},
   "outputs": [],
   "source": [
    "df_english.to_csv('../output/france_with_vadersentiment_pop.csv',encoding=\"utf-8\")"
   ]
  },
  {
   "cell_type": "code",
   "execution_count": 41,
   "metadata": {},
   "outputs": [
    {
     "data": {
      "image/png": "[encoded data removed]",
      "text/plain": [
       "<Figure size 432x288 with 1 Axes>"
      ]
     },
     "metadata": {},
     "output_type": "display_data"
    }
   ],
   "source": [
    "plt.hist(df_english['compound'],bins=50)\n",
    "plt.show()"
   ]
  }
 ],
 "metadata": {
  "kernelspec": {
   "display_name": "Python 3",
   "language": "python",
   "name": "python3"
  },
  "language_info": {
   "codemirror_mode": {
    "name": "ipython",
    "version": 3
   },
   "file_extension": ".py",
   "mimetype": "text/x-python",
   "name": "python",
   "nbconvert_exporter": "python",
   "pygments_lexer": "ipython3",
   "version": "3.6.4"
  }
 },
 "nbformat": 4,
 "nbformat_minor": 2
}
