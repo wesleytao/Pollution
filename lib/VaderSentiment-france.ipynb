{
 "cells": [
  {
   "cell_type": "code",
   "execution_count": 52,
   "metadata": {},
   "outputs": [],
   "source": [
    "import pandas as pd\n",
    "import numpy as np\n",
    "import re\n",
    "import matplotlib.pyplot as plt\n",
    "from vaderSentiment.vaderSentiment import SentimentIntensityAnalyzer\n",
    "%matplotlib inline\n",
    "from googletrans import Translator\n",
    "import time\n",
    "import emoji\n",
    "import tqdm as tqdm"
   ]
  },
  {
   "cell_type": "code",
   "execution_count": 3,
   "metadata": {},
   "outputs": [],
   "source": [
    "df = pd.read_csv('../output/france_pop.csv', encoding='utf-8')"
   ]
  },
  {
   "cell_type": "code",
   "execution_count": 4,
   "metadata": {},
   "outputs": [],
   "source": [
    "# use google translator\n",
    "# translator=Translator()\n",
    "translator = Translator(service_urls=[\n",
    "      'translate.google.com',\n",
    "      'translate.google.co.kr',\n",
    "    ])"
   ]
  },
  {
   "cell_type": "code",
   "execution_count": 5,
   "metadata": {},
   "outputs": [],
   "source": [
    "trans=translator.translate(df.text[1],dest='en',src='auto')"
   ]
  },
  {
   "cell_type": "code",
   "execution_count": 6,
   "metadata": {},
   "outputs": [
    {
     "data": {
      "text/plain": [
       "'La définition littérale d’un bug https://t.co/d9FtMwfnLA #CPCH https://t.co/8vtTCFRC9N'"
      ]
     },
     "execution_count": 6,
     "metadata": {},
     "output_type": "execute_result"
    }
   ],
   "source": [
    "trans.origin"
   ]
  },
  {
   "cell_type": "code",
   "execution_count": 38,
   "metadata": {},
   "outputs": [],
   "source": [
    "# trans.text"
   ]
  },
  {
   "cell_type": "code",
   "execution_count": 36,
   "metadata": {},
   "outputs": [
    {
     "name": "stdout",
     "output_type": "stream",
     "text": [
      "176.410218000412\n"
     ]
    }
   ],
   "source": [
    "old=time.time()\n",
    "trans_text=dict()\n",
    "error_index=[]\n",
    "for i,text in enumerate(df.text):\n",
    "    text = emoji.demojize(text)\n",
    "    try:\n",
    "        trans=translator.translate(text,dest='en',src='auto')\n",
    "        trans_text[i]=trans.text\n",
    "    except:\n",
    "        error_index.append(i)\n",
    "print(time.time()-old)"
   ]
  },
  {
   "cell_type": "code",
   "execution_count": 39,
   "metadata": {},
   "outputs": [
    {
     "data": {
      "text/plain": [
       "137"
      ]
     },
     "execution_count": 39,
     "metadata": {},
     "output_type": "execute_result"
    }
   ],
   "source": [
    "len(error_index)"
   ]
  },
  {
   "cell_type": "code",
   "execution_count": 40,
   "metadata": {},
   "outputs": [
    {
     "data": {
      "text/plain": [
       "[779, 780, 784, 785, 791, 812, 813, 814, 818, 820]"
      ]
     },
     "execution_count": 40,
     "metadata": {},
     "output_type": "execute_result"
    }
   ],
   "source": [
    "error_index[0:10]"
   ]
  },
  {
   "cell_type": "code",
   "execution_count": 51,
   "metadata": {},
   "outputs": [],
   "source": [
    "new_error_index=[]\n",
    "for idx in error_index:\n",
    "    text=emoji.demojize(df.text[idx])\n",
    "    try:\n",
    "        trans=translator.translate(text,dest='en',src='auto')\n",
    "        trans_text[idx]=trans.text\n",
    "    except:\n",
    "        new_error_index.append(i)"
   ]
  },
  {
   "cell_type": "code",
   "execution_count": 82,
   "metadata": {},
   "outputs": [
    {
     "data": {
      "text/plain": [
       "[1408]"
      ]
     },
     "execution_count": 82,
     "metadata": {},
     "output_type": "execute_result"
    }
   ],
   "source": [
    "new_error_index"
   ]
  },
  {
   "cell_type": "code",
   "execution_count": 74,
   "metadata": {},
   "outputs": [
    {
     "data": {
      "text/plain": [
       "\"#Climat #Pollution En France, même les grandes villes sont à la traine, la voiture reste reine !:face_with_medical_mask: \\r\\n:loudspeaker:Vite, pour sortir du diesel, partager l'espace public :bicycle::woman_cartwheeling::railway_car::kick_scooter:\\U0001f6f9 interpellons les maires ! #CleanAir #DelAir :rainbow:\\r\\nhttps://t.co/SdXgO0dJA1 https://t.co/2RP8MJuTMJ\""
      ]
     },
     "execution_count": 74,
     "metadata": {},
     "output_type": "execute_result"
    }
   ],
   "source": [
    "text = emoji.demojize(df.text[1274])\n",
    "text"
   ]
  },
  {
   "cell_type": "code",
   "execution_count": 77,
   "metadata": {},
   "outputs": [],
   "source": [
    "a=\"#Climat #Pollution En France, même les grandes villes sont à la traine, la voiture reste reine !:face_with_medical_mask: \\r\\n:loudspeaker:Vite, pour sortir du diesel, partager l'espace public :bicycle::woman_cartwheeling::railway_car::kick_scooter: interpellons les maires ! #CleanAir #DelAir :rainbow:\\r\\nhttps://t.co/SdXgO0dJA1 https://t.co/2RP8MJuTMJ\""
   ]
  },
  {
   "cell_type": "code",
   "execution_count": 97,
   "metadata": {},
   "outputs": [
    {
     "ename": "JSONDecodeError",
     "evalue": "Expecting value: line 1 column 1 (char 0)",
     "output_type": "error",
     "traceback": [
      "\u001b[1;31m---------------------------------------------------------------------------\u001b[0m",
      "\u001b[1;31mJSONDecodeError\u001b[0m                           Traceback (most recent call last)",
      "\u001b[1;32m<ipython-input-97-d5467c6ef9f2>\u001b[0m in \u001b[0;36m<module>\u001b[1;34m()\u001b[0m\n\u001b[1;32m----> 1\u001b[1;33m \u001b[0mtrans\u001b[0m\u001b[1;33m=\u001b[0m\u001b[0mtranslator\u001b[0m\u001b[1;33m.\u001b[0m\u001b[0mtranslate\u001b[0m\u001b[1;33m(\u001b[0m\u001b[0mtext\u001b[0m\u001b[1;33m,\u001b[0m\u001b[0mdest\u001b[0m\u001b[1;33m=\u001b[0m\u001b[1;34m'en'\u001b[0m\u001b[1;33m,\u001b[0m\u001b[0msrc\u001b[0m\u001b[1;33m=\u001b[0m\u001b[1;34m'auto'\u001b[0m\u001b[1;33m)\u001b[0m\u001b[1;33m\u001b[0m\u001b[0m\n\u001b[0m\u001b[0;32m      2\u001b[0m \u001b[0mtrans\u001b[0m\u001b[1;33m.\u001b[0m\u001b[0mtext\u001b[0m\u001b[1;33m\u001b[0m\u001b[0m\n",
      "\u001b[1;32m~\\Anaconda3\\lib\\site-packages\\googletrans\\client.py\u001b[0m in \u001b[0;36mtranslate\u001b[1;34m(self, text, dest, src)\u001b[0m\n\u001b[0;32m    170\u001b[0m \u001b[1;33m\u001b[0m\u001b[0m\n\u001b[0;32m    171\u001b[0m         \u001b[0morigin\u001b[0m \u001b[1;33m=\u001b[0m \u001b[0mtext\u001b[0m\u001b[1;33m\u001b[0m\u001b[0m\n\u001b[1;32m--> 172\u001b[1;33m         \u001b[0mdata\u001b[0m \u001b[1;33m=\u001b[0m \u001b[0mself\u001b[0m\u001b[1;33m.\u001b[0m\u001b[0m_translate\u001b[0m\u001b[1;33m(\u001b[0m\u001b[0mtext\u001b[0m\u001b[1;33m,\u001b[0m \u001b[0mdest\u001b[0m\u001b[1;33m,\u001b[0m \u001b[0msrc\u001b[0m\u001b[1;33m)\u001b[0m\u001b[1;33m\u001b[0m\u001b[0m\n\u001b[0m\u001b[0;32m    173\u001b[0m \u001b[1;33m\u001b[0m\u001b[0m\n\u001b[0;32m    174\u001b[0m         \u001b[1;31m# this code will be updated when the format is changed.\u001b[0m\u001b[1;33m\u001b[0m\u001b[1;33m\u001b[0m\u001b[0m\n",
      "\u001b[1;32m~\\Anaconda3\\lib\\site-packages\\googletrans\\client.py\u001b[0m in \u001b[0;36m_translate\u001b[1;34m(self, text, dest, src)\u001b[0m\n\u001b[0;32m     79\u001b[0m         \u001b[0mr\u001b[0m \u001b[1;33m=\u001b[0m \u001b[0mself\u001b[0m\u001b[1;33m.\u001b[0m\u001b[0msession\u001b[0m\u001b[1;33m.\u001b[0m\u001b[0mget\u001b[0m\u001b[1;33m(\u001b[0m\u001b[0murl\u001b[0m\u001b[1;33m,\u001b[0m \u001b[0mparams\u001b[0m\u001b[1;33m=\u001b[0m\u001b[0mparams\u001b[0m\u001b[1;33m)\u001b[0m\u001b[1;33m\u001b[0m\u001b[0m\n\u001b[0;32m     80\u001b[0m \u001b[1;33m\u001b[0m\u001b[0m\n\u001b[1;32m---> 81\u001b[1;33m         \u001b[0mdata\u001b[0m \u001b[1;33m=\u001b[0m \u001b[0mutils\u001b[0m\u001b[1;33m.\u001b[0m\u001b[0mformat_json\u001b[0m\u001b[1;33m(\u001b[0m\u001b[0mr\u001b[0m\u001b[1;33m.\u001b[0m\u001b[0mtext\u001b[0m\u001b[1;33m)\u001b[0m\u001b[1;33m\u001b[0m\u001b[0m\n\u001b[0m\u001b[0;32m     82\u001b[0m         \u001b[1;32mreturn\u001b[0m \u001b[0mdata\u001b[0m\u001b[1;33m\u001b[0m\u001b[0m\n\u001b[0;32m     83\u001b[0m \u001b[1;33m\u001b[0m\u001b[0m\n",
      "\u001b[1;32m~\\Anaconda3\\lib\\site-packages\\googletrans\\utils.py\u001b[0m in \u001b[0;36mformat_json\u001b[1;34m(original)\u001b[0m\n\u001b[0;32m     60\u001b[0m         \u001b[0mconverted\u001b[0m \u001b[1;33m=\u001b[0m \u001b[0mjson\u001b[0m\u001b[1;33m.\u001b[0m\u001b[0mloads\u001b[0m\u001b[1;33m(\u001b[0m\u001b[0moriginal\u001b[0m\u001b[1;33m)\u001b[0m\u001b[1;33m\u001b[0m\u001b[0m\n\u001b[0;32m     61\u001b[0m     \u001b[1;32mexcept\u001b[0m \u001b[0mValueError\u001b[0m\u001b[1;33m:\u001b[0m\u001b[1;33m\u001b[0m\u001b[0m\n\u001b[1;32m---> 62\u001b[1;33m         \u001b[0mconverted\u001b[0m \u001b[1;33m=\u001b[0m \u001b[0mlegacy_format_json\u001b[0m\u001b[1;33m(\u001b[0m\u001b[0moriginal\u001b[0m\u001b[1;33m)\u001b[0m\u001b[1;33m\u001b[0m\u001b[0m\n\u001b[0m\u001b[0;32m     63\u001b[0m \u001b[1;33m\u001b[0m\u001b[0m\n\u001b[0;32m     64\u001b[0m     \u001b[1;32mreturn\u001b[0m \u001b[0mconverted\u001b[0m\u001b[1;33m\u001b[0m\u001b[0m\n",
      "\u001b[1;32m~\\Anaconda3\\lib\\site-packages\\googletrans\\utils.py\u001b[0m in \u001b[0;36mlegacy_format_json\u001b[1;34m(original)\u001b[0m\n\u001b[0;32m     52\u001b[0m             \u001b[0mtext\u001b[0m \u001b[1;33m=\u001b[0m \u001b[0mtext\u001b[0m\u001b[1;33m[\u001b[0m\u001b[1;33m:\u001b[0m\u001b[0mp\u001b[0m\u001b[1;33m]\u001b[0m \u001b[1;33m+\u001b[0m \u001b[0mstates\u001b[0m\u001b[1;33m[\u001b[0m\u001b[0mj\u001b[0m\u001b[1;33m]\u001b[0m\u001b[1;33m[\u001b[0m\u001b[1;36m1\u001b[0m\u001b[1;33m]\u001b[0m \u001b[1;33m+\u001b[0m \u001b[0mtext\u001b[0m\u001b[1;33m[\u001b[0m\u001b[0mnxt\u001b[0m\u001b[1;33m:\u001b[0m\u001b[1;33m]\u001b[0m\u001b[1;33m\u001b[0m\u001b[0m\n\u001b[0;32m     53\u001b[0m \u001b[1;33m\u001b[0m\u001b[0m\n\u001b[1;32m---> 54\u001b[1;33m     \u001b[0mconverted\u001b[0m \u001b[1;33m=\u001b[0m \u001b[0mjson\u001b[0m\u001b[1;33m.\u001b[0m\u001b[0mloads\u001b[0m\u001b[1;33m(\u001b[0m\u001b[0mtext\u001b[0m\u001b[1;33m)\u001b[0m\u001b[1;33m\u001b[0m\u001b[0m\n\u001b[0m\u001b[0;32m     55\u001b[0m     \u001b[1;32mreturn\u001b[0m \u001b[0mconverted\u001b[0m\u001b[1;33m\u001b[0m\u001b[0m\n\u001b[0;32m     56\u001b[0m \u001b[1;33m\u001b[0m\u001b[0m\n",
      "\u001b[1;32m~\\Anaconda3\\lib\\json\\__init__.py\u001b[0m in \u001b[0;36mloads\u001b[1;34m(s, encoding, cls, object_hook, parse_float, parse_int, parse_constant, object_pairs_hook, **kw)\u001b[0m\n\u001b[0;32m    352\u001b[0m             \u001b[0mparse_int\u001b[0m \u001b[1;32mis\u001b[0m \u001b[1;32mNone\u001b[0m \u001b[1;32mand\u001b[0m \u001b[0mparse_float\u001b[0m \u001b[1;32mis\u001b[0m \u001b[1;32mNone\u001b[0m \u001b[1;32mand\u001b[0m\u001b[1;33m\u001b[0m\u001b[0m\n\u001b[0;32m    353\u001b[0m             parse_constant is None and object_pairs_hook is None and not kw):\n\u001b[1;32m--> 354\u001b[1;33m         \u001b[1;32mreturn\u001b[0m \u001b[0m_default_decoder\u001b[0m\u001b[1;33m.\u001b[0m\u001b[0mdecode\u001b[0m\u001b[1;33m(\u001b[0m\u001b[0ms\u001b[0m\u001b[1;33m)\u001b[0m\u001b[1;33m\u001b[0m\u001b[0m\n\u001b[0m\u001b[0;32m    355\u001b[0m     \u001b[1;32mif\u001b[0m \u001b[0mcls\u001b[0m \u001b[1;32mis\u001b[0m \u001b[1;32mNone\u001b[0m\u001b[1;33m:\u001b[0m\u001b[1;33m\u001b[0m\u001b[0m\n\u001b[0;32m    356\u001b[0m         \u001b[0mcls\u001b[0m \u001b[1;33m=\u001b[0m \u001b[0mJSONDecoder\u001b[0m\u001b[1;33m\u001b[0m\u001b[0m\n",
      "\u001b[1;32m~\\Anaconda3\\lib\\json\\decoder.py\u001b[0m in \u001b[0;36mdecode\u001b[1;34m(self, s, _w)\u001b[0m\n\u001b[0;32m    337\u001b[0m \u001b[1;33m\u001b[0m\u001b[0m\n\u001b[0;32m    338\u001b[0m         \"\"\"\n\u001b[1;32m--> 339\u001b[1;33m         \u001b[0mobj\u001b[0m\u001b[1;33m,\u001b[0m \u001b[0mend\u001b[0m \u001b[1;33m=\u001b[0m \u001b[0mself\u001b[0m\u001b[1;33m.\u001b[0m\u001b[0mraw_decode\u001b[0m\u001b[1;33m(\u001b[0m\u001b[0ms\u001b[0m\u001b[1;33m,\u001b[0m \u001b[0midx\u001b[0m\u001b[1;33m=\u001b[0m\u001b[0m_w\u001b[0m\u001b[1;33m(\u001b[0m\u001b[0ms\u001b[0m\u001b[1;33m,\u001b[0m \u001b[1;36m0\u001b[0m\u001b[1;33m)\u001b[0m\u001b[1;33m.\u001b[0m\u001b[0mend\u001b[0m\u001b[1;33m(\u001b[0m\u001b[1;33m)\u001b[0m\u001b[1;33m)\u001b[0m\u001b[1;33m\u001b[0m\u001b[0m\n\u001b[0m\u001b[0;32m    340\u001b[0m         \u001b[0mend\u001b[0m \u001b[1;33m=\u001b[0m \u001b[0m_w\u001b[0m\u001b[1;33m(\u001b[0m\u001b[0ms\u001b[0m\u001b[1;33m,\u001b[0m \u001b[0mend\u001b[0m\u001b[1;33m)\u001b[0m\u001b[1;33m.\u001b[0m\u001b[0mend\u001b[0m\u001b[1;33m(\u001b[0m\u001b[1;33m)\u001b[0m\u001b[1;33m\u001b[0m\u001b[0m\n\u001b[0;32m    341\u001b[0m         \u001b[1;32mif\u001b[0m \u001b[0mend\u001b[0m \u001b[1;33m!=\u001b[0m \u001b[0mlen\u001b[0m\u001b[1;33m(\u001b[0m\u001b[0ms\u001b[0m\u001b[1;33m)\u001b[0m\u001b[1;33m:\u001b[0m\u001b[1;33m\u001b[0m\u001b[0m\n",
      "\u001b[1;32m~\\Anaconda3\\lib\\json\\decoder.py\u001b[0m in \u001b[0;36mraw_decode\u001b[1;34m(self, s, idx)\u001b[0m\n\u001b[0;32m    355\u001b[0m             \u001b[0mobj\u001b[0m\u001b[1;33m,\u001b[0m \u001b[0mend\u001b[0m \u001b[1;33m=\u001b[0m \u001b[0mself\u001b[0m\u001b[1;33m.\u001b[0m\u001b[0mscan_once\u001b[0m\u001b[1;33m(\u001b[0m\u001b[0ms\u001b[0m\u001b[1;33m,\u001b[0m \u001b[0midx\u001b[0m\u001b[1;33m)\u001b[0m\u001b[1;33m\u001b[0m\u001b[0m\n\u001b[0;32m    356\u001b[0m         \u001b[1;32mexcept\u001b[0m \u001b[0mStopIteration\u001b[0m \u001b[1;32mas\u001b[0m \u001b[0merr\u001b[0m\u001b[1;33m:\u001b[0m\u001b[1;33m\u001b[0m\u001b[0m\n\u001b[1;32m--> 357\u001b[1;33m             \u001b[1;32mraise\u001b[0m \u001b[0mJSONDecodeError\u001b[0m\u001b[1;33m(\u001b[0m\u001b[1;34m\"Expecting value\"\u001b[0m\u001b[1;33m,\u001b[0m \u001b[0ms\u001b[0m\u001b[1;33m,\u001b[0m \u001b[0merr\u001b[0m\u001b[1;33m.\u001b[0m\u001b[0mvalue\u001b[0m\u001b[1;33m)\u001b[0m \u001b[1;32mfrom\u001b[0m \u001b[1;32mNone\u001b[0m\u001b[1;33m\u001b[0m\u001b[0m\n\u001b[0m\u001b[0;32m    358\u001b[0m         \u001b[1;32mreturn\u001b[0m \u001b[0mobj\u001b[0m\u001b[1;33m,\u001b[0m \u001b[0mend\u001b[0m\u001b[1;33m\u001b[0m\u001b[0m\n",
      "\u001b[1;31mJSONDecodeError\u001b[0m: Expecting value: line 1 column 1 (char 0)"
     ]
    }
   ],
   "source": [
    "trans=translator.translate(text,dest='en',src='auto')\n",
    "trans.text"
   ]
  },
  {
   "cell_type": "code",
   "execution_count": 70,
   "metadata": {},
   "outputs": [
    {
     "data": {
      "text/plain": [
       "'@Thxpourleupelio @DryadisA @DarkFeudala normal because it is not considered a \"bug\"'"
      ]
     },
     "execution_count": 70,
     "metadata": {},
     "output_type": "execute_result"
    }
   ],
   "source": [
    "trans.text"
   ]
  },
  {
   "cell_type": "code",
   "execution_count": 79,
   "metadata": {},
   "outputs": [],
   "source": [
    "trans_text[1274]=trans.text"
   ]
  },
  {
   "cell_type": "code",
   "execution_count": 80,
   "metadata": {},
   "outputs": [
    {
     "data": {
      "text/plain": [
       "1409"
      ]
     },
     "execution_count": 80,
     "metadata": {},
     "output_type": "execute_result"
    }
   ],
   "source": [
    "len(trans_text)"
   ]
  },
  {
   "cell_type": "code",
   "execution_count": 63,
   "metadata": {},
   "outputs": [
    {
     "data": {
      "text/plain": [
       "1409"
      ]
     },
     "execution_count": 63,
     "metadata": {},
     "output_type": "execute_result"
    }
   ],
   "source": [
    "len(df)"
   ]
  },
  {
   "cell_type": "code",
   "execution_count": 87,
   "metadata": {},
   "outputs": [],
   "source": [
    "list_trans=[trans_text[i] for i in range(1409) ]"
   ]
  },
  {
   "cell_type": "code",
   "execution_count": 88,
   "metadata": {},
   "outputs": [],
   "source": [
    "df[\"trans_text\"]=list_trans"
   ]
  },
  {
   "cell_type": "code",
   "execution_count": 90,
   "metadata": {},
   "outputs": [
    {
     "data": {
      "text/html": [
       "<div>\n",
       "<style scoped>\n",
       "    .dataframe tbody tr th:only-of-type {\n",
       "        vertical-align: middle;\n",
       "    }\n",
       "\n",
       "    .dataframe tbody tr th {\n",
       "        vertical-align: top;\n",
       "    }\n",
       "\n",
       "    .dataframe thead th {\n",
       "        text-align: right;\n",
       "    }\n",
       "</style>\n",
       "<table border=\"1\" class=\"dataframe\">\n",
       "  <thead>\n",
       "    <tr style=\"text-align: right;\">\n",
       "      <th></th>\n",
       "      <th>id</th>\n",
       "      <th>longitude</th>\n",
       "      <th>latitude</th>\n",
       "      <th>place_country</th>\n",
       "      <th>place_full_name</th>\n",
       "      <th>text</th>\n",
       "      <th>user_id</th>\n",
       "      <th>user_name</th>\n",
       "      <th>user_followers</th>\n",
       "      <th>user_loc</th>\n",
       "      <th>lang</th>\n",
       "      <th>created_at</th>\n",
       "      <th>trans_text</th>\n",
       "    </tr>\n",
       "  </thead>\n",
       "  <tbody>\n",
       "    <tr>\n",
       "      <th>0</th>\n",
       "      <td>1003504559875153921</td>\n",
       "      <td>9.046206</td>\n",
       "      <td>41.520942</td>\n",
       "      <td>France</td>\n",
       "      <td>Pianottoli-Caldarello, France</td>\n",
       "      <td>Tout ça semble tellement simple... mais ça ne ...</td>\n",
       "      <td>1630482236</td>\n",
       "      <td>patrice salini</td>\n",
       "      <td>915</td>\n",
       "      <td>pianottoli caldarello</td>\n",
       "      <td>fr</td>\n",
       "      <td>2018-06-04 05:11:45</td>\n",
       "      <td>It all sounds so simple ... but it's not easy!...</td>\n",
       "    </tr>\n",
       "    <tr>\n",
       "      <th>1</th>\n",
       "      <td>1003545074322591744</td>\n",
       "      <td>1.582971</td>\n",
       "      <td>48.965238</td>\n",
       "      <td>France</td>\n",
       "      <td>Boissy-Mauvoisin, France</td>\n",
       "      <td>La définition littérale d’un bug https://t.co/...</td>\n",
       "      <td>34577688</td>\n",
       "      <td>Pierre Dandumont</td>\n",
       "      <td>3651</td>\n",
       "      <td>Dans ma campagne.</td>\n",
       "      <td>fr</td>\n",
       "      <td>2018-06-04 07:52:45</td>\n",
       "      <td>The literal definition of a bug https://t.co/d...</td>\n",
       "    </tr>\n",
       "    <tr>\n",
       "      <th>2</th>\n",
       "      <td>1003547782718939136</td>\n",
       "      <td>2.347003</td>\n",
       "      <td>48.858834</td>\n",
       "      <td>France</td>\n",
       "      <td>Paris, France</td>\n",
       "      <td>@pipedrive Hello, we are a paid customer (@mad...</td>\n",
       "      <td>1264922016</td>\n",
       "      <td>Youssef Rahoui</td>\n",
       "      <td>664</td>\n",
       "      <td>Paris</td>\n",
       "      <td>en</td>\n",
       "      <td>2018-06-04 08:03:31</td>\n",
       "      <td>@pipedrive Hello, we are a paid customer (@mad...</td>\n",
       "    </tr>\n",
       "    <tr>\n",
       "      <th>3</th>\n",
       "      <td>1003548448514347009</td>\n",
       "      <td>2.347003</td>\n",
       "      <td>48.858834</td>\n",
       "      <td>France</td>\n",
       "      <td>Paris, France</td>\n",
       "      <td>Je plussoie ++ #vegetalisonsparis https://t.co...</td>\n",
       "      <td>1095432156</td>\n",
       "      <td>Agathe Lélu</td>\n",
       "      <td>962</td>\n",
       "      <td>Paris</td>\n",
       "      <td>fr</td>\n",
       "      <td>2018-06-04 08:06:09</td>\n",
       "      <td>I more than +++vegetalisonsparis https://t.co/...</td>\n",
       "    </tr>\n",
       "    <tr>\n",
       "      <th>4</th>\n",
       "      <td>1003555075699200000</td>\n",
       "      <td>2.347003</td>\n",
       "      <td>48.858834</td>\n",
       "      <td>France</td>\n",
       "      <td>Paris, France</td>\n",
       "      <td>@jlmoudenc un exemple à prendre pour #Toulouse...</td>\n",
       "      <td>811609616408870912</td>\n",
       "      <td>Kiricus</td>\n",
       "      <td>44</td>\n",
       "      <td>Toulouse, France</td>\n",
       "      <td>fr</td>\n",
       "      <td>2018-06-04 08:32:29</td>\n",
       "      <td>@jlmoudenc an example to take for #Toulouse! w...</td>\n",
       "    </tr>\n",
       "    <tr>\n",
       "      <th>5</th>\n",
       "      <td>1003582954491334657</td>\n",
       "      <td>2.347003</td>\n",
       "      <td>48.858834</td>\n",
       "      <td>France</td>\n",
       "      <td>Paris, France</td>\n",
       "      <td>Or she just hasn't found the right person and ...</td>\n",
       "      <td>419805802</td>\n",
       "      <td>ALRII</td>\n",
       "      <td>641</td>\n",
       "      <td>London</td>\n",
       "      <td>en</td>\n",
       "      <td>2018-06-04 10:23:16</td>\n",
       "      <td>Or she just hasn't found the right person and ...</td>\n",
       "    </tr>\n",
       "    <tr>\n",
       "      <th>6</th>\n",
       "      <td>1003599476341305350</td>\n",
       "      <td>2.332870</td>\n",
       "      <td>48.911783</td>\n",
       "      <td>France</td>\n",
       "      <td>Saint-Ouen, France</td>\n",
       "      <td>#SEDD JB Renard chercheur au @CNRS fait l'inve...</td>\n",
       "      <td>404175902</td>\n",
       "      <td>M-Christine Lanne</td>\n",
       "      <td>16498</td>\n",
       "      <td>France</td>\n",
       "      <td>fr</td>\n",
       "      <td>2018-06-04 11:28:55</td>\n",
       "      <td>#SEDD JB Renard researcher at @CNRS makes an i...</td>\n",
       "    </tr>\n",
       "    <tr>\n",
       "      <th>7</th>\n",
       "      <td>1003601298397237248</td>\n",
       "      <td>2.445818</td>\n",
       "      <td>48.910630</td>\n",
       "      <td>France</td>\n",
       "      <td>Seine-Saint-Denis, Ile-de-France</td>\n",
       "      <td>#SEDD Jean Baptiste #RENARD Chercheur au @CNRS...</td>\n",
       "      <td>92739201</td>\n",
       "      <td>François GARREAU</td>\n",
       "      <td>13106</td>\n",
       "      <td>PARIS 15</td>\n",
       "      <td>fr</td>\n",
       "      <td>2018-06-04 11:36:10</td>\n",
       "      <td>#SEDD Jean Baptiste #RENARD Researcher at @CNR...</td>\n",
       "    </tr>\n",
       "    <tr>\n",
       "      <th>8</th>\n",
       "      <td>1003602974533455872</td>\n",
       "      <td>2.332870</td>\n",
       "      <td>48.911783</td>\n",
       "      <td>France</td>\n",
       "      <td>Saint-Ouen, France</td>\n",
       "      <td>#SEDD Pierre Souvet @Dr_ASEF explique qu'à #To...</td>\n",
       "      <td>404175902</td>\n",
       "      <td>M-Christine Lanne</td>\n",
       "      <td>16497</td>\n",
       "      <td>France</td>\n",
       "      <td>fr</td>\n",
       "      <td>2018-06-04 11:42:49</td>\n",
       "      <td>#SEDD Pierre Souvet @Dr_ASEF explains that at ...</td>\n",
       "    </tr>\n",
       "    <tr>\n",
       "      <th>9</th>\n",
       "      <td>1003605377966133249</td>\n",
       "      <td>3.874268</td>\n",
       "      <td>43.610396</td>\n",
       "      <td>France</td>\n",
       "      <td>Montpellier, France</td>\n",
       "      <td>sınırdışı edilen iranlılara çok üzüldüm bugünü...</td>\n",
       "      <td>129581318</td>\n",
       "      <td>gestapo gündeş</td>\n",
       "      <td>5896</td>\n",
       "      <td>Montpellier, France</td>\n",
       "      <td>tr</td>\n",
       "      <td>2018-06-04 11:52:22</td>\n",
       "      <td>I am very sorry that the deportees are not dep...</td>\n",
       "    </tr>\n",
       "  </tbody>\n",
       "</table>\n",
       "</div>"
      ],
      "text/plain": [
       "                    id  longitude   latitude place_country  \\\n",
       "0  1003504559875153921   9.046206  41.520942        France   \n",
       "1  1003545074322591744   1.582971  48.965238        France   \n",
       "2  1003547782718939136   2.347003  48.858834        France   \n",
       "3  1003548448514347009   2.347003  48.858834        France   \n",
       "4  1003555075699200000   2.347003  48.858834        France   \n",
       "5  1003582954491334657   2.347003  48.858834        France   \n",
       "6  1003599476341305350   2.332870  48.911783        France   \n",
       "7  1003601298397237248   2.445818  48.910630        France   \n",
       "8  1003602974533455872   2.332870  48.911783        France   \n",
       "9  1003605377966133249   3.874268  43.610396        France   \n",
       "\n",
       "                    place_full_name  \\\n",
       "0     Pianottoli-Caldarello, France   \n",
       "1          Boissy-Mauvoisin, France   \n",
       "2                     Paris, France   \n",
       "3                     Paris, France   \n",
       "4                     Paris, France   \n",
       "5                     Paris, France   \n",
       "6                Saint-Ouen, France   \n",
       "7  Seine-Saint-Denis, Ile-de-France   \n",
       "8                Saint-Ouen, France   \n",
       "9               Montpellier, France   \n",
       "\n",
       "                                                text             user_id  \\\n",
       "0  Tout ça semble tellement simple... mais ça ne ...          1630482236   \n",
       "1  La définition littérale d’un bug https://t.co/...            34577688   \n",
       "2  @pipedrive Hello, we are a paid customer (@mad...          1264922016   \n",
       "3  Je plussoie ++ #vegetalisonsparis https://t.co...          1095432156   \n",
       "4  @jlmoudenc un exemple à prendre pour #Toulouse...  811609616408870912   \n",
       "5  Or she just hasn't found the right person and ...           419805802   \n",
       "6  #SEDD JB Renard chercheur au @CNRS fait l'inve...           404175902   \n",
       "7  #SEDD Jean Baptiste #RENARD Chercheur au @CNRS...            92739201   \n",
       "8  #SEDD Pierre Souvet @Dr_ASEF explique qu'à #To...           404175902   \n",
       "9  sınırdışı edilen iranlılara çok üzüldüm bugünü...           129581318   \n",
       "\n",
       "           user_name  user_followers               user_loc lang  \\\n",
       "0     patrice salini             915  pianottoli caldarello   fr   \n",
       "1   Pierre Dandumont            3651      Dans ma campagne.   fr   \n",
       "2     Youssef Rahoui             664                  Paris   en   \n",
       "3        Agathe Lélu             962                  Paris   fr   \n",
       "4            Kiricus              44       Toulouse, France   fr   \n",
       "5              ALRII             641                 London   en   \n",
       "6  M-Christine Lanne           16498                 France   fr   \n",
       "7   François GARREAU           13106               PARIS 15   fr   \n",
       "8  M-Christine Lanne           16497                 France   fr   \n",
       "9     gestapo gündeş            5896    Montpellier, France   tr   \n",
       "\n",
       "            created_at                                         trans_text  \n",
       "0  2018-06-04 05:11:45  It all sounds so simple ... but it's not easy!...  \n",
       "1  2018-06-04 07:52:45  The literal definition of a bug https://t.co/d...  \n",
       "2  2018-06-04 08:03:31  @pipedrive Hello, we are a paid customer (@mad...  \n",
       "3  2018-06-04 08:06:09  I more than +++vegetalisonsparis https://t.co/...  \n",
       "4  2018-06-04 08:32:29  @jlmoudenc an example to take for #Toulouse! w...  \n",
       "5  2018-06-04 10:23:16  Or she just hasn't found the right person and ...  \n",
       "6  2018-06-04 11:28:55  #SEDD JB Renard researcher at @CNRS makes an i...  \n",
       "7  2018-06-04 11:36:10  #SEDD Jean Baptiste #RENARD Researcher at @CNR...  \n",
       "8  2018-06-04 11:42:49  #SEDD Pierre Souvet @Dr_ASEF explains that at ...  \n",
       "9  2018-06-04 11:52:22  I am very sorry that the deportees are not dep...  "
      ]
     },
     "execution_count": 90,
     "metadata": {},
     "output_type": "execute_result"
    }
   ],
   "source": [
    "df_english=df\n",
    "df_english.head(10)"
   ]
  },
  {
   "cell_type": "code",
   "execution_count": 91,
   "metadata": {},
   "outputs": [],
   "source": [
    "sentences = list(df_english['trans_text'])"
   ]
  },
  {
   "cell_type": "code",
   "execution_count": 92,
   "metadata": {},
   "outputs": [],
   "source": [
    "neg = list()\n",
    "neu = list()\n",
    "pos = list()\n",
    "compound = list()\n",
    "analyzer = SentimentIntensityAnalyzer()\n",
    "for sentence in sentences:\n",
    "    vs = analyzer.polarity_scores(sentence)\n",
    "    neg.append(vs['neg'])\n",
    "    neu.append(vs['neu'])\n",
    "    pos.append(vs['pos'])\n",
    "    compound.append(vs['compound'])"
   ]
  },
  {
   "cell_type": "code",
   "execution_count": 93,
   "metadata": {},
   "outputs": [],
   "source": [
    "df_english['neg'] = neg\n",
    "df_english['neu'] = neu\n",
    "df_english['pos'] = pos\n",
    "df_english['compound'] = compound"
   ]
  },
  {
   "cell_type": "code",
   "execution_count": 94,
   "metadata": {},
   "outputs": [
    {
     "data": {
      "text/html": [
       "<div>\n",
       "<style scoped>\n",
       "    .dataframe tbody tr th:only-of-type {\n",
       "        vertical-align: middle;\n",
       "    }\n",
       "\n",
       "    .dataframe tbody tr th {\n",
       "        vertical-align: top;\n",
       "    }\n",
       "\n",
       "    .dataframe thead th {\n",
       "        text-align: right;\n",
       "    }\n",
       "</style>\n",
       "<table border=\"1\" class=\"dataframe\">\n",
       "  <thead>\n",
       "    <tr style=\"text-align: right;\">\n",
       "      <th></th>\n",
       "      <th>id</th>\n",
       "      <th>longitude</th>\n",
       "      <th>latitude</th>\n",
       "      <th>place_country</th>\n",
       "      <th>place_full_name</th>\n",
       "      <th>text</th>\n",
       "      <th>user_id</th>\n",
       "      <th>user_name</th>\n",
       "      <th>user_followers</th>\n",
       "      <th>user_loc</th>\n",
       "      <th>lang</th>\n",
       "      <th>created_at</th>\n",
       "      <th>trans_text</th>\n",
       "      <th>neg</th>\n",
       "      <th>neu</th>\n",
       "      <th>pos</th>\n",
       "      <th>compound</th>\n",
       "    </tr>\n",
       "  </thead>\n",
       "  <tbody>\n",
       "    <tr>\n",
       "      <th>0</th>\n",
       "      <td>1003504559875153921</td>\n",
       "      <td>9.046206</td>\n",
       "      <td>41.520942</td>\n",
       "      <td>France</td>\n",
       "      <td>Pianottoli-Caldarello, France</td>\n",
       "      <td>Tout ça semble tellement simple... mais ça ne ...</td>\n",
       "      <td>1630482236</td>\n",
       "      <td>patrice salini</td>\n",
       "      <td>915</td>\n",
       "      <td>pianottoli caldarello</td>\n",
       "      <td>fr</td>\n",
       "      <td>2018-06-04 05:11:45</td>\n",
       "      <td>It all sounds so simple ... but it's not easy!...</td>\n",
       "      <td>0.254</td>\n",
       "      <td>0.746</td>\n",
       "      <td>0.000</td>\n",
       "      <td>-0.5269</td>\n",
       "    </tr>\n",
       "    <tr>\n",
       "      <th>1</th>\n",
       "      <td>1003545074322591744</td>\n",
       "      <td>1.582971</td>\n",
       "      <td>48.965238</td>\n",
       "      <td>France</td>\n",
       "      <td>Boissy-Mauvoisin, France</td>\n",
       "      <td>La définition littérale d’un bug https://t.co/...</td>\n",
       "      <td>34577688</td>\n",
       "      <td>Pierre Dandumont</td>\n",
       "      <td>3651</td>\n",
       "      <td>Dans ma campagne.</td>\n",
       "      <td>fr</td>\n",
       "      <td>2018-06-04 07:52:45</td>\n",
       "      <td>The literal definition of a bug https://t.co/d...</td>\n",
       "      <td>0.000</td>\n",
       "      <td>1.000</td>\n",
       "      <td>0.000</td>\n",
       "      <td>0.0000</td>\n",
       "    </tr>\n",
       "    <tr>\n",
       "      <th>2</th>\n",
       "      <td>1003547782718939136</td>\n",
       "      <td>2.347003</td>\n",
       "      <td>48.858834</td>\n",
       "      <td>France</td>\n",
       "      <td>Paris, France</td>\n",
       "      <td>@pipedrive Hello, we are a paid customer (@mad...</td>\n",
       "      <td>1264922016</td>\n",
       "      <td>Youssef Rahoui</td>\n",
       "      <td>664</td>\n",
       "      <td>Paris</td>\n",
       "      <td>en</td>\n",
       "      <td>2018-06-04 08:03:31</td>\n",
       "      <td>@pipedrive Hello, we are a paid customer (@mad...</td>\n",
       "      <td>0.128</td>\n",
       "      <td>0.799</td>\n",
       "      <td>0.074</td>\n",
       "      <td>-0.4003</td>\n",
       "    </tr>\n",
       "    <tr>\n",
       "      <th>3</th>\n",
       "      <td>1003548448514347009</td>\n",
       "      <td>2.347003</td>\n",
       "      <td>48.858834</td>\n",
       "      <td>France</td>\n",
       "      <td>Paris, France</td>\n",
       "      <td>Je plussoie ++ #vegetalisonsparis https://t.co...</td>\n",
       "      <td>1095432156</td>\n",
       "      <td>Agathe Lélu</td>\n",
       "      <td>962</td>\n",
       "      <td>Paris</td>\n",
       "      <td>fr</td>\n",
       "      <td>2018-06-04 08:06:09</td>\n",
       "      <td>I more than +++vegetalisonsparis https://t.co/...</td>\n",
       "      <td>0.000</td>\n",
       "      <td>1.000</td>\n",
       "      <td>0.000</td>\n",
       "      <td>0.0000</td>\n",
       "    </tr>\n",
       "    <tr>\n",
       "      <th>4</th>\n",
       "      <td>1003555075699200000</td>\n",
       "      <td>2.347003</td>\n",
       "      <td>48.858834</td>\n",
       "      <td>France</td>\n",
       "      <td>Paris, France</td>\n",
       "      <td>@jlmoudenc un exemple à prendre pour #Toulouse...</td>\n",
       "      <td>811609616408870912</td>\n",
       "      <td>Kiricus</td>\n",
       "      <td>44</td>\n",
       "      <td>Toulouse, France</td>\n",
       "      <td>fr</td>\n",
       "      <td>2018-06-04 08:32:29</td>\n",
       "      <td>@jlmoudenc an example to take for #Toulouse! w...</td>\n",
       "      <td>0.052</td>\n",
       "      <td>0.808</td>\n",
       "      <td>0.140</td>\n",
       "      <td>0.5684</td>\n",
       "    </tr>\n",
       "    <tr>\n",
       "      <th>5</th>\n",
       "      <td>1003582954491334657</td>\n",
       "      <td>2.347003</td>\n",
       "      <td>48.858834</td>\n",
       "      <td>France</td>\n",
       "      <td>Paris, France</td>\n",
       "      <td>Or she just hasn't found the right person and ...</td>\n",
       "      <td>419805802</td>\n",
       "      <td>ALRII</td>\n",
       "      <td>641</td>\n",
       "      <td>London</td>\n",
       "      <td>en</td>\n",
       "      <td>2018-06-04 10:23:16</td>\n",
       "      <td>Or she just hasn't found the right person and ...</td>\n",
       "      <td>0.000</td>\n",
       "      <td>1.000</td>\n",
       "      <td>0.000</td>\n",
       "      <td>0.0000</td>\n",
       "    </tr>\n",
       "    <tr>\n",
       "      <th>6</th>\n",
       "      <td>1003599476341305350</td>\n",
       "      <td>2.332870</td>\n",
       "      <td>48.911783</td>\n",
       "      <td>France</td>\n",
       "      <td>Saint-Ouen, France</td>\n",
       "      <td>#SEDD JB Renard chercheur au @CNRS fait l'inve...</td>\n",
       "      <td>404175902</td>\n",
       "      <td>M-Christine Lanne</td>\n",
       "      <td>16498</td>\n",
       "      <td>France</td>\n",
       "      <td>fr</td>\n",
       "      <td>2018-06-04 11:28:55</td>\n",
       "      <td>#SEDD JB Renard researcher at @CNRS makes an i...</td>\n",
       "      <td>0.000</td>\n",
       "      <td>1.000</td>\n",
       "      <td>0.000</td>\n",
       "      <td>0.0000</td>\n",
       "    </tr>\n",
       "    <tr>\n",
       "      <th>7</th>\n",
       "      <td>1003601298397237248</td>\n",
       "      <td>2.445818</td>\n",
       "      <td>48.910630</td>\n",
       "      <td>France</td>\n",
       "      <td>Seine-Saint-Denis, Ile-de-France</td>\n",
       "      <td>#SEDD Jean Baptiste #RENARD Chercheur au @CNRS...</td>\n",
       "      <td>92739201</td>\n",
       "      <td>François GARREAU</td>\n",
       "      <td>13106</td>\n",
       "      <td>PARIS 15</td>\n",
       "      <td>fr</td>\n",
       "      <td>2018-06-04 11:36:10</td>\n",
       "      <td>#SEDD Jean Baptiste #RENARD Researcher at @CNR...</td>\n",
       "      <td>0.058</td>\n",
       "      <td>0.846</td>\n",
       "      <td>0.096</td>\n",
       "      <td>0.2500</td>\n",
       "    </tr>\n",
       "    <tr>\n",
       "      <th>8</th>\n",
       "      <td>1003602974533455872</td>\n",
       "      <td>2.332870</td>\n",
       "      <td>48.911783</td>\n",
       "      <td>France</td>\n",
       "      <td>Saint-Ouen, France</td>\n",
       "      <td>#SEDD Pierre Souvet @Dr_ASEF explique qu'à #To...</td>\n",
       "      <td>404175902</td>\n",
       "      <td>M-Christine Lanne</td>\n",
       "      <td>16497</td>\n",
       "      <td>France</td>\n",
       "      <td>fr</td>\n",
       "      <td>2018-06-04 11:42:49</td>\n",
       "      <td>#SEDD Pierre Souvet @Dr_ASEF explains that at ...</td>\n",
       "      <td>0.000</td>\n",
       "      <td>1.000</td>\n",
       "      <td>0.000</td>\n",
       "      <td>0.0000</td>\n",
       "    </tr>\n",
       "    <tr>\n",
       "      <th>9</th>\n",
       "      <td>1003605377966133249</td>\n",
       "      <td>3.874268</td>\n",
       "      <td>43.610396</td>\n",
       "      <td>France</td>\n",
       "      <td>Montpellier, France</td>\n",
       "      <td>sınırdışı edilen iranlılara çok üzüldüm bugünü...</td>\n",
       "      <td>129581318</td>\n",
       "      <td>gestapo gündeş</td>\n",
       "      <td>5896</td>\n",
       "      <td>Montpellier, France</td>\n",
       "      <td>tr</td>\n",
       "      <td>2018-06-04 11:52:22</td>\n",
       "      <td>I am very sorry that the deportees are not dep...</td>\n",
       "      <td>0.182</td>\n",
       "      <td>0.718</td>\n",
       "      <td>0.101</td>\n",
       "      <td>-0.1761</td>\n",
       "    </tr>\n",
       "  </tbody>\n",
       "</table>\n",
       "</div>"
      ],
      "text/plain": [
       "                    id  longitude   latitude place_country  \\\n",
       "0  1003504559875153921   9.046206  41.520942        France   \n",
       "1  1003545074322591744   1.582971  48.965238        France   \n",
       "2  1003547782718939136   2.347003  48.858834        France   \n",
       "3  1003548448514347009   2.347003  48.858834        France   \n",
       "4  1003555075699200000   2.347003  48.858834        France   \n",
       "5  1003582954491334657   2.347003  48.858834        France   \n",
       "6  1003599476341305350   2.332870  48.911783        France   \n",
       "7  1003601298397237248   2.445818  48.910630        France   \n",
       "8  1003602974533455872   2.332870  48.911783        France   \n",
       "9  1003605377966133249   3.874268  43.610396        France   \n",
       "\n",
       "                    place_full_name  \\\n",
       "0     Pianottoli-Caldarello, France   \n",
       "1          Boissy-Mauvoisin, France   \n",
       "2                     Paris, France   \n",
       "3                     Paris, France   \n",
       "4                     Paris, France   \n",
       "5                     Paris, France   \n",
       "6                Saint-Ouen, France   \n",
       "7  Seine-Saint-Denis, Ile-de-France   \n",
       "8                Saint-Ouen, France   \n",
       "9               Montpellier, France   \n",
       "\n",
       "                                                text             user_id  \\\n",
       "0  Tout ça semble tellement simple... mais ça ne ...          1630482236   \n",
       "1  La définition littérale d’un bug https://t.co/...            34577688   \n",
       "2  @pipedrive Hello, we are a paid customer (@mad...          1264922016   \n",
       "3  Je plussoie ++ #vegetalisonsparis https://t.co...          1095432156   \n",
       "4  @jlmoudenc un exemple à prendre pour #Toulouse...  811609616408870912   \n",
       "5  Or she just hasn't found the right person and ...           419805802   \n",
       "6  #SEDD JB Renard chercheur au @CNRS fait l'inve...           404175902   \n",
       "7  #SEDD Jean Baptiste #RENARD Chercheur au @CNRS...            92739201   \n",
       "8  #SEDD Pierre Souvet @Dr_ASEF explique qu'à #To...           404175902   \n",
       "9  sınırdışı edilen iranlılara çok üzüldüm bugünü...           129581318   \n",
       "\n",
       "           user_name  user_followers               user_loc lang  \\\n",
       "0     patrice salini             915  pianottoli caldarello   fr   \n",
       "1   Pierre Dandumont            3651      Dans ma campagne.   fr   \n",
       "2     Youssef Rahoui             664                  Paris   en   \n",
       "3        Agathe Lélu             962                  Paris   fr   \n",
       "4            Kiricus              44       Toulouse, France   fr   \n",
       "5              ALRII             641                 London   en   \n",
       "6  M-Christine Lanne           16498                 France   fr   \n",
       "7   François GARREAU           13106               PARIS 15   fr   \n",
       "8  M-Christine Lanne           16497                 France   fr   \n",
       "9     gestapo gündeş            5896    Montpellier, France   tr   \n",
       "\n",
       "            created_at                                         trans_text  \\\n",
       "0  2018-06-04 05:11:45  It all sounds so simple ... but it's not easy!...   \n",
       "1  2018-06-04 07:52:45  The literal definition of a bug https://t.co/d...   \n",
       "2  2018-06-04 08:03:31  @pipedrive Hello, we are a paid customer (@mad...   \n",
       "3  2018-06-04 08:06:09  I more than +++vegetalisonsparis https://t.co/...   \n",
       "4  2018-06-04 08:32:29  @jlmoudenc an example to take for #Toulouse! w...   \n",
       "5  2018-06-04 10:23:16  Or she just hasn't found the right person and ...   \n",
       "6  2018-06-04 11:28:55  #SEDD JB Renard researcher at @CNRS makes an i...   \n",
       "7  2018-06-04 11:36:10  #SEDD Jean Baptiste #RENARD Researcher at @CNR...   \n",
       "8  2018-06-04 11:42:49  #SEDD Pierre Souvet @Dr_ASEF explains that at ...   \n",
       "9  2018-06-04 11:52:22  I am very sorry that the deportees are not dep...   \n",
       "\n",
       "     neg    neu    pos  compound  \n",
       "0  0.254  0.746  0.000   -0.5269  \n",
       "1  0.000  1.000  0.000    0.0000  \n",
       "2  0.128  0.799  0.074   -0.4003  \n",
       "3  0.000  1.000  0.000    0.0000  \n",
       "4  0.052  0.808  0.140    0.5684  \n",
       "5  0.000  1.000  0.000    0.0000  \n",
       "6  0.000  1.000  0.000    0.0000  \n",
       "7  0.058  0.846  0.096    0.2500  \n",
       "8  0.000  1.000  0.000    0.0000  \n",
       "9  0.182  0.718  0.101   -0.1761  "
      ]
     },
     "execution_count": 94,
     "metadata": {},
     "output_type": "execute_result"
    }
   ],
   "source": [
    "df_english.head(10)"
   ]
  },
  {
   "cell_type": "code",
   "execution_count": 95,
   "metadata": {},
   "outputs": [],
   "source": [
    "df_english.to_csv('../output/france_with_vadersentiment_pop.csv',encoding=\"utf-8\")"
   ]
  },
  {
   "cell_type": "code",
   "execution_count": 96,
   "metadata": {},
   "outputs": [
    {
     "data": {
      "image/png": "[encoded data removed]",
      "text/plain": [
       "<Figure size 432x288 with 1 Axes>"
      ]
     },
     "metadata": {},
     "output_type": "display_data"
    }
   ],
   "source": [
    "plt.hist(df_english['compound'],bins=50)\n",
    "plt.show()"
   ]
  }
 ],
 "metadata": {
  "kernelspec": {
   "display_name": "Python 3",
   "language": "python",
   "name": "python3"
  },
  "language_info": {
   "codemirror_mode": {
    "name": "ipython",
    "version": 3
   },
   "file_extension": ".py",
   "mimetype": "text/x-python",
   "name": "python",
   "nbconvert_exporter": "python",
   "pygments_lexer": "ipython3",
   "version": "3.6.4"
  }
 },
 "nbformat": 4,
 "nbformat_minor": 2
}
