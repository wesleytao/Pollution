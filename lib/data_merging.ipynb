{
 "cells": [
  {
   "cell_type": "code",
   "execution_count": 105,
   "metadata": {},
   "outputs": [],
   "source": [
    "import pickle\n",
    "import pandas as pd\n",
    "from glob import glob\n",
    "from pandas import Index\n",
    "import sys\n",
    "sys._enablelegacywindowsfsencoding()\n",
    "from datetime import datetime\n",
    "import numpy as np\n",
    "import matplotlib.pyplot as plt"
   ]
  },
  {
   "cell_type": "code",
   "execution_count": 99,
   "metadata": {
    "collapsed": true
   },
   "outputs": [],
   "source": [
    "def signal_process(table,event_var='PM25_Marseille_Longchamp',event_threshold = 40, duration = 6,var_name_list='air pollution'):\n",
    "    \"\"\"Find the spike in pm25 and plot a sliding window for google trend \"\"\"\n",
    "\n",
    "    index_list=np.where(table[event_var]>event_threshold)[0]\n",
    "    \n",
    "    # add first element\n",
    "    shrink_index_list = [index_list[0]]\n",
    "    date_set ={table.date[index_list[0]]}\n",
    "    \n",
    "    # exclude for the same day\n",
    "    for cnt in range(1,len(index_list)):\n",
    "        if table.date[index_list[cnt]] in date_set:\n",
    "            pass\n",
    "        else:\n",
    "            shrink_index_list.append(index_list[cnt].copy())\n",
    "            date_set.add(table.date[index_list[cnt]])\n",
    "    \n",
    "    bind_list = []\n",
    "    for start_index in shrink_index_list:\n",
    "        this_sequence = table.loc[range(start_index-2,start_index+duration),\n",
    "                                  var_name_list]\n",
    "        start_date = table.date[start_index]\n",
    "        tuples = list(zip([start_date]*(duration+2),range(-2,duration)))\n",
    "\n",
    "        this_sequence.index = pd.MultiIndex.from_tuples(tuples,names=['event_date_index','hour_index'])\n",
    "    #         this_sequence = (this_sequence- this_sequence.mean())/this_sequence.std()\n",
    "\n",
    "        bind_list.append(this_sequence)\n",
    "    new_table=pd.concat(bind_list)     \n",
    "    \n",
    "    return new_table"
   ]
  },
  {
   "cell_type": "code",
   "execution_count": 48,
   "metadata": {
    "collapsed": true
   },
   "outputs": [],
   "source": [
    "def get_table(path=\"..\\\\stage\\\\FR-J\\\\*\"):\n",
    "    df_list =[]\n",
    "    for filepath in glob(path):\n",
    "        with open(filepath,'br') as f:\n",
    "            this_df = pickle.load(f).reset_index()\n",
    "            col_name = list(this_df.columns)\n",
    "            col_name[2]=col_name[1]+\"_topic\"\n",
    "            this_df.columns =Index(col_name,dtype='object')\n",
    "            df_list.append(this_df)\n",
    "    merged_t = df_list[0]\n",
    "    for i in range(1,len(df_list)):\n",
    "        merged_t=merged_t.merge(df_list[i],how='outer',on='date')\n",
    "    return merged_t"
   ]
  },
  {
   "cell_type": "code",
   "execution_count": 65,
   "metadata": {},
   "outputs": [
    {
     "data": {
      "text/plain": [
       "0   2017-08-31 00:00:00\n",
       "1   2017-08-31 01:00:00\n",
       "2   2017-08-31 02:00:00\n",
       "3   2017-08-31 03:00:00\n",
       "4   2017-08-31 04:00:00\n",
       "Name: date, dtype: datetime64[ns]"
      ]
     },
     "execution_count": 65,
     "metadata": {},
     "output_type": "execute_result"
    }
   ],
   "source": [
    "get_table(path='..\\\\stage\\\\FR-U\\\\*').head().date"
   ]
  },
  {
   "cell_type": "code",
   "execution_count": 63,
   "metadata": {},
   "outputs": [],
   "source": [
    "parca=pd.read_csv('../stage/difficultés respiratoires_asthme_dyspnée_respiration_PM25_Marseille_Longchamp.csv')"
   ]
  },
  {
   "cell_type": "code",
   "execution_count": 71,
   "metadata": {},
   "outputs": [],
   "source": [
    "parca['date']=parca.date.apply(lambda string: datetime.strptime(string,'%Y-%m-%d %H:%M:%S') )"
   ]
  },
  {
   "cell_type": "code",
   "execution_count": 73,
   "metadata": {},
   "outputs": [],
   "source": [
    "parca_merged=parca.merge(get_table(path='..\\\\stage\\\\FR-U\\\\*'),on='date')"
   ]
  },
  {
   "cell_type": "code",
   "execution_count": null,
   "metadata": {
    "collapsed": true
   },
   "outputs": [],
   "source": [
    "parca_merged=parca_merged.drop(columns=['Unnamed: 0','datetime','isPartial_x','isPartial_x','isPartial_y'])"
   ]
  },
  {
   "cell_type": "code",
   "execution_count": 95,
   "metadata": {},
   "outputs": [],
   "source": [
    "parca_merged.columns=Index(['PM25_Marseille_Longchamp', 'date', 'difficultés respiratoires',\n",
    "       'asthme', 'dyspnée', 'respiration', 'banane', 'banane_topic',\n",
    "       'la diarrhée', 'la diarrhée_topic', 'pollution de l’air',\n",
    "       'pollution de l’air_topic'],\n",
    "      dtype='object')"
   ]
  },
  {
   "cell_type": "code",
   "execution_count": 96,
   "metadata": {},
   "outputs": [],
   "source": [
    "my_list =list(parca_merged.columns)\n",
    "my_list.remove('date')"
   ]
  },
  {
   "cell_type": "code",
   "execution_count": 97,
   "metadata": {},
   "outputs": [
    {
     "data": {
      "text/plain": [
       "['PM25_Marseille_Longchamp',\n",
       " 'difficultés respiratoires',\n",
       " 'asthme',\n",
       " 'dyspnée',\n",
       " 'respiration',\n",
       " 'banane',\n",
       " 'banane_topic',\n",
       " 'la diarrhée',\n",
       " 'la diarrhée_topic',\n",
       " 'pollution de l’air',\n",
       " 'pollution de l’air_topic']"
      ]
     },
     "execution_count": 97,
     "metadata": {},
     "output_type": "execute_result"
    }
   ],
   "source": [
    "my_list"
   ]
  },
  {
   "cell_type": "code",
   "execution_count": 109,
   "metadata": {},
   "outputs": [],
   "source": [
    "parca_signal=signal_process(parca_merged,event_var='PM25_Marseille_Longchamp',duration=12,event_threshold=35,var_name_list=my_list)"
   ]
  },
  {
   "cell_type": "code",
   "execution_count": 150,
   "metadata": {},
   "outputs": [],
   "source": [
    "parca_signal.to_csv(\"../output/air_parca_threshold_35_colsum_duration_12H.csv\")"
   ]
  },
  {
   "cell_type": "code",
   "execution_count": null,
   "metadata": {
    "collapsed": true
   },
   "outputs": [],
   "source": [
    "# parif "
   ]
  },
  {
   "cell_type": "code",
   "execution_count": 113,
   "metadata": {},
   "outputs": [],
   "source": [
    "parif_com=get_table(path='..\\\\stage\\\\FR-J\\\\*')"
   ]
  },
  {
   "cell_type": "code",
   "execution_count": 116,
   "metadata": {
    "collapsed": true
   },
   "outputs": [],
   "source": [
    "parif_table = pd.read_csv(\"../stage/parif_asthme_dyspnée_respiration_pollution de l’air_Masque_Purificateur d'air_PA04C_PM10.csv\")"
   ]
  },
  {
   "cell_type": "code",
   "execution_count": 120,
   "metadata": {},
   "outputs": [],
   "source": [
    "parif_table['date']=parca.datetime.apply(lambda string: datetime.strptime(string,'%Y-%m-%d %H:%M:%S'))\n",
    "parif_table['datetime']=parif_table['date']"
   ]
  },
  {
   "cell_type": "code",
   "execution_count": 122,
   "metadata": {},
   "outputs": [],
   "source": [
    "parif_merged=parif_table.merge(parif_com,on='date')"
   ]
  },
  {
   "cell_type": "code",
   "execution_count": 125,
   "metadata": {},
   "outputs": [],
   "source": [
    "parif_merged=parif_merged[['PA04C_PM25','datetime', 'date', 'asthme', 'asthme topic', 'dyspnée',\n",
    "       'dyspnée topic', 'respiration', 'respiration topic',\n",
    "       'pollution de l’air', 'pollution de l’air topic', \n",
    "       'Masque topic', 'la diarrhée',\n",
    "       'la diarrhée_topic',\n",
    "       'banane', 'banane_topic',]]"
   ]
  },
  {
   "cell_type": "code",
   "execution_count": 128,
   "metadata": {},
   "outputs": [],
   "source": [
    "parif_list = list(parif_merged.columns)\n",
    "parif_list.remove('datetime')\n",
    "parif_list.remove('date')"
   ]
  },
  {
   "cell_type": "code",
   "execution_count": 129,
   "metadata": {
    "collapsed": true
   },
   "outputs": [],
   "source": [
    "parif_signal=signal_process(parif_merged,event_var='PA04C_PM25',duration=12,event_threshold=35,var_name_list=parif_list)"
   ]
  },
  {
   "cell_type": "code",
   "execution_count": 151,
   "metadata": {},
   "outputs": [],
   "source": [
    "parif_signal.to_csv(\"../output/air_parif_threshold_35_colsum_duration_12H.csv\")"
   ]
  },
  {
   "cell_type": "code",
   "execution_count": null,
   "metadata": {
    "collapsed": true
   },
   "outputs": [],
   "source": [
    "# limoges"
   ]
  },
  {
   "cell_type": "code",
   "execution_count": 131,
   "metadata": {
    "collapsed": true
   },
   "outputs": [],
   "source": [
    "Limoges_table = pd.read_csv(\"../stage/limoges.csv\").drop(columns=['Year','Month','Day','UTC Hour'])\n",
    "Limoges_table.columns=Index(['PM25_Limoges', 'PM10_Limoges', 'datetime'], dtype='object')"
   ]
  },
  {
   "cell_type": "code",
   "execution_count": 134,
   "metadata": {
    "collapsed": true
   },
   "outputs": [],
   "source": [
    "def conv(datestring):\n",
    "    try :\n",
    "        val = datetime.strptime(datestring ,'%Y-%m-%d %H:%M:%S')\n",
    "    except TypeError:\n",
    "        val = datestring\n",
    "    return val"
   ]
  },
  {
   "cell_type": "code",
   "execution_count": 135,
   "metadata": {
    "collapsed": true
   },
   "outputs": [],
   "source": [
    "Limoges_table['datetime'] = Limoges_table['datetime'].apply(conv)"
   ]
  },
  {
   "cell_type": "code",
   "execution_count": 136,
   "metadata": {},
   "outputs": [],
   "source": [
    "Limoge_com=get_table(path=\"..\\\\stage\\\\FR-B\\\\*\")"
   ]
  },
  {
   "cell_type": "code",
   "execution_count": 143,
   "metadata": {},
   "outputs": [],
   "source": [
    "Limoge_com=Limoge_com.drop(columns=['isPartial_x','isPartial_y','isPartial'])"
   ]
  },
  {
   "cell_type": "code",
   "execution_count": 145,
   "metadata": {},
   "outputs": [],
   "source": [
    "Limoges_merged=Limoges_table.merge(Limoge_com,left_on='datetime',right_on='date')"
   ]
  },
  {
   "cell_type": "code",
   "execution_count": 147,
   "metadata": {},
   "outputs": [],
   "source": [
    "Limoges_list =list(Limoges_merged.columns)\n",
    "Limoges_list.remove(\"date\")\n",
    "Limoges_list.remove(\"datetime\")"
   ]
  },
  {
   "cell_type": "code",
   "execution_count": 148,
   "metadata": {
    "collapsed": true
   },
   "outputs": [],
   "source": [
    "Limoges_signal=signal_process(Limoges_merged,event_var='PM25_Limoges',duration=12,event_threshold=35,var_name_list=Limoges_list)"
   ]
  },
  {
   "cell_type": "code",
   "execution_count": 152,
   "metadata": {
    "collapsed": true
   },
   "outputs": [],
   "source": [
    "Limoges_signal.to_csv(\"../output/air_limoges_threshold_35_colsum_duration_12H.csv\")"
   ]
  }
 ],
 "metadata": {
  "kernelspec": {
   "display_name": "Python 3",
   "language": "python",
   "name": "python3"
  },
  "language_info": {
   "codemirror_mode": {
    "name": "ipython",
    "version": 3
   },
   "file_extension": ".py",
   "mimetype": "text/x-python",
   "name": "python",
   "nbconvert_exporter": "python",
   "pygments_lexer": "ipython3",
   "version": "3.6.1"
  }
 },
 "nbformat": 4,
 "nbformat_minor": 2
}
