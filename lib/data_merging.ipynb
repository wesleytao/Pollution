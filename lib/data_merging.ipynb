{
 "cells": [
  {
   "cell_type": "code",
   "execution_count": 1,
   "metadata": {
    "collapsed": true
   },
   "outputs": [],
   "source": [
    "import pickle\n",
    "import pandas as pd\n",
    "from glob import glob\n",
    "from pandas import Index\n",
    "import sys\n",
    "sys._enablelegacywindowsfsencoding()\n",
    "from datetime import datetime\n",
    "import numpy as np\n",
    "import matplotlib.pyplot as plt"
   ]
  },
  {
   "cell_type": "code",
   "execution_count": 2,
   "metadata": {
    "collapsed": true
   },
   "outputs": [],
   "source": [
    "def signal_process(table,event_var='PM25_Marseille_Longchamp',\n",
    "                   event_threshold = 40, duration = 12,var_name_list='air pollution'):\n",
    "    \"\"\"Find the first spike in pm25 and get a window of length duration for the variable (non overlap in )\n",
    "    table: pandas table\n",
    "        must include datetime \n",
    "    event_var: str\n",
    "        the dominant sequence that preceding other signals\n",
    "    event_threshold:  int\n",
    "        the cirical threshold of event_var \n",
    "    duration:  int\n",
    "        the length of observation\n",
    "    var_name_list: list\n",
    "        the variable list worth seeing\n",
    "    \"\"\"\n",
    "    \n",
    "    origin_array=np.where(table[event_var]>event_threshold)[0]\n",
    "    \n",
    "    shrink_index_list=[]\n",
    "    shrink_index_list.append(origin_array[0])\n",
    "    for idx in range(1,len(origin_array)):\n",
    "        if origin_array[idx]>shrink_index_list[-1]+duration:\n",
    "            shrink_index_list.append(origin_array[idx])\n",
    "        \n",
    "    \n",
    "    bind_list = []\n",
    "    for start_index in shrink_index_list:\n",
    "        this_sequence = table.loc[range(start_index-2,start_index+duration),\n",
    "                                  var_name_list]\n",
    "        start_datetime = table.datetime[start_index]\n",
    "        tuples = list(zip([start_datetime]*(duration+2),range(-2,duration)))\n",
    "\n",
    "        this_sequence.index = pd.MultiIndex.from_tuples(tuples,names=['event_date_index','hour_index'])\n",
    "    #         this_sequence = (this_sequence- this_sequence.mean())/this_sequence.std()\n",
    "\n",
    "        bind_list.append(this_sequence)\n",
    "    new_table=pd.concat(bind_list)     \n",
    "    \n",
    "    return new_table"
   ]
  },
  {
   "cell_type": "code",
   "execution_count": 3,
   "metadata": {
    "collapsed": true
   },
   "outputs": [],
   "source": [
    "def get_table(path=\"..\\\\stage\\\\FR-J\\\\*\"):\n",
    "    df_list =[]\n",
    "    for filepath in glob(path):\n",
    "        with open(filepath,'br') as f:\n",
    "            this_df = pickle.load(f).reset_index()\n",
    "            col_name = list(this_df.columns)\n",
    "            col_name[2]=col_name[1]+\"_topic\"\n",
    "            this_df.columns =Index(col_name,dtype='object')\n",
    "            df_list.append(this_df)\n",
    "    merged_t = df_list[0]\n",
    "    for i in range(1,len(df_list)):\n",
    "        merged_t=merged_t.merge(df_list[i],how='outer',on='date')\n",
    "    return merged_t"
   ]
  },
  {
   "cell_type": "code",
   "execution_count": 4,
   "metadata": {
    "collapsed": true
   },
   "outputs": [],
   "source": [
    "parca=pd.read_csv('../stage/difficultés respiratoires_asthme_dyspnée_respiration_PM25_Marseille_Longchamp.csv')"
   ]
  },
  {
   "cell_type": "code",
   "execution_count": 5,
   "metadata": {
    "collapsed": true
   },
   "outputs": [],
   "source": [
    "parca['date']=parca.date.apply(lambda string: datetime.strptime(string,'%Y-%m-%d %H:%M:%S') )"
   ]
  },
  {
   "cell_type": "code",
   "execution_count": 8,
   "metadata": {
    "collapsed": true
   },
   "outputs": [],
   "source": [
    "parca_merged=parca.merge(get_table(path='..\\\\stage\\\\FR-U\\\\*'),on='date')"
   ]
  },
  {
   "cell_type": "code",
   "execution_count": 9,
   "metadata": {},
   "outputs": [
    {
     "data": {
      "text/html": [
       "<div>\n",
       "<style scoped>\n",
       "    .dataframe tbody tr th:only-of-type {\n",
       "        vertical-align: middle;\n",
       "    }\n",
       "\n",
       "    .dataframe tbody tr th {\n",
       "        vertical-align: top;\n",
       "    }\n",
       "\n",
       "    .dataframe thead th {\n",
       "        text-align: right;\n",
       "    }\n",
       "</style>\n",
       "<table border=\"1\" class=\"dataframe\">\n",
       "  <thead>\n",
       "    <tr style=\"text-align: right;\">\n",
       "      <th></th>\n",
       "      <th>Unnamed: 0</th>\n",
       "      <th>datetime</th>\n",
       "      <th>PM25_Marseille_Longchamp</th>\n",
       "      <th>date</th>\n",
       "      <th>difficultés respiratoires</th>\n",
       "      <th>asthme</th>\n",
       "      <th>dyspnée</th>\n",
       "      <th>respiration</th>\n",
       "      <th>isPartial_x</th>\n",
       "      <th>banane</th>\n",
       "      <th>banane_topic</th>\n",
       "      <th>isPartial_x</th>\n",
       "      <th>la diarrhée</th>\n",
       "      <th>la diarrhée_topic</th>\n",
       "      <th>isPartial_y</th>\n",
       "      <th>pollution de l’air</th>\n",
       "      <th>pollution de l’air_topic</th>\n",
       "      <th>isPartial_y</th>\n",
       "    </tr>\n",
       "  </thead>\n",
       "  <tbody>\n",
       "    <tr>\n",
       "      <th>0</th>\n",
       "      <td>0</td>\n",
       "      <td>2017-08-31 00:00:00</td>\n",
       "      <td>8.0</td>\n",
       "      <td>2017-08-31 00:00:00</td>\n",
       "      <td>0</td>\n",
       "      <td>13</td>\n",
       "      <td>0</td>\n",
       "      <td>0</td>\n",
       "      <td>False</td>\n",
       "      <td>46</td>\n",
       "      <td>54</td>\n",
       "      <td>False</td>\n",
       "      <td>NaN</td>\n",
       "      <td>NaN</td>\n",
       "      <td>NaN</td>\n",
       "      <td>NaN</td>\n",
       "      <td>NaN</td>\n",
       "      <td>NaN</td>\n",
       "    </tr>\n",
       "    <tr>\n",
       "      <th>1</th>\n",
       "      <td>1</td>\n",
       "      <td>2017-08-31 01:00:00</td>\n",
       "      <td>9.0</td>\n",
       "      <td>2017-08-31 01:00:00</td>\n",
       "      <td>0</td>\n",
       "      <td>0</td>\n",
       "      <td>0</td>\n",
       "      <td>79</td>\n",
       "      <td>False</td>\n",
       "      <td>23</td>\n",
       "      <td>35</td>\n",
       "      <td>False</td>\n",
       "      <td>NaN</td>\n",
       "      <td>NaN</td>\n",
       "      <td>NaN</td>\n",
       "      <td>NaN</td>\n",
       "      <td>NaN</td>\n",
       "      <td>NaN</td>\n",
       "    </tr>\n",
       "    <tr>\n",
       "      <th>2</th>\n",
       "      <td>2</td>\n",
       "      <td>2017-08-31 02:00:00</td>\n",
       "      <td>8.0</td>\n",
       "      <td>2017-08-31 02:00:00</td>\n",
       "      <td>0</td>\n",
       "      <td>0</td>\n",
       "      <td>23</td>\n",
       "      <td>46</td>\n",
       "      <td>False</td>\n",
       "      <td>27</td>\n",
       "      <td>41</td>\n",
       "      <td>False</td>\n",
       "      <td>NaN</td>\n",
       "      <td>NaN</td>\n",
       "      <td>NaN</td>\n",
       "      <td>NaN</td>\n",
       "      <td>NaN</td>\n",
       "      <td>NaN</td>\n",
       "    </tr>\n",
       "    <tr>\n",
       "      <th>3</th>\n",
       "      <td>3</td>\n",
       "      <td>2017-08-31 03:00:00</td>\n",
       "      <td>7.0</td>\n",
       "      <td>2017-08-31 03:00:00</td>\n",
       "      <td>0</td>\n",
       "      <td>0</td>\n",
       "      <td>0</td>\n",
       "      <td>68</td>\n",
       "      <td>False</td>\n",
       "      <td>10</td>\n",
       "      <td>20</td>\n",
       "      <td>False</td>\n",
       "      <td>NaN</td>\n",
       "      <td>NaN</td>\n",
       "      <td>NaN</td>\n",
       "      <td>NaN</td>\n",
       "      <td>NaN</td>\n",
       "      <td>NaN</td>\n",
       "    </tr>\n",
       "    <tr>\n",
       "      <th>4</th>\n",
       "      <td>4</td>\n",
       "      <td>2017-08-31 04:00:00</td>\n",
       "      <td>8.0</td>\n",
       "      <td>2017-08-31 04:00:00</td>\n",
       "      <td>0</td>\n",
       "      <td>0</td>\n",
       "      <td>0</td>\n",
       "      <td>26</td>\n",
       "      <td>False</td>\n",
       "      <td>42</td>\n",
       "      <td>52</td>\n",
       "      <td>False</td>\n",
       "      <td>NaN</td>\n",
       "      <td>NaN</td>\n",
       "      <td>NaN</td>\n",
       "      <td>NaN</td>\n",
       "      <td>NaN</td>\n",
       "      <td>NaN</td>\n",
       "    </tr>\n",
       "  </tbody>\n",
       "</table>\n",
       "</div>"
      ],
      "text/plain": [
       "   Unnamed: 0             datetime  PM25_Marseille_Longchamp  \\\n",
       "0           0  2017-08-31 00:00:00                       8.0   \n",
       "1           1  2017-08-31 01:00:00                       9.0   \n",
       "2           2  2017-08-31 02:00:00                       8.0   \n",
       "3           3  2017-08-31 03:00:00                       7.0   \n",
       "4           4  2017-08-31 04:00:00                       8.0   \n",
       "\n",
       "                 date  difficultés respiratoires  asthme  dyspnée  \\\n",
       "0 2017-08-31 00:00:00                          0      13        0   \n",
       "1 2017-08-31 01:00:00                          0       0        0   \n",
       "2 2017-08-31 02:00:00                          0       0       23   \n",
       "3 2017-08-31 03:00:00                          0       0        0   \n",
       "4 2017-08-31 04:00:00                          0       0        0   \n",
       "\n",
       "   respiration  isPartial_x  banane  banane_topic  isPartial_x  la diarrhée  \\\n",
       "0            0        False      46            54        False          NaN   \n",
       "1           79        False      23            35        False          NaN   \n",
       "2           46        False      27            41        False          NaN   \n",
       "3           68        False      10            20        False          NaN   \n",
       "4           26        False      42            52        False          NaN   \n",
       "\n",
       "   la diarrhée_topic isPartial_y  pollution de l’air  \\\n",
       "0                NaN         NaN                 NaN   \n",
       "1                NaN         NaN                 NaN   \n",
       "2                NaN         NaN                 NaN   \n",
       "3                NaN         NaN                 NaN   \n",
       "4                NaN         NaN                 NaN   \n",
       "\n",
       "   pollution de l’air_topic isPartial_y  \n",
       "0                       NaN         NaN  \n",
       "1                       NaN         NaN  \n",
       "2                       NaN         NaN  \n",
       "3                       NaN         NaN  \n",
       "4                       NaN         NaN  "
      ]
     },
     "execution_count": 9,
     "metadata": {},
     "output_type": "execute_result"
    }
   ],
   "source": [
    "parca_merged.head()"
   ]
  },
  {
   "cell_type": "code",
   "execution_count": 10,
   "metadata": {
    "collapsed": true
   },
   "outputs": [],
   "source": [
    "parca_merged=parca_merged.drop(columns=['Unnamed: 0','date','isPartial_x','isPartial_x','isPartial_y'])"
   ]
  },
  {
   "cell_type": "code",
   "execution_count": 11,
   "metadata": {
    "collapsed": true
   },
   "outputs": [],
   "source": [
    "my_list =list(parca_merged.columns)\n",
    "my_list.remove('datetime')"
   ]
  },
  {
   "cell_type": "code",
   "execution_count": 12,
   "metadata": {},
   "outputs": [
    {
     "data": {
      "text/plain": [
       "['PM25_Marseille_Longchamp',\n",
       " 'difficultés respiratoires',\n",
       " 'asthme',\n",
       " 'dyspnée',\n",
       " 'respiration',\n",
       " 'banane',\n",
       " 'banane_topic',\n",
       " 'la diarrhée',\n",
       " 'la diarrhée_topic',\n",
       " 'pollution de l’air',\n",
       " 'pollution de l’air_topic']"
      ]
     },
     "execution_count": 12,
     "metadata": {},
     "output_type": "execute_result"
    }
   ],
   "source": [
    "my_list"
   ]
  },
  {
   "cell_type": "code",
   "execution_count": 13,
   "metadata": {
    "collapsed": true
   },
   "outputs": [],
   "source": [
    "parca_signal=signal_process(parca_merged,event_var='PM25_Marseille_Longchamp',duration=12,event_threshold=35,var_name_list=my_list)"
   ]
  },
  {
   "cell_type": "code",
   "execution_count": 74,
   "metadata": {
    "collapsed": true
   },
   "outputs": [],
   "source": [
    "# parca_signal"
   ]
  },
  {
   "cell_type": "code",
   "execution_count": 75,
   "metadata": {
    "collapsed": true
   },
   "outputs": [],
   "source": [
    "parca_signal.to_csv(\"../output/air_parca_threshold_35_colsum_duration_12H.csv\")"
   ]
  },
  {
   "cell_type": "code",
   "execution_count": null,
   "metadata": {
    "collapsed": true
   },
   "outputs": [],
   "source": [
    "# parif "
   ]
  },
  {
   "cell_type": "code",
   "execution_count": 14,
   "metadata": {
    "collapsed": true
   },
   "outputs": [],
   "source": [
    "parif_com=get_table(path='..\\\\stage\\\\FR-J\\\\*')"
   ]
  },
  {
   "cell_type": "code",
   "execution_count": 15,
   "metadata": {
    "collapsed": true
   },
   "outputs": [],
   "source": [
    "parif_table = pd.read_csv(\"../stage/parif_asthme_dyspnée_respiration_pollution de l’air_Masque_Purificateur d'air_PA04C_PM10.csv\")"
   ]
  },
  {
   "cell_type": "code",
   "execution_count": 16,
   "metadata": {
    "collapsed": true
   },
   "outputs": [],
   "source": [
    "parif_table['date']=parca.datetime.apply(lambda string: datetime.strptime(string,'%Y-%m-%d %H:%M:%S'))\n",
    "parif_table['datetime']=parif_table['date']"
   ]
  },
  {
   "cell_type": "code",
   "execution_count": 17,
   "metadata": {
    "collapsed": true
   },
   "outputs": [],
   "source": [
    "parif_merged=parif_table.merge(parif_com,on='date')"
   ]
  },
  {
   "cell_type": "code",
   "execution_count": 18,
   "metadata": {
    "collapsed": true
   },
   "outputs": [],
   "source": [
    "parif_merged=parif_merged[['PA04C_PM25','datetime', 'date', 'asthme', 'asthme topic', 'dyspnée',\n",
    "       'dyspnée topic', 'respiration', 'respiration topic',\n",
    "       'pollution de l’air', 'pollution de l’air topic', \n",
    "       'Masque topic', 'la diarrhée',\n",
    "       'la diarrhée_topic',\n",
    "       'banane', 'banane_topic',]]"
   ]
  },
  {
   "cell_type": "code",
   "execution_count": 19,
   "metadata": {
    "collapsed": true
   },
   "outputs": [],
   "source": [
    "parif_list = list(parif_merged.columns)\n",
    "parif_list.remove('datetime')\n",
    "parif_list.remove('date')"
   ]
  },
  {
   "cell_type": "code",
   "execution_count": 20,
   "metadata": {
    "collapsed": true
   },
   "outputs": [],
   "source": [
    "parif_signal=signal_process(parif_merged,event_var='PA04C_PM25',duration=12,event_threshold=35,var_name_list=parif_list)"
   ]
  },
  {
   "cell_type": "code",
   "execution_count": 21,
   "metadata": {
    "collapsed": true
   },
   "outputs": [],
   "source": [
    "parif_signal.to_csv(\"../output/air_parif_threshold_35_colsum_duration_12H.csv\")"
   ]
  },
  {
   "cell_type": "code",
   "execution_count": null,
   "metadata": {
    "collapsed": true
   },
   "outputs": [],
   "source": [
    "# limoges"
   ]
  },
  {
   "cell_type": "code",
   "execution_count": 22,
   "metadata": {
    "collapsed": true
   },
   "outputs": [],
   "source": [
    "Limoges_table = pd.read_csv(\"../stage/limoges.csv\").drop(columns=['Year','Month','Day','UTC Hour'])\n",
    "Limoges_table.columns=Index(['PM25_Limoges', 'PM10_Limoges', 'datetime'], dtype='object')"
   ]
  },
  {
   "cell_type": "code",
   "execution_count": 23,
   "metadata": {
    "collapsed": true
   },
   "outputs": [],
   "source": [
    "def conv(datestring):\n",
    "    try :\n",
    "        val = datetime.strptime(datestring ,'%Y-%m-%d %H:%M:%S')\n",
    "    except TypeError:\n",
    "        val = datestring\n",
    "    return val"
   ]
  },
  {
   "cell_type": "code",
   "execution_count": 24,
   "metadata": {
    "collapsed": true
   },
   "outputs": [],
   "source": [
    "Limoges_table['datetime'] = Limoges_table['datetime'].apply(conv)"
   ]
  },
  {
   "cell_type": "code",
   "execution_count": 25,
   "metadata": {
    "collapsed": true
   },
   "outputs": [],
   "source": [
    "Limoge_com=get_table(path=\"..\\\\stage\\\\FR-B\\\\*\")"
   ]
  },
  {
   "cell_type": "code",
   "execution_count": 26,
   "metadata": {
    "collapsed": true
   },
   "outputs": [],
   "source": [
    "Limoge_com=Limoge_com.drop(columns=['isPartial_x','isPartial_y','isPartial'])"
   ]
  },
  {
   "cell_type": "code",
   "execution_count": 27,
   "metadata": {
    "collapsed": true
   },
   "outputs": [],
   "source": [
    "Limoges_merged=Limoges_table.merge(Limoge_com,left_on='datetime',right_on='date')"
   ]
  },
  {
   "cell_type": "code",
   "execution_count": 28,
   "metadata": {
    "collapsed": true
   },
   "outputs": [],
   "source": [
    "Limoges_list =list(Limoges_merged.columns)\n",
    "Limoges_list.remove(\"date\")\n",
    "Limoges_list.remove(\"datetime\")"
   ]
  },
  {
   "cell_type": "code",
   "execution_count": 29,
   "metadata": {
    "collapsed": true
   },
   "outputs": [],
   "source": [
    "Limoges_signal=signal_process(Limoges_merged,event_var='PM25_Limoges',duration=12,event_threshold=35,var_name_list=Limoges_list)"
   ]
  },
  {
   "cell_type": "code",
   "execution_count": 101,
   "metadata": {
    "collapsed": true
   },
   "outputs": [],
   "source": [
    "Limoges_signal.to_csv(\"../output/air_limoges_threshold_35_colsum_duration_12H.csv\")"
   ]
  },
  {
   "cell_type": "code",
   "execution_count": 44,
   "metadata": {
    "collapsed": true
   },
   "outputs": [],
   "source": [
    "Limoges_merged.drop_duplicates(inplace=True)"
   ]
  },
  {
   "cell_type": "code",
   "execution_count": 45,
   "metadata": {
    "collapsed": true
   },
   "outputs": [],
   "source": [
    "parca_merged.drop_duplicates(inplace=True)"
   ]
  },
  {
   "cell_type": "code",
   "execution_count": 46,
   "metadata": {
    "collapsed": true
   },
   "outputs": [],
   "source": [
    "parif_merged.drop_duplicates(inplace=True)"
   ]
  },
  {
   "cell_type": "code",
   "execution_count": 47,
   "metadata": {
    "collapsed": true
   },
   "outputs": [],
   "source": [
    "Limoges_merged.to_csv(\"../stage/final_limoges.csv\")"
   ]
  },
  {
   "cell_type": "code",
   "execution_count": 48,
   "metadata": {
    "collapsed": true
   },
   "outputs": [],
   "source": [
    "parca_merged.to_csv(\"../stage/final_marseille.csv\")"
   ]
  },
  {
   "cell_type": "code",
   "execution_count": 49,
   "metadata": {
    "collapsed": true
   },
   "outputs": [],
   "source": [
    "parif_merged.to_csv(\"../stage/final_paris.csv\")"
   ]
  }
 ],
 "metadata": {
  "kernelspec": {
   "display_name": "Python 3",
   "language": "python",
   "name": "python3"
  },
  "language_info": {
   "codemirror_mode": {
    "name": "ipython",
    "version": 3
   },
   "file_extension": ".py",
   "mimetype": "text/x-python",
   "name": "python",
   "nbconvert_exporter": "python",
   "pygments_lexer": "ipython3",
   "version": "3.6.1"
  }
 },
 "nbformat": 4,
 "nbformat_minor": 2
}
