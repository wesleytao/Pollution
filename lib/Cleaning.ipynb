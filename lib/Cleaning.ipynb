{
 "cells": [
  {
   "cell_type": "code",
   "execution_count": 1,
   "metadata": {
    "collapsed": true
   },
   "outputs": [],
   "source": [
    "import json\n",
    "import pandas as pd\n",
    "import matplotlib.pyplot as plt"
   ]
  },
  {
   "cell_type": "code",
   "execution_count": 2,
   "metadata": {
    "collapsed": true
   },
   "outputs": [],
   "source": [
    "import time\n",
    "import os"
   ]
  },
  {
   "cell_type": "code",
   "execution_count": 3,
   "metadata": {
    "collapsed": true
   },
   "outputs": [],
   "source": [
    "myfile=[]\n",
    "for file in os.listdir(\"../data/Tweets\"):\n",
    "    myfile.append(\"../data/Tweets/\"+file)"
   ]
  },
  {
   "cell_type": "code",
   "execution_count": 4,
   "metadata": {},
   "outputs": [
    {
     "data": {
      "text/plain": [
       "['../data/Tweets/TW.txt',\n",
       " '../data/Tweets/TW1.txt',\n",
       " '../data/Tweets/TW10.txt',\n",
       " '../data/Tweets/TW10_2.txt',\n",
       " '../data/Tweets/TW11_1.txt',\n",
       " '../data/Tweets/TW11__1.txt',\n",
       " '../data/Tweets/TW12.txt',\n",
       " '../data/Tweets/TW12_1.txt',\n",
       " '../data/Tweets/TW12_2.txt',\n",
       " '../data/Tweets/TW13.txt',\n",
       " '../data/Tweets/TW14.txt',\n",
       " '../data/Tweets/TW15.txt',\n",
       " '../data/Tweets/TW16.txt',\n",
       " '../data/Tweets/TW17.txt',\n",
       " '../data/Tweets/TW18.txt',\n",
       " '../data/Tweets/TW19.txt',\n",
       " '../data/Tweets/TW2-2.txt',\n",
       " '../data/Tweets/TW2.txt',\n",
       " '../data/Tweets/TW20.txt',\n",
       " '../data/Tweets/TW21.txt',\n",
       " '../data/Tweets/TW22.txt',\n",
       " '../data/Tweets/TW3(1).txt',\n",
       " '../data/Tweets/TW4.txt',\n",
       " '../data/Tweets/TW5.txt',\n",
       " '../data/Tweets/TW6.txt',\n",
       " '../data/Tweets/TW7.txt',\n",
       " '../data/Tweets/TW7_2.txt',\n",
       " '../data/Tweets/TW8.txt',\n",
       " '../data/Tweets/TW8_2.txt',\n",
       " '../data/Tweets/TW9.txt']"
      ]
     },
     "execution_count": 4,
     "metadata": {},
     "output_type": "execute_result"
    }
   ],
   "source": [
    "myfile"
   ]
  },
  {
   "cell_type": "code",
   "execution_count": 53,
   "metadata": {
    "collapsed": true
   },
   "outputs": [],
   "source": [
    "tweets_data=[]\n",
    "for thisfile in myfile:\n",
    "    with open(thisfile, 'r') as f:\n",
    "        for line in f:\n",
    "            try:\n",
    "                tweet=json.loads(line)\n",
    "                tweets_data.append(tweet)\n",
    "            except:\n",
    "                continue"
   ]
  },
  {
   "cell_type": "code",
   "execution_count": 121,
   "metadata": {},
   "outputs": [
    {
     "data": {
      "text/plain": [
       "{'contributors': None,\n",
       " 'coordinates': None,\n",
       " 'created_at': 'Wed Apr 18 16:39:21 +0000 2018',\n",
       " 'entities': {'hashtags': [],\n",
       "  'symbols': [],\n",
       "  'urls': [],\n",
       "  'user_mentions': [{'id': 79784897,\n",
       "    'id_str': '79784897',\n",
       "    'indices': [3, 14],\n",
       "    'name': 'Jason🌊',\n",
       "    'screen_name': 'JasonHalle'}]},\n",
       " 'favorite_count': 0,\n",
       " 'favorited': False,\n",
       " 'filter_level': 'low',\n",
       " 'geo': None,\n",
       " 'id': 986645370095702016,\n",
       " 'id_str': '986645370095702016',\n",
       " 'in_reply_to_screen_name': None,\n",
       " 'in_reply_to_status_id': None,\n",
       " 'in_reply_to_status_id_str': None,\n",
       " 'in_reply_to_user_id': None,\n",
       " 'in_reply_to_user_id_str': None,\n",
       " 'is_quote_status': False,\n",
       " 'lang': 'en',\n",
       " 'place': None,\n",
       " 'quote_count': 0,\n",
       " 'reply_count': 0,\n",
       " 'retweet_count': 0,\n",
       " 'retweeted': False,\n",
       " 'retweeted_status': {'contributors': None,\n",
       "  'coordinates': None,\n",
       "  'created_at': 'Sat Apr 14 14:17:02 +0000 2018',\n",
       "  'entities': {'hashtags': [],\n",
       "   'symbols': [],\n",
       "   'urls': [{'display_url': 'twitter.com/i/web/status/9…',\n",
       "     'expanded_url': 'https://twitter.com/i/web/status/985160000426397697',\n",
       "     'indices': [116, 139],\n",
       "     'url': 'https://t.co/oTQ7oAppkm'}],\n",
       "   'user_mentions': []},\n",
       "  'extended_tweet': {'display_text_range': [0, 228],\n",
       "   'entities': {'hashtags': [],\n",
       "    'symbols': [],\n",
       "    'urls': [],\n",
       "    'user_mentions': []},\n",
       "   'full_text': 'WAR\\n* War on Syria \\n* War on Robert Mueller\\n* War on the Media\\n* War on the Poor\\n* War on the FBI\\n* War on Trade\\n* War on the Sick\\n* War on Democracy\\n* War on the Middle Class\\n* War on Rule of Law\\n\\nIs anybody but the 1% Winning?'},\n",
       "  'favorite_count': 5348,\n",
       "  'favorited': False,\n",
       "  'filter_level': 'low',\n",
       "  'geo': None,\n",
       "  'id': 985160000426397697,\n",
       "  'id_str': '985160000426397697',\n",
       "  'in_reply_to_screen_name': None,\n",
       "  'in_reply_to_status_id': None,\n",
       "  'in_reply_to_status_id_str': None,\n",
       "  'in_reply_to_user_id': None,\n",
       "  'in_reply_to_user_id_str': None,\n",
       "  'is_quote_status': False,\n",
       "  'lang': 'en',\n",
       "  'place': None,\n",
       "  'quote_count': 122,\n",
       "  'reply_count': 318,\n",
       "  'retweet_count': 2877,\n",
       "  'retweeted': False,\n",
       "  'source': '<a href=\"http://bufferapp.com\" rel=\"nofollow\">Buffer</a>',\n",
       "  'text': 'WAR\\n* War on Syria \\n* War on Robert Mueller\\n* War on the Media\\n* War on the Poor\\n* War on the FBI\\n* War on Trade\\n*… https://t.co/oTQ7oAppkm',\n",
       "  'truncated': True,\n",
       "  'user': {'contributors_enabled': False,\n",
       "   'created_at': 'Sun Oct 04 17:41:39 +0000 2009',\n",
       "   'default_profile': False,\n",
       "   'default_profile_image': False,\n",
       "   'description': '#Resistance #Writer #Activist #Resist 👊 #TrumpCrimeFamily NEEDS TO BE STOPPED 🇺🇸 #FBR 🏳️\\u200d🌈\\n#BlueTsunami2018 🌊🌊🌊',\n",
       "   'favourites_count': 42783,\n",
       "   'follow_request_sent': None,\n",
       "   'followers_count': 92905,\n",
       "   'following': None,\n",
       "   'friends_count': 69835,\n",
       "   'geo_enabled': True,\n",
       "   'id': 79784897,\n",
       "   'id_str': '79784897',\n",
       "   'is_translator': False,\n",
       "   'lang': 'en',\n",
       "   'listed_count': 2170,\n",
       "   'location': 'Pompano Beach, FL',\n",
       "   'name': 'Jason🌊',\n",
       "   'notifications': None,\n",
       "   'profile_background_color': '000000',\n",
       "   'profile_background_image_url': 'http://abs.twimg.com/images/themes/theme8/bg.gif',\n",
       "   'profile_background_image_url_https': 'https://abs.twimg.com/images/themes/theme8/bg.gif',\n",
       "   'profile_background_tile': False,\n",
       "   'profile_banner_url': 'https://pbs.twimg.com/profile_banners/79784897/1504545877',\n",
       "   'profile_image_url': 'http://pbs.twimg.com/profile_images/692586035012702208/URkpXqNQ_normal.jpg',\n",
       "   'profile_image_url_https': 'https://pbs.twimg.com/profile_images/692586035012702208/URkpXqNQ_normal.jpg',\n",
       "   'profile_link_color': '3B94D9',\n",
       "   'profile_sidebar_border_color': '000000',\n",
       "   'profile_sidebar_fill_color': '000000',\n",
       "   'profile_text_color': '000000',\n",
       "   'profile_use_background_image': False,\n",
       "   'protected': False,\n",
       "   'screen_name': 'JasonHalle',\n",
       "   'statuses_count': 181757,\n",
       "   'time_zone': 'America/New_York',\n",
       "   'translator_type': 'none',\n",
       "   'url': 'http://www.jasonhalle.com/',\n",
       "   'utc_offset': -14400,\n",
       "   'verified': False}},\n",
       " 'source': '<a href=\"http://twitter.com/download/iphone\" rel=\"nofollow\">Twitter for iPhone</a>',\n",
       " 'text': 'RT @JasonHalle: WAR\\n* War on Syria \\n* War on Robert Mueller\\n* War on the Media\\n* War on the Poor\\n* War on the FBI\\n* War on Trade\\n* War on t…',\n",
       " 'timestamp_ms': '1524069561872',\n",
       " 'truncated': False,\n",
       " 'user': {'contributors_enabled': False,\n",
       "  'created_at': 'Mon Oct 14 10:45:08 +0000 2013',\n",
       "  'default_profile': True,\n",
       "  'default_profile_image': False,\n",
       "  'description': 'Retired Anglican Priest 🇺🇸🤘🏻🏴\\U000e0067\\U000e0062\\U000e0073\\U000e0063\\U000e0074\\U000e007f Proud Democrat, Liberal 🏳️\\u200d🌈',\n",
       "  'favourites_count': 69949,\n",
       "  'follow_request_sent': None,\n",
       "  'followers_count': 1249,\n",
       "  'following': None,\n",
       "  'friends_count': 100,\n",
       "  'geo_enabled': True,\n",
       "  'id': 1960411950,\n",
       "  'id_str': '1960411950',\n",
       "  'is_translator': False,\n",
       "  'lang': 'en',\n",
       "  'listed_count': 12,\n",
       "  'location': 'United States, Scotland ',\n",
       "  'name': 'Rev Fr Bob Hutchison',\n",
       "  'notifications': None,\n",
       "  'profile_background_color': 'C0DEED',\n",
       "  'profile_background_image_url': 'http://abs.twimg.com/images/themes/theme1/bg.png',\n",
       "  'profile_background_image_url_https': 'https://abs.twimg.com/images/themes/theme1/bg.png',\n",
       "  'profile_background_tile': False,\n",
       "  'profile_banner_url': 'https://pbs.twimg.com/profile_banners/1960411950/1507897177',\n",
       "  'profile_image_url': 'http://pbs.twimg.com/profile_images/918813369418833920/bM4o02MT_normal.jpg',\n",
       "  'profile_image_url_https': 'https://pbs.twimg.com/profile_images/918813369418833920/bM4o02MT_normal.jpg',\n",
       "  'profile_link_color': '1DA1F2',\n",
       "  'profile_sidebar_border_color': 'C0DEED',\n",
       "  'profile_sidebar_fill_color': 'DDEEF6',\n",
       "  'profile_text_color': '333333',\n",
       "  'profile_use_background_image': True,\n",
       "  'protected': False,\n",
       "  'screen_name': 'RevFrBobHutchis',\n",
       "  'statuses_count': 64907,\n",
       "  'time_zone': None,\n",
       "  'translator_type': 'none',\n",
       "  'url': None,\n",
       "  'utc_offset': None,\n",
       "  'verified': False}}"
      ]
     },
     "execution_count": 121,
     "metadata": {},
     "output_type": "execute_result"
    }
   ],
   "source": [
    "tweets_data[2775]"
   ]
  },
  {
   "cell_type": "code",
   "execution_count": 54,
   "metadata": {
    "collapsed": true
   },
   "outputs": [],
   "source": [
    "tweets=pd.DataFrame()# store the final result"
   ]
  },
  {
   "cell_type": "code",
   "execution_count": 55,
   "metadata": {
    "collapsed": true
   },
   "outputs": [],
   "source": [
    "# text: the text of the tweet itself\n",
    "# created_at: the date of creation\n",
    "# favorite_count, retweet_count: the number of favourites and retweets\n",
    "# favorited, retweeted: boolean stating whether the authenticated user (you) have favourited or retweeted this tweet\n",
    "# lang: acronym for the language (e.g. “en” for english)\n",
    "# id: the tweet identifier\n",
    "# place, coordinates, geo: geo-location information if available\n",
    "# user: the author’s full profile\n",
    "# entities: list of entities like URLs, @-mentions, hashtags and symbols\n",
    "# in_reply_to_user_id: user identifier if the tweet is a reply to a specific user\n",
    "# in_reply_to_status_id: status identifier id the tweet is a reply to a specific status"
   ]
  },
  {
   "cell_type": "code",
   "execution_count": 83,
   "metadata": {
    "collapsed": true
   },
   "outputs": [],
   "source": [
    "def get_retweetid(tweet):\n",
    "    try:\n",
    "        return(tweet[\"retweeted_status\"][\"id\"])\n",
    "    except: \n",
    "        return None\n",
    "    \n",
    "def get_retweet_username(tweet):\n",
    "    try:\n",
    "        return(tweet[\"retweeted_status\"][\"user\"][\"name\"])\n",
    "    except: \n",
    "        return None\n",
    "\n",
    "def get_retweet_followers_count(tweet):\n",
    "    try:\n",
    "        return(int(tweet[\"retweeted_status\"][\"user\"][\"followers_count\"]))\n",
    "    except: \n",
    "        return None\n",
    "    \n",
    "def get_retweet_user_id(tweet):\n",
    "    try:\n",
    "        return(tweet[\"retweeted_status\"][\"user\"][\"id_str\"])\n",
    "    except: \n",
    "        return None\n",
    "    \n",
    "def get_retweet_fa(tweet):\n",
    "    try:\n",
    "        return(int(tweet[\"retweeted_status\"][\"favorite_count\"]))\n",
    "    except: \n",
    "        return None\n",
    "def get_retweet_retw(tweet):\n",
    "    try:\n",
    "        return(int(tweet[\"retweeted_status\"][\"retweet_count\"]))\n",
    "    except: \n",
    "        return None\n",
    "def get_retweet_rep(tweet):\n",
    "    try:\n",
    "        return(int(tweet[\"retweeted_status\"][\"reply_count\"]))\n",
    "    except: \n",
    "        return None\n",
    "    \n",
    "def get_quoted_status_text(tweet):\n",
    "     try:\n",
    "        return(tweet[\"quoted_status\"][\"extended_tweet\"][\"full_text\"])\n",
    "     except:\n",
    "        return None"
   ]
  },
  {
   "cell_type": "code",
   "execution_count": 87,
   "metadata": {
    "collapsed": true
   },
   "outputs": [],
   "source": [
    "tweets=pd.DataFrame()\n",
    "tweets['id'] = list(map(lambda tweet: int(tweet['id']), tweets_data))\n",
    "# tweets['country']=list(map(lambda tweet: tweet['place']['country'] if tweet['place']!= None else \"\", tweets_data))\n",
    "tweets['text']=list(map(lambda tweet: tweet['text'], tweets_data))\n",
    "tweets[\"user_id\"]=list(map(lambda tweet:tweet[\"user\"][\"id_str\"],tweets_data))\n",
    "tweets[\"user_name\"]=list(map(lambda tweet:tweet[\"user\"][\"name\"],tweets_data))\n",
    "tweets[\"user_followers\"]=list(map(lambda tweet:int(tweet[\"user\"][\"followers_count\"]),tweets_data))\n",
    "\n",
    "# tweets[\"quoted_status_text\"]=list(map(lambda tweet:int(tweet[\"quoted_status\"][\"extended_tweet\"][\"full_text\"]),tweets_data))\n",
    "tweets[\"quoted_status_text\"]=list(map(lambda tweet:get_quoted_status_text(tweet),tweets_data))\n",
    "\n",
    "\n",
    "tweets['user_loc']=list(map(lambda tweet: tweet['user']['location'], tweets_data))\n",
    "tweets['lang']=list(map(lambda tweet: tweet['lang'], tweets_data))\n",
    "# tweets['retweeted'] = list(map(lambda tweet: tweet['retweeted'], tweets_data))\n",
    "tweets['retweet_id']=list(map(get_retweetid, tweets_data))\n",
    "\n",
    "tweets['retweet_user_id']=list(map(get_retweet_user_id, tweets_data))\n",
    "\n",
    "tweets['retweet_status_user_name']=list(map(get_retweet_username, tweets_data))\n",
    "tweets['retweet_status_follower_count']=list(map(get_retweet_followers_count, tweets_data))\n",
    "\n",
    "\n",
    "tweets['retweet_status_favorite_count']=list(map(get_retweetid, tweets_data))\n",
    "tweets['retweet_status_retweet_count']=list(map(get_retweet_retw, tweets_data))\n",
    "tweets['retweet_status_reply_count']=list(map(get_retweet_rep, tweets_data))\n",
    "\n",
    "tweets['created_at']=list(map(lambda tweet: time.strftime('%Y-%m-%d %H:%M:%S', time.strptime(tweet['created_at'],'%a %b %d %H:%M:%S +0000 %Y')), tweets_data))\n",
    "\n",
    "\n",
    "# tweets['retweet_count']=list(map(lambda tweet: tweet['retweet_count'] if tweet['retweet_count']!= None else None, tweets_data))\n",
    "# tweets['reply_count']=list(map(lambda tweet: tweet['reply_count'] if tweet['reply_count']!= None else None, tweets_data))\n",
    "# tweets['favorite_count']=list(map(lambda tweet: tweet['favorite_count'], tweets_data))\n"
   ]
  },
  {
   "cell_type": "code",
   "execution_count": 88,
   "metadata": {
    "collapsed": true
   },
   "outputs": [],
   "source": [
    "# get rid of replicated id\n",
    "tweets=tweets.drop_duplicates()"
   ]
  },
  {
   "cell_type": "code",
   "execution_count": 89,
   "metadata": {
    "collapsed": true
   },
   "outputs": [],
   "source": [
    "tweets=tweets.loc[tweets.lang==\"en\",] # getrid of none enligsh"
   ]
  },
  {
   "cell_type": "code",
   "execution_count": 90,
   "metadata": {},
   "outputs": [
    {
     "data": {
      "text/plain": [
       "(41148, 16)"
      ]
     },
     "execution_count": 90,
     "metadata": {},
     "output_type": "execute_result"
    }
   ],
   "source": [
    "tweets.shape"
   ]
  },
  {
   "cell_type": "code",
   "execution_count": 98,
   "metadata": {},
   "outputs": [
    {
     "data": {
      "text/plain": [
       "36596"
      ]
     },
     "execution_count": 98,
     "metadata": {},
     "output_type": "execute_result"
    }
   ],
   "source": [
    "sum(tweets.quoted_status_text.isna())"
   ]
  },
  {
   "cell_type": "code",
   "execution_count": 126,
   "metadata": {},
   "outputs": [
    {
     "data": {
      "text/plain": [
       "'RT @JasonHalle: WAR\\n* War on Syria \\n* War on Robert Mueller\\n* War on the Media\\n* War on the Poor\\n* War on the FBI\\n* War on Trade\\n* War on t…'"
      ]
     },
     "execution_count": 126,
     "metadata": {},
     "output_type": "execute_result"
    }
   ],
   "source": [
    "tweets.loc[tweets.retweet_user_id==\"79784897\"].iloc[0].text"
   ]
  },
  {
   "cell_type": "markdown",
   "metadata": {},
   "source": [
    "# tokenization and stop words\n"
   ]
  },
  {
   "cell_type": "code",
   "execution_count": 46,
   "metadata": {},
   "outputs": [
    {
     "name": "stdout",
     "output_type": "stream",
     "text": [
      "['RT', '@marcobonzanini', ':', 'just', 'an', 'example', '!', ':D', 'http://example.com', '#NLP']\n"
     ]
    }
   ],
   "source": [
    "from nltk.tokenize import word_tokenize\n",
    "import re\n",
    " \n",
    "emoticons_str = r\"\"\"\n",
    "    (?:\n",
    "        [:=;] # Eyes\n",
    "        [oO\\-]? # Nose (optional)\n",
    "        [D\\)\\]\\(\\]/\\\\OpP] # Mouth\n",
    "    )\"\"\"\n",
    " \n",
    "regex_str = [\n",
    "    emoticons_str,\n",
    "    r'<[^>]+>', # HTML tags\n",
    "    r'(?:@[\\w_]+)', # @-mentions\n",
    "    r\"(?:\\#+[\\w_]+[\\w\\'_\\-]*[\\w_]+)\", # hash-tags\n",
    "    r'http[s]?://(?:[a-z]|[0-9]|[$-_@.&amp;+]|[!*\\(\\),]|(?:%[0-9a-f][0-9a-f]))+', # URLs\n",
    " \n",
    "    r'(?:(?:\\d+,?)+(?:\\.?\\d+)?)', # numbers\n",
    "    r\"(?:[a-z][a-z'\\-_]+[a-z])\", # words with - and '\n",
    "    r'(?:[\\w_]+)', # other words\n",
    "    r'(?:\\S)' # anything else\n",
    "]\n",
    "    \n",
    "tokens_re = re.compile(r'('+'|'.join(regex_str)+')', re.VERBOSE | re.IGNORECASE)\n",
    "emoticon_re = re.compile(r'^'+emoticons_str+'$', re.VERBOSE | re.IGNORECASE)\n",
    " \n",
    "def tokenize(s):\n",
    "    return tokens_re.findall(s)\n",
    " \n",
    "def preprocess(s, lowercase=False):\n",
    "    tokens = tokenize(s)\n",
    "#     print(tokens_re.search(tokens[0]))\n",
    "    if lowercase:\n",
    "        tokens =  [token if emoticon_re.search(token)  else token.lower() for token in tokens]\n",
    "    return tokens\n",
    " \n",
    "tweet = 'RT @marcobonzanini: just an example! :D http://example.com #NLP'\n",
    "print(preprocess(tweet))\n",
    "# ['RT', '@marcobonzanini', ':', 'just', 'a n', 'example', '!', ':D', 'http://example.com', '#NLP']\n"
   ]
  },
  {
   "cell_type": "code",
   "execution_count": 47,
   "metadata": {
    "collapsed": true
   },
   "outputs": [],
   "source": [
    "from nltk.corpus import stopwords\n",
    "import string\n",
    "def remove_stop_words(tweet):\n",
    "    out=tweet\n",
    "    if(tweet):\n",
    "        p=re.compile(r'http[s]?://(?:[a-z]|[0-9]|[$-_@.&amp;+]|[!*\\(\\),]|(?:%[0-9a-f][0-9a-f]))+') # URLs\n",
    "\n",
    "        punctuation = list(string.punctuation)\n",
    "        stop = stopwords.words('english') + punctuation + ['via',\"\\r\",r'<[^>]+>']\n",
    "    #     print(stop)\n",
    "        terms_stop = [term for term in preprocess(tweet) if p.match(term)==None and term not in stop]\n",
    "    #     terms_stop = [term for term in preprocess(tweet) if term not in stop]\n",
    "        out=\" \".join(terms_stop)\n",
    "    return(out)"
   ]
  },
  {
   "cell_type": "code",
   "execution_count": 35,
   "metadata": {
    "collapsed": true
   },
   "outputs": [],
   "source": [
    "mytext=list(map(lambda tweet: remove_stop_words(tweet), tweets.text))"
   ]
  },
  {
   "cell_type": "code",
   "execution_count": 36,
   "metadata": {
    "collapsed": true
   },
   "outputs": [],
   "source": [
    "tweets[\"text\"]=mytext"
   ]
  },
  {
   "cell_type": "code",
   "execution_count": 37,
   "metadata": {
    "collapsed": true
   },
   "outputs": [],
   "source": [
    "user_loc=list(map(lambda tweet: remove_stop_words(tweet), tweets.user_loc))"
   ]
  },
  {
   "cell_type": "code",
   "execution_count": 38,
   "metadata": {
    "collapsed": true
   },
   "outputs": [],
   "source": [
    "tweets.user_loc=user_loc"
   ]
  },
  {
   "cell_type": "code",
   "execution_count": 39,
   "metadata": {
    "collapsed": true
   },
   "outputs": [],
   "source": [
    "tweets=tweets.loc[tweets.text!=\"\",]"
   ]
  },
  {
   "cell_type": "markdown",
   "metadata": {},
   "source": [
    "DataFrame.to_csv(path_or_buf=None, sep=', ', na_rep='', float_format=None, columns=None, header=True, index=True, index_label=None, mode='w', encoding=None, compression=None, quoting=None, quotechar='\"', line_terminator='\\n', chunksize=None, tupleize_cols=None, date_format=None, doublequote=True, escapechar=None, decimal='.')[source]¶"
   ]
  },
  {
   "cell_type": "code",
   "execution_count": 40,
   "metadata": {
    "collapsed": true
   },
   "outputs": [],
   "source": [
    "tweets.to_csv(\"../output/clean_data_4_22.csv\",encoding=\"utf-8\")"
   ]
  },
  {
   "cell_type": "code",
   "execution_count": 282,
   "metadata": {
    "collapsed": true
   },
   "outputs": [],
   "source": [
    "t=pd.read_csv(\"../output/clean_data_4_20.csv\",encoding=\"utf-8\")"
   ]
  },
  {
   "cell_type": "code",
   "execution_count": 48,
   "metadata": {
    "scrolled": true
   },
   "outputs": [
    {
     "ename": "NameError",
     "evalue": "name 't' is not defined",
     "output_type": "error",
     "traceback": [
      "\u001b[1;31m---------------------------------------------------------------------------\u001b[0m",
      "\u001b[1;31mNameError\u001b[0m                                 Traceback (most recent call last)",
      "\u001b[1;32m<ipython-input-48-5ff3849bac81>\u001b[0m in \u001b[0;36m<module>\u001b[1;34m()\u001b[0m\n\u001b[1;32m----> 1\u001b[1;33m \u001b[0mt\u001b[0m\u001b[1;33m.\u001b[0m\u001b[0mloc\u001b[0m\u001b[1;33m[\u001b[0m\u001b[0mt\u001b[0m\u001b[1;33m.\u001b[0m\u001b[0muser_name\u001b[0m\u001b[1;33m==\u001b[0m\u001b[1;34m\"Donald J. Trump\"\u001b[0m\u001b[1;33m,\u001b[0m\u001b[1;33m]\u001b[0m\u001b[1;33m\u001b[0m\u001b[0m\n\u001b[0m",
      "\u001b[1;31mNameError\u001b[0m: name 't' is not defined"
     ]
    }
   ],
   "source": [
    "t.loc[t.user_name==\"Donald J. Trump\",]"
   ]
  },
  {
   "cell_type": "code",
   "execution_count": null,
   "metadata": {
    "collapsed": true
   },
   "outputs": [],
   "source": []
  }
 ],
 "metadata": {
  "kernelspec": {
   "display_name": "Python 3",
   "language": "python",
   "name": "python3"
  },
  "language_info": {
   "codemirror_mode": {
    "name": "ipython",
    "version": 3
   },
   "file_extension": ".py",
   "mimetype": "text/x-python",
   "name": "python",
   "nbconvert_exporter": "python",
   "pygments_lexer": "ipython3",
   "version": "3.6.1"
  }
 },
 "nbformat": 4,
 "nbformat_minor": 2
}
