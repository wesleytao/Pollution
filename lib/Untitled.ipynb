{
 "cells": [
  {
   "cell_type": "code",
   "execution_count": 1,
   "metadata": {
    "collapsed": true
   },
   "outputs": [],
   "source": [
    "import pandas as pd"
   ]
  },
  {
   "cell_type": "code",
   "execution_count": 2,
   "metadata": {
    "collapsed": true
   },
   "outputs": [],
   "source": [
    "y2016s=pd.read_excel(\"../CMG history.xlsx\",sheet_name=\"2016-s\")\n",
    "y2017s=pd.read_excel(\"../CMG history.xlsx\",sheet_name=\"2017-s\")\n",
    "y2018s=pd.read_excel(\"../CMG history.xlsx\",sheet_name=\"2018-s\")\n",
    "y2017=pd.read_excel(\"../CMG history.xlsx\",sheet_name=\"2017\")\n",
    "y2018=pd.read_excel(\"../CMG history.xlsx\",sheet_name=\"2018\")\n",
    "y2016=pd.read_excel(\"../CMG history.xlsx\",sheet_name=\"2016\")"
   ]
  },
  {
   "cell_type": "code",
   "execution_count": 3,
   "metadata": {},
   "outputs": [
    {
     "data": {
      "text/html": [
       "<div>\n",
       "<style scoped>\n",
       "    .dataframe tbody tr th:only-of-type {\n",
       "        vertical-align: middle;\n",
       "    }\n",
       "\n",
       "    .dataframe tbody tr th {\n",
       "        vertical-align: top;\n",
       "    }\n",
       "\n",
       "    .dataframe thead th {\n",
       "        text-align: right;\n",
       "    }\n",
       "</style>\n",
       "<table border=\"1\" class=\"dataframe\">\n",
       "  <thead>\n",
       "    <tr style=\"text-align: right;\">\n",
       "      <th></th>\n",
       "      <th>Year</th>\n",
       "      <th>Name</th>\n",
       "      <th>ChinaHospital</th>\n",
       "      <th>Department</th>\n",
       "      <th>Code</th>\n",
       "    </tr>\n",
       "  </thead>\n",
       "  <tbody>\n",
       "    <tr>\n",
       "      <th>0</th>\n",
       "      <td>2016</td>\n",
       "      <td>庞一帆</td>\n",
       "      <td>北京大学医学部</td>\n",
       "      <td>内科</td>\n",
       "      <td>W01</td>\n",
       "    </tr>\n",
       "    <tr>\n",
       "      <th>1</th>\n",
       "      <td>2016</td>\n",
       "      <td>张程达</td>\n",
       "      <td>北京协和医科大学</td>\n",
       "      <td>内科</td>\n",
       "      <td>W01</td>\n",
       "    </tr>\n",
       "    <tr>\n",
       "      <th>2</th>\n",
       "      <td>2016</td>\n",
       "      <td>李翊嘉</td>\n",
       "      <td>北京协和医科大学</td>\n",
       "      <td>内科</td>\n",
       "      <td>U12</td>\n",
       "    </tr>\n",
       "    <tr>\n",
       "      <th>3</th>\n",
       "      <td>2016</td>\n",
       "      <td>易曦雁</td>\n",
       "      <td>华中科技大学同济医学院</td>\n",
       "      <td>神经科</td>\n",
       "      <td>U08</td>\n",
       "    </tr>\n",
       "    <tr>\n",
       "      <th>4</th>\n",
       "      <td>2016</td>\n",
       "      <td>谢晨成</td>\n",
       "      <td>华中科技大学同济医学院</td>\n",
       "      <td>内科</td>\n",
       "      <td>U07</td>\n",
       "    </tr>\n",
       "  </tbody>\n",
       "</table>\n",
       "</div>"
      ],
      "text/plain": [
       "   Year Name ChinaHospital Department Code\n",
       "0  2016  庞一帆       北京大学医学部         内科  W01\n",
       "1  2016  张程达      北京协和医科大学         内科  W01\n",
       "2  2016  李翊嘉      北京协和医科大学         内科  U12\n",
       "3  2016  易曦雁   华中科技大学同济医学院        神经科  U08\n",
       "4  2016  谢晨成   华中科技大学同济医学院         内科  U07"
      ]
     },
     "execution_count": 3,
     "metadata": {},
     "output_type": "execute_result"
    }
   ],
   "source": [
    "y2016s.head()"
   ]
  },
  {
   "cell_type": "code",
   "execution_count": 8,
   "metadata": {},
   "outputs": [
    {
     "data": {
      "text/html": [
       "<div>\n",
       "<style scoped>\n",
       "    .dataframe tbody tr th:only-of-type {\n",
       "        vertical-align: middle;\n",
       "    }\n",
       "\n",
       "    .dataframe tbody tr th {\n",
       "        vertical-align: top;\n",
       "    }\n",
       "\n",
       "    .dataframe thead th {\n",
       "        text-align: right;\n",
       "    }\n",
       "</style>\n",
       "<table border=\"1\" class=\"dataframe\">\n",
       "  <thead>\n",
       "    <tr style=\"text-align: right;\">\n",
       "      <th></th>\n",
       "      <th>Code</th>\n",
       "      <th>Hoscode</th>\n",
       "    </tr>\n",
       "  </thead>\n",
       "  <tbody>\n",
       "    <tr>\n",
       "      <th>0</th>\n",
       "      <td>B01</td>\n",
       "      <td>Baylor College of Medicine</td>\n",
       "    </tr>\n",
       "    <tr>\n",
       "      <th>1</th>\n",
       "      <td>B02</td>\n",
       "      <td>Bridgeport Hospital/Yale University Program</td>\n",
       "    </tr>\n",
       "    <tr>\n",
       "      <th>2</th>\n",
       "      <td>B03</td>\n",
       "      <td>Brookdale University Hospital and Medical Cent...</td>\n",
       "    </tr>\n",
       "    <tr>\n",
       "      <th>3</th>\n",
       "      <td>C01</td>\n",
       "      <td>Case Western Reserve University/University Hos...</td>\n",
       "    </tr>\n",
       "    <tr>\n",
       "      <th>4</th>\n",
       "      <td>C02</td>\n",
       "      <td>Cleveland Clinic Foundation</td>\n",
       "    </tr>\n",
       "  </tbody>\n",
       "</table>\n",
       "</div>"
      ],
      "text/plain": [
       "  Code                                            Hoscode\n",
       "0  B01                         Baylor College of Medicine\n",
       "1  B02        Bridgeport Hospital/Yale University Program\n",
       "2  B03  Brookdale University Hospital and Medical Cent...\n",
       "3  C01  Case Western Reserve University/University Hos...\n",
       "4  C02                        Cleveland Clinic Foundation"
      ]
     },
     "execution_count": 8,
     "metadata": {},
     "output_type": "execute_result"
    }
   ],
   "source": [
    "y2016.head()"
   ]
  },
  {
   "cell_type": "code",
   "execution_count": 4,
   "metadata": {
    "collapsed": true
   },
   "outputs": [],
   "source": [
    "m2016 = y2016s.merge(y2016,how='left',left_on=\"Code\",right_on='Code')\n",
    "m2017 = y2017s.merge(y2017,how='left',left_on=\"Code\",right_on='Code')\n",
    "m2018 = y2018s.merge(y2018,how='left',left_on=\"Code\",right_on='Code')"
   ]
  },
  {
   "cell_type": "code",
   "execution_count": 5,
   "metadata": {
    "collapsed": true
   },
   "outputs": [],
   "source": [
    "total=pd.concat([m2016,m2017,m2018])"
   ]
  },
  {
   "cell_type": "code",
   "execution_count": 7,
   "metadata": {},
   "outputs": [],
   "source": [
    "total.to_csv(\"total.csv\",encoding='GB18030',index=False)"
   ]
  }
 ],
 "metadata": {
  "kernelspec": {
   "display_name": "Python 3",
   "language": "python",
   "name": "python3"
  },
  "language_info": {
   "codemirror_mode": {
    "name": "ipython",
    "version": 3
   },
   "file_extension": ".py",
   "mimetype": "text/x-python",
   "name": "python",
   "nbconvert_exporter": "python",
   "pygments_lexer": "ipython3",
   "version": "3.6.1"
  }
 },
 "nbformat": 4,
 "nbformat_minor": 2
}
