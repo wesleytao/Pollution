{
 "cells": [
  {
   "cell_type": "code",
   "execution_count": 1,
   "metadata": {
    "collapsed": true
   },
   "outputs": [],
   "source": [
    "import pandas as pd\n",
    "import numpy as np\n",
    "from pandas import Index\n",
    "from datetime import datetime\n",
    "import sys\n",
    "sys._enablelegacywindowsfsencoding()"
   ]
  },
  {
   "cell_type": "code",
   "execution_count": 2,
   "metadata": {
    "collapsed": true
   },
   "outputs": [],
   "source": [
    "%load_ext pycodestyle_magic"
   ]
  },
  {
   "cell_type": "code",
   "execution_count": 3,
   "metadata": {
    "collapsed": true
   },
   "outputs": [],
   "source": [
    "def signal_process(table,event_var='PM25_Marseille_Longchamp',event_threshold = 40, duration = 6,var_name_list='air pollution'):\n",
    "    \"\"\"Find the spike in pm25 and plot a sliding window for google trend \"\"\"\n",
    "\n",
    "    index_list=np.where(table[event_var]>event_threshold)[0]\n",
    "    \n",
    "    # add first element\n",
    "    shrink_index_list = [index_list[0]]\n",
    "    date_set ={table.date[index_list[0]]}\n",
    "    \n",
    "    # exclude for the same day\n",
    "    for cnt in range(1,len(index_list)):\n",
    "        if table.date[index_list[cnt]] in date_set:\n",
    "            pass\n",
    "        else:\n",
    "            shrink_index_list.append(index_list[cnt].copy())\n",
    "            date_set.add(table.date[index_list[cnt]])\n",
    "    \n",
    "    bind_list = []\n",
    "    for start_index in shrink_index_list:\n",
    "        this_sequence = table.loc[range(start_index-2,start_index+duration),\n",
    "                                  var_name_list]\n",
    "        start_date = table.datetime[start_index]\n",
    "        tuples = list(zip([start_date]*(duration+2),range(-2,duration)))\n",
    "\n",
    "        this_sequence.index = pd.MultiIndex.from_tuples(tuples,names=['event_date_index','hour_index'])\n",
    "    #         this_sequence = (this_sequence- this_sequence.mean())/this_sequence.std()\n",
    "\n",
    "        bind_list.append(this_sequence)\n",
    "    new_table=pd.concat(bind_list)     \n",
    "    \n",
    "    return new_table"
   ]
  },
  {
   "cell_type": "code",
   "execution_count": 16,
   "metadata": {},
   "outputs": [],
   "source": [
    "parca_table =pd.read_csv(\"../stage/final_marseille.csv\")"
   ]
  },
  {
   "cell_type": "code",
   "execution_count": 18,
   "metadata": {},
   "outputs": [],
   "source": [
    "# parca_table.head()"
   ]
  },
  {
   "cell_type": "code",
   "execution_count": 19,
   "metadata": {
    "collapsed": true
   },
   "outputs": [],
   "source": [
    "# parca_table=pd.read_csv(\"../stage/parca_difficultés respiratoires_asthme_dyspnée_respiration_PM25_Marseille_Longchamp.csv\",encoding='utf-8')"
   ]
  },
  {
   "cell_type": "code",
   "execution_count": 5,
   "metadata": {
    "collapsed": true
   },
   "outputs": [],
   "source": [
    "parca_table.columns=Index(['Unnamed: 0', 'datetime', 'PM25_Marseille_Longchamp', 'date',\n",
    "       'difficultés respiratoires', 'difficultés respiratoires topic', 'isPartial', 'asthme',\n",
    "       'asthme topic', 'isPartial.1', 'dyspnée', 'dyspnée topic', 'isPartial.2',\n",
    "       'respiration', 'respiration topic', 'isPartial.3'],\n",
    "      dtype='object')"
   ]
  },
  {
   "cell_type": "code",
   "execution_count": 6,
   "metadata": {
    "collapsed": true
   },
   "outputs": [],
   "source": [
    "keyword_list = ['PM25_Marseille_Longchamp', 'difficultés respiratoires', 'difficultés respiratoires topic', 'asthme',\n",
    "       'asthme topic', 'dyspnée', 'dyspnée topic',  'respiration', 'respiration topic']"
   ]
  },
  {
   "cell_type": "code",
   "execution_count": 7,
   "metadata": {
    "collapsed": true
   },
   "outputs": [],
   "source": [
    "# datetime.strptime('2017-08-31 00:00:00',\"%Y-%m-%d %H:%M:%S\").date()"
   ]
  },
  {
   "cell_type": "code",
   "execution_count": 28,
   "metadata": {},
   "outputs": [],
   "source": [
    "parca_table['date']=list(map(lambda stringdate: datetime.strptime(stringdate,\"%Y-%m-%d %H:%M:%S\").date(),parca_table.datetime))"
   ]
  },
  {
   "cell_type": "code",
   "execution_count": 31,
   "metadata": {},
   "outputs": [],
   "source": [
    "# parca_tabl"
   ]
  },
  {
   "cell_type": "code",
   "execution_count": 32,
   "metadata": {},
   "outputs": [],
   "source": [
    "parca_control=parca_table.groupby(\"date\").filter(lambda x: np.all(x['PM25_Marseille_Longchamp']<35))"
   ]
  },
  {
   "cell_type": "code",
   "execution_count": 36,
   "metadata": {
    "collapsed": true
   },
   "outputs": [],
   "source": [
    "parca_treatment = parca_table.groupby(\"date\").filter(lambda x: np.any(x['PM25_Marseille_Longchamp']>35))"
   ]
  },
  {
   "cell_type": "code",
   "execution_count": 37,
   "metadata": {
    "collapsed": true
   },
   "outputs": [],
   "source": [
    "parca_treatment.to_csv(\"../stage/parca_treatment.csv\",index=False)"
   ]
  },
  {
   "cell_type": "code",
   "execution_count": 38,
   "metadata": {},
   "outputs": [
    {
     "data": {
      "text/html": [
       "<div>\n",
       "<style scoped>\n",
       "    .dataframe tbody tr th:only-of-type {\n",
       "        vertical-align: middle;\n",
       "    }\n",
       "\n",
       "    .dataframe tbody tr th {\n",
       "        vertical-align: top;\n",
       "    }\n",
       "\n",
       "    .dataframe thead th {\n",
       "        text-align: right;\n",
       "    }\n",
       "</style>\n",
       "<table border=\"1\" class=\"dataframe\">\n",
       "  <thead>\n",
       "    <tr style=\"text-align: right;\">\n",
       "      <th></th>\n",
       "      <th>Unnamed: 0</th>\n",
       "      <th>datetime</th>\n",
       "      <th>PM25_Marseille_Longchamp</th>\n",
       "      <th>difficultés respiratoires</th>\n",
       "      <th>asthme</th>\n",
       "      <th>dyspnée</th>\n",
       "      <th>respiration</th>\n",
       "      <th>banane</th>\n",
       "      <th>banane_topic</th>\n",
       "      <th>la diarrhée</th>\n",
       "      <th>la diarrhée_topic</th>\n",
       "      <th>pollution de l’air</th>\n",
       "      <th>pollution de l’air_topic</th>\n",
       "      <th>date</th>\n",
       "    </tr>\n",
       "  </thead>\n",
       "  <tbody>\n",
       "    <tr>\n",
       "      <th>725</th>\n",
       "      <td>732</td>\n",
       "      <td>2017-09-30 00:00:00</td>\n",
       "      <td>15.0</td>\n",
       "      <td>0</td>\n",
       "      <td>0</td>\n",
       "      <td>0</td>\n",
       "      <td>18</td>\n",
       "      <td>28</td>\n",
       "      <td>38</td>\n",
       "      <td>NaN</td>\n",
       "      <td>NaN</td>\n",
       "      <td>NaN</td>\n",
       "      <td>NaN</td>\n",
       "      <td>2017-09-30</td>\n",
       "    </tr>\n",
       "    <tr>\n",
       "      <th>726</th>\n",
       "      <td>733</td>\n",
       "      <td>2017-09-30 01:00:00</td>\n",
       "      <td>23.0</td>\n",
       "      <td>0</td>\n",
       "      <td>0</td>\n",
       "      <td>0</td>\n",
       "      <td>0</td>\n",
       "      <td>14</td>\n",
       "      <td>14</td>\n",
       "      <td>NaN</td>\n",
       "      <td>NaN</td>\n",
       "      <td>NaN</td>\n",
       "      <td>NaN</td>\n",
       "      <td>2017-09-30</td>\n",
       "    </tr>\n",
       "    <tr>\n",
       "      <th>727</th>\n",
       "      <td>734</td>\n",
       "      <td>2017-09-30 02:00:00</td>\n",
       "      <td>16.0</td>\n",
       "      <td>0</td>\n",
       "      <td>57</td>\n",
       "      <td>0</td>\n",
       "      <td>29</td>\n",
       "      <td>15</td>\n",
       "      <td>15</td>\n",
       "      <td>NaN</td>\n",
       "      <td>NaN</td>\n",
       "      <td>NaN</td>\n",
       "      <td>NaN</td>\n",
       "      <td>2017-09-30</td>\n",
       "    </tr>\n",
       "    <tr>\n",
       "      <th>728</th>\n",
       "      <td>735</td>\n",
       "      <td>2017-09-30 03:00:00</td>\n",
       "      <td>16.0</td>\n",
       "      <td>0</td>\n",
       "      <td>0</td>\n",
       "      <td>0</td>\n",
       "      <td>45</td>\n",
       "      <td>37</td>\n",
       "      <td>49</td>\n",
       "      <td>NaN</td>\n",
       "      <td>NaN</td>\n",
       "      <td>NaN</td>\n",
       "      <td>NaN</td>\n",
       "      <td>2017-09-30</td>\n",
       "    </tr>\n",
       "    <tr>\n",
       "      <th>729</th>\n",
       "      <td>736</td>\n",
       "      <td>2017-09-30 04:00:00</td>\n",
       "      <td>15.0</td>\n",
       "      <td>0</td>\n",
       "      <td>24</td>\n",
       "      <td>0</td>\n",
       "      <td>24</td>\n",
       "      <td>19</td>\n",
       "      <td>26</td>\n",
       "      <td>NaN</td>\n",
       "      <td>NaN</td>\n",
       "      <td>NaN</td>\n",
       "      <td>NaN</td>\n",
       "      <td>2017-09-30</td>\n",
       "    </tr>\n",
       "  </tbody>\n",
       "</table>\n",
       "</div>"
      ],
      "text/plain": [
       "     Unnamed: 0             datetime  PM25_Marseille_Longchamp  \\\n",
       "725         732  2017-09-30 00:00:00                      15.0   \n",
       "726         733  2017-09-30 01:00:00                      23.0   \n",
       "727         734  2017-09-30 02:00:00                      16.0   \n",
       "728         735  2017-09-30 03:00:00                      16.0   \n",
       "729         736  2017-09-30 04:00:00                      15.0   \n",
       "\n",
       "     difficultés respiratoires  asthme  dyspnée  respiration  banane  \\\n",
       "725                          0       0        0           18      28   \n",
       "726                          0       0        0            0      14   \n",
       "727                          0      57        0           29      15   \n",
       "728                          0       0        0           45      37   \n",
       "729                          0      24        0           24      19   \n",
       "\n",
       "     banane_topic  la diarrhée  la diarrhée_topic  pollution de l’air  \\\n",
       "725            38          NaN                NaN                 NaN   \n",
       "726            14          NaN                NaN                 NaN   \n",
       "727            15          NaN                NaN                 NaN   \n",
       "728            49          NaN                NaN                 NaN   \n",
       "729            26          NaN                NaN                 NaN   \n",
       "\n",
       "     pollution de l’air_topic        date  \n",
       "725                       NaN  2017-09-30  \n",
       "726                       NaN  2017-09-30  \n",
       "727                       NaN  2017-09-30  \n",
       "728                       NaN  2017-09-30  \n",
       "729                       NaN  2017-09-30  "
      ]
     },
     "execution_count": 38,
     "metadata": {},
     "output_type": "execute_result"
    }
   ],
   "source": [
    "parca_treatment.head()"
   ]
  },
  {
   "cell_type": "code",
   "execution_count": 33,
   "metadata": {},
   "outputs": [],
   "source": [
    "parca_control.to_csv('../stage/parca_control.csv',index=False)"
   ]
  },
  {
   "cell_type": "code",
   "execution_count": 38,
   "metadata": {},
   "outputs": [
    {
     "ename": "NameError",
     "evalue": "name 'signal_process' is not defined",
     "output_type": "error",
     "traceback": [
      "\u001b[1;31m---------------------------------------------------------------------------\u001b[0m",
      "\u001b[1;31mNameError\u001b[0m                                 Traceback (most recent call last)",
      "\u001b[1;32m<ipython-input-38-f1933f38277b>\u001b[0m in \u001b[0;36m<module>\u001b[1;34m()\u001b[0m\n\u001b[1;32m----> 1\u001b[1;33m \u001b[0mnew_parca\u001b[0m\u001b[1;33m=\u001b[0m\u001b[0msignal_process\u001b[0m\u001b[1;33m(\u001b[0m\u001b[0mparca_table\u001b[0m\u001b[1;33m,\u001b[0m\u001b[0mevent_threshold\u001b[0m\u001b[1;33m=\u001b[0m\u001b[1;36m35\u001b[0m\u001b[1;33m,\u001b[0m\u001b[0mduration\u001b[0m\u001b[1;33m=\u001b[0m\u001b[1;36m12\u001b[0m\u001b[1;33m,\u001b[0m\u001b[0mvar_name_list\u001b[0m\u001b[1;33m=\u001b[0m\u001b[0mkeyword_list\u001b[0m\u001b[1;33m)\u001b[0m\u001b[1;33m\u001b[0m\u001b[0m\n\u001b[0m",
      "\u001b[1;31mNameError\u001b[0m: name 'signal_process' is not defined"
     ]
    }
   ],
   "source": [
    "new_parca=signal_process(parca_table,event_threshold=35,duration=12,var_name_list=keyword_list)"
   ]
  },
  {
   "cell_type": "code",
   "execution_count": 16,
   "metadata": {
    "collapsed": true
   },
   "outputs": [],
   "source": [
    "new_parca.to_csv(\"../output/new_parca.csv\")"
   ]
  },
  {
   "cell_type": "code",
   "execution_count": 17,
   "metadata": {
    "collapsed": true
   },
   "outputs": [],
   "source": [
    "parif_table = pd.read_csv(\"../stage/parif_difficultés respiratoires_asthme_dyspnée_respiration_PA04C_PM10.csv\")"
   ]
  },
  {
   "cell_type": "code",
   "execution_count": 20,
   "metadata": {
    "collapsed": true
   },
   "outputs": [],
   "source": [
    "parif_kw = ['PA04C_PM25',\n",
    "            'PA04C_PM10',\n",
    "            'PA04C_O3',\n",
    "            'PA04C_NO2',\n",
    "            'PA04C_CO',\n",
    "            'difficultés respiratoires',\n",
    "            'asthme',\n",
    "            'dyspnée',\n",
    "            'respiration']"
   ]
  },
  {
   "cell_type": "code",
   "execution_count": 22,
   "metadata": {
    "collapsed": true
   },
   "outputs": [],
   "source": [
    "new_parif =signal_process(parif_table,event_var='PA04C_PM25',event_threshold =35,duration =12,var_name_list = parif_kw )"
   ]
  },
  {
   "cell_type": "code",
   "execution_count": 23,
   "metadata": {},
   "outputs": [
    {
     "data": {
      "text/html": [
       "<div>\n",
       "<style scoped>\n",
       "    .dataframe tbody tr th:only-of-type {\n",
       "        vertical-align: middle;\n",
       "    }\n",
       "\n",
       "    .dataframe tbody tr th {\n",
       "        vertical-align: top;\n",
       "    }\n",
       "\n",
       "    .dataframe thead th {\n",
       "        text-align: right;\n",
       "    }\n",
       "</style>\n",
       "<table border=\"1\" class=\"dataframe\">\n",
       "  <thead>\n",
       "    <tr style=\"text-align: right;\">\n",
       "      <th></th>\n",
       "      <th></th>\n",
       "      <th>PA04C_PM25</th>\n",
       "      <th>PA04C_PM10</th>\n",
       "      <th>PA04C_O3</th>\n",
       "      <th>PA04C_NO2</th>\n",
       "      <th>PA04C_CO</th>\n",
       "      <th>difficultés respiratoires</th>\n",
       "      <th>asthme</th>\n",
       "      <th>dyspnée</th>\n",
       "      <th>respiration</th>\n",
       "    </tr>\n",
       "    <tr>\n",
       "      <th>event_date_index</th>\n",
       "      <th>hour_index</th>\n",
       "      <th></th>\n",
       "      <th></th>\n",
       "      <th></th>\n",
       "      <th></th>\n",
       "      <th></th>\n",
       "      <th></th>\n",
       "      <th></th>\n",
       "      <th></th>\n",
       "      <th></th>\n",
       "    </tr>\n",
       "  </thead>\n",
       "  <tbody>\n",
       "    <tr>\n",
       "      <th rowspan=\"5\" valign=\"top\">2018-02-06 19:00:00</th>\n",
       "      <th>-2</th>\n",
       "      <td>35.0</td>\n",
       "      <td>37.0</td>\n",
       "      <td>6.0</td>\n",
       "      <td>54.0</td>\n",
       "      <td>500.0</td>\n",
       "      <td>0</td>\n",
       "      <td>19</td>\n",
       "      <td>6</td>\n",
       "      <td>27</td>\n",
       "    </tr>\n",
       "    <tr>\n",
       "      <th>-1</th>\n",
       "      <td>35.0</td>\n",
       "      <td>37.0</td>\n",
       "      <td>5.0</td>\n",
       "      <td>55.0</td>\n",
       "      <td>500.0</td>\n",
       "      <td>0</td>\n",
       "      <td>18</td>\n",
       "      <td>5</td>\n",
       "      <td>32</td>\n",
       "    </tr>\n",
       "    <tr>\n",
       "      <th>0</th>\n",
       "      <td>37.0</td>\n",
       "      <td>38.0</td>\n",
       "      <td>4.0</td>\n",
       "      <td>54.0</td>\n",
       "      <td>500.0</td>\n",
       "      <td>0</td>\n",
       "      <td>15</td>\n",
       "      <td>2</td>\n",
       "      <td>28</td>\n",
       "    </tr>\n",
       "    <tr>\n",
       "      <th>1</th>\n",
       "      <td>37.0</td>\n",
       "      <td>39.0</td>\n",
       "      <td>5.0</td>\n",
       "      <td>54.0</td>\n",
       "      <td>600.0</td>\n",
       "      <td>0</td>\n",
       "      <td>25</td>\n",
       "      <td>4</td>\n",
       "      <td>33</td>\n",
       "    </tr>\n",
       "    <tr>\n",
       "      <th>2</th>\n",
       "      <td>36.0</td>\n",
       "      <td>39.0</td>\n",
       "      <td>3.0</td>\n",
       "      <td>54.0</td>\n",
       "      <td>600.0</td>\n",
       "      <td>0</td>\n",
       "      <td>17</td>\n",
       "      <td>1</td>\n",
       "      <td>39</td>\n",
       "    </tr>\n",
       "  </tbody>\n",
       "</table>\n",
       "</div>"
      ],
      "text/plain": [
       "                                PA04C_PM25  PA04C_PM10  PA04C_O3  PA04C_NO2  \\\n",
       "event_date_index    hour_index                                                \n",
       "2018-02-06 19:00:00 -2                35.0        37.0       6.0       54.0   \n",
       "                    -1                35.0        37.0       5.0       55.0   \n",
       "                     0                37.0        38.0       4.0       54.0   \n",
       "                     1                37.0        39.0       5.0       54.0   \n",
       "                     2                36.0        39.0       3.0       54.0   \n",
       "\n",
       "                                PA04C_CO  difficultés respiratoires  asthme  \\\n",
       "event_date_index    hour_index                                                \n",
       "2018-02-06 19:00:00 -2             500.0                          0      19   \n",
       "                    -1             500.0                          0      18   \n",
       "                     0             500.0                          0      15   \n",
       "                     1             600.0                          0      25   \n",
       "                     2             600.0                          0      17   \n",
       "\n",
       "                                dyspnée  respiration  \n",
       "event_date_index    hour_index                        \n",
       "2018-02-06 19:00:00 -2                6           27  \n",
       "                    -1                5           32  \n",
       "                     0                2           28  \n",
       "                     1                4           33  \n",
       "                     2                1           39  "
      ]
     },
     "execution_count": 23,
     "metadata": {},
     "output_type": "execute_result"
    }
   ],
   "source": [
    "new_parif.head()"
   ]
  },
  {
   "cell_type": "code",
   "execution_count": 24,
   "metadata": {
    "collapsed": true
   },
   "outputs": [],
   "source": [
    "new_parif.to_csv(\"../output/new_parif.csv\")"
   ]
  }
 ],
 "metadata": {
  "kernelspec": {
   "display_name": "Python 3",
   "language": "python",
   "name": "python3"
  },
  "language_info": {
   "codemirror_mode": {
    "name": "ipython",
    "version": 3
   },
   "file_extension": ".py",
   "mimetype": "text/x-python",
   "name": "python",
   "nbconvert_exporter": "python",
   "pygments_lexer": "ipython3",
   "version": "3.6.1"
  }
 },
 "nbformat": 4,
 "nbformat_minor": 2
}
