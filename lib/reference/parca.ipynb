{
 "cells": [
  {
   "cell_type": "code",
   "execution_count": 1,
   "metadata": {
    "collapsed": true
   },
   "outputs": [],
   "source": [
    "import pandas as pd\n",
    "from datetime import datetime\n",
    "from pandas import Index"
   ]
  },
  {
   "cell_type": "code",
   "execution_count": 40,
   "metadata": {},
   "outputs": [],
   "source": [
    "with open (\"data/airparca_2015070120180824_pm25_d.csv\", \"r\") as myfile:\n",
    "    data=myfile.read()"
   ]
  },
  {
   "cell_type": "code",
   "execution_count": 43,
   "metadata": {},
   "outputs": [],
   "source": [
    "data=data.replace('\"','').replace(\",\",'')"
   ]
  },
  {
   "cell_type": "code",
   "execution_count": 45,
   "metadata": {},
   "outputs": [],
   "source": [
    "with open('output/temp_airparca_2015070120180824_pm25_d.csv','w') as myfile:\n",
    "    myfile.write(data)"
   ]
  },
  {
   "cell_type": "code",
   "execution_count": 46,
   "metadata": {},
   "outputs": [
    {
     "data": {
      "text/html": [
       "<div>\n",
       "<style scoped>\n",
       "    .dataframe tbody tr th:only-of-type {\n",
       "        vertical-align: middle;\n",
       "    }\n",
       "\n",
       "    .dataframe tbody tr th {\n",
       "        vertical-align: top;\n",
       "    }\n",
       "\n",
       "    .dataframe thead th {\n",
       "        text-align: right;\n",
       "    }\n",
       "</style>\n",
       "<table border=\"1\" class=\"dataframe\">\n",
       "  <thead>\n",
       "    <tr style=\"text-align: right;\">\n",
       "      <th></th>\n",
       "      <th>Station</th>\n",
       "      <th>Polluant</th>\n",
       "      <th>Mesure</th>\n",
       "      <th>Unité</th>\n",
       "      <th>01/07/2015</th>\n",
       "      <th>02/07/2015</th>\n",
       "      <th>03/07/2015</th>\n",
       "      <th>04/07/2015</th>\n",
       "      <th>05/07/2015</th>\n",
       "      <th>06/07/2015</th>\n",
       "      <th>...</th>\n",
       "      <th>21/07/2018</th>\n",
       "      <th>22/07/2018</th>\n",
       "      <th>23/07/2018</th>\n",
       "      <th>24/07/2018</th>\n",
       "      <th>25/07/2018</th>\n",
       "      <th>26/07/2018</th>\n",
       "      <th>27/07/2018</th>\n",
       "      <th>28/07/2018</th>\n",
       "      <th>29/07/2018</th>\n",
       "      <th>30/07/2018</th>\n",
       "    </tr>\n",
       "  </thead>\n",
       "  <tbody>\n",
       "    <tr>\n",
       "      <th>0</th>\n",
       "      <td>Manosque</td>\n",
       "      <td>Particules PM25</td>\n",
       "      <td>Particules PM2.5</td>\n",
       "      <td>µg/m³</td>\n",
       "      <td>14</td>\n",
       "      <td>16</td>\n",
       "      <td>15</td>\n",
       "      <td>16</td>\n",
       "      <td>14</td>\n",
       "      <td>17</td>\n",
       "      <td>...</td>\n",
       "      <td>-</td>\n",
       "      <td>-</td>\n",
       "      <td>-</td>\n",
       "      <td>-</td>\n",
       "      <td>-</td>\n",
       "      <td>-</td>\n",
       "      <td>-</td>\n",
       "      <td>-</td>\n",
       "      <td>-</td>\n",
       "      <td>-</td>\n",
       "    </tr>\n",
       "    <tr>\n",
       "      <th>1</th>\n",
       "      <td>Obs Haute-Provence</td>\n",
       "      <td>Particules PM25</td>\n",
       "      <td>Particules PM2.5</td>\n",
       "      <td>µg/m³</td>\n",
       "      <td>14</td>\n",
       "      <td>14</td>\n",
       "      <td>14</td>\n",
       "      <td>17</td>\n",
       "      <td>13</td>\n",
       "      <td>19</td>\n",
       "      <td>...</td>\n",
       "      <td>6</td>\n",
       "      <td>8</td>\n",
       "      <td>9</td>\n",
       "      <td>14</td>\n",
       "      <td>13</td>\n",
       "      <td>11</td>\n",
       "      <td>13</td>\n",
       "      <td>13</td>\n",
       "      <td>12</td>\n",
       "      <td>14</td>\n",
       "    </tr>\n",
       "    <tr>\n",
       "      <th>2</th>\n",
       "      <td>Gap Commanderie</td>\n",
       "      <td>Particules PM25</td>\n",
       "      <td>Particules PM2.5</td>\n",
       "      <td>µg/m³</td>\n",
       "      <td>17</td>\n",
       "      <td>17</td>\n",
       "      <td>16</td>\n",
       "      <td>18</td>\n",
       "      <td>17</td>\n",
       "      <td>18</td>\n",
       "      <td>...</td>\n",
       "      <td>7</td>\n",
       "      <td>9</td>\n",
       "      <td>10</td>\n",
       "      <td>12</td>\n",
       "      <td>11</td>\n",
       "      <td>9</td>\n",
       "      <td>12</td>\n",
       "      <td>16</td>\n",
       "      <td>13</td>\n",
       "      <td>12</td>\n",
       "    </tr>\n",
       "    <tr>\n",
       "      <th>3</th>\n",
       "      <td>Gap Jean Jaures</td>\n",
       "      <td>Particules PM25</td>\n",
       "      <td>Particules PM2.5</td>\n",
       "      <td>µg/m³</td>\n",
       "      <td>17</td>\n",
       "      <td>16</td>\n",
       "      <td>18</td>\n",
       "      <td>18</td>\n",
       "      <td>17</td>\n",
       "      <td>18</td>\n",
       "      <td>...</td>\n",
       "      <td>6</td>\n",
       "      <td>10</td>\n",
       "      <td>11</td>\n",
       "      <td>14</td>\n",
       "      <td>11</td>\n",
       "      <td>7</td>\n",
       "      <td>11</td>\n",
       "      <td>17</td>\n",
       "      <td>12</td>\n",
       "      <td>12</td>\n",
       "    </tr>\n",
       "    <tr>\n",
       "      <th>4</th>\n",
       "      <td>Nice_Port</td>\n",
       "      <td>Particules PM25</td>\n",
       "      <td>Particules PM2.5</td>\n",
       "      <td>µg/m³</td>\n",
       "      <td>-</td>\n",
       "      <td>-</td>\n",
       "      <td>-</td>\n",
       "      <td>-</td>\n",
       "      <td>-</td>\n",
       "      <td>-</td>\n",
       "      <td>...</td>\n",
       "      <td>14</td>\n",
       "      <td>12</td>\n",
       "      <td>9</td>\n",
       "      <td>13</td>\n",
       "      <td>-</td>\n",
       "      <td>-</td>\n",
       "      <td>-</td>\n",
       "      <td>-</td>\n",
       "      <td>-</td>\n",
       "      <td>-</td>\n",
       "    </tr>\n",
       "  </tbody>\n",
       "</table>\n",
       "<p>5 rows × 1130 columns</p>\n",
       "</div>"
      ],
      "text/plain": [
       "              Station         Polluant            Mesure  Unité 01/07/2015  \\\n",
       "0            Manosque  Particules PM25  Particules PM2.5  µg/m³         14   \n",
       "1  Obs Haute-Provence  Particules PM25  Particules PM2.5  µg/m³         14   \n",
       "2     Gap Commanderie  Particules PM25  Particules PM2.5  µg/m³         17   \n",
       "3     Gap Jean Jaures  Particules PM25  Particules PM2.5  µg/m³         17   \n",
       "4           Nice_Port  Particules PM25  Particules PM2.5  µg/m³          -   \n",
       "\n",
       "  02/07/2015 03/07/2015 04/07/2015 05/07/2015 06/07/2015    ...      \\\n",
       "0         16         15         16         14         17    ...       \n",
       "1         14         14         17         13         19    ...       \n",
       "2         17         16         18         17         18    ...       \n",
       "3         16         18         18         17         18    ...       \n",
       "4          -          -          -          -          -    ...       \n",
       "\n",
       "  21/07/2018 22/07/2018 23/07/2018 24/07/2018 25/07/2018 26/07/2018  \\\n",
       "0          -          -          -          -          -          -   \n",
       "1          6          8          9         14         13         11   \n",
       "2          7          9         10         12         11          9   \n",
       "3          6         10         11         14         11          7   \n",
       "4         14         12          9         13          -          -   \n",
       "\n",
       "  27/07/2018 28/07/2018 29/07/2018 30/07/2018  \n",
       "0          -          -          -          -  \n",
       "1         13         13         12         14  \n",
       "2         12         16         13         12  \n",
       "3         11         17         12         12  \n",
       "4          -          -          -          -  \n",
       "\n",
       "[5 rows x 1130 columns]"
      ]
     },
     "execution_count": 46,
     "metadata": {},
     "output_type": "execute_result"
    }
   ],
   "source": [
    "parca_table=pd.read_csv(\"output/modified_airparca_2015070120180824_pm25_d.csv\",sep=';')\n",
    "# parca_table=parca_table.drop(columns=['Polluant','Mesure'])\n",
    "parca_table.head()"
   ]
  },
  {
   "cell_type": "code",
   "execution_count": 48,
   "metadata": {},
   "outputs": [],
   "source": [
    "parca_table=parca_table.drop(columns=['Polluant','Mesure','Unité'])"
   ]
  },
  {
   "cell_type": "code",
   "execution_count": 56,
   "metadata": {},
   "outputs": [],
   "source": [
    "parca_table=parca_table.set_index(parca_table['Station']).drop(columns='Station').transpose()"
   ]
  },
  {
   "cell_type": "code",
   "execution_count": 60,
   "metadata": {},
   "outputs": [],
   "source": [
    "parca_table.columns.name=\"date\""
   ]
  },
  {
   "cell_type": "code",
   "execution_count": 70,
   "metadata": {
    "collapsed": true
   },
   "outputs": [],
   "source": [
    "def converttype(v):\n",
    "    if v =='-':\n",
    "        return None\n",
    "    else:\n",
    "        return int(v)"
   ]
  },
  {
   "cell_type": "code",
   "execution_count": 72,
   "metadata": {},
   "outputs": [],
   "source": [
    "parca_table=parca_table.applymap(converttype)"
   ]
  },
  {
   "cell_type": "code",
   "execution_count": 73,
   "metadata": {},
   "outputs": [],
   "source": [
    "parca_table.to_csv(\"output/parca_20150107-20180730_pm25.csv\")"
   ]
  },
  {
   "cell_type": "code",
   "execution_count": 64,
   "metadata": {},
   "outputs": [],
   "source": [
    "trend=pd.read_csv(\"data/ggtrend_2018050120180801_alpe_pollution_d.csv\")\n",
    "trend=trend.reset_index().drop(0,axis=0)\n",
    "trend.columns=Index(['date', 'air pollution'], dtype='object')\n",
    "# trend['date time']=list(map(lambda string: str(datetime.strptime(string,'%Y-%m-%dT%H')),trend['date time']))\n",
    "trend.to_csv(\"output/ggtrend_2018050120180801_alpe_pollution_d.csv\")"
   ]
  },
  {
   "cell_type": "code",
   "execution_count": 65,
   "metadata": {},
   "outputs": [
    {
     "data": {
      "text/html": [
       "<div>\n",
       "<style scoped>\n",
       "    .dataframe tbody tr th:only-of-type {\n",
       "        vertical-align: middle;\n",
       "    }\n",
       "\n",
       "    .dataframe tbody tr th {\n",
       "        vertical-align: top;\n",
       "    }\n",
       "\n",
       "    .dataframe thead th {\n",
       "        text-align: right;\n",
       "    }\n",
       "</style>\n",
       "<table border=\"1\" class=\"dataframe\">\n",
       "  <thead>\n",
       "    <tr style=\"text-align: right;\">\n",
       "      <th></th>\n",
       "      <th>date</th>\n",
       "      <th>air pollution</th>\n",
       "    </tr>\n",
       "  </thead>\n",
       "  <tbody>\n",
       "    <tr>\n",
       "      <th>1</th>\n",
       "      <td>2018-05-01</td>\n",
       "      <td>0</td>\n",
       "    </tr>\n",
       "    <tr>\n",
       "      <th>2</th>\n",
       "      <td>2018-05-02</td>\n",
       "      <td>29</td>\n",
       "    </tr>\n",
       "    <tr>\n",
       "      <th>3</th>\n",
       "      <td>2018-05-03</td>\n",
       "      <td>29</td>\n",
       "    </tr>\n",
       "    <tr>\n",
       "      <th>4</th>\n",
       "      <td>2018-05-04</td>\n",
       "      <td>0</td>\n",
       "    </tr>\n",
       "    <tr>\n",
       "      <th>5</th>\n",
       "      <td>2018-05-05</td>\n",
       "      <td>100</td>\n",
       "    </tr>\n",
       "  </tbody>\n",
       "</table>\n",
       "</div>"
      ],
      "text/plain": [
       "         date air pollution\n",
       "1  2018-05-01             0\n",
       "2  2018-05-02            29\n",
       "3  2018-05-03            29\n",
       "4  2018-05-04             0\n",
       "5  2018-05-05           100"
      ]
     },
     "execution_count": 65,
     "metadata": {},
     "output_type": "execute_result"
    }
   ],
   "source": [
    "trend.head()"
   ]
  }
 ],
 "metadata": {
  "kernelspec": {
   "display_name": "Python 3",
   "language": "python",
   "name": "python3"
  },
  "language_info": {
   "codemirror_mode": {
    "name": "ipython",
    "version": 3
   },
   "file_extension": ".py",
   "mimetype": "text/x-python",
   "name": "python",
   "nbconvert_exporter": "python",
   "pygments_lexer": "ipython3",
   "version": "3.6.4"
  }
 },
 "nbformat": 4,
 "nbformat_minor": 2
}
