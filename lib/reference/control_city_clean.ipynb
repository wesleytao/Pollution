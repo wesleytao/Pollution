{
 "cells": [
  {
   "cell_type": "code",
   "execution_count": 39,
   "metadata": {
    "collapsed": true
   },
   "outputs": [],
   "source": [
    "import pandas as pd\n",
    "import numpy as np\n",
    "from pandas import Index\n",
    "from datetime import datetime"
   ]
  },
  {
   "cell_type": "code",
   "execution_count": 10,
   "metadata": {
    "collapsed": true
   },
   "outputs": [],
   "source": [
    "file_path = \"../data/Evreux.txt\""
   ]
  },
  {
   "cell_type": "code",
   "execution_count": 16,
   "metadata": {
    "collapsed": true
   },
   "outputs": [],
   "source": [
    "with open(\"../data/Evreux.txt\",mode='r') as f:\n",
    "    a=f.readlines()"
   ]
  },
  {
   "cell_type": "code",
   "execution_count": 18,
   "metadata": {},
   "outputs": [
    {
     "data": {
      "text/plain": [
       "['% Country: France\\n',\n",
       " '% City: Évreux\\n',\n",
       " '% City (ASCII): Evreux\\n',\n",
       " '% Region: Normandy\\n',\n",
       " '% Region (ASCII): Normandy\\n',\n",
       " '% Population: 57795\\n',\n",
       " '% Latitude: 49.0241\\n',\n",
       " '% Longitude: 1.1508\\n',\n",
       " '% Time Zone: Europe/Paris\\n']"
      ]
     },
     "execution_count": 18,
     "metadata": {},
     "output_type": "execute_result"
    }
   ],
   "source": [
    "a[0:9]"
   ]
  },
  {
   "cell_type": "code",
   "execution_count": 30,
   "metadata": {
    "collapsed": true
   },
   "outputs": [],
   "source": [
    "Evreux = pd.DataFrame([string.split('\\t') for string in a[10:]])"
   ]
  },
  {
   "cell_type": "code",
   "execution_count": 34,
   "metadata": {
    "collapsed": true
   },
   "outputs": [],
   "source": [
    "Evreux.columns=Index(['Year', 'Month', 'Day', 'UTC Hour', 'PM2.5', 'PM10_mask',\n",
    "       'Retrospective'],\n",
    "      dtype='object')"
   ]
  },
  {
   "cell_type": "code",
   "execution_count": 37,
   "metadata": {
    "collapsed": true
   },
   "outputs": [],
   "source": [
    "Evreux.drop(columns ='Retrospective',inplace=True)"
   ]
  },
  {
   "cell_type": "code",
   "execution_count": 46,
   "metadata": {
    "collapsed": true
   },
   "outputs": [],
   "source": [
    "Evreux['datetime']=list(map(lambda year,month,day,hour :\n",
    "    datetime(year=int(year),month=int(month),day=int(day),hour=int(hour)),\n",
    "    Evreux['Year'],Evreux['Month'],Evreux['Day'],Evreux['UTC Hour']))"
   ]
  },
  {
   "cell_type": "code",
   "execution_count": null,
   "metadata": {
    "collapsed": true
   },
   "outputs": [],
   "source": [
    "Evreux.to_csv(\"../stage/evreux.csv\",index=False)"
   ]
  },
  {
   "cell_type": "code",
   "execution_count": 55,
   "metadata": {
    "collapsed": true
   },
   "outputs": [],
   "source": [
    "def clean(path=\"../data/Limoges.txt\"):\n",
    "    with open(path,mode='r') as f:\n",
    "        a=f.readlines()\n",
    "    mydata = pd.DataFrame([string.split('\\t') for string in a[10:]])\n",
    "    mydata.columns=Index(['Year', 'Month', 'Day', 'UTC Hour', 'PM2.5', 'PM10_mask',\n",
    "           'Retrospective'],\n",
    "          dtype='object')\n",
    "\n",
    "    mydata.drop(columns ='Retrospective',inplace=True)\n",
    "\n",
    "    mydata['datetime']=list(map(lambda year,month,day,hour :\n",
    "        datetime(year=int(year),month=int(month),day=int(day),hour=int(hour)),\n",
    "        mydata['Year'],mydata['Month'],mydata['Day'],mydata['UTC Hour']))\n",
    "    return [a[0:9],mydata]"
   ]
  },
  {
   "cell_type": "code",
   "execution_count": 58,
   "metadata": {
    "collapsed": true
   },
   "outputs": [],
   "source": [
    "Limoges=clean()[1]"
   ]
  },
  {
   "cell_type": "code",
   "execution_count": 59,
   "metadata": {
    "collapsed": true
   },
   "outputs": [],
   "source": [
    "Limoges.to_csv(\"../stage/limoges.csv\",index=False)"
   ]
  },
  {
   "cell_type": "code",
   "execution_count": 60,
   "metadata": {
    "collapsed": true
   },
   "outputs": [],
   "source": [
    "Caen=clean(\"../data/Caen.txt\")[1]"
   ]
  },
  {
   "cell_type": "code",
   "execution_count": 61,
   "metadata": {
    "collapsed": true
   },
   "outputs": [],
   "source": [
    "Caen.to_csv(\"../stage/Caem.csv\",index=False)"
   ]
  }
 ],
 "metadata": {
  "kernelspec": {
   "display_name": "Python 3",
   "language": "python",
   "name": "python3"
  },
  "language_info": {
   "codemirror_mode": {
    "name": "ipython",
    "version": 3
   },
   "file_extension": ".py",
   "mimetype": "text/x-python",
   "name": "python",
   "nbconvert_exporter": "python",
   "pygments_lexer": "ipython3",
   "version": "3.6.1"
  }
 },
 "nbformat": 4,
 "nbformat_minor": 2
}
