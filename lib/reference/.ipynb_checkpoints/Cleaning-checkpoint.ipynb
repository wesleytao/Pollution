{
 "cells": [
  {
   "cell_type": "code",
   "execution_count": 1,
   "metadata": {
    "collapsed": true
   },
   "outputs": [],
   "source": [
    "import json\n",
    "import pandas as pd\n",
    "import matplotlib.pyplot as plt"
   ]
  },
  {
   "cell_type": "code",
   "execution_count": 2,
   "metadata": {
    "collapsed": true
   },
   "outputs": [],
   "source": [
    "import time\n",
    "import os"
   ]
  },
  {
   "cell_type": "code",
   "execution_count": 3,
   "metadata": {
    "collapsed": true
   },
   "outputs": [],
   "source": [
    "myfile=[]\n",
    "for file in os.listdir(\"../data/\"):\n",
    "    myfile.append(\"../data/\"+file)"
   ]
  },
  {
   "cell_type": "code",
   "execution_count": 4,
   "metadata": {},
   "outputs": [
    {
     "data": {
      "text/plain": [
       "['../data/airpollution-2018-05-09-12-38.json',\n",
       " '../data/airpollution-2018-05-10-09-23.json',\n",
       " '../data/airpollution-2018-05-11-09-20.json',\n",
       " '../data/airpollution-2018-05-11-22-55.json',\n",
       " '../data/airpollution-2018-05-12-12-35.json',\n",
       " '../data/airpollution-2018-05-13-12-27.json',\n",
       " '../data/airpollution-2018-05-14-10-47.json',\n",
       " '../data/airpollution-2018-05-15-00-45.json',\n",
       " '../data/airpollution-2018-05-15-11-17.json',\n",
       " '../data/airpollution-2018-05-16-11-22.json',\n",
       " '../data/airpollution-2018-05-16-15-08.json',\n",
       " '../data/airpollution-2018-05-17-09-40.json',\n",
       " '../data/airpollution-2018-05-18-01-30.json',\n",
       " '../data/airpollution-2018-05-19-18-07.json']"
      ]
     },
     "execution_count": 4,
     "metadata": {},
     "output_type": "execute_result"
    }
   ],
   "source": [
    "myfile"
   ]
  },
  {
   "cell_type": "code",
   "execution_count": 5,
   "metadata": {
    "collapsed": true
   },
   "outputs": [],
   "source": [
    "tweets_data=[]\n",
    "for thisfile in myfile:\n",
    "    with open(thisfile, 'r') as f:\n",
    "        for line in f:\n",
    "            try:\n",
    "                tweet=json.loads(line)\n",
    "                tweets_data.append(tweet)\n",
    "            except:\n",
    "                continue"
   ]
  },
  {
   "cell_type": "code",
   "execution_count": 6,
   "metadata": {},
   "outputs": [
    {
     "data": {
      "text/plain": [
       "{'contributors': None,\n",
       " 'coordinates': None,\n",
       " 'created_at': 'Thu May 10 12:00:57 +0000 2018',\n",
       " 'display_text_range': [0, 140],\n",
       " 'entities': {'hashtags': [{'indices': [21, 34], 'text': 'AirPollution'}],\n",
       "  'symbols': [],\n",
       "  'urls': [{'display_url': 'twitter.com/i/web/status/9…',\n",
       "    'expanded_url': 'https://twitter.com/i/web/status/994547840276983808',\n",
       "    'indices': [117, 140],\n",
       "    'url': 'https://t.co/6SfuzxBbp6'}],\n",
       "  'user_mentions': [{'id': 14499829,\n",
       "    'id_str': '14499829',\n",
       "    'indices': [63, 67],\n",
       "    'name': 'WHO',\n",
       "    'screen_name': 'WHO'},\n",
       "   {'id': 601922436,\n",
       "    'id_str': '601922436',\n",
       "    'indices': [81, 94],\n",
       "    'name': 'Dr Maria Neira',\n",
       "    'screen_name': 'DrMariaNeira'}]},\n",
       " 'extended_tweet': {'display_text_range': [0, 149],\n",
       "  'entities': {'hashtags': [{'indices': [21, 34], 'text': 'AirPollution'},\n",
       "    {'indices': [132, 148], 'text': 'CleanAir4Health'}],\n",
       "   'symbols': [],\n",
       "   'urls': [{'display_url': 'twitter.com/drmarianeira/s…',\n",
       "     'expanded_url': 'https://twitter.com/drmarianeira/status/994545605069426688',\n",
       "     'indices': [150, 173],\n",
       "     'url': 'https://t.co/Aqw6c6KuCV'}],\n",
       "   'user_mentions': [{'id': 14499829,\n",
       "     'id_str': '14499829',\n",
       "     'indices': [63, 67],\n",
       "     'name': 'WHO',\n",
       "     'screen_name': 'WHO'},\n",
       "    {'id': 601922436,\n",
       "     'id_str': '601922436',\n",
       "     'indices': [81, 94],\n",
       "     'name': 'Dr Maria Neira',\n",
       "     'screen_name': 'DrMariaNeira'}]},\n",
       "  'full_text': 'To learn more on how #AirPollution impacts your health - watch @WHO FB live with @DrMariaNeira today at 16:00 CEST.\\n\\nWe all deserve #CleanAir4Health! https://t.co/Aqw6c6KuCV'},\n",
       " 'favorite_count': 0,\n",
       " 'favorited': False,\n",
       " 'filter_level': 'low',\n",
       " 'geo': None,\n",
       " 'id': 994547840276983808,\n",
       " 'id_str': '994547840276983808',\n",
       " 'in_reply_to_screen_name': None,\n",
       " 'in_reply_to_status_id': None,\n",
       " 'in_reply_to_status_id_str': None,\n",
       " 'in_reply_to_user_id': None,\n",
       " 'in_reply_to_user_id_str': None,\n",
       " 'is_quote_status': True,\n",
       " 'lang': 'en',\n",
       " 'place': None,\n",
       " 'possibly_sensitive': False,\n",
       " 'quote_count': 0,\n",
       " 'quoted_status': {'contributors': None,\n",
       "  'coordinates': None,\n",
       "  'created_at': 'Thu May 10 11:52:04 +0000 2018',\n",
       "  'display_text_range': [0, 140],\n",
       "  'entities': {'hashtags': [{'indices': [39, 52], 'text': 'AirPollution'}],\n",
       "   'symbols': [],\n",
       "   'urls': [{'display_url': 'twitter.com/i/web/status/9…',\n",
       "     'expanded_url': 'https://twitter.com/i/web/status/994545605069426688',\n",
       "     'indices': [116, 139],\n",
       "     'url': 'https://t.co/6lc5EaTTCX'}],\n",
       "   'user_mentions': [{'id': 14499829,\n",
       "     'id_str': '14499829',\n",
       "     'indices': [74, 78],\n",
       "     'name': 'WHO',\n",
       "     'screen_name': 'WHO'}]},\n",
       "  'extended_tweet': {'display_text_range': [0, 202],\n",
       "   'entities': {'hashtags': [{'indices': [39, 52], 'text': 'AirPollution'},\n",
       "     {'indices': [190, 202], 'text': 'BreatheLife'}],\n",
       "    'media': [{'display_url': 'pic.twitter.com/8hCdpa6aPg',\n",
       "      'expanded_url': 'https://twitter.com/DrMariaNeira/status/994545605069426688/photo/1',\n",
       "      'id': 994545226655072256,\n",
       "      'id_str': '994545226655072256',\n",
       "      'indices': [203, 226],\n",
       "      'media_url': 'http://pbs.twimg.com/media/Dc1VnUPWAAAE7bs.jpg',\n",
       "      'media_url_https': 'https://pbs.twimg.com/media/Dc1VnUPWAAAE7bs.jpg',\n",
       "      'sizes': {'large': {'h': 1080, 'resize': 'fit', 'w': 1080},\n",
       "       'medium': {'h': 1080, 'resize': 'fit', 'w': 1080},\n",
       "       'small': {'h': 680, 'resize': 'fit', 'w': 680},\n",
       "       'thumb': {'h': 150, 'resize': 'crop', 'w': 150}},\n",
       "      'type': 'photo',\n",
       "      'url': 'https://t.co/8hCdpa6aPg'}],\n",
       "    'symbols': [],\n",
       "    'urls': [{'display_url': 'facebook.com/WHO/',\n",
       "      'expanded_url': 'https://www.facebook.com/WHO/',\n",
       "      'indices': [115, 138],\n",
       "      'url': 'https://t.co/Xfzu3GlzN8'}],\n",
       "    'user_mentions': [{'id': 14499829,\n",
       "      'id_str': '14499829',\n",
       "      'indices': [74, 78],\n",
       "      'name': 'WHO',\n",
       "      'screen_name': 'WHO'}]},\n",
       "   'extended_entities': {'media': [{'display_url': 'pic.twitter.com/8hCdpa6aPg',\n",
       "      'expanded_url': 'https://twitter.com/DrMariaNeira/status/994545605069426688/photo/1',\n",
       "      'id': 994545226655072256,\n",
       "      'id_str': '994545226655072256',\n",
       "      'indices': [203, 226],\n",
       "      'media_url': 'http://pbs.twimg.com/media/Dc1VnUPWAAAE7bs.jpg',\n",
       "      'media_url_https': 'https://pbs.twimg.com/media/Dc1VnUPWAAAE7bs.jpg',\n",
       "      'sizes': {'large': {'h': 1080, 'resize': 'fit', 'w': 1080},\n",
       "       'medium': {'h': 1080, 'resize': 'fit', 'w': 1080},\n",
       "       'small': {'h': 680, 'resize': 'fit', 'w': 680},\n",
       "       'thumb': {'h': 150, 'resize': 'crop', 'w': 150}},\n",
       "      'type': 'photo',\n",
       "      'url': 'https://t.co/8hCdpa6aPg'}]},\n",
       "   'full_text': 'Today I will be answering questions on #AirPollution and health live from @WHO HQ at 16:00H CEST.\\nWatch live here: https://t.co/Xfzu3GlzN8\\n\\nAir pollution causes 7 million deaths every year! #BreatheLife https://t.co/8hCdpa6aPg'},\n",
       "  'favorite_count': 4,\n",
       "  'favorited': False,\n",
       "  'filter_level': 'low',\n",
       "  'geo': None,\n",
       "  'id': 994545605069426688,\n",
       "  'id_str': '994545605069426688',\n",
       "  'in_reply_to_screen_name': None,\n",
       "  'in_reply_to_status_id': None,\n",
       "  'in_reply_to_status_id_str': None,\n",
       "  'in_reply_to_user_id': None,\n",
       "  'in_reply_to_user_id_str': None,\n",
       "  'is_quote_status': False,\n",
       "  'lang': 'en',\n",
       "  'place': None,\n",
       "  'possibly_sensitive': False,\n",
       "  'quote_count': 1,\n",
       "  'reply_count': 0,\n",
       "  'retweet_count': 6,\n",
       "  'retweeted': False,\n",
       "  'source': '<a href=\"http://twitter.com\" rel=\"nofollow\">Twitter Web Client</a>',\n",
       "  'text': 'Today I will be answering questions on #AirPollution and health live from @WHO HQ at 16:00H CEST.\\nWatch live here:… https://t.co/6lc5EaTTCX',\n",
       "  'truncated': True,\n",
       "  'user': {'contributors_enabled': False,\n",
       "   'created_at': 'Thu Jun 07 12:45:50 +0000 2012',\n",
       "   'default_profile': True,\n",
       "   'default_profile_image': False,\n",
       "   'description': 'WHO Director, Public Health, Environmental and Social Determinants of Health.\\n#EnvironmentalHealth, #ClimateChange & #AirPollution',\n",
       "   'favourites_count': 2597,\n",
       "   'follow_request_sent': None,\n",
       "   'followers_count': 2250,\n",
       "   'following': None,\n",
       "   'friends_count': 566,\n",
       "   'geo_enabled': True,\n",
       "   'id': 601922436,\n",
       "   'id_str': '601922436',\n",
       "   'is_translator': False,\n",
       "   'lang': 'en',\n",
       "   'listed_count': 44,\n",
       "   'location': None,\n",
       "   'name': 'Dr Maria Neira',\n",
       "   'notifications': None,\n",
       "   'profile_background_color': 'C0DEED',\n",
       "   'profile_background_image_url': 'http://abs.twimg.com/images/themes/theme1/bg.png',\n",
       "   'profile_background_image_url_https': 'https://abs.twimg.com/images/themes/theme1/bg.png',\n",
       "   'profile_background_tile': False,\n",
       "   'profile_banner_url': 'https://pbs.twimg.com/profile_banners/601922436/1512548369',\n",
       "   'profile_image_url': 'http://pbs.twimg.com/profile_images/920970522074152960/XfazodfB_normal.jpg',\n",
       "   'profile_image_url_https': 'https://pbs.twimg.com/profile_images/920970522074152960/XfazodfB_normal.jpg',\n",
       "   'profile_link_color': '1DA1F2',\n",
       "   'profile_sidebar_border_color': 'C0DEED',\n",
       "   'profile_sidebar_fill_color': 'DDEEF6',\n",
       "   'profile_text_color': '333333',\n",
       "   'profile_use_background_image': True,\n",
       "   'protected': False,\n",
       "   'screen_name': 'DrMariaNeira',\n",
       "   'statuses_count': 878,\n",
       "   'time_zone': 'Pacific Time (US & Canada)',\n",
       "   'translator_type': 'none',\n",
       "   'url': 'http://www.who.int/phe',\n",
       "   'utc_offset': -25200,\n",
       "   'verified': False}},\n",
       " 'quoted_status_id': 994545605069426688,\n",
       " 'quoted_status_id_str': '994545605069426688',\n",
       " 'reply_count': 0,\n",
       " 'retweet_count': 0,\n",
       " 'retweeted': False,\n",
       " 'source': '<a href=\"http://twitter.com/download/iphone\" rel=\"nofollow\">Twitter for iPhone</a>',\n",
       " 'text': 'To learn more on how #AirPollution impacts your health - watch @WHO FB live with @DrMariaNeira today at 16:00 CEST.… https://t.co/6SfuzxBbp6',\n",
       " 'timestamp_ms': '1525953657584',\n",
       " 'truncated': True,\n",
       " 'user': {'contributors_enabled': False,\n",
       "  'created_at': 'Sun Feb 19 21:36:20 +0000 2012',\n",
       "  'default_profile': False,\n",
       "  'default_profile_image': False,\n",
       "  'description': 'Consultant @WHO , Public Health, Environmental and Social Determinants of Health - #hiap #actionsdg #EnvironmentalHealth',\n",
       "  'favourites_count': 576,\n",
       "  'follow_request_sent': None,\n",
       "  'followers_count': 402,\n",
       "  'following': None,\n",
       "  'friends_count': 716,\n",
       "  'geo_enabled': True,\n",
       "  'id': 497329097,\n",
       "  'id_str': '497329097',\n",
       "  'is_translator': False,\n",
       "  'lang': 'en',\n",
       "  'listed_count': 14,\n",
       "  'location': 'Geneva, Switzerland',\n",
       "  'name': 'AleksandraKuzmanovic',\n",
       "  'notifications': None,\n",
       "  'profile_background_color': 'FF6699',\n",
       "  'profile_background_image_url': 'http://pbs.twimg.com/profile_background_images/657658432/gncfbf73y3zpnupi6qig.jpeg',\n",
       "  'profile_background_image_url_https': 'https://pbs.twimg.com/profile_background_images/657658432/gncfbf73y3zpnupi6qig.jpeg',\n",
       "  'profile_background_tile': True,\n",
       "  'profile_image_url': 'http://pbs.twimg.com/profile_images/970693629567225856/a2aSyxgt_normal.jpg',\n",
       "  'profile_image_url_https': 'https://pbs.twimg.com/profile_images/970693629567225856/a2aSyxgt_normal.jpg',\n",
       "  'profile_link_color': 'B40B43',\n",
       "  'profile_sidebar_border_color': 'CC3366',\n",
       "  'profile_sidebar_fill_color': 'E5507E',\n",
       "  'profile_text_color': '362720',\n",
       "  'profile_use_background_image': True,\n",
       "  'protected': False,\n",
       "  'screen_name': 'LamkeKuzman',\n",
       "  'statuses_count': 439,\n",
       "  'time_zone': 'Amsterdam',\n",
       "  'translator_type': 'none',\n",
       "  'url': None,\n",
       "  'utc_offset': 7200,\n",
       "  'verified': False}}"
      ]
     },
     "execution_count": 6,
     "metadata": {},
     "output_type": "execute_result"
    }
   ],
   "source": [
    "tweets_data[2775]"
   ]
  },
  {
   "cell_type": "code",
   "execution_count": 7,
   "metadata": {
    "collapsed": true
   },
   "outputs": [],
   "source": [
    "tweets=pd.DataFrame()# store the final result"
   ]
  },
  {
   "cell_type": "code",
   "execution_count": 8,
   "metadata": {
    "collapsed": true
   },
   "outputs": [],
   "source": [
    "# text: the text of the tweet itself\n",
    "# created_at: the date of creation\n",
    "# favorite_count, retweet_count: the number of favourites and retweets\n",
    "# favorited, retweeted: boolean stating whether the authenticated user (you) have favourited or retweeted this tweet\n",
    "# lang: acronym for the language (e.g. “en” for english)\n",
    "# id: the tweet identifier\n",
    "# place, coordinates, geo: geo-location information if available\n",
    "# user: the author’s full profile\n",
    "# entities: list of entities like URLs, @-mentions, hashtags and symbols\n",
    "# in_reply_to_user_id: user identifier if the tweet is a reply to a specific user\n",
    "# in_reply_to_status_id: status identifier id the tweet is a reply to a specific status"
   ]
  },
  {
   "cell_type": "code",
   "execution_count": 9,
   "metadata": {
    "collapsed": true
   },
   "outputs": [],
   "source": [
    "def get_retweetid(tweet):\n",
    "    try:\n",
    "        return(tweet[\"retweeted_status\"][\"id\"])\n",
    "    except: \n",
    "        return None\n",
    "    \n",
    "def get_retweet_username(tweet):\n",
    "    try:\n",
    "        return(tweet[\"retweeted_status\"][\"user\"][\"name\"])\n",
    "    except: \n",
    "        return None\n",
    "\n",
    "def get_retweet_followers_count(tweet):\n",
    "    try:\n",
    "        return(int(tweet[\"retweeted_status\"][\"user\"][\"followers_count\"]))\n",
    "    except: \n",
    "        return None\n",
    "    \n",
    "def get_retweet_user_id(tweet):\n",
    "    try:\n",
    "        return(tweet[\"retweeted_status\"][\"user\"][\"id_str\"])\n",
    "    except: \n",
    "        return None\n",
    "    \n",
    "def get_retweet_fa(tweet):\n",
    "    try:\n",
    "        return(int(tweet[\"retweeted_status\"][\"favorite_count\"]))\n",
    "    except: \n",
    "        return None\n",
    "def get_retweet_retw(tweet):\n",
    "    try:\n",
    "        return(int(tweet[\"retweeted_status\"][\"retweet_count\"]))\n",
    "    except: \n",
    "        return None\n",
    "def get_retweet_rep(tweet):\n",
    "    try:\n",
    "        return(int(tweet[\"retweeted_status\"][\"reply_count\"]))\n",
    "    except: \n",
    "        return None\n",
    "    \n",
    "def get_quoted_status_text(tweet):\n",
    "     try:\n",
    "        return(tweet[\"quoted_status\"][\"extended_tweet\"][\"full_text\"])\n",
    "     except:\n",
    "        return None"
   ]
  },
  {
   "cell_type": "code",
   "execution_count": 10,
   "metadata": {
    "collapsed": true
   },
   "outputs": [],
   "source": [
    "tweets=pd.DataFrame()\n",
    "tweets['id'] = list(map(lambda tweet: int(tweet['id']), tweets_data))\n",
    "# tweets['country']=list(map(lambda tweet: tweet['place']['country'] if tweet['place']!= None else \"\", tweets_data))\n",
    "tweets['text']=list(map(lambda tweet: tweet['text'], tweets_data))\n",
    "tweets[\"user_id\"]=list(map(lambda tweet:tweet[\"user\"][\"id_str\"],tweets_data))\n",
    "tweets[\"user_name\"]=list(map(lambda tweet:tweet[\"user\"][\"name\"],tweets_data))\n",
    "tweets[\"user_followers\"]=list(map(lambda tweet:int(tweet[\"user\"][\"followers_count\"]),tweets_data))\n",
    "\n",
    "# tweets[\"quoted_status_text\"]=list(map(lambda tweet:int(tweet[\"quoted_status\"][\"extended_tweet\"][\"full_text\"]),tweets_data))\n",
    "tweets[\"quoted_status_text\"]=list(map(lambda tweet:get_quoted_status_text(tweet),tweets_data))\n",
    "\n",
    "\n",
    "tweets['user_loc']=list(map(lambda tweet: tweet['user']['location'], tweets_data))\n",
    "tweets['lang']=list(map(lambda tweet: tweet['lang'], tweets_data))\n",
    "# tweets['retweeted'] = list(map(lambda tweet: tweet['retweeted'], tweets_data))\n",
    "tweets['retweet_id']=list(map(get_retweetid, tweets_data))\n",
    "\n",
    "tweets['retweet_user_id']=list(map(get_retweet_user_id, tweets_data))\n",
    "\n",
    "tweets['retweet_status_user_name']=list(map(get_retweet_username, tweets_data))\n",
    "tweets['retweet_status_follower_count']=list(map(get_retweet_followers_count, tweets_data))\n",
    "\n",
    "\n",
    "tweets['retweet_status_favorite_count']=list(map(get_retweetid, tweets_data))\n",
    "tweets['retweet_status_retweet_count']=list(map(get_retweet_retw, tweets_data))\n",
    "tweets['retweet_status_reply_count']=list(map(get_retweet_rep, tweets_data))\n",
    "\n",
    "tweets['created_at']=list(map(lambda tweet: time.strftime('%Y-%m-%d %H:%M:%S', time.strptime(tweet['created_at'],'%a %b %d %H:%M:%S +0000 %Y')), tweets_data))\n",
    "\n",
    "\n",
    "# tweets['retweet_count']=list(map(lambda tweet: tweet['retweet_count'] if tweet['retweet_count']!= None else None, tweets_data))\n",
    "# tweets['reply_count']=list(map(lambda tweet: tweet['reply_count'] if tweet['reply_count']!= None else None, tweets_data))\n",
    "# tweets['favorite_count']=list(map(lambda tweet: tweet['favorite_count'], tweets_data))\n"
   ]
  },
  {
   "cell_type": "code",
   "execution_count": 11,
   "metadata": {
    "collapsed": true
   },
   "outputs": [],
   "source": [
    "# get rid of replicated id\n",
    "tweets=tweets.drop_duplicates()"
   ]
  },
  {
   "cell_type": "code",
   "execution_count": 12,
   "metadata": {
    "collapsed": true
   },
   "outputs": [],
   "source": [
    "tweets=tweets.loc[tweets.lang==\"en\",] # getrid of none enligsh"
   ]
  },
  {
   "cell_type": "code",
   "execution_count": 13,
   "metadata": {},
   "outputs": [
    {
     "data": {
      "text/plain": [
       "(26777, 16)"
      ]
     },
     "execution_count": 13,
     "metadata": {},
     "output_type": "execute_result"
    }
   ],
   "source": [
    "tweets.shape"
   ]
  },
  {
   "cell_type": "code",
   "execution_count": 14,
   "metadata": {},
   "outputs": [
    {
     "data": {
      "text/plain": [
       "24088"
      ]
     },
     "execution_count": 14,
     "metadata": {},
     "output_type": "execute_result"
    }
   ],
   "source": [
    "sum(tweets.quoted_status_text.isna())"
   ]
  },
  {
   "cell_type": "markdown",
   "metadata": {},
   "source": [
    "# tokenization and stop words\n"
   ]
  },
  {
   "cell_type": "code",
   "execution_count": 16,
   "metadata": {},
   "outputs": [
    {
     "name": "stdout",
     "output_type": "stream",
     "text": [
      "['RT', '@marcobonzanini', ':', 'just', 'an', 'example', '!', ':D', 'http://example.com', '#NLP']\n"
     ]
    }
   ],
   "source": [
    "from nltk.tokenize import word_tokenize\n",
    "import re\n",
    " \n",
    "emoticons_str = r\"\"\"\n",
    "    (?:\n",
    "        [:=;] # Eyes\n",
    "        [oO\\-]? # Nose (optional)\n",
    "        [D\\)\\]\\(\\]/\\\\OpP] # Mouth\n",
    "    )\"\"\"\n",
    " \n",
    "regex_str = [\n",
    "    emoticons_str,\n",
    "    r'<[^>]+>', # HTML tags\n",
    "    r'(?:@[\\w_]+)', # @-mentions\n",
    "    r\"(?:\\#+[\\w_]+[\\w\\'_\\-]*[\\w_]+)\", # hash-tags\n",
    "    r'http[s]?://(?:[a-z]|[0-9]|[$-_@.&amp;+]|[!*\\(\\),]|(?:%[0-9a-f][0-9a-f]))+', # URLs\n",
    " \n",
    "    r'(?:(?:\\d+,?)+(?:\\.?\\d+)?)', # numbers\n",
    "    r\"(?:[a-z][a-z'\\-_]+[a-z])\", # words with - and '\n",
    "    r'(?:[\\w_]+)', # other words\n",
    "    r'(?:\\S)' # anything else\n",
    "]\n",
    "    \n",
    "tokens_re = re.compile(r'('+'|'.join(regex_str)+')', re.VERBOSE | re.IGNORECASE)\n",
    "emoticon_re = re.compile(r'^'+emoticons_str+'$', re.VERBOSE | re.IGNORECASE)\n",
    " \n",
    "def tokenize(s):\n",
    "    return tokens_re.findall(s)\n",
    " \n",
    "def preprocess(s, lowercase=False):\n",
    "    tokens = tokenize(s)\n",
    "#     print(tokens_re.search(tokens[0]))\n",
    "    if lowercase:\n",
    "        tokens =  [token if emoticon_re.search(token)  else token.lower() for token in tokens]\n",
    "    return tokens\n",
    " \n",
    "tweet = 'RT @marcobonzanini: just an example! :D http://example.com #NLP'\n",
    "print(preprocess(tweet))\n",
    "# ['RT', '@marcobonzanini', ':', 'just', 'a n', 'example', '!', ':D', 'http://example.com', '#NLP']\n"
   ]
  },
  {
   "cell_type": "code",
   "execution_count": 17,
   "metadata": {
    "collapsed": true
   },
   "outputs": [],
   "source": [
    "from nltk.corpus import stopwords\n",
    "import string\n",
    "def remove_stop_words(tweet):\n",
    "    out=tweet\n",
    "    if(tweet):\n",
    "        p=re.compile(r'http[s]?://(?:[a-z]|[0-9]|[$-_@.&amp;+]|[!*\\(\\),]|(?:%[0-9a-f][0-9a-f]))+') # URLs\n",
    "\n",
    "        punctuation = list(string.punctuation)\n",
    "        stop = stopwords.words('english') + punctuation + ['via',\"\\r\",r'<[^>]+>']\n",
    "    #     print(stop)\n",
    "        terms_stop = [term for term in preprocess(tweet) if p.match(term)==None and term not in stop]\n",
    "    #     terms_stop = [term for term in preprocess(tweet) if term not in stop]\n",
    "        out=\" \".join(terms_stop)\n",
    "    return(out)"
   ]
  },
  {
   "cell_type": "code",
   "execution_count": 18,
   "metadata": {
    "collapsed": true
   },
   "outputs": [],
   "source": [
    "mytext=list(map(lambda tweet: remove_stop_words(tweet), tweets.text))"
   ]
  },
  {
   "cell_type": "code",
   "execution_count": 19,
   "metadata": {
    "collapsed": true
   },
   "outputs": [],
   "source": [
    "tweets[\"text\"]=mytext"
   ]
  },
  {
   "cell_type": "code",
   "execution_count": 20,
   "metadata": {
    "collapsed": true
   },
   "outputs": [],
   "source": [
    "user_loc=list(map(lambda tweet: remove_stop_words(tweet), tweets.user_loc))"
   ]
  },
  {
   "cell_type": "code",
   "execution_count": 21,
   "metadata": {
    "collapsed": true
   },
   "outputs": [],
   "source": [
    "tweets.user_loc=user_loc"
   ]
  },
  {
   "cell_type": "code",
   "execution_count": 22,
   "metadata": {
    "collapsed": true
   },
   "outputs": [],
   "source": [
    "tweets=tweets.loc[tweets.text!=\"\",]"
   ]
  },
  {
   "cell_type": "markdown",
   "metadata": {},
   "source": [
    "DataFrame.to_csv(path_or_buf=None, sep=', ', na_rep='', float_format=None, columns=None, header=True, index=True, index_label=None, mode='w', encoding=None, compression=None, quoting=None, quotechar='\"', line_terminator='\\n', chunksize=None, tupleize_cols=None, date_format=None, doublequote=True, escapechar=None, decimal='.')[source]¶"
   ]
  },
  {
   "cell_type": "code",
   "execution_count": 23,
   "metadata": {
    "collapsed": true
   },
   "outputs": [],
   "source": [
    "tweets.to_csv(\"../output/clean_data_5_20.csv\",encoding=\"utf-8\")"
   ]
  },
  {
   "cell_type": "code",
   "execution_count": 282,
   "metadata": {
    "collapsed": true
   },
   "outputs": [],
   "source": [
    "t=pd.read_csv(\"../output/clean_data_4_20.csv\",encoding=\"utf-8\")"
   ]
  },
  {
   "cell_type": "code",
   "execution_count": 48,
   "metadata": {
    "scrolled": true
   },
   "outputs": [
    {
     "ename": "NameError",
     "evalue": "name 't' is not defined",
     "output_type": "error",
     "traceback": [
      "\u001b[1;31m---------------------------------------------------------------------------\u001b[0m",
      "\u001b[1;31mNameError\u001b[0m                                 Traceback (most recent call last)",
      "\u001b[1;32m<ipython-input-48-5ff3849bac81>\u001b[0m in \u001b[0;36m<module>\u001b[1;34m()\u001b[0m\n\u001b[1;32m----> 1\u001b[1;33m \u001b[0mt\u001b[0m\u001b[1;33m.\u001b[0m\u001b[0mloc\u001b[0m\u001b[1;33m[\u001b[0m\u001b[0mt\u001b[0m\u001b[1;33m.\u001b[0m\u001b[0muser_name\u001b[0m\u001b[1;33m==\u001b[0m\u001b[1;34m\"Donald J. Trump\"\u001b[0m\u001b[1;33m,\u001b[0m\u001b[1;33m]\u001b[0m\u001b[1;33m\u001b[0m\u001b[0m\n\u001b[0m",
      "\u001b[1;31mNameError\u001b[0m: name 't' is not defined"
     ]
    }
   ],
   "source": [
    "t.loc[t.user_name==\"Donald J. Trump\",]"
   ]
  },
  {
   "cell_type": "code",
   "execution_count": null,
   "metadata": {
    "collapsed": true
   },
   "outputs": [],
   "source": []
  }
 ],
 "metadata": {
  "kernelspec": {
   "display_name": "Python 3",
   "language": "python",
   "name": "python3"
  },
  "language_info": {
   "codemirror_mode": {
    "name": "ipython",
    "version": 3
   },
   "file_extension": ".py",
   "mimetype": "text/x-python",
   "name": "python",
   "nbconvert_exporter": "python",
   "pygments_lexer": "ipython3",
   "version": "3.6.1"
  }
 },
 "nbformat": 4,
 "nbformat_minor": 2
}
