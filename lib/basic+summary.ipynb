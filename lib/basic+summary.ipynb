{
 "cells": [
  {
   "cell_type": "code",
   "execution_count": 71,
   "metadata": {
    "collapsed": true
   },
   "outputs": [],
   "source": [
    "import pandas as pd\n",
    "import numpy as np"
   ]
  },
  {
   "cell_type": "code",
   "execution_count": 81,
   "metadata": {
    "collapsed": true
   },
   "outputs": [],
   "source": [
    "alltweets=pd.read_csv(\"../output/clean_data_4_18_14_40.csv\",sep=\",\",encoding=\"utf-8\",engine=\"python\")"
   ]
  },
  {
   "cell_type": "code",
   "execution_count": 82,
   "metadata": {
    "scrolled": true
   },
   "outputs": [
    {
     "data": {
      "text/html": [
       "<div>\n",
       "<style scoped>\n",
       "    .dataframe tbody tr th:only-of-type {\n",
       "        vertical-align: middle;\n",
       "    }\n",
       "\n",
       "    .dataframe tbody tr th {\n",
       "        vertical-align: top;\n",
       "    }\n",
       "\n",
       "    .dataframe thead th {\n",
       "        text-align: right;\n",
       "    }\n",
       "</style>\n",
       "<table border=\"1\" class=\"dataframe\">\n",
       "  <thead>\n",
       "    <tr style=\"text-align: right;\">\n",
       "      <th></th>\n",
       "      <th>Unnamed: 0</th>\n",
       "      <th>id</th>\n",
       "      <th>country</th>\n",
       "      <th>text</th>\n",
       "      <th>user_id</th>\n",
       "      <th>user_followers</th>\n",
       "      <th>user_loc</th>\n",
       "      <th>lang</th>\n",
       "      <th>retweet_id</th>\n",
       "      <th>retweet_status_favorite_count</th>\n",
       "      <th>retweet_status_retweet_count</th>\n",
       "      <th>retweet_status_reply_count</th>\n",
       "      <th>created_at</th>\n",
       "      <th>clean_text</th>\n",
       "    </tr>\n",
       "  </thead>\n",
       "  <tbody>\n",
       "    <tr>\n",
       "      <th>0</th>\n",
       "      <td>0</td>\n",
       "      <td>9.808226e+17</td>\n",
       "      <td>NaN</td>\n",
       "      <td>Here’s the full list of American goods affecte...</td>\n",
       "      <td>26558316</td>\n",
       "      <td>335.0</td>\n",
       "      <td>NYC, SD, KC</td>\n",
       "      <td>en</td>\n",
       "      <td>NaN</td>\n",
       "      <td>NaN</td>\n",
       "      <td>NaN</td>\n",
       "      <td>NaN</td>\n",
       "      <td>2018-04-02 15:01:35</td>\n",
       "      <td>Here ’ full list American goods affected China...</td>\n",
       "    </tr>\n",
       "    <tr>\n",
       "      <th>1</th>\n",
       "      <td>1</td>\n",
       "      <td>9.808226e+17</td>\n",
       "      <td>NaN</td>\n",
       "      <td>Hope he's ready to give aid to the farmers.  H...</td>\n",
       "      <td>1525168716</td>\n",
       "      <td>457.0</td>\n",
       "      <td>california</td>\n",
       "      <td>en</td>\n",
       "      <td>NaN</td>\n",
       "      <td>NaN</td>\n",
       "      <td>NaN</td>\n",
       "      <td>NaN</td>\n",
       "      <td>2018-04-02 15:01:36</td>\n",
       "      <td>Hope he's ready give aid farmers He'll probabl...</td>\n",
       "    </tr>\n",
       "    <tr>\n",
       "      <th>2</th>\n",
       "      <td>2</td>\n",
       "      <td>9.808226e+17</td>\n",
       "      <td>NaN</td>\n",
       "      <td>RT @RedTRaccoon: NC will pay high price for me...</td>\n",
       "      <td>1148610157</td>\n",
       "      <td>16431.0</td>\n",
       "      <td>New Mexico</td>\n",
       "      <td>en</td>\n",
       "      <td>9.808189e+17</td>\n",
       "      <td>9.808188756999414e+17</td>\n",
       "      <td>30.0</td>\n",
       "      <td>5.0</td>\n",
       "      <td>2018-04-02 15:01:37</td>\n",
       "      <td>@RedTRaccoon NC pay high price metals tariffs ...</td>\n",
       "    </tr>\n",
       "    <tr>\n",
       "      <th>3</th>\n",
       "      <td>3</td>\n",
       "      <td>9.808226e+17</td>\n",
       "      <td>NaN</td>\n",
       "      <td>RT @MelissaLeeCNBC: Tariff impact on data alre...</td>\n",
       "      <td>601305639</td>\n",
       "      <td>196.0</td>\n",
       "      <td>Internet</td>\n",
       "      <td>en</td>\n",
       "      <td>9.808139e+17</td>\n",
       "      <td>9.808139294788035e+17</td>\n",
       "      <td>3.0</td>\n",
       "      <td>1.0</td>\n",
       "      <td>2018-04-02 15:01:37</td>\n",
       "      <td>@MelissaLeeCNBC Tariff impact data already THE...</td>\n",
       "    </tr>\n",
       "    <tr>\n",
       "      <th>4</th>\n",
       "      <td>4</td>\n",
       "      <td>9.808226e+17</td>\n",
       "      <td>NaN</td>\n",
       "      <td>The full list of 128 US products targeted by C...</td>\n",
       "      <td>2279225400</td>\n",
       "      <td>14158.0</td>\n",
       "      <td>New York, USA</td>\n",
       "      <td>en</td>\n",
       "      <td>NaN</td>\n",
       "      <td>NaN</td>\n",
       "      <td>NaN</td>\n",
       "      <td>NaN</td>\n",
       "      <td>2018-04-02 15:01:37</td>\n",
       "      <td>The full list 128 US products targeted China ’...</td>\n",
       "    </tr>\n",
       "  </tbody>\n",
       "</table>\n",
       "</div>"
      ],
      "text/plain": [
       "  Unnamed: 0            id country  \\\n",
       "0          0  9.808226e+17     NaN   \n",
       "1          1  9.808226e+17     NaN   \n",
       "2          2  9.808226e+17     NaN   \n",
       "3          3  9.808226e+17     NaN   \n",
       "4          4  9.808226e+17     NaN   \n",
       "\n",
       "                                                text     user_id  \\\n",
       "0  Here’s the full list of American goods affecte...    26558316   \n",
       "1  Hope he's ready to give aid to the farmers.  H...  1525168716   \n",
       "2  RT @RedTRaccoon: NC will pay high price for me...  1148610157   \n",
       "3  RT @MelissaLeeCNBC: Tariff impact on data alre...   601305639   \n",
       "4  The full list of 128 US products targeted by C...  2279225400   \n",
       "\n",
       "   user_followers       user_loc lang    retweet_id  \\\n",
       "0           335.0    NYC, SD, KC   en           NaN   \n",
       "1           457.0     california   en           NaN   \n",
       "2         16431.0     New Mexico   en  9.808189e+17   \n",
       "3           196.0       Internet   en  9.808139e+17   \n",
       "4         14158.0  New York, USA   en           NaN   \n",
       "\n",
       "  retweet_status_favorite_count retweet_status_retweet_count  \\\n",
       "0                           NaN                          NaN   \n",
       "1                           NaN                          NaN   \n",
       "2         9.808188756999414e+17                         30.0   \n",
       "3         9.808139294788035e+17                          3.0   \n",
       "4                           NaN                          NaN   \n",
       "\n",
       "   retweet_status_reply_count           created_at  \\\n",
       "0                         NaN  2018-04-02 15:01:35   \n",
       "1                         NaN  2018-04-02 15:01:36   \n",
       "2                         5.0  2018-04-02 15:01:37   \n",
       "3                         1.0  2018-04-02 15:01:37   \n",
       "4                         NaN  2018-04-02 15:01:37   \n",
       "\n",
       "                                          clean_text  \n",
       "0  Here ’ full list American goods affected China...  \n",
       "1  Hope he's ready give aid farmers He'll probabl...  \n",
       "2  @RedTRaccoon NC pay high price metals tariffs ...  \n",
       "3  @MelissaLeeCNBC Tariff impact data already THE...  \n",
       "4  The full list 128 US products targeted China ’...  "
      ]
     },
     "execution_count": 82,
     "metadata": {},
     "output_type": "execute_result"
    }
   ],
   "source": [
    "alltweets.head()"
   ]
  },
  {
   "cell_type": "code",
   "execution_count": 83,
   "metadata": {},
   "outputs": [],
   "source": [
    "num_row=alltweets.shape[0]\n",
    "original_count=alltweets['retweet_id'].isnull().sum()"
   ]
  },
  {
   "cell_type": "code",
   "execution_count": 84,
   "metadata": {},
   "outputs": [
    {
     "data": {
      "text/plain": [
       "'there are 9855 out of 32115 are original tweets, original tweet accounts for 0.31 '"
      ]
     },
     "execution_count": 84,
     "metadata": {},
     "output_type": "execute_result"
    }
   ],
   "source": [
    "\"there are {} out of {} are original tweets, original tweet accounts for {:.2} \".format(original_count,num_row,original_count/num_row)"
   ]
  },
  {
   "cell_type": "code",
   "execution_count": 85,
   "metadata": {},
   "outputs": [
    {
     "data": {
      "text/plain": [
       "12745"
      ]
     },
     "execution_count": 85,
     "metadata": {},
     "output_type": "execute_result"
    }
   ],
   "source": [
    "alltweets[\"retweet_id\"].isin(alltweets[\"id\"]).sum() "
   ]
  },
  {
   "cell_type": "code",
   "execution_count": 89,
   "metadata": {
    "collapsed": true
   },
   "outputs": [],
   "source": [
    "alltweets[\"retweeted\"]=alltweets[\"retweet_id\"].isnull()"
   ]
  },
  {
   "cell_type": "code",
   "execution_count": 90,
   "metadata": {},
   "outputs": [
    {
     "data": {
      "text/html": [
       "<div>\n",
       "<style scoped>\n",
       "    .dataframe tbody tr th:only-of-type {\n",
       "        vertical-align: middle;\n",
       "    }\n",
       "\n",
       "    .dataframe tbody tr th {\n",
       "        vertical-align: top;\n",
       "    }\n",
       "\n",
       "    .dataframe thead th {\n",
       "        text-align: right;\n",
       "    }\n",
       "</style>\n",
       "<table border=\"1\" class=\"dataframe\">\n",
       "  <thead>\n",
       "    <tr style=\"text-align: right;\">\n",
       "      <th></th>\n",
       "      <th>count</th>\n",
       "      <th>mean</th>\n",
       "      <th>std</th>\n",
       "      <th>min</th>\n",
       "      <th>25%</th>\n",
       "      <th>50%</th>\n",
       "      <th>75%</th>\n",
       "      <th>max</th>\n",
       "    </tr>\n",
       "    <tr>\n",
       "      <th>retweeted</th>\n",
       "      <th></th>\n",
       "      <th></th>\n",
       "      <th></th>\n",
       "      <th></th>\n",
       "      <th></th>\n",
       "      <th></th>\n",
       "      <th></th>\n",
       "      <th></th>\n",
       "    </tr>\n",
       "  </thead>\n",
       "  <tbody>\n",
       "    <tr>\n",
       "      <th>False</th>\n",
       "      <td>22260.0</td>\n",
       "      <td>5112.575696</td>\n",
       "      <td>178898.271916</td>\n",
       "      <td>0.0</td>\n",
       "      <td>166.0</td>\n",
       "      <td>602.0</td>\n",
       "      <td>2115.0</td>\n",
       "      <td>19584685.0</td>\n",
       "    </tr>\n",
       "    <tr>\n",
       "      <th>True</th>\n",
       "      <td>9845.0</td>\n",
       "      <td>38712.604368</td>\n",
       "      <td>520738.498942</td>\n",
       "      <td>0.0</td>\n",
       "      <td>94.0</td>\n",
       "      <td>519.0</td>\n",
       "      <td>2671.0</td>\n",
       "      <td>23152894.0</td>\n",
       "    </tr>\n",
       "  </tbody>\n",
       "</table>\n",
       "</div>"
      ],
      "text/plain": [
       "             count          mean            std  min    25%    50%     75%  \\\n",
       "retweeted                                                                    \n",
       "False      22260.0   5112.575696  178898.271916  0.0  166.0  602.0  2115.0   \n",
       "True        9845.0  38712.604368  520738.498942  0.0   94.0  519.0  2671.0   \n",
       "\n",
       "                  max  \n",
       "retweeted              \n",
       "False      19584685.0  \n",
       "True       23152894.0  "
      ]
     },
     "execution_count": 90,
     "metadata": {},
     "output_type": "execute_result"
    }
   ],
   "source": [
    "alltweets.groupby(\"retweeted\")[\"user_followers\"].describe()"
   ]
  },
  {
   "cell_type": "code",
   "execution_count": null,
   "metadata": {
    "collapsed": true
   },
   "outputs": [],
   "source": []
  }
 ],
 "metadata": {
  "kernelspec": {
   "display_name": "Python 3",
   "language": "python",
   "name": "python3"
  },
  "language_info": {
   "codemirror_mode": {
    "name": "ipython",
    "version": 3
   },
   "file_extension": ".py",
   "mimetype": "text/x-python",
   "name": "python",
   "nbconvert_exporter": "python",
   "pygments_lexer": "ipython3",
   "version": "3.6.1"
  }
 },
 "nbformat": 4,
 "nbformat_minor": 2
}
