{
 "cells": [
  {
   "cell_type": "code",
   "execution_count": 1,
   "metadata": {},
   "outputs": [],
   "source": [
    "import pymongo\n",
    "import json\n",
    "import pandas as pd\n",
    "import time\n",
    "import re\n",
    "import numpy as np\n",
    "from gmplot import gmplot\n",
    "import pickle as pickle"
   ]
  },
  {
   "cell_type": "code",
   "execution_count": 2,
   "metadata": {},
   "outputs": [],
   "source": [
    "client=pymongo.MongoClient()"
   ]
  },
  {
   "cell_type": "code",
   "execution_count": 3,
   "metadata": {},
   "outputs": [
    {
     "data": {
      "text/plain": [
       "['admin', 'config', 'local', 'pollution', 'twitterdb']"
      ]
     },
     "execution_count": 3,
     "metadata": {},
     "output_type": "execute_result"
    }
   ],
   "source": [
    "client.list_database_names()"
   ]
  },
  {
   "cell_type": "code",
   "execution_count": 4,
   "metadata": {},
   "outputs": [],
   "source": [
    "sample=client.pollution.tweetcollection\n",
    "population=client.twitterdb.twitter_search\n",
    "# newpopulation=client.twitterdb.twitterdb"
   ]
  },
  {
   "cell_type": "code",
   "execution_count": 6,
   "metadata": {},
   "outputs": [],
   "source": [
    "# db.tweetcollection.find({\"place\":{\"$ne\": None}}).count() # with place tweets\n",
    "# db.tweetcollection.find({\"geo\":{\"$ne\": None}}).count() # with exact location"
   ]
  },
  {
   "cell_type": "code",
   "execution_count": 5,
   "metadata": {},
   "outputs": [],
   "source": [
    "category_0=[\"r'(pollution)\",\"#airpollution\",\"la pollution de l'air\",\"la #pollution\",\"air pollution\",\"l'air #pollution\"]"
   ]
  },
  {
   "cell_type": "code",
   "execution_count": 6,
   "metadata": {},
   "outputs": [
    {
     "data": {
      "text/plain": [
       "[\"r'(pollution)\",\n",
       " '#airpollution',\n",
       " \"la pollution de l'air\",\n",
       " 'la #pollution',\n",
       " 'air pollution',\n",
       " \"l'air #pollution\"]"
      ]
     },
     "execution_count": 6,
     "metadata": {},
     "output_type": "execute_result"
    }
   ],
   "source": [
    "category_0"
   ]
  },
  {
   "cell_type": "code",
   "execution_count": 7,
   "metadata": {},
   "outputs": [
    {
     "data": {
      "text/plain": [
       "re.compile(r\"(r'(pollution)|#airpollution|la pollution de l'air|la #pollution|air pollution|l'air #pollution)\",\n",
       "re.IGNORECASE|re.UNICODE)"
      ]
     },
     "execution_count": 7,
     "metadata": {},
     "output_type": "execute_result"
    }
   ],
   "source": [
    "regx = re.compile(r'('+'|'.join(category_0)+')', re.IGNORECASE)\n",
    "regx"
   ]
  },
  {
   "cell_type": "code",
   "execution_count": 8,
   "metadata": {},
   "outputs": [
    {
     "name": "stdout",
     "output_type": "stream",
     "text": [
      "204410\n",
      "239.9993257522583\n"
     ]
    }
   ],
   "source": [
    "db=population\n",
    "pattern =regx\n",
    "start=time.time()\n",
    "withplace=list(db.find({\"place\":{\"$ne\": None}}))\n",
    "print(len(withplace))\n",
    "print(time.time()-start)"
   ]
  },
  {
   "cell_type": "code",
   "execution_count": 36,
   "metadata": {},
   "outputs": [],
   "source": [
    "# withlocation[0]"
   ]
  },
  {
   "cell_type": "code",
   "execution_count": 9,
   "metadata": {},
   "outputs": [],
   "source": [
    "path=\"../../output/placejson.p\"\n",
    "with open(path, 'bw') as f:\n",
    "    pickle.dump(withplace, f)"
   ]
  },
  {
   "cell_type": "markdown",
   "metadata": {},
   "source": [
    "# information extraction"
   ]
  },
  {
   "cell_type": "code",
   "execution_count": 32,
   "metadata": {},
   "outputs": [],
   "source": [
    "path=\"../../output/placejson.p\"\n",
    "with open(path,'br') as f:\n",
    "    withplace=pickle.load(f,encoding='utf-8')"
   ]
  },
  {
   "cell_type": "code",
   "execution_count": 11,
   "metadata": {},
   "outputs": [
    {
     "data": {
      "text/plain": [
       "[None, None]"
      ]
     },
     "execution_count": 11,
     "metadata": {},
     "output_type": "execute_result"
    }
   ],
   "source": [
    "coordinates = None\n",
    "coordinates = [None,None] if not coordinates else cooridnates\n",
    "coordinates"
   ]
  },
  {
   "cell_type": "code",
   "execution_count": 12,
   "metadata": {},
   "outputs": [],
   "source": [
    "def get_coordinate(this_tweet):\n",
    "    '''input  dict  tweet\n",
    "       output list [LONGITUDE LATITUDE]'''\n",
    "    # There are geo-tagged 3 place store geoinformation \n",
    "    # User self-report place \n",
    "    # geo  1 Latitude 2 Longitude \n",
    "    # coordinates 1 LONGITUDE,2 Latitude \n",
    "    # coordinate box same as coordinates\n",
    "    coordinates = None\n",
    "    try:\n",
    "        coordinates=this_tweet['coordinates']['coordinates']\n",
    "#         print('coordinates {}'.format(this_tweet['coordinates']['coordinates']))\n",
    "    except Exception as e:\n",
    "        pass\n",
    "    \n",
    "    try:\n",
    "        # take average over coordinates box\n",
    "        coordinates=list(np.array(this_tweet['place']['bounding_box']['coordinates'][0]).mean(axis=0))\n",
    "    except Exception as e:\n",
    "        pass\n",
    "    \n",
    "    coordinates = [None,None] if not coordinates else coordinates\n",
    "    return coordinates\n",
    "\n",
    "def get_retweetid(tweet):\n",
    "    try:\n",
    "        return(tweet[\"retweeted_status\"][\"id\"])\n",
    "    except: \n",
    "        return None\n",
    "    \n",
    "def get_retweet_username(tweet):\n",
    "    try:\n",
    "        return(tweet[\"retweeted_status\"][\"user\"][\"name\"])\n",
    "    except: \n",
    "        return None\n",
    "def get_retweet_followers_count(tweet):\n",
    "    try:\n",
    "        return(tweet[\"retweeted_status\"][\"user\"][\"followers_count\"])\n",
    "    except: \n",
    "        return None\n",
    "def get_retweet_fa(tweet):\n",
    "    try:\n",
    "        return(tweet[\"retweeted_status\"][\"favorite_count\"])\n",
    "    except: \n",
    "        return None\n",
    "def get_retweet_retw(tweet):\n",
    "    try:\n",
    "        return(tweet[\"retweeted_status\"][\"retweet_count\"])\n",
    "    except: \n",
    "        return None\n",
    "def get_retweet_rep(tweet):\n",
    "    try:\n",
    "        return(tweet[\"retweeted_status\"][\"reply_count\"])\n",
    "    except: \n",
    "        return None\n",
    "def get_full_text(tweet):\n",
    "    try:\n",
    "        return(tweet[\"extended_tweet\"][\"full_text\"])\n",
    "    except:\n",
    "        return(tweet[\"text\"])\n",
    "\n",
    "def jsontopandas(tweets_data):\n",
    "    tweets=pd.DataFrame()\n",
    "    tweets['id'] = list(map(lambda tweet: tweet['_id'], tweets_data))\n",
    "    tweets['longitude']=list(map(lambda tweet:get_coordinate(tweet)[0], tweets_data))\n",
    "    tweets['latitude']=list(map(lambda tweet: get_coordinate(tweet)[1], tweets_data))\n",
    "    tweets['place_country']=list(map(lambda tweet: tweet['place']['country'] if tweet['place']!= None else None, tweets_data))\n",
    "    tweets['place_full_name']=list(map(lambda tweet: tweet['place']['full_name'] if tweet['place']!= None else None, tweets_data))\n",
    "    tweets['text']=list(map(lambda tweet: get_full_text(tweet), tweets_data))\n",
    "    tweets[\"user_id\"]=list(map(lambda tweet:tweet[\"user\"][\"id\"],tweets_data))\n",
    "    tweets[\"user_name\"]=list(map(lambda tweet:tweet[\"user\"][\"name\"],tweets_data))\n",
    "    tweets[\"user_followers\"]=list(map(lambda tweet:tweet[\"user\"][\"followers_count\"],tweets_data))\n",
    "    tweets['user_loc']=list(map(lambda tweet: tweet['user']['location'], tweets_data))\n",
    "    tweets['lang']=list(map(lambda tweet: tweet['lang'], tweets_data))\n",
    "    tweets['created_at']=list(map(lambda tweet: time.strftime('%Y-%m-%d %H:%M:%S', time.strptime(tweet['created_at'],'%a %b %d %H:%M:%S +0000 %Y')), tweets_data))\n",
    "#     tweets['retweet_id']=list(map(lambda tweet: get_retweetid(tweet),tweets_data))\n",
    "#     tweets['retweet_user']=list(map(lambda tweet: get_retweet_username(tweet),tweets_data))\n",
    "    return tweets"
   ]
  },
  {
   "cell_type": "code",
   "execution_count": 13,
   "metadata": {},
   "outputs": [],
   "source": [
    "tweet_table=jsontopandas(withplace)"
   ]
  },
  {
   "cell_type": "code",
   "execution_count": 14,
   "metadata": {},
   "outputs": [
    {
     "data": {
      "text/html": [
       "<div>\n",
       "<style scoped>\n",
       "    .dataframe tbody tr th:only-of-type {\n",
       "        vertical-align: middle;\n",
       "    }\n",
       "\n",
       "    .dataframe tbody tr th {\n",
       "        vertical-align: top;\n",
       "    }\n",
       "\n",
       "    .dataframe thead th {\n",
       "        text-align: right;\n",
       "    }\n",
       "</style>\n",
       "<table border=\"1\" class=\"dataframe\">\n",
       "  <thead>\n",
       "    <tr style=\"text-align: right;\">\n",
       "      <th></th>\n",
       "      <th>id</th>\n",
       "      <th>longitude</th>\n",
       "      <th>latitude</th>\n",
       "      <th>place_country</th>\n",
       "      <th>place_full_name</th>\n",
       "      <th>text</th>\n",
       "      <th>user_id</th>\n",
       "      <th>user_name</th>\n",
       "      <th>user_followers</th>\n",
       "      <th>user_loc</th>\n",
       "      <th>lang</th>\n",
       "      <th>created_at</th>\n",
       "    </tr>\n",
       "  </thead>\n",
       "  <tbody>\n",
       "    <tr>\n",
       "      <th>0</th>\n",
       "      <td>1003422947648958464</td>\n",
       "      <td>-1.449612</td>\n",
       "      <td>53.383164</td>\n",
       "      <td>United Kingdom</td>\n",
       "      <td>Sheffield, England</td>\n",
       "      <td>I sure love when a huge moth climbs into my wa...</td>\n",
       "      <td>37952387</td>\n",
       "      <td>Gradon 🏳️‍🌈🐝</td>\n",
       "      <td>79</td>\n",
       "      <td>United Kingdom</td>\n",
       "      <td>en</td>\n",
       "      <td>2018-06-03 23:47:28</td>\n",
       "    </tr>\n",
       "    <tr>\n",
       "      <th>1</th>\n",
       "      <td>1003424491979116544</td>\n",
       "      <td>-96.699604</td>\n",
       "      <td>33.194651</td>\n",
       "      <td>United States</td>\n",
       "      <td>McKinney, TX</td>\n",
       "      <td>So I’m at work and we are playing outside when...</td>\n",
       "      <td>2357488093</td>\n",
       "      <td>Bethany Baker</td>\n",
       "      <td>445</td>\n",
       "      <td>McKinney, TX</td>\n",
       "      <td>en</td>\n",
       "      <td>2018-06-03 23:53:36</td>\n",
       "    </tr>\n",
       "    <tr>\n",
       "      <th>2</th>\n",
       "      <td>1003424636686733315</td>\n",
       "      <td>-77.604684</td>\n",
       "      <td>41.117936</td>\n",
       "      <td>United States</td>\n",
       "      <td>Pennsylvania, USA</td>\n",
       "      <td>What’s that, dust in my eye?  If you can watch...</td>\n",
       "      <td>1952866536</td>\n",
       "      <td>John Barr ESPN</td>\n",
       "      <td>3994</td>\n",
       "      <td>Delco/The Road</td>\n",
       "      <td>en</td>\n",
       "      <td>2018-06-03 23:54:10</td>\n",
       "    </tr>\n",
       "    <tr>\n",
       "      <th>3</th>\n",
       "      <td>1003424733810057218</td>\n",
       "      <td>-84.206541</td>\n",
       "      <td>33.789502</td>\n",
       "      <td>United States</td>\n",
       "      <td>Pine Lake, GA</td>\n",
       "      <td>So I got mosquito bites on my balls and yeah.....</td>\n",
       "      <td>215493638</td>\n",
       "      <td>Runt</td>\n",
       "      <td>1566</td>\n",
       "      <td>Atlanta, GA</td>\n",
       "      <td>en</td>\n",
       "      <td>2018-06-03 23:54:33</td>\n",
       "    </tr>\n",
       "    <tr>\n",
       "      <th>4</th>\n",
       "      <td>1003424860956184581</td>\n",
       "      <td>0.314300</td>\n",
       "      <td>61.304725</td>\n",
       "      <td>United States</td>\n",
       "      <td>Alaska, USA</td>\n",
       "      <td>2.4 magnitude #earthquake. 30 km from Y, #AK, ...</td>\n",
       "      <td>362523555</td>\n",
       "      <td>Earthquake Alerts</td>\n",
       "      <td>158724</td>\n",
       "      <td>None</td>\n",
       "      <td>en</td>\n",
       "      <td>2018-06-03 23:55:04</td>\n",
       "    </tr>\n",
       "  </tbody>\n",
       "</table>\n",
       "</div>"
      ],
      "text/plain": [
       "                    id  longitude   latitude   place_country  \\\n",
       "0  1003422947648958464  -1.449612  53.383164  United Kingdom   \n",
       "1  1003424491979116544 -96.699604  33.194651   United States   \n",
       "2  1003424636686733315 -77.604684  41.117936   United States   \n",
       "3  1003424733810057218 -84.206541  33.789502   United States   \n",
       "4  1003424860956184581   0.314300  61.304725   United States   \n",
       "\n",
       "      place_full_name                                               text  \\\n",
       "0  Sheffield, England  I sure love when a huge moth climbs into my wa...   \n",
       "1        McKinney, TX  So I’m at work and we are playing outside when...   \n",
       "2   Pennsylvania, USA  What’s that, dust in my eye?  If you can watch...   \n",
       "3       Pine Lake, GA  So I got mosquito bites on my balls and yeah.....   \n",
       "4         Alaska, USA  2.4 magnitude #earthquake. 30 km from Y, #AK, ...   \n",
       "\n",
       "      user_id          user_name  user_followers          user_loc lang  \\\n",
       "0    37952387       Gradon 🏳️‍🌈🐝              79    United Kingdom   en   \n",
       "1  2357488093      Bethany Baker             445      McKinney, TX   en   \n",
       "2  1952866536     John Barr ESPN            3994  Delco/The Road     en   \n",
       "3   215493638               Runt            1566       Atlanta, GA   en   \n",
       "4   362523555  Earthquake Alerts          158724              None   en   \n",
       "\n",
       "            created_at  \n",
       "0  2018-06-03 23:47:28  \n",
       "1  2018-06-03 23:53:36  \n",
       "2  2018-06-03 23:54:10  \n",
       "3  2018-06-03 23:54:33  \n",
       "4  2018-06-03 23:55:04  "
      ]
     },
     "execution_count": 14,
     "metadata": {},
     "output_type": "execute_result"
    }
   ],
   "source": [
    "tweet_table.head()"
   ]
  },
  {
   "cell_type": "code",
   "execution_count": 44,
   "metadata": {},
   "outputs": [],
   "source": [
    "# tweet_table.lang.value_counts()"
   ]
  },
  {
   "cell_type": "code",
   "execution_count": 57,
   "metadata": {},
   "outputs": [],
   "source": [
    "# thistweet[thistweet.id==994759019909726208]"
   ]
  },
  {
   "cell_type": "code",
   "execution_count": 58,
   "metadata": {},
   "outputs": [],
   "source": [
    "# thistweet.text[51]"
   ]
  },
  {
   "cell_type": "code",
   "execution_count": 15,
   "metadata": {},
   "outputs": [],
   "source": [
    "tweet_table.to_csv(\"../../output/withplace_pop.csv\",encoding='utf-8',index=False)"
   ]
  },
  {
   "cell_type": "markdown",
   "metadata": {},
   "source": [
    "# france"
   ]
  },
  {
   "cell_type": "code",
   "execution_count": 17,
   "metadata": {},
   "outputs": [],
   "source": [
    "import matplotlib.pyplot as plt"
   ]
  },
  {
   "cell_type": "code",
   "execution_count": 2,
   "metadata": {},
   "outputs": [],
   "source": [
    "tweet_table=pd.read_csv(\"../../output/withplace_pop.csv\")"
   ]
  },
  {
   "cell_type": "code",
   "execution_count": 18,
   "metadata": {},
   "outputs": [
    {
     "data": {
      "image/png": "[encoded data removed]",
      "text/plain": [
       "<Figure size 432x288 with 1 Axes>"
      ]
     },
     "metadata": {},
     "output_type": "display_data"
    }
   ],
   "source": [
    "label=tweet_table.place_country.value_counts().index[1:20]\n",
    "value=tweet_table.place_country.value_counts()[1:20]\n",
    "index=np.arange(len(label))\n",
    "plt.bar(index,value)\n",
    "plt.xticks(index,label,rotation=90)\n",
    "plt.show()"
   ]
  },
  {
   "cell_type": "code",
   "execution_count": 19,
   "metadata": {},
   "outputs": [],
   "source": [
    "france=tweet_table[tweet_table.place_country==\"France\"]"
   ]
  },
  {
   "cell_type": "code",
   "execution_count": 20,
   "metadata": {},
   "outputs": [],
   "source": [
    "france=france.reset_index().iloc[:,1:]"
   ]
  },
  {
   "cell_type": "code",
   "execution_count": 21,
   "metadata": {},
   "outputs": [
    {
     "data": {
      "text/html": [
       "<div>\n",
       "<style scoped>\n",
       "    .dataframe tbody tr th:only-of-type {\n",
       "        vertical-align: middle;\n",
       "    }\n",
       "\n",
       "    .dataframe tbody tr th {\n",
       "        vertical-align: top;\n",
       "    }\n",
       "\n",
       "    .dataframe thead th {\n",
       "        text-align: right;\n",
       "    }\n",
       "</style>\n",
       "<table border=\"1\" class=\"dataframe\">\n",
       "  <thead>\n",
       "    <tr style=\"text-align: right;\">\n",
       "      <th></th>\n",
       "      <th>id</th>\n",
       "      <th>longitude</th>\n",
       "      <th>latitude</th>\n",
       "      <th>place_country</th>\n",
       "      <th>place_full_name</th>\n",
       "      <th>text</th>\n",
       "      <th>user_id</th>\n",
       "      <th>user_name</th>\n",
       "      <th>user_followers</th>\n",
       "      <th>user_loc</th>\n",
       "      <th>lang</th>\n",
       "      <th>created_at</th>\n",
       "    </tr>\n",
       "  </thead>\n",
       "  <tbody>\n",
       "    <tr>\n",
       "      <th>0</th>\n",
       "      <td>1003504559875153921</td>\n",
       "      <td>9.046206</td>\n",
       "      <td>41.520942</td>\n",
       "      <td>France</td>\n",
       "      <td>Pianottoli-Caldarello, France</td>\n",
       "      <td>Tout ça semble tellement simple... mais ça ne ...</td>\n",
       "      <td>1630482236</td>\n",
       "      <td>patrice salini</td>\n",
       "      <td>915</td>\n",
       "      <td>pianottoli caldarello</td>\n",
       "      <td>fr</td>\n",
       "      <td>2018-06-04 05:11:45</td>\n",
       "    </tr>\n",
       "    <tr>\n",
       "      <th>1</th>\n",
       "      <td>1003545074322591744</td>\n",
       "      <td>1.582971</td>\n",
       "      <td>48.965238</td>\n",
       "      <td>France</td>\n",
       "      <td>Boissy-Mauvoisin, France</td>\n",
       "      <td>La définition littérale d’un bug https://t.co/...</td>\n",
       "      <td>34577688</td>\n",
       "      <td>Pierre Dandumont</td>\n",
       "      <td>3651</td>\n",
       "      <td>Dans ma campagne.</td>\n",
       "      <td>fr</td>\n",
       "      <td>2018-06-04 07:52:45</td>\n",
       "    </tr>\n",
       "    <tr>\n",
       "      <th>2</th>\n",
       "      <td>1003547782718939136</td>\n",
       "      <td>2.347003</td>\n",
       "      <td>48.858834</td>\n",
       "      <td>France</td>\n",
       "      <td>Paris, France</td>\n",
       "      <td>@pipedrive Hello, we are a paid customer (@mad...</td>\n",
       "      <td>1264922016</td>\n",
       "      <td>Youssef Rahoui</td>\n",
       "      <td>664</td>\n",
       "      <td>Paris</td>\n",
       "      <td>en</td>\n",
       "      <td>2018-06-04 08:03:31</td>\n",
       "    </tr>\n",
       "    <tr>\n",
       "      <th>3</th>\n",
       "      <td>1003548448514347009</td>\n",
       "      <td>2.347003</td>\n",
       "      <td>48.858834</td>\n",
       "      <td>France</td>\n",
       "      <td>Paris, France</td>\n",
       "      <td>Je plussoie ++ #vegetalisonsparis https://t.co...</td>\n",
       "      <td>1095432156</td>\n",
       "      <td>Agathe Lélu</td>\n",
       "      <td>962</td>\n",
       "      <td>Paris</td>\n",
       "      <td>fr</td>\n",
       "      <td>2018-06-04 08:06:09</td>\n",
       "    </tr>\n",
       "    <tr>\n",
       "      <th>4</th>\n",
       "      <td>1003555075699200000</td>\n",
       "      <td>2.347003</td>\n",
       "      <td>48.858834</td>\n",
       "      <td>France</td>\n",
       "      <td>Paris, France</td>\n",
       "      <td>@jlmoudenc un exemple à prendre pour #Toulouse...</td>\n",
       "      <td>811609616408870912</td>\n",
       "      <td>Kiricus</td>\n",
       "      <td>44</td>\n",
       "      <td>Toulouse, France</td>\n",
       "      <td>fr</td>\n",
       "      <td>2018-06-04 08:32:29</td>\n",
       "    </tr>\n",
       "  </tbody>\n",
       "</table>\n",
       "</div>"
      ],
      "text/plain": [
       "                    id  longitude   latitude place_country  \\\n",
       "0  1003504559875153921   9.046206  41.520942        France   \n",
       "1  1003545074322591744   1.582971  48.965238        France   \n",
       "2  1003547782718939136   2.347003  48.858834        France   \n",
       "3  1003548448514347009   2.347003  48.858834        France   \n",
       "4  1003555075699200000   2.347003  48.858834        France   \n",
       "\n",
       "                 place_full_name  \\\n",
       "0  Pianottoli-Caldarello, France   \n",
       "1       Boissy-Mauvoisin, France   \n",
       "2                  Paris, France   \n",
       "3                  Paris, France   \n",
       "4                  Paris, France   \n",
       "\n",
       "                                                text             user_id  \\\n",
       "0  Tout ça semble tellement simple... mais ça ne ...          1630482236   \n",
       "1  La définition littérale d’un bug https://t.co/...            34577688   \n",
       "2  @pipedrive Hello, we are a paid customer (@mad...          1264922016   \n",
       "3  Je plussoie ++ #vegetalisonsparis https://t.co...          1095432156   \n",
       "4  @jlmoudenc un exemple à prendre pour #Toulouse...  811609616408870912   \n",
       "\n",
       "          user_name  user_followers               user_loc lang  \\\n",
       "0    patrice salini             915  pianottoli caldarello   fr   \n",
       "1  Pierre Dandumont            3651      Dans ma campagne.   fr   \n",
       "2    Youssef Rahoui             664                  Paris   en   \n",
       "3       Agathe Lélu             962                  Paris   fr   \n",
       "4           Kiricus              44       Toulouse, France   fr   \n",
       "\n",
       "            created_at  \n",
       "0  2018-06-04 05:11:45  \n",
       "1  2018-06-04 07:52:45  \n",
       "2  2018-06-04 08:03:31  \n",
       "3  2018-06-04 08:06:09  \n",
       "4  2018-06-04 08:32:29  "
      ]
     },
     "execution_count": 21,
     "metadata": {},
     "output_type": "execute_result"
    }
   ],
   "source": [
    "france.head()"
   ]
  },
  {
   "cell_type": "code",
   "execution_count": 27,
   "metadata": {},
   "outputs": [
    {
     "data": {
      "text/plain": [
       "\"#SEDD  @Mc_Lanne conclut la conférence en rappelant que @generalifrance a été l'un des 1er #assureurs à se positionner sur les sujets du #climat et de la #pollution  #santé 👏👏👌 https://t.co/DnBg6PTT90\""
      ]
     },
     "execution_count": 27,
     "metadata": {},
     "output_type": "execute_result"
    }
   ],
   "source": [
    "france.text[10]"
   ]
  },
  {
   "cell_type": "code",
   "execution_count": 28,
   "metadata": {},
   "outputs": [],
   "source": [
    "# france=france.iloc[:,1:]\n",
    "france.to_csv(\"../../output/france_pop.csv\",encoding='utf-8',index=False)"
   ]
  }
 ],
 "metadata": {
  "kernelspec": {
   "display_name": "Python 3",
   "language": "python",
   "name": "python3"
  },
  "language_info": {
   "codemirror_mode": {
    "name": "ipython",
    "version": 3
   },
   "file_extension": ".py",
   "mimetype": "text/x-python",
   "name": "python",
   "nbconvert_exporter": "python",
   "pygments_lexer": "ipython3",
   "version": "3.6.4"
  }
 },
 "nbformat": 4,
 "nbformat_minor": 2
}
