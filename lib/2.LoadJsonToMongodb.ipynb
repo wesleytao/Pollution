{
 "cells": [
  {
   "cell_type": "code",
   "execution_count": 1,
   "metadata": {},
   "outputs": [],
   "source": [
    "import pymongo \n",
    "from glob import iglob\n",
    "import os.path\n",
    "from pymongo import MongoClient\n",
    "import json\n",
    "import gc"
   ]
  },
  {
   "cell_type": "code",
   "execution_count": 2,
   "metadata": {},
   "outputs": [
    {
     "data": {
      "text/plain": [
       "['tweetcollection']"
      ]
     },
     "execution_count": 2,
     "metadata": {},
     "output_type": "execute_result"
    }
   ],
   "source": [
    "client= MongoClient()\n",
    "db    =client.pollution\n",
    "db.collection_names()"
   ]
  },
  {
   "cell_type": "code",
   "execution_count": 3,
   "metadata": {},
   "outputs": [
    {
     "data": {
      "text/plain": [
       "['../data/airpollution-2018-05-09-12-38.json',\n",
       " '../data/airpollution-2018-05-10-09-23.json',\n",
       " '../data/airpollution-2018-05-11-09-20.json',\n",
       " '../data/airpollution-2018-05-11-22-55.json',\n",
       " '../data/airpollution-2018-05-12-12-35.json',\n",
       " '../data/airpollution-2018-05-13-12-27.json',\n",
       " '../data/airpollution-2018-05-14-10-47.json',\n",
       " '../data/airpollution-2018-05-15-00-45.json',\n",
       " '../data/airpollution-2018-05-15-11-17.json',\n",
       " '../data/airpollution-2018-05-16-11-22.json',\n",
       " '../data/airpollution-2018-05-16-15-08.json',\n",
       " '../data/airpollution-2018-05-17-09-40.json',\n",
       " '../data/airpollution-2018-05-18-01-30.json',\n",
       " '../data/airpollution-2018-05-19-18-07.json',\n",
       " '../data/alltogether-2018-05-21-00-05.json',\n",
       " '../data/alltogether-2018-05-21-20-24.json',\n",
       " '../data/alltogether-2018-05-21-23-39.json',\n",
       " '../data/alltogether-2018-05-22-09-29.json',\n",
       " '../data/alltogether-2018-05-22-21-36.json',\n",
       " '../data/alltogether-2018-05-24-10-47.json',\n",
       " '../data/alltogether-2018-05-25-11-08.json',\n",
       " '../data/alltogether-2018-05-26-01-50.json',\n",
       " '../data/alltogether-2018-05-26-16-46.json',\n",
       " '../data/alltogether-2018-05-30-19-58.json',\n",
       " '../data/alltogether-2018-05-31-22-32.json',\n",
       " '../data/alltogether-2018-06-03-01-09.json',\n",
       " '../data/alltogether-2018-06-03-17-52.json']"
      ]
     },
     "execution_count": 3,
     "metadata": {},
     "output_type": "execute_result"
    }
   ],
   "source": [
    "myfile=[]\n",
    "for file in os.listdir(\"../data/\"):\n",
    "    myfile.append(\"../data/\"+file)\n",
    "myfile"
   ]
  },
  {
   "cell_type": "code",
   "execution_count": 4,
   "metadata": {},
   "outputs": [
    {
     "data": {
      "text/plain": [
       "'../data/airpollution-2018-05-09-12-38.json'"
      ]
     },
     "execution_count": 4,
     "metadata": {},
     "output_type": "execute_result"
    }
   ],
   "source": [
    "myfile[0]"
   ]
  },
  {
   "cell_type": "code",
   "execution_count": 6,
   "metadata": {},
   "outputs": [
    {
     "ename": "KeyboardInterrupt",
     "evalue": "",
     "output_type": "error",
     "traceback": [
      "\u001b[1;31m---------------------------------------------------------------------------\u001b[0m",
      "\u001b[1;31mKeyboardInterrupt\u001b[0m                         Traceback (most recent call last)",
      "\u001b[1;32m<ipython-input-6-ab1b52d7b3bb>\u001b[0m in \u001b[0;36m<module>\u001b[1;34m()\u001b[0m\n\u001b[0;32m      6\u001b[0m     \u001b[1;32mfor\u001b[0m \u001b[0mline\u001b[0m \u001b[1;32min\u001b[0m \u001b[0mf\u001b[0m\u001b[1;33m:\u001b[0m\u001b[1;33m\u001b[0m\u001b[0m\n\u001b[0;32m      7\u001b[0m         \u001b[0mgc\u001b[0m\u001b[1;33m.\u001b[0m\u001b[0mcollect\u001b[0m\u001b[1;33m(\u001b[0m\u001b[1;33m)\u001b[0m\u001b[1;33m\u001b[0m\u001b[0m\n\u001b[1;32m----> 8\u001b[1;33m         \u001b[1;32mtry\u001b[0m\u001b[1;33m:\u001b[0m\u001b[1;33m\u001b[0m\u001b[0m\n\u001b[0m\u001b[0;32m      9\u001b[0m             \u001b[0mtweet\u001b[0m\u001b[1;33m=\u001b[0m\u001b[0mjson\u001b[0m\u001b[1;33m.\u001b[0m\u001b[0mloads\u001b[0m\u001b[1;33m(\u001b[0m\u001b[0mline\u001b[0m\u001b[1;33m)\u001b[0m\u001b[1;33m\u001b[0m\u001b[0m\n\u001b[0;32m     10\u001b[0m             \u001b[0mtweet\u001b[0m\u001b[1;33m[\u001b[0m\u001b[1;34m\"_id\"\u001b[0m\u001b[1;33m]\u001b[0m\u001b[1;33m=\u001b[0m\u001b[0mtweet\u001b[0m\u001b[1;33m.\u001b[0m\u001b[0mpop\u001b[0m\u001b[1;33m(\u001b[0m\u001b[1;34m\"id\"\u001b[0m\u001b[1;33m)\u001b[0m \u001b[1;31m#rename key\u001b[0m\u001b[1;33m\u001b[0m\u001b[0m\n",
      "\u001b[1;31mKeyboardInterrupt\u001b[0m: "
     ]
    }
   ],
   "source": [
    "tweets_data=[]\n",
    "# for file in myfile:\n",
    "with open(myfile[0], 'r',encoding=\"utf-8\") as f:\n",
    "    missed =0\n",
    "    count  =0\n",
    "    for line in f:\n",
    "        gc.collect()\n",
    "        try:\n",
    "            tweet=json.loads(line)\n",
    "            tweet[\"_id\"]=tweet.pop(\"id\") #rename key \n",
    "            tweets_data.append(tweet)\n",
    "#             db.tweetcollection.insert_one(tweet)\n",
    "            count  =count+1\n",
    "        except Exception as e:\n",
    "            missed =missed+1\n",
    "            continue\n",
    "\n",
    "    total=missed+count\n",
    "    print(\"file {} missed tweets: {} total tweets : {}\".format(file,missed,total))"
   ]
  },
  {
   "cell_type": "code",
   "execution_count": null,
   "metadata": {},
   "outputs": [],
   "source": [
    "tweets_data[0]"
   ]
  },
  {
   "cell_type": "code",
   "execution_count": 5,
   "metadata": {},
   "outputs": [
    {
     "name": "stdout",
     "output_type": "stream",
     "text": [
      "file ../data/airpollution-2018-05-09-12-38.json missed tweets: 3164 total tweets : 6328\n",
      "file ../data/airpollution-2018-05-10-09-23.json missed tweets: 4101 total tweets : 8200\n",
      "file ../data/airpollution-2018-05-11-09-20.json missed tweets: 1650 total tweets : 3300\n",
      "file ../data/airpollution-2018-05-11-22-55.json missed tweets: 1376 total tweets : 2752\n",
      "file ../data/airpollution-2018-05-12-12-35.json missed tweets: 512 total tweets : 1024\n",
      "file ../data/airpollution-2018-05-13-12-27.json missed tweets: 2153 total tweets : 4304\n",
      "file ../data/airpollution-2018-05-14-10-47.json missed tweets: 426 total tweets : 852\n",
      "file ../data/airpollution-2018-05-15-00-45.json missed tweets: 1758 total tweets : 3516\n",
      "file ../data/airpollution-2018-05-15-11-17.json missed tweets: 618 total tweets : 1234\n",
      "file ../data/airpollution-2018-05-16-11-22.json missed tweets: 349 total tweets : 698\n",
      "file ../data/airpollution-2018-05-16-15-08.json missed tweets: 5600 total tweets : 11200\n",
      "file ../data/airpollution-2018-05-17-09-40.json missed tweets: 3333 total tweets : 6666\n",
      "file ../data/airpollution-2018-05-18-01-30.json missed tweets: 5361 total tweets : 10722\n",
      "file ../data/airpollution-2018-05-19-18-07.json missed tweets: 2410 total tweets : 4820\n",
      "file ../data/alltogether-2018-05-21-00-05.json missed tweets: 627 total tweets : 237355\n",
      "file ../data/alltogether-2018-05-21-20-24.json missed tweets: 18 total tweets : 28774\n",
      "file ../data/alltogether-2018-05-21-23-39.json missed tweets: 74 total tweets : 95557\n",
      "file ../data/alltogether-2018-05-22-09-29.json missed tweets: 439 total tweets : 136583\n",
      "file ../data/alltogether-2018-05-22-21-36.json missed tweets: 446 total tweets : 428092\n",
      "file ../data/alltogether-2018-05-24-10-47.json missed tweets: 273 total tweets : 158145\n",
      "file ../data/alltogether-2018-05-25-11-08.json missed tweets: 612 total tweets : 151930\n",
      "file ../data/alltogether-2018-05-26-01-50.json missed tweets: 93 total tweets : 119388\n",
      "file ../data/alltogether-2018-05-26-16-46.json missed tweets: 42 total tweets : 76180\n",
      "file ../data/alltogether-2018-05-30-19-58.json missed tweets: 228 total tweets : 295863\n",
      "file ../data/alltogether-2018-05-31-22-32.json missed tweets: 153 total tweets : 207504\n",
      "file ../data/alltogether-2018-06-03-01-09.json missed tweets: 90408 total tweets : 180678\n"
     ]
    }
   ],
   "source": [
    "# tweets_data=[]\n",
    "for file in myfile:\n",
    "    with open(file, 'r',encoding=\"utf-8\") as f:\n",
    "        missed =0\n",
    "        count  =0\n",
    "        for line in f:\n",
    "            gc.collect()\n",
    "            try:\n",
    "                tweet=json.loads(line)\n",
    "                tweet[\"_id\"]=tweet.pop(\"id\") #rename key \n",
    "#                 tweets_data.append(tweet)\n",
    "                db.tweetcollection.insert_one(tweet)\n",
    "                count  =count+1\n",
    "            except Exception as e:\n",
    "                missed =missed+1\n",
    "                continue\n",
    "            \n",
    "        total=missed+count\n",
    "        print(\"file {} missed tweets: {} total tweets : {}\".format(file,missed,total))"
   ]
  }
 ],
 "metadata": {
  "kernelspec": {
   "display_name": "Python 3",
   "language": "python",
   "name": "python3"
  },
  "language_info": {
   "codemirror_mode": {
    "name": "ipython",
    "version": 3
   },
   "file_extension": ".py",
   "mimetype": "text/x-python",
   "name": "python",
   "nbconvert_exporter": "python",
   "pygments_lexer": "ipython3",
   "version": "3.6.4"
  }
 },
 "nbformat": 4,
 "nbformat_minor": 2
}
