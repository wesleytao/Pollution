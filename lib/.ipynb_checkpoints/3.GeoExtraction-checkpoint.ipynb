{
 "cells": [
  {
   "cell_type": "code",
   "execution_count": 236,
   "metadata": {},
   "outputs": [],
   "source": [
    "import pymongo\n",
    "import json\n",
    "import pandas as pd\n",
    "import time\n",
    "import re\n",
    "import numpy as np\n",
    "from gmplot import gmplot"
   ]
  },
  {
   "cell_type": "code",
   "execution_count": 92,
   "metadata": {},
   "outputs": [],
   "source": [
    "client=pymongo.MongoClient()"
   ]
  },
  {
   "cell_type": "code",
   "execution_count": 93,
   "metadata": {},
   "outputs": [
    {
     "data": {
      "text/plain": [
       "['admin', 'config', 'local', 'pollution', 'twitterdb']"
      ]
     },
     "execution_count": 93,
     "metadata": {},
     "output_type": "execute_result"
    }
   ],
   "source": [
    "client.list_database_names()"
   ]
  },
  {
   "cell_type": "code",
   "execution_count": 94,
   "metadata": {},
   "outputs": [
    {
     "data": {
      "text/plain": [
       "['tweetcollection']"
      ]
     },
     "execution_count": 94,
     "metadata": {},
     "output_type": "execute_result"
    }
   ],
   "source": [
    "db=client.pollution\n",
    "db.collection_names()"
   ]
  },
  {
   "cell_type": "code",
   "execution_count": 95,
   "metadata": {},
   "outputs": [
    {
     "data": {
      "text/plain": [
       "24995"
      ]
     },
     "execution_count": 95,
     "metadata": {},
     "output_type": "execute_result"
    }
   ],
   "source": [
    "db.tweetcollection.find({\"place\":{\"$ne\": None}}).count() # with place tweets"
   ]
  },
  {
   "cell_type": "code",
   "execution_count": 96,
   "metadata": {},
   "outputs": [
    {
     "data": {
      "text/plain": [
       "1013"
      ]
     },
     "execution_count": 96,
     "metadata": {},
     "output_type": "execute_result"
    }
   ],
   "source": [
    "db.tweetcollection.find({\"geo\":{\"$ne\": None}}).count() # with exact location"
   ]
  },
  {
   "cell_type": "code",
   "execution_count": 97,
   "metadata": {},
   "outputs": [],
   "source": [
    "pollution_pattern=\"pollution\""
   ]
  },
  {
   "cell_type": "code",
   "execution_count": 98,
   "metadata": {},
   "outputs": [],
   "source": [
    "category_0=[\"air #pollution\",\"空气污染\",\"#airpollution\",\"वायु प्रदुषण\",\"la pollution de l'air\",\"la #pollution\",\"air pollution\",\"l'air #pollution\"]"
   ]
  },
  {
   "cell_type": "code",
   "execution_count": 99,
   "metadata": {},
   "outputs": [
    {
     "data": {
      "text/plain": [
       "['air #pollution',\n",
       " '空气污染',\n",
       " '#airpollution',\n",
       " 'वायु प्रदुषण',\n",
       " \"la pollution de l'air\",\n",
       " 'la #pollution',\n",
       " 'air pollution',\n",
       " \"l'air #pollution\"]"
      ]
     },
     "execution_count": 99,
     "metadata": {},
     "output_type": "execute_result"
    }
   ],
   "source": [
    "category_0"
   ]
  },
  {
   "cell_type": "code",
   "execution_count": 100,
   "metadata": {},
   "outputs": [
    {
     "data": {
      "text/plain": [
       "re.compile(r\"(air #pollution|空气污染|#airpollution|वायु प्रदुषण|la pollution de l'air|la #pollution|air pollution|l'air #pollution)\",\n",
       "re.IGNORECASE|re.UNICODE)"
      ]
     },
     "execution_count": 100,
     "metadata": {},
     "output_type": "execute_result"
    }
   ],
   "source": [
    "regx = re.compile(r'('+'|'.join(category_0)+')', re.IGNORECASE)\n",
    "regx"
   ]
  },
  {
   "cell_type": "code",
   "execution_count": 101,
   "metadata": {},
   "outputs": [],
   "source": [
    "withlocation=list(db.tweetcollection.find({\"geo\":{\"$ne\": None},\"text\":{\"$regex\":pollution_pattern}}))"
   ]
  },
  {
   "cell_type": "code",
   "execution_count": 102,
   "metadata": {},
   "outputs": [
    {
     "data": {
      "text/plain": [
       "11"
      ]
     },
     "execution_count": 102,
     "metadata": {},
     "output_type": "execute_result"
    }
   ],
   "source": [
    "len(withlocation)"
   ]
  },
  {
   "cell_type": "code",
   "execution_count": 128,
   "metadata": {},
   "outputs": [
    {
     "data": {
      "text/plain": [
       "{'_id': 994691118179602432,\n",
       " 'contributors': None,\n",
       " 'coordinates': {'coordinates': [114.15893555, 22.35388613], 'type': 'Point'},\n",
       " 'created_at': 'Thu May 10 21:30:17 +0000 2018',\n",
       " 'entities': {'hashtags': [],\n",
       "  'symbols': [],\n",
       "  'urls': [{'display_url': 'dlvr.it/QSRjd7',\n",
       "    'expanded_url': 'http://dlvr.it/QSRjd7',\n",
       "    'indices': [94, 117],\n",
       "    'url': 'https://t.co/fqKCIvjV1z'}],\n",
       "  'user_mentions': []},\n",
       " 'favorite_count': 0,\n",
       " 'favorited': False,\n",
       " 'filter_level': 'low',\n",
       " 'geo': {'coordinates': [22.35388613, 114.15893555], 'type': 'Point'},\n",
       " 'id_str': '994691118179602432',\n",
       " 'in_reply_to_screen_name': None,\n",
       " 'in_reply_to_status_id': None,\n",
       " 'in_reply_to_status_id_str': None,\n",
       " 'in_reply_to_user_id': None,\n",
       " 'in_reply_to_user_id_str': None,\n",
       " 'is_quote_status': False,\n",
       " 'lang': 'en',\n",
       " 'place': {'attributes': {},\n",
       "  'bounding_box': {'coordinates': [[[114.141298, 22.344083],\n",
       "     [114.141298, 22.439185],\n",
       "     [114.25441, 22.439185],\n",
       "     [114.25441, 22.344083]]],\n",
       "   'type': 'Polygon'},\n",
       "  'country': '香港',\n",
       "  'country_code': 'HK',\n",
       "  'full_name': '沙田, 香港',\n",
       "  'id': '00e41459272fdc2b',\n",
       "  'name': '沙田',\n",
       "  'place_type': 'admin',\n",
       "  'url': 'https://api.twitter.com/1.1/geo/id/00e41459272fdc2b.json'},\n",
       " 'possibly_sensitive': False,\n",
       " 'quote_count': 0,\n",
       " 'reply_count': 0,\n",
       " 'retweet_count': 0,\n",
       " 'retweeted': False,\n",
       " 'source': '<a href=\"https://dlvrit.com/\" rel=\"nofollow\">dlvr.it</a>',\n",
       " 'text': \"ASIA | AS —  China's Shijiazhuang to take air pollution fight to crematoriums, public toilets https://t.co/fqKCIvjV1z\",\n",
       " 'timestamp_ms': '1525987817698',\n",
       " 'truncated': False,\n",
       " 'user': {'contributors_enabled': False,\n",
       "  'created_at': 'Sat May 29 17:26:03 +0000 2010',\n",
       "  'default_profile': False,\n",
       "  'default_profile_image': False,\n",
       "  'description': '日本語  — 中国 — 한국말 — Tiếng Việt — Australia-Pacific | Keeping up-to-date on global social exclusion — Stigmabase is a Canadian Nonprofit Initiative | F in 2010 —',\n",
       "  'favourites_count': 0,\n",
       "  'follow_request_sent': None,\n",
       "  'followers_count': 3190,\n",
       "  'following': None,\n",
       "  'friends_count': 1426,\n",
       "  'geo_enabled': True,\n",
       "  'id': 149585330,\n",
       "  'id_str': '149585330',\n",
       "  'is_translator': False,\n",
       "  'lang': 'en-gb',\n",
       "  'listed_count': 154,\n",
       "  'location': 'Asia | Australia - Pacific',\n",
       "  'name': 'Stigmabase | ASIA',\n",
       "  'notifications': None,\n",
       "  'profile_background_color': 'FFFFFF',\n",
       "  'profile_background_image_url': 'http://pbs.twimg.com/profile_background_images/378800000124913356/dMFsx_w6.png',\n",
       "  'profile_background_image_url_https': 'https://pbs.twimg.com/profile_background_images/378800000124913356/dMFsx_w6.png',\n",
       "  'profile_background_tile': False,\n",
       "  'profile_banner_url': 'https://pbs.twimg.com/profile_banners/149585330/1385143363',\n",
       "  'profile_image_url': 'http://pbs.twimg.com/profile_images/378800000775146705/565c2c7a07cd44ccf0c57ac63af07551_normal.png',\n",
       "  'profile_image_url_https': 'https://pbs.twimg.com/profile_images/378800000775146705/565c2c7a07cd44ccf0c57ac63af07551_normal.png',\n",
       "  'profile_link_color': '0084B4',\n",
       "  'profile_sidebar_border_color': 'FFFFFF',\n",
       "  'profile_sidebar_fill_color': 'EFEFEF',\n",
       "  'profile_text_color': '333333',\n",
       "  'profile_use_background_image': True,\n",
       "  'protected': False,\n",
       "  'screen_name': 'PairsonnalitesA',\n",
       "  'statuses_count': 1187698,\n",
       "  'time_zone': 'Sydney',\n",
       "  'translator_type': 'none',\n",
       "  'url': 'http://au.stigmabase.org',\n",
       "  'utc_offset': 36000,\n",
       "  'verified': False}}"
      ]
     },
     "execution_count": 128,
     "metadata": {},
     "output_type": "execute_result"
    }
   ],
   "source": [
    "withlocation[1]"
   ]
  },
  {
   "cell_type": "code",
   "execution_count": 106,
   "metadata": {},
   "outputs": [],
   "source": [
    "withplace=list(db.tweetcollection.find({\"place\":{\"$ne\": None}}))"
   ]
  },
  {
   "cell_type": "code",
   "execution_count": 108,
   "metadata": {},
   "outputs": [
    {
     "data": {
      "text/plain": [
       "{'_id': 994256948102021121,\n",
       " 'contributors': None,\n",
       " 'coordinates': None,\n",
       " 'created_at': 'Wed May 09 16:45:03 +0000 2018',\n",
       " 'display_text_range': [0, 76],\n",
       " 'entities': {'hashtags': [],\n",
       "  'media': [{'display_url': 'pic.twitter.com/xu2PMQKcrj',\n",
       "    'expanded_url': 'https://twitter.com/ValleyGreenTeam/status/994256948102021121/photo/1',\n",
       "    'id': 994256937708503041,\n",
       "    'id_str': '994256937708503041',\n",
       "    'indices': [77, 100],\n",
       "    'media_url': 'http://pbs.twimg.com/media/DcxPasOVQAEqUPY.jpg',\n",
       "    'media_url_https': 'https://pbs.twimg.com/media/DcxPasOVQAEqUPY.jpg',\n",
       "    'sizes': {'large': {'h': 1536, 'resize': 'fit', 'w': 2048},\n",
       "     'medium': {'h': 900, 'resize': 'fit', 'w': 1200},\n",
       "     'small': {'h': 510, 'resize': 'fit', 'w': 680},\n",
       "     'thumb': {'h': 150, 'resize': 'crop', 'w': 150}},\n",
       "    'type': 'photo',\n",
       "    'url': 'https://t.co/xu2PMQKcrj'}],\n",
       "  'symbols': [],\n",
       "  'urls': [],\n",
       "  'user_mentions': [{'id': 772369988,\n",
       "    'id_str': '772369988',\n",
       "    'indices': [0, 10],\n",
       "    'name': 'Dibs',\n",
       "    'screen_name': 'DibsMyWay'}]},\n",
       " 'extended_entities': {'media': [{'display_url': 'pic.twitter.com/xu2PMQKcrj',\n",
       "    'expanded_url': 'https://twitter.com/ValleyGreenTeam/status/994256948102021121/photo/1',\n",
       "    'id': 994256937708503041,\n",
       "    'id_str': '994256937708503041',\n",
       "    'indices': [77, 100],\n",
       "    'media_url': 'http://pbs.twimg.com/media/DcxPasOVQAEqUPY.jpg',\n",
       "    'media_url_https': 'https://pbs.twimg.com/media/DcxPasOVQAEqUPY.jpg',\n",
       "    'sizes': {'large': {'h': 1536, 'resize': 'fit', 'w': 2048},\n",
       "     'medium': {'h': 900, 'resize': 'fit', 'w': 1200},\n",
       "     'small': {'h': 510, 'resize': 'fit', 'w': 680},\n",
       "     'thumb': {'h': 150, 'resize': 'crop', 'w': 150}},\n",
       "    'type': 'photo',\n",
       "    'url': 'https://t.co/xu2PMQKcrj'}]},\n",
       " 'favorite_count': 0,\n",
       " 'favorited': False,\n",
       " 'filter_level': 'low',\n",
       " 'geo': None,\n",
       " 'id_str': '994256948102021121',\n",
       " 'in_reply_to_screen_name': 'ValleyGreenTeam',\n",
       " 'in_reply_to_status_id': 994254362925981696,\n",
       " 'in_reply_to_status_id_str': '994254362925981696',\n",
       " 'in_reply_to_user_id': 1651496246,\n",
       " 'in_reply_to_user_id_str': '1651496246',\n",
       " 'is_quote_status': False,\n",
       " 'lang': 'en',\n",
       " 'place': {'attributes': {},\n",
       "  'bounding_box': {'coordinates': [[[-121.416872, 37.883347],\n",
       "     [-121.416872, 38.078305],\n",
       "     [-121.183979, 38.078305],\n",
       "     [-121.183979, 37.883347]]],\n",
       "   'type': 'Polygon'},\n",
       "  'country': 'United States',\n",
       "  'country_code': 'US',\n",
       "  'full_name': 'Stockton, CA',\n",
       "  'id': 'd98e7ce217ade2c5',\n",
       "  'name': 'Stockton',\n",
       "  'place_type': 'city',\n",
       "  'url': 'https://api.twitter.com/1.1/geo/id/d98e7ce217ade2c5.json'},\n",
       " 'possibly_sensitive': False,\n",
       " 'quote_count': 0,\n",
       " 'reply_count': 0,\n",
       " 'retweet_count': 0,\n",
       " 'retweeted': False,\n",
       " 'source': '<a href=\"http://twitter.com/download/iphone\" rel=\"nofollow\">Twitter for iPhone</a>',\n",
       " 'text': '@DibsMyWay now presenting on reducing air pollution through commuter options https://t.co/xu2PMQKcrj',\n",
       " 'timestamp_ms': '1525884303485',\n",
       " 'truncated': False,\n",
       " 'user': {'contributors_enabled': False,\n",
       "  'created_at': 'Tue Aug 06 23:19:43 +0000 2013',\n",
       "  'default_profile': False,\n",
       "  'default_profile_image': False,\n",
       "  'description': 'Acct managed by staff & do not necessarily reflect views of the Chamber.',\n",
       "  'favourites_count': 202,\n",
       "  'follow_request_sent': None,\n",
       "  'followers_count': 76,\n",
       "  'following': None,\n",
       "  'friends_count': 82,\n",
       "  'geo_enabled': True,\n",
       "  'id': 1651496246,\n",
       "  'id_str': '1651496246',\n",
       "  'is_translator': False,\n",
       "  'lang': 'en',\n",
       "  'listed_count': 2,\n",
       "  'location': 'Stockton, CA',\n",
       "  'name': 'Valley Green Team',\n",
       "  'notifications': None,\n",
       "  'profile_background_color': 'B2DFDA',\n",
       "  'profile_background_image_url': 'http://pbs.twimg.com/profile_background_images/378800000056967586/587188e16e0ae61c21dd39b56c070429.jpeg',\n",
       "  'profile_background_image_url_https': 'https://pbs.twimg.com/profile_background_images/378800000056967586/587188e16e0ae61c21dd39b56c070429.jpeg',\n",
       "  'profile_background_tile': False,\n",
       "  'profile_banner_url': 'https://pbs.twimg.com/profile_banners/1651496246/1464033847',\n",
       "  'profile_image_url': 'http://pbs.twimg.com/profile_images/790931620928696320/nSNecFQc_normal.jpg',\n",
       "  'profile_image_url_https': 'https://pbs.twimg.com/profile_images/790931620928696320/nSNecFQc_normal.jpg',\n",
       "  'profile_link_color': '19CF86',\n",
       "  'profile_sidebar_border_color': 'FFFFFF',\n",
       "  'profile_sidebar_fill_color': 'FFFFFF',\n",
       "  'profile_text_color': '333333',\n",
       "  'profile_use_background_image': True,\n",
       "  'protected': False,\n",
       "  'screen_name': 'ValleyGreenTeam',\n",
       "  'statuses_count': 222,\n",
       "  'time_zone': 'Pacific Time (US & Canada)',\n",
       "  'translator_type': 'none',\n",
       "  'url': 'http://www.greenteamsanjoaquin.com/Valley-Green-Team.htm',\n",
       "  'utc_offset': -25200,\n",
       "  'verified': False}}"
      ]
     },
     "execution_count": 108,
     "metadata": {},
     "output_type": "execute_result"
    }
   ],
   "source": [
    "withplace[0]"
   ]
  },
  {
   "cell_type": "code",
   "execution_count": 221,
   "metadata": {},
   "outputs": [],
   "source": [
    "def get_coordinate(this_tweet):\n",
    "    '''input  dict  tweet\n",
    "       output list [LONGITUDE LATITUDE]'''\n",
    "    # There are geo-tagged 3 place store geoinformation \n",
    "    # User self-report place \n",
    "    # geo  1 Latitude 2 Longitude \n",
    "    # coordinates 1 LONGITUDE,2 Latitude \n",
    "    # coordinate box same as coordinates\n",
    "    coordiantes=None\n",
    "    try:\n",
    "        coordinates=this_tweet['coordinates']['coordinates']\n",
    "#         print('coordinates {}'.format(this_tweet['coordinates']['coordinates']))\n",
    "    except Exception as e:\n",
    "        pass\n",
    "    \n",
    "    try:\n",
    "        # take average over coordinates box\n",
    "        coordinates=list(np.array(this_tweet['place']['bounding_box']['coordinates'][0]).mean(axis=0))\n",
    "    except Exception as e:\n",
    "        pass\n",
    "\n",
    "    return coordinates"
   ]
  },
  {
   "cell_type": "code",
   "execution_count": 252,
   "metadata": {},
   "outputs": [],
   "source": [
    "def get_retweetid(tweet):\n",
    "    try:\n",
    "        return(tweet[\"retweeted_status\"][\"id\"])\n",
    "    except: \n",
    "        return None\n",
    "    \n",
    "def get_retweet_username(tweet):\n",
    "    try:\n",
    "        return(tweet[\"retweeted_status\"][\"user\"][\"name\"])\n",
    "    except: \n",
    "        return None\n",
    "def get_retweet_followers_count(tweet):\n",
    "    try:\n",
    "        return(tweet[\"retweeted_status\"][\"user\"][\"followers_count\"])\n",
    "    except: \n",
    "        return None\n",
    "def get_retweet_fa(tweet):\n",
    "    try:\n",
    "        return(tweet[\"retweeted_status\"][\"favorite_count\"])\n",
    "    except: \n",
    "        return None\n",
    "def get_retweet_retw(tweet):\n",
    "    try:\n",
    "        return(tweet[\"retweeted_status\"][\"retweet_count\"])\n",
    "    except: \n",
    "        return None\n",
    "def get_retweet_rep(tweet):\n",
    "    try:\n",
    "        return(tweet[\"retweeted_status\"][\"reply_count\"])\n",
    "    except: \n",
    "        return None\n",
    "    \n",
    "            \n",
    "    \n",
    "def jsontopandas(tweets_data):\n",
    "    tweets=pd.DataFrame()\n",
    "    tweets['id'] = list(map(lambda tweet: tweet['_id'], tweets_data))\n",
    "    tweets['longitude']=list(map(lambda tweet:get_coordinate(tweet)[0], tweets_data))\n",
    "    tweets['latitude']=list(map(lambda tweet: get_coordinate(tweet)[1], tweets_data))\n",
    "    tweets['place_country']=list(map(lambda tweet: tweet['place']['country'] if tweet['place']!= None else None, tweets_data))\n",
    "    tweets['place_full_name']=list(map(lambda tweet: tweet['place']['full_name'] if tweet['place']!= None else None, tweets_data))\n",
    "    tweets['text']=list(map(lambda tweet: tweet['text'], tweets_data))\n",
    "    tweets[\"user_id\"]=list(map(lambda tweet:tweet[\"user\"][\"id\"],tweets_data))\n",
    "    tweets[\"user_name\"]=list(map(lambda tweet:tweet[\"user\"][\"name\"],tweets_data))\n",
    "    tweets[\"user_followers\"]=list(map(lambda tweet:tweet[\"user\"][\"followers_count\"],tweets_data))\n",
    "    tweets['user_loc']=list(map(lambda tweet: tweet['user']['location'], tweets_data))\n",
    "    tweets['lang']=list(map(lambda tweet: tweet['lang'], tweets_data))\n",
    "    tweets['created_at']=list(map(lambda tweet: time.strftime('%Y-%m-%d %H:%M:%S', time.strptime(tweet['created_at'],'%a %b %d %H:%M:%S +0000 %Y')), tweets_data))\n",
    "    return tweets"
   ]
  },
  {
   "cell_type": "code",
   "execution_count": 253,
   "metadata": {},
   "outputs": [],
   "source": [
    "thistweet=jsontopandas(withplace)"
   ]
  },
  {
   "cell_type": "code",
   "execution_count": 254,
   "metadata": {},
   "outputs": [
    {
     "data": {
      "text/html": [
       "<div>\n",
       "<style scoped>\n",
       "    .dataframe tbody tr th:only-of-type {\n",
       "        vertical-align: middle;\n",
       "    }\n",
       "\n",
       "    .dataframe tbody tr th {\n",
       "        vertical-align: top;\n",
       "    }\n",
       "\n",
       "    .dataframe thead th {\n",
       "        text-align: right;\n",
       "    }\n",
       "</style>\n",
       "<table border=\"1\" class=\"dataframe\">\n",
       "  <thead>\n",
       "    <tr style=\"text-align: right;\">\n",
       "      <th></th>\n",
       "      <th>id</th>\n",
       "      <th>longitude</th>\n",
       "      <th>latitude</th>\n",
       "      <th>place_country</th>\n",
       "      <th>place_full_name</th>\n",
       "      <th>text</th>\n",
       "      <th>user_id</th>\n",
       "      <th>user_name</th>\n",
       "      <th>user_followers</th>\n",
       "      <th>user_loc</th>\n",
       "      <th>lang</th>\n",
       "      <th>created_at</th>\n",
       "    </tr>\n",
       "  </thead>\n",
       "  <tbody>\n",
       "    <tr>\n",
       "      <th>0</th>\n",
       "      <td>994256948102021121</td>\n",
       "      <td>-121.300425</td>\n",
       "      <td>37.980826</td>\n",
       "      <td>United States</td>\n",
       "      <td>Stockton, CA</td>\n",
       "      <td>@DibsMyWay now presenting on reducing air poll...</td>\n",
       "      <td>1651496246</td>\n",
       "      <td>Valley Green Team</td>\n",
       "      <td>76</td>\n",
       "      <td>Stockton, CA</td>\n",
       "      <td>en</td>\n",
       "      <td>2018-05-09 16:45:03</td>\n",
       "    </tr>\n",
       "    <tr>\n",
       "      <th>1</th>\n",
       "      <td>994266461790072832</td>\n",
       "      <td>-98.609315</td>\n",
       "      <td>29.496199</td>\n",
       "      <td>United States</td>\n",
       "      <td>Leon Valley, TX</td>\n",
       "      <td>Air Pollution Project presentation board!</td>\n",
       "      <td>103292216</td>\n",
       "      <td>Dave Gannon</td>\n",
       "      <td>65</td>\n",
       "      <td>San Antonio</td>\n",
       "      <td>en</td>\n",
       "      <td>2018-05-09 17:22:51</td>\n",
       "    </tr>\n",
       "    <tr>\n",
       "      <th>2</th>\n",
       "      <td>994272672845631498</td>\n",
       "      <td>72.874244</td>\n",
       "      <td>19.174140</td>\n",
       "      <td>India</td>\n",
       "      <td>Mumbai, India</td>\n",
       "      <td>@AnupriyaSPatel At least you have to visit शकत...</td>\n",
       "      <td>1614927878</td>\n",
       "      <td>Amit singh</td>\n",
       "      <td>113</td>\n",
       "      <td>Mumbai, India</td>\n",
       "      <td>en</td>\n",
       "      <td>2018-05-09 17:47:32</td>\n",
       "    </tr>\n",
       "    <tr>\n",
       "      <th>3</th>\n",
       "      <td>994277435469316097</td>\n",
       "      <td>77.556422</td>\n",
       "      <td>13.075209</td>\n",
       "      <td>India</td>\n",
       "      <td>Bengaluru, India</td>\n",
       "      <td>Do you paint? Or appreciate mesmerizing painti...</td>\n",
       "      <td>941583813536137216</td>\n",
       "      <td>BuzzOnEarth</td>\n",
       "      <td>182</td>\n",
       "      <td>India</td>\n",
       "      <td>en</td>\n",
       "      <td>2018-05-09 18:06:28</td>\n",
       "    </tr>\n",
       "    <tr>\n",
       "      <th>4</th>\n",
       "      <td>994288544368791554</td>\n",
       "      <td>-77.275953</td>\n",
       "      <td>18.115407</td>\n",
       "      <td>Jamaica</td>\n",
       "      <td>Jamaica</td>\n",
       "      <td>Today on #TVJAllAngles - burning tyres, #NotTh...</td>\n",
       "      <td>73107660</td>\n",
       "      <td>Dionne JacksonMiller</td>\n",
       "      <td>44456</td>\n",
       "      <td>Jamaica</td>\n",
       "      <td>en</td>\n",
       "      <td>2018-05-09 18:50:36</td>\n",
       "    </tr>\n",
       "  </tbody>\n",
       "</table>\n",
       "</div>"
      ],
      "text/plain": [
       "                   id   longitude   latitude  place_country   place_full_name  \\\n",
       "0  994256948102021121 -121.300425  37.980826  United States      Stockton, CA   \n",
       "1  994266461790072832  -98.609315  29.496199  United States   Leon Valley, TX   \n",
       "2  994272672845631498   72.874244  19.174140          India     Mumbai, India   \n",
       "3  994277435469316097   77.556422  13.075209          India  Bengaluru, India   \n",
       "4  994288544368791554  -77.275953  18.115407        Jamaica           Jamaica   \n",
       "\n",
       "                                                text             user_id  \\\n",
       "0  @DibsMyWay now presenting on reducing air poll...          1651496246   \n",
       "1          Air Pollution Project presentation board!           103292216   \n",
       "2  @AnupriyaSPatel At least you have to visit शकत...          1614927878   \n",
       "3  Do you paint? Or appreciate mesmerizing painti...  941583813536137216   \n",
       "4  Today on #TVJAllAngles - burning tyres, #NotTh...            73107660   \n",
       "\n",
       "              user_name  user_followers       user_loc lang  \\\n",
       "0     Valley Green Team              76   Stockton, CA   en   \n",
       "1           Dave Gannon              65    San Antonio   en   \n",
       "2            Amit singh             113  Mumbai, India   en   \n",
       "3           BuzzOnEarth             182          India   en   \n",
       "4  Dionne JacksonMiller           44456        Jamaica   en   \n",
       "\n",
       "            created_at  \n",
       "0  2018-05-09 16:45:03  \n",
       "1  2018-05-09 17:22:51  \n",
       "2  2018-05-09 17:47:32  \n",
       "3  2018-05-09 18:06:28  \n",
       "4  2018-05-09 18:50:36  "
      ]
     },
     "execution_count": 254,
     "metadata": {},
     "output_type": "execute_result"
    }
   ],
   "source": [
    "thistweet.head()"
   ]
  },
  {
   "cell_type": "code",
   "execution_count": 234,
   "metadata": {},
   "outputs": [],
   "source": [
    "thistweet.to_csv(\"../output/tweet_with_location.csv\",encoding='utf-8')"
   ]
  },
  {
   "cell_type": "code",
   "execution_count": 235,
   "metadata": {},
   "outputs": [
    {
     "data": {
      "text/html": [
       "<div>\n",
       "<style scoped>\n",
       "    .dataframe tbody tr th:only-of-type {\n",
       "        vertical-align: middle;\n",
       "    }\n",
       "\n",
       "    .dataframe tbody tr th {\n",
       "        vertical-align: top;\n",
       "    }\n",
       "\n",
       "    .dataframe thead th {\n",
       "        text-align: right;\n",
       "    }\n",
       "</style>\n",
       "<table border=\"1\" class=\"dataframe\">\n",
       "  <thead>\n",
       "    <tr style=\"text-align: right;\">\n",
       "      <th></th>\n",
       "      <th>Unnamed: 0</th>\n",
       "      <th>id</th>\n",
       "      <th>tweet_longitude</th>\n",
       "      <th>tweet_latitude</th>\n",
       "      <th>place_country</th>\n",
       "      <th>place_full_name</th>\n",
       "      <th>text</th>\n",
       "      <th>user_id</th>\n",
       "      <th>user_name</th>\n",
       "      <th>user_followers</th>\n",
       "      <th>user_loc</th>\n",
       "      <th>lang</th>\n",
       "      <th>created_at</th>\n",
       "    </tr>\n",
       "  </thead>\n",
       "  <tbody>\n",
       "    <tr>\n",
       "      <th>0</th>\n",
       "      <td>0</td>\n",
       "      <td>994256948102021121</td>\n",
       "      <td>-121.30042549999999</td>\n",
       "      <td>37.980826</td>\n",
       "      <td>United States</td>\n",
       "      <td>Stockton, CA</td>\n",
       "      <td>@DibsMyWay now presenting on reducing air poll...</td>\n",
       "      <td>1.651496e+09</td>\n",
       "      <td>Valley Green Team</td>\n",
       "      <td>76.0</td>\n",
       "      <td>Stockton, CA</td>\n",
       "      <td>en</td>\n",
       "      <td>2018-05-09 16:45:03</td>\n",
       "    </tr>\n",
       "    <tr>\n",
       "      <th>1</th>\n",
       "      <td>1</td>\n",
       "      <td>994266461790072832</td>\n",
       "      <td>-98.609315</td>\n",
       "      <td>29.496199</td>\n",
       "      <td>United States</td>\n",
       "      <td>Leon Valley, TX</td>\n",
       "      <td>Air Pollution Project presentation board!</td>\n",
       "      <td>1.032922e+08</td>\n",
       "      <td>Dave Gannon</td>\n",
       "      <td>65.0</td>\n",
       "      <td>San Antonio</td>\n",
       "      <td>en</td>\n",
       "      <td>2018-05-09 17:22:51</td>\n",
       "    </tr>\n",
       "    <tr>\n",
       "      <th>2</th>\n",
       "      <td>2</td>\n",
       "      <td>994272672845631498</td>\n",
       "      <td>72.874244</td>\n",
       "      <td>19.174140</td>\n",
       "      <td>India</td>\n",
       "      <td>Mumbai, India</td>\n",
       "      <td>@AnupriyaSPatel At least you have to visit शकत...</td>\n",
       "      <td>1.614928e+09</td>\n",
       "      <td>Amit singh</td>\n",
       "      <td>113.0</td>\n",
       "      <td>Mumbai, India</td>\n",
       "      <td>en</td>\n",
       "      <td>2018-05-09 17:47:32</td>\n",
       "    </tr>\n",
       "    <tr>\n",
       "      <th>3</th>\n",
       "      <td>3</td>\n",
       "      <td>994277435469316097</td>\n",
       "      <td>77.5564225</td>\n",
       "      <td>13.075209</td>\n",
       "      <td>India</td>\n",
       "      <td>Bengaluru, India</td>\n",
       "      <td>Do you paint? Or appreciate mesmerizing painti...</td>\n",
       "      <td>9.415838e+17</td>\n",
       "      <td>BuzzOnEarth</td>\n",
       "      <td>182.0</td>\n",
       "      <td>India</td>\n",
       "      <td>en</td>\n",
       "      <td>2018-05-09 18:06:28</td>\n",
       "    </tr>\n",
       "    <tr>\n",
       "      <th>4</th>\n",
       "      <td>4</td>\n",
       "      <td>994288544368791554</td>\n",
       "      <td>-77.27595299999999</td>\n",
       "      <td>18.115407</td>\n",
       "      <td>Jamaica</td>\n",
       "      <td>Jamaica</td>\n",
       "      <td>Today on #TVJAllAngles - burning tyres, #NotTh...</td>\n",
       "      <td>7.310766e+07</td>\n",
       "      <td>Dionne JacksonMiller</td>\n",
       "      <td>44456.0</td>\n",
       "      <td>Jamaica</td>\n",
       "      <td>en</td>\n",
       "      <td>2018-05-09 18:50:36</td>\n",
       "    </tr>\n",
       "  </tbody>\n",
       "</table>\n",
       "</div>"
      ],
      "text/plain": [
       "  Unnamed: 0                  id      tweet_longitude  tweet_latitude  \\\n",
       "0          0  994256948102021121  -121.30042549999999       37.980826   \n",
       "1          1  994266461790072832           -98.609315       29.496199   \n",
       "2          2  994272672845631498            72.874244       19.174140   \n",
       "3          3  994277435469316097           77.5564225       13.075209   \n",
       "4          4  994288544368791554   -77.27595299999999       18.115407   \n",
       "\n",
       "   place_country   place_full_name  \\\n",
       "0  United States      Stockton, CA   \n",
       "1  United States   Leon Valley, TX   \n",
       "2          India     Mumbai, India   \n",
       "3          India  Bengaluru, India   \n",
       "4        Jamaica           Jamaica   \n",
       "\n",
       "                                                text       user_id  \\\n",
       "0  @DibsMyWay now presenting on reducing air poll...  1.651496e+09   \n",
       "1          Air Pollution Project presentation board!  1.032922e+08   \n",
       "2  @AnupriyaSPatel At least you have to visit शकत...  1.614928e+09   \n",
       "3  Do you paint? Or appreciate mesmerizing painti...  9.415838e+17   \n",
       "4  Today on #TVJAllAngles - burning tyres, #NotTh...  7.310766e+07   \n",
       "\n",
       "              user_name  user_followers       user_loc lang  \\\n",
       "0     Valley Green Team            76.0   Stockton, CA   en   \n",
       "1           Dave Gannon            65.0    San Antonio   en   \n",
       "2            Amit singh           113.0  Mumbai, India   en   \n",
       "3           BuzzOnEarth           182.0          India   en   \n",
       "4  Dionne JacksonMiller         44456.0        Jamaica   en   \n",
       "\n",
       "            created_at  \n",
       "0  2018-05-09 16:45:03  \n",
       "1  2018-05-09 17:22:51  \n",
       "2  2018-05-09 17:47:32  \n",
       "3  2018-05-09 18:06:28  \n",
       "4  2018-05-09 18:50:36  "
      ]
     },
     "execution_count": 235,
     "metadata": {},
     "output_type": "execute_result"
    }
   ],
   "source": [
    "this_tweet=pd.read_csv(\"../output/tweet_with_location.csv\")\n",
    "this_tweet.head()"
   ]
  },
  {
   "cell_type": "code",
   "execution_count": 256,
   "metadata": {},
   "outputs": [
    {
     "data": {
      "text/plain": [
       "0       -121.300425\n",
       "1        -98.609315\n",
       "2         72.874244\n",
       "3         77.556422\n",
       "4        -77.275953\n",
       "5       -113.492617\n",
       "6        -43.441578\n",
       "7        -73.968542\n",
       "8        -74.184848\n",
       "9          2.288745\n",
       "10         2.468568\n",
       "11       -58.442643\n",
       "12       -79.420865\n",
       "13      -119.782465\n",
       "14      -119.319526\n",
       "15       -73.997118\n",
       "16       150.931975\n",
       "17       -82.226701\n",
       "18       -73.948775\n",
       "19        84.133020\n",
       "20        -4.241751\n",
       "21         4.375364\n",
       "22         9.372679\n",
       "23        -0.297430\n",
       "24        -2.366933\n",
       "25        -1.272298\n",
       "26        77.095086\n",
       "27        -2.366933\n",
       "28        77.498726\n",
       "29        -0.350693\n",
       "            ...    \n",
       "24965     29.005223\n",
       "24966     30.029373\n",
       "24967     -3.997960\n",
       "24968     -3.468006\n",
       "24969     36.843477\n",
       "24970     32.756773\n",
       "24971     27.938921\n",
       "24972     29.005223\n",
       "24973     29.005223\n",
       "24974   -100.076888\n",
       "24975     29.005223\n",
       "24976     29.005223\n",
       "24977   -118.125196\n",
       "24978     35.284880\n",
       "24979    -83.804475\n",
       "24980    -75.386461\n",
       "24981     -0.561272\n",
       "24982     29.005223\n",
       "24983     29.120529\n",
       "24984    -71.566171\n",
       "24985     29.005223\n",
       "24986     29.005223\n",
       "24987   -122.043373\n",
       "24988     35.061515\n",
       "24989     29.005223\n",
       "24990     29.005223\n",
       "24991     27.406751\n",
       "24992   -117.434547\n",
       "24993     42.704642\n",
       "24994   -116.569609\n",
       "Name: longitude, Length: 24995, dtype: float64"
      ]
     },
     "execution_count": 256,
     "metadata": {},
     "output_type": "execute_result"
    }
   ],
   "source": [
    "thistweet.longitude"
   ]
  },
  {
   "cell_type": "code",
   "execution_count": 251,
   "metadata": {},
   "outputs": [
    {
     "name": "stdout",
     "output_type": "stream",
     "text": [
      "Help on method heatmap in module gmplot.gmplot:\n",
      "\n",
      "heatmap(lats, lngs, threshold=10, radius=10, gradient=None, opacity=0.6, dissipating=True) method of gmplot.gmplot.GoogleMapPlotter instance\n",
      "    :param lats: list of latitudes\n",
      "    :param lngs: list of longitudes\n",
      "    :param threshold:\n",
      "    :param radius: The hardest param. Example (string):\n",
      "    :return:\n",
      "\n"
     ]
    }
   ],
   "source": [
    "help(gmap.heatmap)"
   ]
  },
  {
   "cell_type": "code",
   "execution_count": 258,
   "metadata": {},
   "outputs": [],
   "source": [
    "from gmplot import gmplot\n",
    "\n",
    "# Place map\n",
    "gmap = gmplot.GoogleMapPlotter(37.766956, -122.438481, 2)\n",
    "\n",
    "# # Polygon\n",
    "# golden_gate_park_lats, golden_gate_park_lons = zip(*[\n",
    "#     (37.771269, -122.511015),\n",
    "#     (37.773495, -122.464830),\n",
    "#     (37.774797, -122.454538),\n",
    "#     (37.771988, -122.454018),\n",
    "#     (37.773646, -122.440979),\n",
    "#     (37.772742, -122.440797),\n",
    "#     (37.771096, -122.453889),\n",
    "#     (37.768669, -122.453518),\n",
    "#     (37.766227, -122.460213),\n",
    "#     (37.764028, -122.510347),\n",
    "#     (37.771269, -122.511015)\n",
    "#     ])\n",
    "# gmap.plot(golden_gate_park_lats, golden_gate_park_lons, 'cornflowerblue', edge_width=10)\n",
    "\n",
    "# Scatter points\n",
    "# top_attraction_lats, top_attraction_lons = zip(*[\n",
    "#     (37.769901, -122.498331),\n",
    "#     (37.768645, -122.475328),\n",
    "#     (37.771478, -122.468677),\n",
    "#     (37.769867, -122.466102),\n",
    "#     (37.767187, -122.467496),\n",
    "#     (37.770104, -122.470436)\n",
    "#     ])\n",
    "gmap.scatter(thistweet.latitude, thistweet.longitude, '#3B0B39', size=40, marker=False)\n",
    "\n",
    "# # Marker\n",
    "# hidden_gem_lat, hidden_gem_lon = 37.770776, -122.461689\n",
    "# gmap.marker(hidden_gem_lat, hidden_gem_lon, 'cornflowerblue')\n",
    "\n",
    "# Draw\n",
    "gmap.draw(\"output/my_map2.html\")"
   ]
  },
  {
   "cell_type": "code",
   "execution_count": 259,
   "metadata": {},
   "outputs": [],
   "source": [
    "gmap.heatmap(thistweet.latitude, thistweet.longitude)\n",
    "gmap.draw(\"output/my_map3.html\")"
   ]
  },
  {
   "cell_type": "code",
   "execution_count": 22,
   "metadata": {},
   "outputs": [],
   "source": [
    "with open(\"../output/withplace.json\",\"a\") as f:\n",
    "    for tweet in withplace:\n",
    "        f.write(json.dumps(tweet))"
   ]
  }
 ],
 "metadata": {
  "kernelspec": {
   "display_name": "Python 3",
   "language": "python",
   "name": "python3"
  },
  "language_info": {
   "codemirror_mode": {
    "name": "ipython",
    "version": 3
   },
   "file_extension": ".py",
   "mimetype": "text/x-python",
   "name": "python",
   "nbconvert_exporter": "python",
   "pygments_lexer": "ipython3",
   "version": "3.6.4"
  }
 },
 "nbformat": 4,
 "nbformat_minor": 2
}
