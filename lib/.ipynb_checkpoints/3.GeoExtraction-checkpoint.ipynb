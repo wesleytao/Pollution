{
 "cells": [
  {
   "cell_type": "code",
   "execution_count": 2,
   "metadata": {},
   "outputs": [],
   "source": [
    "import pymongo\n",
    "import json\n",
    "import pandas as pd\n",
    "import time\n",
    "import re\n",
    "import numpy as np\n",
    "from gmplot import gmplot"
   ]
  },
  {
   "cell_type": "code",
   "execution_count": 3,
   "metadata": {},
   "outputs": [],
   "source": [
    "client=pymongo.MongoClient()"
   ]
  },
  {
   "cell_type": "code",
   "execution_count": 4,
   "metadata": {},
   "outputs": [
    {
     "data": {
      "text/plain": [
       "['admin', 'config', 'local', 'pollution', 'twitterdb']"
      ]
     },
     "execution_count": 4,
     "metadata": {},
     "output_type": "execute_result"
    }
   ],
   "source": [
    "client.list_database_names()"
   ]
  },
  {
   "cell_type": "code",
   "execution_count": 5,
   "metadata": {},
   "outputs": [
    {
     "data": {
      "text/plain": [
       "['tweetcollection']"
      ]
     },
     "execution_count": 5,
     "metadata": {},
     "output_type": "execute_result"
    }
   ],
   "source": [
    "db=client.pollution\n",
    "db.collection_names()"
   ]
  },
  {
   "cell_type": "code",
   "execution_count": 6,
   "metadata": {},
   "outputs": [],
   "source": [
    "# db.tweetcollection.find({\"place\":{\"$ne\": None}}).count() # with place tweets\n",
    "# db.tweetcollection.find({\"geo\":{\"$ne\": None}}).count() # with exact location"
   ]
  },
  {
   "cell_type": "code",
   "execution_count": 7,
   "metadata": {},
   "outputs": [
    {
     "data": {
      "text/plain": [
       "['']"
      ]
     },
     "execution_count": 7,
     "metadata": {},
     "output_type": "execute_result"
    }
   ],
   "source": [
    "test=re.compile(r'(^(?=.*air)(?=.*pollution)|love)')\n",
    "test.findall('air asddf asdf  pollution')"
   ]
  },
  {
   "cell_type": "code",
   "execution_count": 11,
   "metadata": {},
   "outputs": [],
   "source": [
    "category_0=[\"r'(^(?=.*air)(?=.*pollution))\",\"空气污染\",\"#airpollution\",\"वायु प्रदुषण\",\"la pollution de l'air\",\"la #pollution\",\"air pollution\",\"l'air #pollution\"]"
   ]
  },
  {
   "cell_type": "code",
   "execution_count": 12,
   "metadata": {},
   "outputs": [
    {
     "data": {
      "text/plain": [
       "[\"r'(^(?=.*air)(?=.*pollution))\",\n",
       " '空气污染',\n",
       " '#airpollution',\n",
       " 'वायु प्रदुषण',\n",
       " \"la pollution de l'air\",\n",
       " 'la #pollution',\n",
       " 'air pollution',\n",
       " \"l'air #pollution\"]"
      ]
     },
     "execution_count": 12,
     "metadata": {},
     "output_type": "execute_result"
    }
   ],
   "source": [
    "category_0"
   ]
  },
  {
   "cell_type": "code",
   "execution_count": 14,
   "metadata": {},
   "outputs": [
    {
     "data": {
      "text/plain": [
       "re.compile(r\"(r'(^(?=.*air)(?=.*pollution))|空气污染|#airpollution|वायु प्रदुषण|la pollution de l'air|la #pollution|air pollution|l'air #pollution)\",\n",
       "re.IGNORECASE|re.UNICODE)"
      ]
     },
     "execution_count": 14,
     "metadata": {},
     "output_type": "execute_result"
    }
   ],
   "source": [
    "regx = re.compile(r'('+'|'.join(category_0)+')', re.IGNORECASE)\n",
    "regx"
   ]
  },
  {
   "cell_type": "code",
   "execution_count": null,
   "metadata": {},
   "outputs": [],
   "source": [
    "# withlocation=list(db.tweetcollection.find({\"geo\":{\"$ne\": None},\"text\":{\"$regex\":pollution_pattern}}))\n",
    "# len(withlocation)"
   ]
  },
  {
   "cell_type": "code",
   "execution_count": null,
   "metadata": {},
   "outputs": [],
   "source": [
    "# withlocation[1]"
   ]
  },
  {
   "cell_type": "code",
   "execution_count": 15,
   "metadata": {},
   "outputs": [],
   "source": [
    "withplace=list(db.tweetcollection.find({\"place\":{\"$ne\": None}}))"
   ]
  },
  {
   "cell_type": "code",
   "execution_count": 16,
   "metadata": {},
   "outputs": [
    {
     "data": {
      "text/plain": [
       "24995"
      ]
     },
     "execution_count": 16,
     "metadata": {},
     "output_type": "execute_result"
    }
   ],
   "source": [
    "len(withplace)"
   ]
  },
  {
   "cell_type": "code",
   "execution_count": 17,
   "metadata": {},
   "outputs": [],
   "source": [
    "def get_coordinate(this_tweet):\n",
    "    '''input  dict  tweet\n",
    "       output list [LONGITUDE LATITUDE]'''\n",
    "    # There are geo-tagged 3 place store geoinformation \n",
    "    # User self-report place \n",
    "    # geo  1 Latitude 2 Longitude \n",
    "    # coordinates 1 LONGITUDE,2 Latitude \n",
    "    # coordinate box same as coordinates\n",
    "    coordiantes=None\n",
    "    try:\n",
    "        coordinates=this_tweet['coordinates']['coordinates']\n",
    "#         print('coordinates {}'.format(this_tweet['coordinates']['coordinates']))\n",
    "    except Exception as e:\n",
    "        pass\n",
    "    \n",
    "    try:\n",
    "        # take average over coordinates box\n",
    "        coordinates=list(np.array(this_tweet['place']['bounding_box']['coordinates'][0]).mean(axis=0))\n",
    "    except Exception as e:\n",
    "        pass\n",
    "\n",
    "    return coordinates"
   ]
  },
  {
   "cell_type": "code",
   "execution_count": 18,
   "metadata": {},
   "outputs": [],
   "source": [
    "def get_retweetid(tweet):\n",
    "    try:\n",
    "        return(tweet[\"retweeted_status\"][\"id\"])\n",
    "    except: \n",
    "        return None\n",
    "    \n",
    "def get_retweet_username(tweet):\n",
    "    try:\n",
    "        return(tweet[\"retweeted_status\"][\"user\"][\"name\"])\n",
    "    except: \n",
    "        return None\n",
    "def get_retweet_followers_count(tweet):\n",
    "    try:\n",
    "        return(tweet[\"retweeted_status\"][\"user\"][\"followers_count\"])\n",
    "    except: \n",
    "        return None\n",
    "def get_retweet_fa(tweet):\n",
    "    try:\n",
    "        return(tweet[\"retweeted_status\"][\"favorite_count\"])\n",
    "    except: \n",
    "        return None\n",
    "def get_retweet_retw(tweet):\n",
    "    try:\n",
    "        return(tweet[\"retweeted_status\"][\"retweet_count\"])\n",
    "    except: \n",
    "        return None\n",
    "def get_retweet_rep(tweet):\n",
    "    try:\n",
    "        return(tweet[\"retweeted_status\"][\"reply_count\"])\n",
    "    except: \n",
    "        return None\n",
    "    \n",
    "            \n",
    "    \n",
    "def jsontopandas(tweets_data):\n",
    "    tweets=pd.DataFrame()\n",
    "    tweets['id'] = list(map(lambda tweet: tweet['_id'], tweets_data))\n",
    "    tweets['longitude']=list(map(lambda tweet:get_coordinate(tweet)[0], tweets_data))\n",
    "    tweets['latitude']=list(map(lambda tweet: get_coordinate(tweet)[1], tweets_data))\n",
    "    tweets['place_country']=list(map(lambda tweet: tweet['place']['country'] if tweet['place']!= None else None, tweets_data))\n",
    "    tweets['place_full_name']=list(map(lambda tweet: tweet['place']['full_name'] if tweet['place']!= None else None, tweets_data))\n",
    "    tweets['text']=list(map(lambda tweet: tweet['text'], tweets_data))\n",
    "    tweets[\"user_id\"]=list(map(lambda tweet:tweet[\"user\"][\"id\"],tweets_data))\n",
    "    tweets[\"user_name\"]=list(map(lambda tweet:tweet[\"user\"][\"name\"],tweets_data))\n",
    "    tweets[\"user_followers\"]=list(map(lambda tweet:tweet[\"user\"][\"followers_count\"],tweets_data))\n",
    "    tweets['user_loc']=list(map(lambda tweet: tweet['user']['location'], tweets_data))\n",
    "    tweets['lang']=list(map(lambda tweet: tweet['lang'], tweets_data))\n",
    "    tweets['created_at']=list(map(lambda tweet: time.strftime('%Y-%m-%d %H:%M:%S', time.strptime(tweet['created_at'],'%a %b %d %H:%M:%S +0000 %Y')), tweets_data))\n",
    "    return tweets"
   ]
  },
  {
   "cell_type": "code",
   "execution_count": 19,
   "metadata": {},
   "outputs": [],
   "source": [
    "thistweet=jsontopandas(withplace)"
   ]
  },
  {
   "cell_type": "code",
   "execution_count": 21,
   "metadata": {},
   "outputs": [],
   "source": [
    "# thistweet.head()"
   ]
  },
  {
   "cell_type": "code",
   "execution_count": 22,
   "metadata": {},
   "outputs": [],
   "source": [
    "thistweet.to_csv(\"../output/tweet_with_location.csv\",encoding='utf-8')"
   ]
  }
 ],
 "metadata": {
  "kernelspec": {
   "display_name": "Python 3",
   "language": "python",
   "name": "python3"
  },
  "language_info": {
   "codemirror_mode": {
    "name": "ipython",
    "version": 3
   },
   "file_extension": ".py",
   "mimetype": "text/x-python",
   "name": "python",
   "nbconvert_exporter": "python",
   "pygments_lexer": "ipython3",
   "version": "3.6.4"
  }
 },
 "nbformat": 4,
 "nbformat_minor": 2
}
