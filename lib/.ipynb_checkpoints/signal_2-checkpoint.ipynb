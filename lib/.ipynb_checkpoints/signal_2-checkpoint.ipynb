{
 "cells": [
  {
   "cell_type": "code",
   "execution_count": 11,
   "metadata": {
    "collapsed": true
   },
   "outputs": [],
   "source": [
    "import pandas as pd\n",
    "import numpy as np\n",
    "from pandas import Index\n",
    "import sys\n",
    "sys._enablelegacywindowsfsencoding()"
   ]
  },
  {
   "cell_type": "code",
   "execution_count": 8,
   "metadata": {
    "collapsed": true
   },
   "outputs": [],
   "source": [
    "def signal_process(table,event_var='PM25_Marseille_Longchamp',event_threshold = 40, duration = 6,var_name_list='air pollution'):\n",
    "    \"\"\"Find the spike in pm25 and plot a sliding window for google trend \"\"\"\n",
    "\n",
    "    index_list=np.where(table[event_var]>event_threshold)[0]\n",
    "    \n",
    "    # add first element\n",
    "    shrink_index_list = [index_list[0]]\n",
    "    date_set ={table.date[index_list[0]]}\n",
    "    \n",
    "    # exclude for the same day\n",
    "    for cnt in range(1,len(index_list)):\n",
    "        if table.date[index_list[cnt]] in date_set:\n",
    "            pass\n",
    "        else:\n",
    "            shrink_index_list.append(index_list[cnt].copy())\n",
    "            date_set.add(table.date[index_list[cnt]])\n",
    "    \n",
    "    bind_list = []\n",
    "    for start_index in shrink_index_list:\n",
    "        this_sequence = table.loc[range(start_index-2,start_index+duration),\n",
    "                                  var_name_list]\n",
    "        start_date = table.datetime[start_index]\n",
    "        tuples = list(zip([start_date]*(duration+2),range(-2,duration)))\n",
    "\n",
    "        this_sequence.index = pd.MultiIndex.from_tuples(tuples,names=['event_date_index','hour_index'])\n",
    "    #         this_sequence = (this_sequence- this_sequence.mean())/this_sequence.std()\n",
    "\n",
    "        bind_list.append(this_sequence)\n",
    "    new_table=pd.concat(bind_list)     \n",
    "    \n",
    "    return new_table"
   ]
  },
  {
   "cell_type": "code",
   "execution_count": 9,
   "metadata": {
    "collapsed": true
   },
   "outputs": [],
   "source": [
    "parca_table=pd.read_csv(\"../stage/parca_difficultés respiratoires_asthme_dyspnée_respiration_PM25_Marseille_Longchamp.csv\",encoding='utf-8')"
   ]
  },
  {
   "cell_type": "code",
   "execution_count": 12,
   "metadata": {
    "collapsed": true
   },
   "outputs": [],
   "source": [
    "parca_table.columns=Index(['Unnamed: 0', 'datetime', 'PM25_Marseille_Longchamp', 'date',\n",
    "       'difficultés respiratoires', 'difficultés respiratoires topic', 'isPartial', 'asthme',\n",
    "       'asthme topic', 'isPartial.1', 'dyspnée', 'dyspnée topic', 'isPartial.2',\n",
    "       'respiration', 'respiration topic', 'isPartial.3'],\n",
    "      dtype='object')"
   ]
  },
  {
   "cell_type": "code",
   "execution_count": 13,
   "metadata": {
    "collapsed": true
   },
   "outputs": [],
   "source": [
    "keyword_list = ['PM25_Marseille_Longchamp', 'difficultés respiratoires', 'difficultés respiratoires topic', 'asthme',\n",
    "       'asthme topic', 'dyspnée', 'dyspnée topic',  'respiration', 'respiration topic']"
   ]
  },
  {
   "cell_type": "code",
   "execution_count": 15,
   "metadata": {
    "collapsed": true
   },
   "outputs": [],
   "source": [
    "new_parca=signal_process(parca_table,event_threshold=35,duration=12,var_name_list=keyword_list)"
   ]
  },
  {
   "cell_type": "code",
   "execution_count": 16,
   "metadata": {
    "collapsed": true
   },
   "outputs": [],
   "source": [
    "new_parca.to_csv(\"../output/new_parca.csv\")"
   ]
  },
  {
   "cell_type": "code",
   "execution_count": 17,
   "metadata": {
    "collapsed": true
   },
   "outputs": [],
   "source": [
    "parif_table = pd.read_csv(\"../stage/parif_difficultés respiratoires_asthme_dyspnée_respiration_PA04C_PM10.csv\")"
   ]
  },
  {
   "cell_type": "code",
   "execution_count": 20,
   "metadata": {
    "collapsed": true
   },
   "outputs": [],
   "source": [
    "parif_kw = ['PA04C_PM25',\n",
    "            'PA04C_PM10',\n",
    "            'PA04C_O3',\n",
    "            'PA04C_NO2',\n",
    "            'PA04C_CO',\n",
    "            'difficultés respiratoires',\n",
    "            'asthme',\n",
    "            'dyspnée',\n",
    "            'respiration']"
   ]
  },
  {
   "cell_type": "code",
   "execution_count": 22,
   "metadata": {
    "collapsed": true
   },
   "outputs": [],
   "source": [
    "new_parif =signal_process(parif_table,event_var='PA04C_PM25',event_threshold =35,duration =12,var_name_list = parif_kw )"
   ]
  },
  {
   "cell_type": "code",
   "execution_count": 23,
   "metadata": {},
   "outputs": [
    {
     "data": {
      "text/html": [
       "<div>\n",
       "<style scoped>\n",
       "    .dataframe tbody tr th:only-of-type {\n",
       "        vertical-align: middle;\n",
       "    }\n",
       "\n",
       "    .dataframe tbody tr th {\n",
       "        vertical-align: top;\n",
       "    }\n",
       "\n",
       "    .dataframe thead th {\n",
       "        text-align: right;\n",
       "    }\n",
       "</style>\n",
       "<table border=\"1\" class=\"dataframe\">\n",
       "  <thead>\n",
       "    <tr style=\"text-align: right;\">\n",
       "      <th></th>\n",
       "      <th></th>\n",
       "      <th>PA04C_PM25</th>\n",
       "      <th>PA04C_PM10</th>\n",
       "      <th>PA04C_O3</th>\n",
       "      <th>PA04C_NO2</th>\n",
       "      <th>PA04C_CO</th>\n",
       "      <th>difficultés respiratoires</th>\n",
       "      <th>asthme</th>\n",
       "      <th>dyspnée</th>\n",
       "      <th>respiration</th>\n",
       "    </tr>\n",
       "    <tr>\n",
       "      <th>event_date_index</th>\n",
       "      <th>hour_index</th>\n",
       "      <th></th>\n",
       "      <th></th>\n",
       "      <th></th>\n",
       "      <th></th>\n",
       "      <th></th>\n",
       "      <th></th>\n",
       "      <th></th>\n",
       "      <th></th>\n",
       "      <th></th>\n",
       "    </tr>\n",
       "  </thead>\n",
       "  <tbody>\n",
       "    <tr>\n",
       "      <th rowspan=\"5\" valign=\"top\">2018-02-06 19:00:00</th>\n",
       "      <th>-2</th>\n",
       "      <td>35.0</td>\n",
       "      <td>37.0</td>\n",
       "      <td>6.0</td>\n",
       "      <td>54.0</td>\n",
       "      <td>500.0</td>\n",
       "      <td>0</td>\n",
       "      <td>19</td>\n",
       "      <td>6</td>\n",
       "      <td>27</td>\n",
       "    </tr>\n",
       "    <tr>\n",
       "      <th>-1</th>\n",
       "      <td>35.0</td>\n",
       "      <td>37.0</td>\n",
       "      <td>5.0</td>\n",
       "      <td>55.0</td>\n",
       "      <td>500.0</td>\n",
       "      <td>0</td>\n",
       "      <td>18</td>\n",
       "      <td>5</td>\n",
       "      <td>32</td>\n",
       "    </tr>\n",
       "    <tr>\n",
       "      <th>0</th>\n",
       "      <td>37.0</td>\n",
       "      <td>38.0</td>\n",
       "      <td>4.0</td>\n",
       "      <td>54.0</td>\n",
       "      <td>500.0</td>\n",
       "      <td>0</td>\n",
       "      <td>15</td>\n",
       "      <td>2</td>\n",
       "      <td>28</td>\n",
       "    </tr>\n",
       "    <tr>\n",
       "      <th>1</th>\n",
       "      <td>37.0</td>\n",
       "      <td>39.0</td>\n",
       "      <td>5.0</td>\n",
       "      <td>54.0</td>\n",
       "      <td>600.0</td>\n",
       "      <td>0</td>\n",
       "      <td>25</td>\n",
       "      <td>4</td>\n",
       "      <td>33</td>\n",
       "    </tr>\n",
       "    <tr>\n",
       "      <th>2</th>\n",
       "      <td>36.0</td>\n",
       "      <td>39.0</td>\n",
       "      <td>3.0</td>\n",
       "      <td>54.0</td>\n",
       "      <td>600.0</td>\n",
       "      <td>0</td>\n",
       "      <td>17</td>\n",
       "      <td>1</td>\n",
       "      <td>39</td>\n",
       "    </tr>\n",
       "  </tbody>\n",
       "</table>\n",
       "</div>"
      ],
      "text/plain": [
       "                                PA04C_PM25  PA04C_PM10  PA04C_O3  PA04C_NO2  \\\n",
       "event_date_index    hour_index                                                \n",
       "2018-02-06 19:00:00 -2                35.0        37.0       6.0       54.0   \n",
       "                    -1                35.0        37.0       5.0       55.0   \n",
       "                     0                37.0        38.0       4.0       54.0   \n",
       "                     1                37.0        39.0       5.0       54.0   \n",
       "                     2                36.0        39.0       3.0       54.0   \n",
       "\n",
       "                                PA04C_CO  difficultés respiratoires  asthme  \\\n",
       "event_date_index    hour_index                                                \n",
       "2018-02-06 19:00:00 -2             500.0                          0      19   \n",
       "                    -1             500.0                          0      18   \n",
       "                     0             500.0                          0      15   \n",
       "                     1             600.0                          0      25   \n",
       "                     2             600.0                          0      17   \n",
       "\n",
       "                                dyspnée  respiration  \n",
       "event_date_index    hour_index                        \n",
       "2018-02-06 19:00:00 -2                6           27  \n",
       "                    -1                5           32  \n",
       "                     0                2           28  \n",
       "                     1                4           33  \n",
       "                     2                1           39  "
      ]
     },
     "execution_count": 23,
     "metadata": {},
     "output_type": "execute_result"
    }
   ],
   "source": [
    "new_parif.head()"
   ]
  },
  {
   "cell_type": "code",
   "execution_count": 24,
   "metadata": {
    "collapsed": true
   },
   "outputs": [],
   "source": [
    "new_parif.to_csv(\"../output/new_parif.csv\")"
   ]
  }
 ],
 "metadata": {
  "kernelspec": {
   "display_name": "Python 3",
   "language": "python",
   "name": "python3"
  },
  "language_info": {
   "codemirror_mode": {
    "name": "ipython",
    "version": 3
   },
   "file_extension": ".py",
   "mimetype": "text/x-python",
   "name": "python",
   "nbconvert_exporter": "python",
   "pygments_lexer": "ipython3",
   "version": "3.6.1"
  }
 },
 "nbformat": 4,
 "nbformat_minor": 2
}
