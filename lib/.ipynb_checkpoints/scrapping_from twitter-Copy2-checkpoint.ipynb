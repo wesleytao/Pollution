{
 "cells": [
  {
   "cell_type": "code",
   "execution_count": 1,
   "metadata": {},
   "outputs": [],
   "source": [
    "import tweepy\n",
    "from tweepy import Stream\n",
    "from tweepy import OAuthHandler\n",
    "from tweepy.streaming import StreamListener\n",
    "from datetime import datetime\n",
    "import time\n",
    "\n",
    "from __future__ import print_function\n",
    "import json\n",
    "from pymongo import MongoClient"
   ]
  },
  {
   "cell_type": "code",
   "execution_count": 2,
   "metadata": {},
   "outputs": [],
   "source": [
    "# wesley\n",
    "ckey = 'NdQdQm2OALKTJgtCr9mz8SEAK'\n",
    "csecret= '2GVLXTHcIy3htHqD5NEIX1IGVuTNjiHMHNEXT2OTTlvjP50hKw'\n",
    "atoken= '980527124133109766-R2NKGIqJjrUvkOALRw7bdzAHRa4FV18'\n",
    "asecret= 'r5Px3c5gLtXVuNjJI53qoImV1PW6CeXwRyv8gnjqwTzt0'"
   ]
  },
  {
   "cell_type": "code",
   "execution_count": 23,
   "metadata": {
    "collapsed": true
   },
   "outputs": [],
   "source": [
    "# \n",
    "ckey=\"m5kFFDfq3b9oh0wKwiteAgd7J\"\n",
    "csecret=\"tQ2pH1oqhSoy4QQCN25xGZBQ1dMuMtmMUtlSZb9pzO2nNf1S9s\"\n",
    "akey=\"986390268889923584-u9gAJwMsyZm0fwMeTdU3JgXzsEOWJSm\"\n",
    "asecret=\"0ZOtMyC4gku2s9LMNx04dsybSaVpnNvQg7lZJh4iuuMCP\""
   ]
  },
  {
   "cell_type": "code",
   "execution_count": 3,
   "metadata": {},
   "outputs": [
    {
     "data": {
      "text/plain": [
       "'../data/alltogether-2018-05-22-21-36.json'"
      ]
     },
     "execution_count": 3,
     "metadata": {},
     "output_type": "execute_result"
    }
   ],
   "source": [
    "path=\"../data\"\n",
    "filepath=path+\"/\"+\"alltogether-\"+datetime.now().strftime('%Y-%m-%d-%H-%M')+\".json\"\n",
    "filepath"
   ]
  },
  {
   "cell_type": "code",
   "execution_count": null,
   "metadata": {},
   "outputs": [],
   "source": [
    "class MyListener(StreamListener):\n",
    " \n",
    "    def on_data(self, data):\n",
    "        try:\n",
    "            with open(filepath, 'a') as f:\n",
    "                f.write(data)\n",
    "                return True\n",
    "        except BaseException as e:\n",
    "            print(\"Error on_data: %s\" % str(e))\n",
    "        return True\n",
    " \n",
    "    def on_error(self, status):\n",
    "        print(status)\n",
    "        return True\n",
    "\n",
    "\n",
    "auth = OAuthHandler(ckey, csecret)\n",
    "auth.set_access_token(atoken, asecret)\n",
    "\n",
    "twitterStream = Stream(auth, MyListener())\n",
    "twitterStream.filter(track=[\"#airpollution\",\"air pollution\",# original\n",
    "                            \"forest fire\",\"forest fires\",# category 1\n",
    "                            \"water poisoning\",\"water contamination\",# category 2 \n",
    "                            \"flood flash\",\"flood water\",\"flood warning\" # category 3\n",
    "                            \"earthquake\",# category 4\n",
    "                            \"oil spill\",\"pipeline spill\",\"tarsands spill\",\"tankers spill\", \"fossilfuel spill\",\"petroleum spill\",\n",
    "                           \"acid rain\",\"toxic rain\",\"mildew home\",\"mildew infested\",\"mildew basement\",\"mildew removal\",\"mildew growth\",\"mildew inspection\",\"mold flood\",\"mildew flood\",\n",
    "                           \"adelgid\",\"aphid\",\"beetle\",\"earwig\",\"insect\",\"locust\",\"louse\",\"moth\",\"psyllid\",\"termites\",\"termite\",\"bites\",\"bugs\",\"bug\",\"bug bites\",\"bugs bites\",\n",
    "                           \"allergy\",\"allergins\",\"pollen\",\"dander\", \"allergy cough\",\"pollen cough\",\"allergins sneeze\",\"pollen sneeze\",\"pollen asthma\",\"dander asthma\"\n",
    ",\"dust respiratory\",\"allegy lung\"])"
   ]
  },
  {
   "cell_type": "code",
   "execution_count": null,
   "metadata": {},
   "outputs": [],
   "source": [
    "MONGO_HOST= 'mongodb://localhost/twitterdb'  # assuming you have mongoDB installed locally\n",
    "                                             # and a database called 'twitterdb'\n",
    "WORDS = [\"#airpollution\",\"air pollution\",# original\n",
    "                            \"forest fire\",\"forest fires\",# category 1\n",
    "                            \"water poisoning\",\"water contamination\",# category 2 \n",
    "                            \"flood flash\",\"flood water\",\"flood warning\" # category 3\n",
    "                            \"earthquake\",# category 4\n",
    "                            \"oil spill\",\"pipeline spill\",\"tarsands spill\",\"tankers spill\", \"fossilfuel spill\",\"petroleum spill\",\n",
    "                           \"acid rain\",\"toxic rain\",\"mildew home\",\"mildew infested\",\"mildew basement\",\"mildew removal\",\"mildew growth\",\"mildew inspection\",\"mold flood\",\"mildew flood\",\n",
    "                           \"adelgid\",\"aphid\",\"beetle\",\"earwig\",\"insect\",\"locust\",\"louse\",\"moth\",\"psyllid\",\"termites\",\"termite\",\"bites\",\"bugs\",\"bug\",\"bug bites\",\"bugs bites\",\n",
    "                           \"allergy\",\"allergins\",\"pollen\",\"dander\", \"allergy cough\",\"pollen cough\",\"allergins sneeze\",\"pollen sneeze\",\"pollen asthma\",\"dander asthma\"\n",
    ",\"dust respiratory\",\"allegy lung\"]\n",
    " \n",
    " \n",
    "    class StreamListener(tweepy.StreamListener):    \n",
    "        #This is a class provided by tweepy to access the Twitter Streaming API. \n",
    "\n",
    "        def on_connect(self):\n",
    "            # Called initially to connect to the Streaming API\n",
    "            print(\"You are now connected to the streaming API.\")\n",
    "\n",
    "        def on_error(self, status_code):\n",
    "            # On error - if an error occurs, display the error / status code\n",
    "            print('An Error has occured: ' + repr(status_code))\n",
    "            return False\n",
    "\n",
    "        def on_data(self, data):\n",
    "            #This is the meat of the script...it connects to your mongoDB and stores the tweet\n",
    "            try:\n",
    "                client = MongoClient(MONGO_HOST)\n",
    "\n",
    "                # Use twitterdb database. If it doesn't exist, it will be created.\n",
    "                db = client.twitterdb\n",
    "\n",
    "                # Decode the JSON from Twitter\n",
    "                datajson = json.loads(data)\n",
    "\n",
    "                #grab the 'created_at' data from the Tweet to use for display\n",
    "                created_at = datajson['created_at']\n",
    "\n",
    "                #print out a message to the screen that we have collected a tweet\n",
    "                print(\"Tweet collected at \" + str(created_at))\n",
    "\n",
    "                #insert the data into the mongoDB into a collection called twitter_search\n",
    "                #if twitter_search doesn't exist, it will be created.\n",
    "                db.twitter_search.insert(datajson)\n",
    "            except Exception as e:\n",
    "                print(e)\n",
    "\n",
    "        auth = tweepy.OAuthHandler(CONSUMER_KEY, CONSUMER_SECRET)\n",
    "        auth.set_access_token(ACCESS_TOKEN, ACCESS_TOKEN_SECRET)\n",
    "        #Set up the listener. The 'wait_on_rate_limit=True' is needed to help with Twitter API rate limiting.\n",
    "        listener = StreamListener(api=tweepy.API(wait_on_rate_limit=True)) \n",
    "        streamer = tweepy.Stream(auth=auth, listener=listener)\n",
    "        print(\"Tracking: \" + str(WORDS))\n",
    "        streamer.filter(track=WORDS)"
   ]
  }
 ],
 "metadata": {
  "kernelspec": {
   "display_name": "Python 3",
   "language": "python",
   "name": "python3"
  },
  "language_info": {
   "codemirror_mode": {
    "name": "ipython",
    "version": 3
   },
   "file_extension": ".py",
   "mimetype": "text/x-python",
   "name": "python",
   "nbconvert_exporter": "python",
   "pygments_lexer": "ipython3",
   "version": "3.6.4"
  }
 },
 "nbformat": 4,
 "nbformat_minor": 2
}
