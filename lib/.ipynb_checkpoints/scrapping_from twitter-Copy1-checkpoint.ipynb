{
 "cells": [
  {
   "cell_type": "code",
   "execution_count": null,
   "metadata": {},
   "outputs": [],
   "source": [
    "import tweepy\n",
    "from tweepy import Stream\n",
    "from tweepy import OAuthHandler\n",
    "from tweepy.streaming import StreamListener\n",
    "from datetime import datetime\n",
    "import time"
   ]
  },
  {
   "cell_type": "code",
   "execution_count": null,
   "metadata": {},
   "outputs": [],
   "source": [
    "# wesley\n",
    "ckey = 'NdQdQm2OALKTJgtCr9mz8SEAK'\n",
    "csecret= '2GVLXTHcIy3htHqD5NEIX1IGVuTNjiHMHNEXT2OTTlvjP50hKw'\n",
    "atoken= '980527124133109766-R2NKGIqJjrUvkOALRw7bdzAHRa4FV18'\n",
    "asecret= 'r5Px3c5gLtXVuNjJI53qoImV1PW6CeXwRyv8gnjqwTzt0'"
   ]
  },
  {
   "cell_type": "code",
   "execution_count": 23,
   "metadata": {
    "collapsed": true
   },
   "outputs": [],
   "source": [
    "# \n",
    "ckey=\"m5kFFDfq3b9oh0wKwiteAgd7J\"\n",
    "csecret=\"tQ2pH1oqhSoy4QQCN25xGZBQ1dMuMtmMUtlSZb9pzO2nNf1S9s\"\n",
    "akey=\"986390268889923584-u9gAJwMsyZm0fwMeTdU3JgXzsEOWJSm\"\n",
    "asecret=\"0ZOtMyC4gku2s9LMNx04dsybSaVpnNvQg7lZJh4iuuMCP\""
   ]
  },
  {
   "cell_type": "code",
   "execution_count": null,
   "metadata": {},
   "outputs": [],
   "source": [
    "path=\"../data\"\n",
    "filepath=path+\"/\"+\"alltogether-\"+datetime.now().strftime('%Y-%m-%d-%H-%M')+\".json\"\n",
    "filepath"
   ]
  },
  {
   "cell_type": "code",
   "execution_count": null,
   "metadata": {},
   "outputs": [],
   "source": [
    "class MyListener(StreamListener):\n",
    " \n",
    "    def on_data(self, data):\n",
    "        try:\n",
    "            with open(filepath, 'a') as f:\n",
    "                f.write(data)\n",
    "                return True\n",
    "        except BaseException as e:\n",
    "            print(\"Error on_data: %s\" % str(e))\n",
    "        return True\n",
    " \n",
    "    def on_error(self, status):\n",
    "        print(status)\n",
    "        return True\n",
    "\n",
    "\n",
    "auth = OAuthHandler(ckey, csecret)\n",
    "auth.set_access_token(atoken, asecret)\n",
    "\n",
    "twitterStream = Stream(auth, MyListener())\n",
    "twitterStream.filter(track=[\"#airpollution\",\"air pollution\",# original\n",
    "                            \"forest fire\",\"forest fires\",# category 1\n",
    "                            \"water poisoning\",\"water contamination\",# category 2 \n",
    "                            \"flood flash\",\"flood water\",\"flood warning\" # category 3\n",
    "                            \"earthquake\",# category 4\n",
    "                            \"oil spill\",\"pipeline spill\",\"tarsands spill\",\"tankers spill\", \"fossilfuel spill\",\"petroleum spill\",\n",
    "                           \"acid rain\",\"toxic rain\",\"mildew home\",\"mildew infested\",\"mildew basement\",\"mildew removal\",\"mildew growth\",\"mildew inspection\",\"mold flood\",\"mildew flood\",\n",
    "                           \"adelgid\",\"aphid\",\"beetle\",\"earwig\",\"insect\",\"locust\",\"louse\",\"moth\",\"psyllid\",\"termites\",\"termite\",\"bites\",\"bugs\",\"bug\",\"bug bites\",\"bugs bites\",\n",
    "                           \"allergy\",\"allergins\",\"pollen\",\"dander\", \"allergy cough\",\"pollen cough\",\"allergins sneeze\",\"pollen sneeze\",\"pollen asthma\",\"dander asthma\"\n",
    ",\"dust respiratory\",\"allegy lung\"])"
   ]
  },
  {
   "cell_type": "code",
   "execution_count": 4,
   "metadata": {
    "collapsed": true
   },
   "outputs": [],
   "source": [
    "import json\n",
    "import pandas as pd\n",
    "import matplotlib.pyplot as plt"
   ]
  },
  {
   "cell_type": "code",
   "execution_count": 17,
   "metadata": {
    "collapsed": true
   },
   "outputs": [],
   "source": [
    "tweets_data_path=\"../TW12.txt\"\n",
    "\n",
    "tweets_data=[]\n",
    "tweets_file = open(tweets_data_path,\"r\")\n",
    "for line in tweets_file:\n",
    "    try:\n",
    "        tweet=json.loads(line)\n",
    "        tweets_data.append(tweet)\n",
    "    except:\n",
    "        continue"
   ]
  },
  {
   "cell_type": "code",
   "execution_count": null,
   "metadata": {
    "collapsed": true
   },
   "outputs": [],
   "source": [
    "tweet[\"place\"]"
   ]
  },
  {
   "cell_type": "code",
   "execution_count": 6,
   "metadata": {
    "collapsed": true
   },
   "outputs": [],
   "source": [
    "tweets=pd.DataFrame()"
   ]
  },
  {
   "cell_type": "code",
   "execution_count": 7,
   "metadata": {
    "collapsed": true
   },
   "outputs": [],
   "source": [
    "tweets['text']=list(map(lambda tweet: tweet['text'], tweets_data))\n",
    "tweets['lang']=list(map(lambda tweet: tweet['lang'], tweets_data))\n",
    "tweets['id'] = list(map(lambda tweet: tweet['id'], tweets_data))\n",
    "tweets['country']=list(map(lambda tweet: tweet['place']['country'] if tweet['place']!= None else None, tweets_data))\n",
    "tweets['created_at']=list(map(lambda tweet: time.strftime('%Y-%m-%d %H:%M:%S', time.strptime(tweet['created_at'],'%a %b %d %H:%M:%S +0000 %Y')), tweets_data))\n",
    "tweets['followers_count']=map(lambda tweet: tweet['followers_count'] if tweet['followers_count']!= None else None, tweets_data)"
   ]
  },
  {
   "cell_type": "code",
   "execution_count": 8,
   "metadata": {
    "scrolled": true
   },
   "outputs": [
    {
     "data": {
      "text/html": [
       "<div>\n",
       "<style scoped>\n",
       "    .dataframe tbody tr th:only-of-type {\n",
       "        vertical-align: middle;\n",
       "    }\n",
       "\n",
       "    .dataframe tbody tr th {\n",
       "        vertical-align: top;\n",
       "    }\n",
       "\n",
       "    .dataframe thead th {\n",
       "        text-align: right;\n",
       "    }\n",
       "</style>\n",
       "<table border=\"1\" class=\"dataframe\">\n",
       "  <thead>\n",
       "    <tr style=\"text-align: right;\">\n",
       "      <th></th>\n",
       "      <th>text</th>\n",
       "      <th>lang</th>\n",
       "      <th>id</th>\n",
       "      <th>country</th>\n",
       "      <th>created_at</th>\n",
       "    </tr>\n",
       "  </thead>\n",
       "  <tbody>\n",
       "    <tr>\n",
       "      <th>0</th>\n",
       "      <td>RT @brandongroeny: They said Trump would lose....</td>\n",
       "      <td>en</td>\n",
       "      <td>985622600863723520</td>\n",
       "      <td>None</td>\n",
       "      <td>2018-04-15 20:55:14</td>\n",
       "    </tr>\n",
       "    <tr>\n",
       "      <th>1</th>\n",
       "      <td>RT @realDonaldTrump: When a car is sent to the...</td>\n",
       "      <td>en</td>\n",
       "      <td>985622615195779073</td>\n",
       "      <td>None</td>\n",
       "      <td>2018-04-15 20:55:18</td>\n",
       "    </tr>\n",
       "    <tr>\n",
       "      <th>2</th>\n",
       "      <td>RT @ThePlumLineGS: The GOP is Trump's party no...</td>\n",
       "      <td>en</td>\n",
       "      <td>985622631180357632</td>\n",
       "      <td>None</td>\n",
       "      <td>2018-04-15 20:55:21</td>\n",
       "    </tr>\n",
       "    <tr>\n",
       "      <th>3</th>\n",
       "      <td>👇👇 https://t.co/qbLCsjZ5D6</td>\n",
       "      <td>und</td>\n",
       "      <td>985622643264045057</td>\n",
       "      <td>None</td>\n",
       "      <td>2018-04-15 20:55:24</td>\n",
       "    </tr>\n",
       "    <tr>\n",
       "      <th>4</th>\n",
       "      <td>RT @RealJack: They said Trump would lose. He w...</td>\n",
       "      <td>en</td>\n",
       "      <td>985622654114779142</td>\n",
       "      <td>None</td>\n",
       "      <td>2018-04-15 20:55:27</td>\n",
       "    </tr>\n",
       "    <tr>\n",
       "      <th>5</th>\n",
       "      <td>RT @BrianSlodysko: Indiana's three GOP Senate ...</td>\n",
       "      <td>en</td>\n",
       "      <td>985622666051817472</td>\n",
       "      <td>None</td>\n",
       "      <td>2018-04-15 20:55:30</td>\n",
       "    </tr>\n",
       "  </tbody>\n",
       "</table>\n",
       "</div>"
      ],
      "text/plain": [
       "                                                text lang                  id  \\\n",
       "0  RT @brandongroeny: They said Trump would lose....   en  985622600863723520   \n",
       "1  RT @realDonaldTrump: When a car is sent to the...   en  985622615195779073   \n",
       "2  RT @ThePlumLineGS: The GOP is Trump's party no...   en  985622631180357632   \n",
       "3                         👇👇 https://t.co/qbLCsjZ5D6  und  985622643264045057   \n",
       "4  RT @RealJack: They said Trump would lose. He w...   en  985622654114779142   \n",
       "5  RT @BrianSlodysko: Indiana's three GOP Senate ...   en  985622666051817472   \n",
       "\n",
       "  country           created_at  \n",
       "0    None  2018-04-15 20:55:14  \n",
       "1    None  2018-04-15 20:55:18  \n",
       "2    None  2018-04-15 20:55:21  \n",
       "3    None  2018-04-15 20:55:24  \n",
       "4    None  2018-04-15 20:55:27  \n",
       "5    None  2018-04-15 20:55:30  "
      ]
     },
     "execution_count": 8,
     "metadata": {},
     "output_type": "execute_result"
    }
   ],
   "source": [
    "tweets"
   ]
  },
  {
   "cell_type": "code",
   "execution_count": 11,
   "metadata": {
    "collapsed": true
   },
   "outputs": [],
   "source": [
    "tweets.to_csv('tweets_tariff_tradewar12.csv')"
   ]
  },
  {
   "cell_type": "code",
   "execution_count": 13,
   "metadata": {
    "collapsed": true
   },
   "outputs": [],
   "source": [
    "import numpy as np"
   ]
  },
  {
   "cell_type": "code",
   "execution_count": 15,
   "metadata": {},
   "outputs": [
    {
     "name": "stdout",
     "output_type": "stream",
     "text": [
      "585 µs ± 47.6 µs per loop (mean ± std. dev. of 7 runs, 1000 loops each)\n"
     ]
    }
   ],
   "source": [
    "%timeit np.mean(tweets['text'].apply(len))"
   ]
  },
  {
   "cell_type": "code",
   "execution_count": 22,
   "metadata": {},
   "outputs": [
    {
     "data": {
      "text/plain": [
       "152"
      ]
     },
     "execution_count": 22,
     "metadata": {},
     "output_type": "execute_result"
    }
   ],
   "source": [
    "np.max(tweets['text'].apply(len))"
   ]
  },
  {
   "cell_type": "code",
   "execution_count": 23,
   "metadata": {},
   "outputs": [
    {
     "data": {
      "text/plain": [
       "10"
      ]
     },
     "execution_count": 23,
     "metadata": {},
     "output_type": "execute_result"
    }
   ],
   "source": [
    "np.min(tweets['text'].apply(len))"
   ]
  },
  {
   "cell_type": "code",
   "execution_count": 26,
   "metadata": {},
   "outputs": [
    {
     "data": {
      "text/plain": [
       "139.0"
      ]
     },
     "execution_count": 26,
     "metadata": {},
     "output_type": "execute_result"
    }
   ],
   "source": [
    "np.median(tweets['text'].apply(len))"
   ]
  },
  {
   "cell_type": "code",
   "execution_count": 36,
   "metadata": {
    "collapsed": true
   },
   "outputs": [],
   "source": [
    "text=tweets['text'].apply(lambda x: x.split(' '))"
   ]
  },
  {
   "cell_type": "code",
   "execution_count": 40,
   "metadata": {},
   "outputs": [
    {
     "data": {
      "text/plain": [
       "17.714495592556318"
      ]
     },
     "execution_count": 40,
     "metadata": {},
     "output_type": "execute_result"
    }
   ],
   "source": [
    "np.mean(text.apply(len))"
   ]
  },
  {
   "cell_type": "code",
   "execution_count": 44,
   "metadata": {},
   "outputs": [
    {
     "data": {
      "text/plain": [
       "['RT',\n",
       " '@washingtonpost:',\n",
       " 'Trump,',\n",
       " 'allies',\n",
       " 'downplay',\n",
       " 'concerns',\n",
       " 'about',\n",
       " 'effect',\n",
       " 'of',\n",
       " 'trade',\n",
       " 'war',\n",
       " 'with',\n",
       " 'China',\n",
       " 'on',\n",
       " 'economy',\n",
       " 'https://t.co/PTfHQg4pax']"
      ]
     },
     "execution_count": 44,
     "metadata": {},
     "output_type": "execute_result"
    }
   ],
   "source": [
    "text"
   ]
  }
 ],
 "metadata": {
  "kernelspec": {
   "display_name": "Python 3",
   "language": "python",
   "name": "python3"
  },
  "language_info": {
   "codemirror_mode": {
    "name": "ipython",
    "version": 3
   },
   "file_extension": ".py",
   "mimetype": "text/x-python",
   "name": "python",
   "nbconvert_exporter": "python",
   "pygments_lexer": "ipython3",
   "version": "3.6.4"
  }
 },
 "nbformat": 4,
 "nbformat_minor": 2
}
