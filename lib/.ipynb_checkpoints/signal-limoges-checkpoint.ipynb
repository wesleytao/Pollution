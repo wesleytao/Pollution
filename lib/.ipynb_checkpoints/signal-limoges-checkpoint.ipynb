{
 "cells": [
  {
   "cell_type": "code",
   "execution_count": 1,
   "metadata": {
    "collapsed": true
   },
   "outputs": [],
   "source": [
    "import pandas as pd\n",
    "import numpy as np\n",
    "import re\n",
    "from datetime import datetime\n",
    "from pandas import Index\n",
    "import matplotlib.pyplot as plt\n",
    "from pytrends.request import TrendReq\n",
    "from pytrends import request\n",
    "import pickle"
   ]
  },
  {
   "cell_type": "code",
   "execution_count": 2,
   "metadata": {
    "collapsed": true
   },
   "outputs": [],
   "source": [
    "def signal_process(table,event_var='PM25_Marseille_Longchamp',event_threshold = 40, duration = 6,var_name_list='air pollution'):\n",
    "    \"\"\"Find the spike in pm25 and plot a sliding window for google trend \"\"\"\n",
    "\n",
    "    index_list=np.where(table[event_var]>event_threshold)[0]\n",
    "    \n",
    "    # add first element\n",
    "    shrink_index_list = [index_list[0]]\n",
    "    date_set ={table.date[index_list[0]]}\n",
    "    \n",
    "    # exclude for the same day\n",
    "    for cnt in range(1,len(index_list)):\n",
    "        if table.date[index_list[cnt]] in date_set:\n",
    "            pass\n",
    "        else:\n",
    "            shrink_index_list.append(index_list[cnt].copy())\n",
    "            date_set.add(table.date[index_list[cnt]])\n",
    "    \n",
    "    bind_list = []\n",
    "    for start_index in shrink_index_list:\n",
    "        this_sequence = table.loc[range(start_index-2,start_index+duration),\n",
    "                                  var_name_list]\n",
    "        start_date = table.datetime[start_index]\n",
    "        tuples = list(zip([start_date]*(duration+2),range(-2,duration)))\n",
    "\n",
    "        this_sequence.index = pd.MultiIndex.from_tuples(tuples,names=['event_date_index','hour_index'])\n",
    "    #         this_sequence = (this_sequence- this_sequence.mean())/this_sequence.std()\n",
    "\n",
    "        bind_list.append(this_sequence)\n",
    "    new_table=pd.concat(bind_list)     \n",
    "    \n",
    "    return new_table"
   ]
  },
  {
   "cell_type": "code",
   "execution_count": 19,
   "metadata": {
    "collapsed": true
   },
   "outputs": [],
   "source": [
    "def fetching_trend(airdata, kw_list,location_code='FR-U',timezone = 0):\n",
    "    input_table = airdata\n",
    "    newest_datetime   = max(input_table['datetime'])\n",
    "    earliest_datetime = min(input_table['datetime'])\n",
    "    pytrends = TrendReq(hl='En-US', tz=timezone)\n",
    "    print(\"fectching trend \")\n",
    "    ggtrend_list =[]\n",
    "    for keyword in kw_list:\n",
    "        \n",
    "        this_list = [keyword]\n",
    "        try: \n",
    "            topic_code = pytrends.suggestions(keyword)[0]['mid']\n",
    "            this_list.append(topic_code)\n",
    "            print(\"keyword {} is encoded as {}\".format(keyword,topic_code))\n",
    "        except IndexError:\n",
    "            pass\n",
    "        print(this_list)\n",
    "        ggtrend = pytrends.get_historical_interest(this_list, \n",
    "                                 year_start=earliest_datetime.year,\n",
    "                                          month_start=earliest_datetime.month, \n",
    "                                          day_start=earliest_datetime.days_in_month, \n",
    "                                          hour_start=earliest_datetime.hour, \n",
    "                                 year_end=newest_datetime.year,\n",
    "                                          month_end=newest_datetime.month, \n",
    "                                          day_end=newest_datetime.days_in_month, \n",
    "                                          hour_end=newest_datetime.hour, \n",
    "                                 cat=0, # all categorical\n",
    "                                          geo=location_code,  # Provence-Alpes-Côte d'Azur\n",
    "                                          gprop='',  # no specific group # image #hastag etc\n",
    "                                          sleep=0)\n",
    "        print(\"save temp file {}\".format(keyword))\n",
    "        with open(\"../stage/{}/{}.p\".format(location_code,keyword),'bw') as f:\n",
    "            pickle.dump(ggtrend,f)\n",
    "            \n",
    "        if len(this_list)==2:\n",
    "            ggtrend.columns= Index([keyword, keyword+\" topic\", 'isPartial'], dtype='object')\n",
    "        \n",
    "        \n",
    "        \n",
    "        ggtrend_list.append(ggtrend)\n",
    "    print(\"trend is fectched\")\n",
    "    return ggtrend_list\n"
   ]
  },
  {
   "cell_type": "code",
   "execution_count": 4,
   "metadata": {
    "collapsed": true
   },
   "outputs": [],
   "source": [
    "# loading table "
   ]
  },
  {
   "cell_type": "code",
   "execution_count": 4,
   "metadata": {},
   "outputs": [],
   "source": [
    "Limoges_table = pd.read_csv(\"../stage/limoges.csv\").drop(columns=['Year','Month','Day','UTC Hour'])"
   ]
  },
  {
   "cell_type": "code",
   "execution_count": 8,
   "metadata": {},
   "outputs": [],
   "source": [
    "Limoges_table.columns=Index(['PM25_Limoges', 'PM10_Limoges', 'datetime'], dtype='object')"
   ]
  },
  {
   "cell_type": "code",
   "execution_count": 9,
   "metadata": {},
   "outputs": [
    {
     "data": {
      "text/html": [
       "<div>\n",
       "<style scoped>\n",
       "    .dataframe tbody tr th:only-of-type {\n",
       "        vertical-align: middle;\n",
       "    }\n",
       "\n",
       "    .dataframe tbody tr th {\n",
       "        vertical-align: top;\n",
       "    }\n",
       "\n",
       "    .dataframe thead th {\n",
       "        text-align: right;\n",
       "    }\n",
       "</style>\n",
       "<table border=\"1\" class=\"dataframe\">\n",
       "  <thead>\n",
       "    <tr style=\"text-align: right;\">\n",
       "      <th></th>\n",
       "      <th>PM25_Limoges</th>\n",
       "      <th>PM10_Limoges</th>\n",
       "      <th>datetime</th>\n",
       "    </tr>\n",
       "  </thead>\n",
       "  <tbody>\n",
       "    <tr>\n",
       "      <th>0</th>\n",
       "      <td>21.6</td>\n",
       "      <td>0.50</td>\n",
       "      <td>2013-01-01 00:00:00</td>\n",
       "    </tr>\n",
       "    <tr>\n",
       "      <th>1</th>\n",
       "      <td>15.7</td>\n",
       "      <td>0.63</td>\n",
       "      <td>2013-01-01 01:00:00</td>\n",
       "    </tr>\n",
       "    <tr>\n",
       "      <th>2</th>\n",
       "      <td>13.5</td>\n",
       "      <td>0.66</td>\n",
       "      <td>2013-01-01 02:00:00</td>\n",
       "    </tr>\n",
       "    <tr>\n",
       "      <th>3</th>\n",
       "      <td>11.0</td>\n",
       "      <td>0.68</td>\n",
       "      <td>2013-01-01 03:00:00</td>\n",
       "    </tr>\n",
       "    <tr>\n",
       "      <th>4</th>\n",
       "      <td>9.6</td>\n",
       "      <td>0.67</td>\n",
       "      <td>2013-01-01 04:00:00</td>\n",
       "    </tr>\n",
       "  </tbody>\n",
       "</table>\n",
       "</div>"
      ],
      "text/plain": [
       "   PM25_Limoges  PM10_Limoges             datetime\n",
       "0          21.6          0.50  2013-01-01 00:00:00\n",
       "1          15.7          0.63  2013-01-01 01:00:00\n",
       "2          13.5          0.66  2013-01-01 02:00:00\n",
       "3          11.0          0.68  2013-01-01 03:00:00\n",
       "4           9.6          0.67  2013-01-01 04:00:00"
      ]
     },
     "execution_count": 9,
     "metadata": {},
     "output_type": "execute_result"
    }
   ],
   "source": [
    "Limoges_table.head()"
   ]
  },
  {
   "cell_type": "code",
   "execution_count": 10,
   "metadata": {
    "collapsed": true
   },
   "outputs": [],
   "source": [
    "parca_table = Limoges_table"
   ]
  },
  {
   "cell_type": "code",
   "execution_count": 11,
   "metadata": {
    "collapsed": true
   },
   "outputs": [],
   "source": [
    "full_date_time = pd.date_range(parca_table[['datetime']].min()[0],parca_table[['datetime']].max()[0],freq='H')\n",
    "full_time_set = set(map(lambda mytime: mytime.strftime(\"%Y-%m-%d %H:%M:%S\"),full_date_time.to_series())) \n",
    "data_time_set = set(map(lambda timestamp: str(timestamp),parca_table['datetime']))\n",
    "    # pad na values\n",
    "if len(full_time_set) != len(data_time_set):\n",
    "    pad_time = full_time_set -data_time_set\n",
    "    pad_table = pd.DataFrame()\n",
    "    pad_table['datetime']=[datetime.strptime(mytime,\"%Y-%m-%d %H:%M:%S\") for mytime in pad_time]\n",
    "    for column in parca_table.columns:\n",
    "        if column !=\"datetime\":\n",
    "            pad_table[column]=None\n",
    "    parca_table = pd.concat([parca_table,pad_table],ignore_index=True)"
   ]
  },
  {
   "cell_type": "code",
   "execution_count": 18,
   "metadata": {
    "collapsed": true
   },
   "outputs": [],
   "source": [
    "# fetching google trend"
   ]
  },
  {
   "cell_type": "code",
   "execution_count": 12,
   "metadata": {
    "collapsed": true
   },
   "outputs": [],
   "source": [
    "KW_LIST= [\n",
    "#           'difficulté à respirer',\n",
    "          'asthme',\n",
    "          'banane',\n",
    "#           'intoxication alimentaire',\n",
    "#           'difficulté pour respirer',\n",
    "#           'sensation d’étouffement',\n",
    "          'dyspnée',\n",
    "          'la diarrhée',\n",
    "#           'spasmophilie',\n",
    "#           'nuage de pollution',\n",
    "#           'saleté de l’air',\n",
    "#           'particules nocives',\n",
    "          'respiration',\n",
    "#           'difficultés respiratoires',\n",
    "#           'maladies respiratoires',\n",
    "          'pollution de l’air',\n",
    "#           'pollution atmosphérique',\n",
    "#           'pollution',\n",
    "#           'Masque', #mask\n",
    "#           \"Purificateur d'air\", #air purifier\n",
    "          \n",
    "         ]"
   ]
  },
  {
   "cell_type": "code",
   "execution_count": 13,
   "metadata": {
    "collapsed": true
   },
   "outputs": [],
   "source": [
    "LOCATION_CODE = 'FR-B'  # ISO 3166 code\tFR-B  for Nouvelle-Aquitaine mytime.strftime(\"%Y-%m-%d %H:%M:%S\")"
   ]
  },
  {
   "cell_type": "code",
   "execution_count": 43,
   "metadata": {
    "collapsed": true
   },
   "outputs": [],
   "source": [
    "def conv(datestring):\n",
    "    try :\n",
    "        val = datetime.strptime(datestring ,'%Y-%m-%d %H:%M:%S')\n",
    "    except TypeError:\n",
    "        val = datestring\n",
    "    return val"
   ]
  },
  {
   "cell_type": "code",
   "execution_count": 46,
   "metadata": {},
   "outputs": [],
   "source": [
    "parca_table['datetime'] = parca_table['datetime'].apply(conv)"
   ]
  },
  {
   "cell_type": "code",
   "execution_count": 47,
   "metadata": {},
   "outputs": [
    {
     "name": "stdout",
     "output_type": "stream",
     "text": [
      "fectching trend \n",
      "keyword asthme is encoded as /m/0c78m\n",
      "['asthme', '/m/0c78m']\n",
      "The request failed: Google returned a response with code 500.\n",
      "save temp file asthme\n",
      "keyword banane is encoded as /m/09qck\n",
      "['banane', '/m/09qck']\n",
      "The request failed: Google returned a response with code 500.\n",
      "save temp file banane\n",
      "keyword dyspnée is encoded as /m/01cdt5\n",
      "['dyspnée', '/m/01cdt5']\n",
      "The request failed: Google returned a response with code 500.\n",
      "save temp file dyspnée\n",
      "keyword la diarrhée is encoded as /m/0dlj68y\n",
      "['la diarrhée', '/m/0dlj68y']\n",
      "The request failed: Google returned a response with code 500.\n",
      "The request failed: Google returned a response with code 500.\n",
      "The request failed: Google returned a response with code 500.\n",
      "The request failed: Google returned a response with code 500.\n",
      "The request failed: Google returned a response with code 500.\n",
      "The request failed: Google returned a response with code 500.\n",
      "The request failed: Google returned a response with code 500.\n",
      "The request failed: Google returned a response with code 500.\n",
      "The request failed: Google returned a response with code 500.\n",
      "The request failed: Google returned a response with code 500.\n",
      "The request failed: Google returned a response with code 500.\n",
      "The request failed: Google returned a response with code 500.\n",
      "The request failed: Google returned a response with code 500.\n",
      "The request failed: Google returned a response with code 500.\n",
      "The request failed: Google returned a response with code 500.\n",
      "The request failed: Google returned a response with code 500.\n",
      "The request failed: Google returned a response with code 500.\n",
      "The request failed: Google returned a response with code 500.\n",
      "The request failed: Google returned a response with code 500.\n",
      "The request failed: Google returned a response with code 500.\n",
      "The request failed: Google returned a response with code 500.\n",
      "The request failed: Google returned a response with code 500.\n",
      "The request failed: Google returned a response with code 500.\n",
      "The request failed: Google returned a response with code 500.\n",
      "The request failed: Google returned a response with code 500.\n",
      "The request failed: Google returned a response with code 500.\n",
      "The request failed: Google returned a response with code 500.\n",
      "The request failed: Google returned a response with code 500.\n",
      "The request failed: Google returned a response with code 500.\n",
      "The request failed: Google returned a response with code 500.\n",
      "The request failed: Google returned a response with code 500.\n",
      "The request failed: Google returned a response with code 500.\n",
      "The request failed: Google returned a response with code 500.\n",
      "The request failed: Google returned a response with code 500.\n",
      "The request failed: Google returned a response with code 500.\n",
      "The request failed: Google returned a response with code 500.\n",
      "The request failed: Google returned a response with code 500.\n",
      "The request failed: Google returned a response with code 500.\n",
      "The request failed: Google returned a response with code 500.\n",
      "The request failed: Google returned a response with code 500.\n",
      "The request failed: Google returned a response with code 500.\n",
      "The request failed: Google returned a response with code 500.\n",
      "The request failed: Google returned a response with code 500.\n",
      "The request failed: Google returned a response with code 500.\n",
      "The request failed: Google returned a response with code 500.\n",
      "The request failed: Google returned a response with code 500.\n",
      "The request failed: Google returned a response with code 500.\n",
      "The request failed: Google returned a response with code 500.\n",
      "The request failed: Google returned a response with code 500.\n",
      "The request failed: Google returned a response with code 500.\n",
      "The request failed: Google returned a response with code 500.\n",
      "The request failed: Google returned a response with code 500.\n",
      "The request failed: Google returned a response with code 500.\n",
      "The request failed: Google returned a response with code 500.\n",
      "The request failed: Google returned a response with code 500.\n",
      "The request failed: Google returned a response with code 500.\n",
      "The request failed: Google returned a response with code 500.\n",
      "The request failed: Google returned a response with code 500.\n",
      "The request failed: Google returned a response with code 500.\n",
      "The request failed: Google returned a response with code 500.\n",
      "The request failed: Google returned a response with code 500.\n",
      "The request failed: Google returned a response with code 500.\n",
      "The request failed: Google returned a response with code 500.\n",
      "The request failed: Google returned a response with code 500.\n",
      "The request failed: Google returned a response with code 500.\n",
      "The request failed: Google returned a response with code 500.\n",
      "The request failed: Google returned a response with code 500.\n",
      "The request failed: Google returned a response with code 500.\n",
      "The request failed: Google returned a response with code 500.\n",
      "The request failed: Google returned a response with code 500.\n",
      "The request failed: Google returned a response with code 500.\n",
      "The request failed: Google returned a response with code 500.\n",
      "(\"bad handshake: SysCallError(-1, 'Unexpected EOF')\",)\n",
      "The request failed: Google returned a response with code 500.\n",
      "The request failed: Google returned a response with code 500.\n",
      "('Connection aborted.', OSError(\"(10053, 'WSAECONNABORTED')\",))\n",
      "HTTPSConnectionPool(host='trends.google.com', port=443): Max retries exceeded with url: /trends/api/explore?hl=En-US&tz=0&req=%7B%22comparisonItem%22%3A+%5B%7B%22keyword%22%3A+%22la+diarrh%5Cu00e9e%22%2C+%22time%22%3A+%222016-10-20T00+2016-10-27T00%22%2C+%22geo%22%3A+%22FR-B%22%7D%2C+%7B%22keyword%22%3A+%22%2Fm%2F0dlj68y%22%2C+%22time%22%3A+%222016-10-20T00+2016-10-27T00%22%2C+%22geo%22%3A+%22FR-B%22%7D%5D%2C+%22category%22%3A+0%2C+%22property%22%3A+%22%22%7D (Caused by NewConnectionError('<requests.packages.urllib3.connection.VerifiedHTTPSConnection object at 0x0000021DB2D367F0>: Failed to establish a new connection: [Errno 11001] getaddrinfo failed',))\n",
      "HTTPSConnectionPool(host='trends.google.com', port=443): Max retries exceeded with url: /trends/api/explore?hl=En-US&tz=0&req=%7B%22comparisonItem%22%3A+%5B%7B%22keyword%22%3A+%22la+diarrh%5Cu00e9e%22%2C+%22time%22%3A+%222016-10-27T00+2016-11-03T00%22%2C+%22geo%22%3A+%22FR-B%22%7D%2C+%7B%22keyword%22%3A+%22%2Fm%2F0dlj68y%22%2C+%22time%22%3A+%222016-10-27T00+2016-11-03T00%22%2C+%22geo%22%3A+%22FR-B%22%7D%5D%2C+%22category%22%3A+0%2C+%22property%22%3A+%22%22%7D (Caused by NewConnectionError('<requests.packages.urllib3.connection.VerifiedHTTPSConnection object at 0x0000021DB2D3ADD8>: Failed to establish a new connection: [Errno 11001] getaddrinfo failed',))\n",
      "HTTPSConnectionPool(host='trends.google.com', port=443): Max retries exceeded with url: /trends/api/explore?hl=En-US&tz=0&req=%7B%22comparisonItem%22%3A+%5B%7B%22keyword%22%3A+%22la+diarrh%5Cu00e9e%22%2C+%22time%22%3A+%222016-11-03T00+2016-11-10T00%22%2C+%22geo%22%3A+%22FR-B%22%7D%2C+%7B%22keyword%22%3A+%22%2Fm%2F0dlj68y%22%2C+%22time%22%3A+%222016-11-03T00+2016-11-10T00%22%2C+%22geo%22%3A+%22FR-B%22%7D%5D%2C+%22category%22%3A+0%2C+%22property%22%3A+%22%22%7D (Caused by NewConnectionError('<requests.packages.urllib3.connection.VerifiedHTTPSConnection object at 0x0000021DB2D3A0F0>: Failed to establish a new connection: [Errno 11001] getaddrinfo failed',))\n",
      "HTTPSConnectionPool(host='trends.google.com', port=443): Max retries exceeded with url: /trends/api/explore?hl=En-US&tz=0&req=%7B%22comparisonItem%22%3A+%5B%7B%22keyword%22%3A+%22la+diarrh%5Cu00e9e%22%2C+%22time%22%3A+%222016-11-10T00+2016-11-17T00%22%2C+%22geo%22%3A+%22FR-B%22%7D%2C+%7B%22keyword%22%3A+%22%2Fm%2F0dlj68y%22%2C+%22time%22%3A+%222016-11-10T00+2016-11-17T00%22%2C+%22geo%22%3A+%22FR-B%22%7D%5D%2C+%22category%22%3A+0%2C+%22property%22%3A+%22%22%7D (Caused by NewConnectionError('<requests.packages.urllib3.connection.VerifiedHTTPSConnection object at 0x0000021DB2D3A6D8>: Failed to establish a new connection: [Errno 11001] getaddrinfo failed',))\n",
      "HTTPSConnectionPool(host='trends.google.com', port=443): Max retries exceeded with url: /trends/api/explore?hl=En-US&tz=0&req=%7B%22comparisonItem%22%3A+%5B%7B%22keyword%22%3A+%22la+diarrh%5Cu00e9e%22%2C+%22time%22%3A+%222016-11-17T00+2016-11-24T00%22%2C+%22geo%22%3A+%22FR-B%22%7D%2C+%7B%22keyword%22%3A+%22%2Fm%2F0dlj68y%22%2C+%22time%22%3A+%222016-11-17T00+2016-11-24T00%22%2C+%22geo%22%3A+%22FR-B%22%7D%5D%2C+%22category%22%3A+0%2C+%22property%22%3A+%22%22%7D (Caused by NewConnectionError('<requests.packages.urllib3.connection.VerifiedHTTPSConnection object at 0x0000021DB2D3A4E0>: Failed to establish a new connection: [Errno 11001] getaddrinfo failed',))\n",
      "HTTPSConnectionPool(host='trends.google.com', port=443): Max retries exceeded with url: /trends/api/explore?hl=En-US&tz=0&req=%7B%22comparisonItem%22%3A+%5B%7B%22keyword%22%3A+%22la+diarrh%5Cu00e9e%22%2C+%22time%22%3A+%222016-11-24T00+2016-12-01T00%22%2C+%22geo%22%3A+%22FR-B%22%7D%2C+%7B%22keyword%22%3A+%22%2Fm%2F0dlj68y%22%2C+%22time%22%3A+%222016-11-24T00+2016-12-01T00%22%2C+%22geo%22%3A+%22FR-B%22%7D%5D%2C+%22category%22%3A+0%2C+%22property%22%3A+%22%22%7D (Caused by NewConnectionError('<requests.packages.urllib3.connection.VerifiedHTTPSConnection object at 0x0000021DB2D3AD30>: Failed to establish a new connection: [Errno 11001] getaddrinfo failed',))\n",
      "HTTPSConnectionPool(host='trends.google.com', port=443): Max retries exceeded with url: /trends/api/explore?hl=En-US&tz=0&req=%7B%22comparisonItem%22%3A+%5B%7B%22keyword%22%3A+%22la+diarrh%5Cu00e9e%22%2C+%22time%22%3A+%222016-12-01T00+2016-12-08T00%22%2C+%22geo%22%3A+%22FR-B%22%7D%2C+%7B%22keyword%22%3A+%22%2Fm%2F0dlj68y%22%2C+%22time%22%3A+%222016-12-01T00+2016-12-08T00%22%2C+%22geo%22%3A+%22FR-B%22%7D%5D%2C+%22category%22%3A+0%2C+%22property%22%3A+%22%22%7D (Caused by NewConnectionError('<requests.packages.urllib3.connection.VerifiedHTTPSConnection object at 0x0000021DB2D3ADD8>: Failed to establish a new connection: [Errno 11001] getaddrinfo failed',))\n"
     ]
    },
    {
     "name": "stdout",
     "output_type": "stream",
     "text": [
      "HTTPSConnectionPool(host='trends.google.com', port=443): Max retries exceeded with url: /trends/api/explore?hl=En-US&tz=0&req=%7B%22comparisonItem%22%3A+%5B%7B%22keyword%22%3A+%22la+diarrh%5Cu00e9e%22%2C+%22time%22%3A+%222016-12-08T00+2016-12-15T00%22%2C+%22geo%22%3A+%22FR-B%22%7D%2C+%7B%22keyword%22%3A+%22%2Fm%2F0dlj68y%22%2C+%22time%22%3A+%222016-12-08T00+2016-12-15T00%22%2C+%22geo%22%3A+%22FR-B%22%7D%5D%2C+%22category%22%3A+0%2C+%22property%22%3A+%22%22%7D (Caused by NewConnectionError('<requests.packages.urllib3.connection.VerifiedHTTPSConnection object at 0x0000021DB2D3A0F0>: Failed to establish a new connection: [Errno 11001] getaddrinfo failed',))\n",
      "HTTPSConnectionPool(host='trends.google.com', port=443): Max retries exceeded with url: /trends/api/explore?hl=En-US&tz=0&req=%7B%22comparisonItem%22%3A+%5B%7B%22keyword%22%3A+%22la+diarrh%5Cu00e9e%22%2C+%22time%22%3A+%222016-12-15T00+2016-12-22T00%22%2C+%22geo%22%3A+%22FR-B%22%7D%2C+%7B%22keyword%22%3A+%22%2Fm%2F0dlj68y%22%2C+%22time%22%3A+%222016-12-15T00+2016-12-22T00%22%2C+%22geo%22%3A+%22FR-B%22%7D%5D%2C+%22category%22%3A+0%2C+%22property%22%3A+%22%22%7D (Caused by NewConnectionError('<requests.packages.urllib3.connection.VerifiedHTTPSConnection object at 0x0000021DB2D3A400>: Failed to establish a new connection: [Errno 11001] getaddrinfo failed',))\n",
      "HTTPSConnectionPool(host='trends.google.com', port=443): Max retries exceeded with url: /trends/api/explore?hl=En-US&tz=0&req=%7B%22comparisonItem%22%3A+%5B%7B%22keyword%22%3A+%22la+diarrh%5Cu00e9e%22%2C+%22time%22%3A+%222016-12-22T00+2016-12-29T00%22%2C+%22geo%22%3A+%22FR-B%22%7D%2C+%7B%22keyword%22%3A+%22%2Fm%2F0dlj68y%22%2C+%22time%22%3A+%222016-12-22T00+2016-12-29T00%22%2C+%22geo%22%3A+%22FR-B%22%7D%5D%2C+%22category%22%3A+0%2C+%22property%22%3A+%22%22%7D (Caused by NewConnectionError('<requests.packages.urllib3.connection.VerifiedHTTPSConnection object at 0x0000021DB2D3AD30>: Failed to establish a new connection: [Errno 11001] getaddrinfo failed',))\n",
      "HTTPSConnectionPool(host='trends.google.com', port=443): Max retries exceeded with url: /trends/api/explore?hl=En-US&tz=0&req=%7B%22comparisonItem%22%3A+%5B%7B%22keyword%22%3A+%22la+diarrh%5Cu00e9e%22%2C+%22time%22%3A+%222016-12-29T00+2017-01-05T00%22%2C+%22geo%22%3A+%22FR-B%22%7D%2C+%7B%22keyword%22%3A+%22%2Fm%2F0dlj68y%22%2C+%22time%22%3A+%222016-12-29T00+2017-01-05T00%22%2C+%22geo%22%3A+%22FR-B%22%7D%5D%2C+%22category%22%3A+0%2C+%22property%22%3A+%22%22%7D (Caused by NewConnectionError('<requests.packages.urllib3.connection.VerifiedHTTPSConnection object at 0x0000021DB2D3A320>: Failed to establish a new connection: [Errno 11001] getaddrinfo failed',))\n",
      "HTTPSConnectionPool(host='trends.google.com', port=443): Max retries exceeded with url: /trends/api/explore?hl=En-US&tz=0&req=%7B%22comparisonItem%22%3A+%5B%7B%22keyword%22%3A+%22la+diarrh%5Cu00e9e%22%2C+%22time%22%3A+%222017-01-05T00+2017-01-12T00%22%2C+%22geo%22%3A+%22FR-B%22%7D%2C+%7B%22keyword%22%3A+%22%2Fm%2F0dlj68y%22%2C+%22time%22%3A+%222017-01-05T00+2017-01-12T00%22%2C+%22geo%22%3A+%22FR-B%22%7D%5D%2C+%22category%22%3A+0%2C+%22property%22%3A+%22%22%7D (Caused by NewConnectionError('<requests.packages.urllib3.connection.VerifiedHTTPSConnection object at 0x0000021DB2D3A518>: Failed to establish a new connection: [Errno 11001] getaddrinfo failed',))\n",
      "HTTPSConnectionPool(host='trends.google.com', port=443): Max retries exceeded with url: /trends/api/explore?hl=En-US&tz=0&req=%7B%22comparisonItem%22%3A+%5B%7B%22keyword%22%3A+%22la+diarrh%5Cu00e9e%22%2C+%22time%22%3A+%222017-01-12T00+2017-01-19T00%22%2C+%22geo%22%3A+%22FR-B%22%7D%2C+%7B%22keyword%22%3A+%22%2Fm%2F0dlj68y%22%2C+%22time%22%3A+%222017-01-12T00+2017-01-19T00%22%2C+%22geo%22%3A+%22FR-B%22%7D%5D%2C+%22category%22%3A+0%2C+%22property%22%3A+%22%22%7D (Caused by NewConnectionError('<requests.packages.urllib3.connection.VerifiedHTTPSConnection object at 0x0000021DB2D3A0F0>: Failed to establish a new connection: [Errno 11001] getaddrinfo failed',))\n",
      "HTTPSConnectionPool(host='trends.google.com', port=443): Max retries exceeded with url: /trends/api/explore?hl=En-US&tz=0&req=%7B%22comparisonItem%22%3A+%5B%7B%22keyword%22%3A+%22la+diarrh%5Cu00e9e%22%2C+%22time%22%3A+%222017-01-19T00+2017-01-26T00%22%2C+%22geo%22%3A+%22FR-B%22%7D%2C+%7B%22keyword%22%3A+%22%2Fm%2F0dlj68y%22%2C+%22time%22%3A+%222017-01-19T00+2017-01-26T00%22%2C+%22geo%22%3A+%22FR-B%22%7D%5D%2C+%22category%22%3A+0%2C+%22property%22%3A+%22%22%7D (Caused by NewConnectionError('<requests.packages.urllib3.connection.VerifiedHTTPSConnection object at 0x0000021DB2D3AA90>: Failed to establish a new connection: [Errno 11001] getaddrinfo failed',))\n",
      "HTTPSConnectionPool(host='trends.google.com', port=443): Max retries exceeded with url: /trends/api/explore?hl=En-US&tz=0&req=%7B%22comparisonItem%22%3A+%5B%7B%22keyword%22%3A+%22la+diarrh%5Cu00e9e%22%2C+%22time%22%3A+%222017-01-26T00+2017-02-02T00%22%2C+%22geo%22%3A+%22FR-B%22%7D%2C+%7B%22keyword%22%3A+%22%2Fm%2F0dlj68y%22%2C+%22time%22%3A+%222017-01-26T00+2017-02-02T00%22%2C+%22geo%22%3A+%22FR-B%22%7D%5D%2C+%22category%22%3A+0%2C+%22property%22%3A+%22%22%7D (Caused by NewConnectionError('<requests.packages.urllib3.connection.VerifiedHTTPSConnection object at 0x0000021DB4372AC8>: Failed to establish a new connection: [Errno 11001] getaddrinfo failed',))\n",
      "HTTPSConnectionPool(host='trends.google.com', port=443): Max retries exceeded with url: /trends/api/explore?hl=En-US&tz=0&req=%7B%22comparisonItem%22%3A+%5B%7B%22keyword%22%3A+%22la+diarrh%5Cu00e9e%22%2C+%22time%22%3A+%222017-02-02T00+2017-02-09T00%22%2C+%22geo%22%3A+%22FR-B%22%7D%2C+%7B%22keyword%22%3A+%22%2Fm%2F0dlj68y%22%2C+%22time%22%3A+%222017-02-02T00+2017-02-09T00%22%2C+%22geo%22%3A+%22FR-B%22%7D%5D%2C+%22category%22%3A+0%2C+%22property%22%3A+%22%22%7D (Caused by NewConnectionError('<requests.packages.urllib3.connection.VerifiedHTTPSConnection object at 0x0000021DB2D36390>: Failed to establish a new connection: [Errno 11001] getaddrinfo failed',))\n",
      "HTTPSConnectionPool(host='trends.google.com', port=443): Max retries exceeded with url: /trends/api/explore?hl=En-US&tz=0&req=%7B%22comparisonItem%22%3A+%5B%7B%22keyword%22%3A+%22la+diarrh%5Cu00e9e%22%2C+%22time%22%3A+%222017-02-09T00+2017-02-16T00%22%2C+%22geo%22%3A+%22FR-B%22%7D%2C+%7B%22keyword%22%3A+%22%2Fm%2F0dlj68y%22%2C+%22time%22%3A+%222017-02-09T00+2017-02-16T00%22%2C+%22geo%22%3A+%22FR-B%22%7D%5D%2C+%22category%22%3A+0%2C+%22property%22%3A+%22%22%7D (Caused by NewConnectionError('<requests.packages.urllib3.connection.VerifiedHTTPSConnection object at 0x0000021DB2D36898>: Failed to establish a new connection: [Errno 11001] getaddrinfo failed',))\n",
      "HTTPSConnectionPool(host='trends.google.com', port=443): Max retries exceeded with url: /trends/api/explore?hl=En-US&tz=0&req=%7B%22comparisonItem%22%3A+%5B%7B%22keyword%22%3A+%22la+diarrh%5Cu00e9e%22%2C+%22time%22%3A+%222017-02-16T00+2017-02-23T00%22%2C+%22geo%22%3A+%22FR-B%22%7D%2C+%7B%22keyword%22%3A+%22%2Fm%2F0dlj68y%22%2C+%22time%22%3A+%222017-02-16T00+2017-02-23T00%22%2C+%22geo%22%3A+%22FR-B%22%7D%5D%2C+%22category%22%3A+0%2C+%22property%22%3A+%22%22%7D (Caused by NewConnectionError('<requests.packages.urllib3.connection.VerifiedHTTPSConnection object at 0x0000021DB4372550>: Failed to establish a new connection: [Errno 11001] getaddrinfo failed',))\n",
      "HTTPSConnectionPool(host='trends.google.com', port=443): Max retries exceeded with url: /trends/api/explore?hl=En-US&tz=0&req=%7B%22comparisonItem%22%3A+%5B%7B%22keyword%22%3A+%22la+diarrh%5Cu00e9e%22%2C+%22time%22%3A+%222017-02-23T00+2017-03-02T00%22%2C+%22geo%22%3A+%22FR-B%22%7D%2C+%7B%22keyword%22%3A+%22%2Fm%2F0dlj68y%22%2C+%22time%22%3A+%222017-02-23T00+2017-03-02T00%22%2C+%22geo%22%3A+%22FR-B%22%7D%5D%2C+%22category%22%3A+0%2C+%22property%22%3A+%22%22%7D (Caused by NewConnectionError('<requests.packages.urllib3.connection.VerifiedHTTPSConnection object at 0x0000021DB4372EF0>: Failed to establish a new connection: [Errno 11001] getaddrinfo failed',))\n",
      "HTTPSConnectionPool(host='trends.google.com', port=443): Max retries exceeded with url: /trends/api/explore?hl=En-US&tz=0&req=%7B%22comparisonItem%22%3A+%5B%7B%22keyword%22%3A+%22la+diarrh%5Cu00e9e%22%2C+%22time%22%3A+%222017-03-02T00+2017-03-09T00%22%2C+%22geo%22%3A+%22FR-B%22%7D%2C+%7B%22keyword%22%3A+%22%2Fm%2F0dlj68y%22%2C+%22time%22%3A+%222017-03-02T00+2017-03-09T00%22%2C+%22geo%22%3A+%22FR-B%22%7D%5D%2C+%22category%22%3A+0%2C+%22property%22%3A+%22%22%7D (Caused by NewConnectionError('<requests.packages.urllib3.connection.VerifiedHTTPSConnection object at 0x0000021DB2D3A048>: Failed to establish a new connection: [Errno 11001] getaddrinfo failed',))\n",
      "HTTPSConnectionPool(host='trends.google.com', port=443): Max retries exceeded with url: /trends/api/explore?hl=En-US&tz=0&req=%7B%22comparisonItem%22%3A+%5B%7B%22keyword%22%3A+%22la+diarrh%5Cu00e9e%22%2C+%22time%22%3A+%222017-03-09T00+2017-03-16T00%22%2C+%22geo%22%3A+%22FR-B%22%7D%2C+%7B%22keyword%22%3A+%22%2Fm%2F0dlj68y%22%2C+%22time%22%3A+%222017-03-09T00+2017-03-16T00%22%2C+%22geo%22%3A+%22FR-B%22%7D%5D%2C+%22category%22%3A+0%2C+%22property%22%3A+%22%22%7D (Caused by NewConnectionError('<requests.packages.urllib3.connection.VerifiedHTTPSConnection object at 0x0000021DB2D366D8>: Failed to establish a new connection: [Errno 11001] getaddrinfo failed',))\n",
      "HTTPSConnectionPool(host='trends.google.com', port=443): Max retries exceeded with url: /trends/api/explore?hl=En-US&tz=0&req=%7B%22comparisonItem%22%3A+%5B%7B%22keyword%22%3A+%22la+diarrh%5Cu00e9e%22%2C+%22time%22%3A+%222017-03-16T00+2017-03-23T00%22%2C+%22geo%22%3A+%22FR-B%22%7D%2C+%7B%22keyword%22%3A+%22%2Fm%2F0dlj68y%22%2C+%22time%22%3A+%222017-03-16T00+2017-03-23T00%22%2C+%22geo%22%3A+%22FR-B%22%7D%5D%2C+%22category%22%3A+0%2C+%22property%22%3A+%22%22%7D (Caused by NewConnectionError('<requests.packages.urllib3.connection.VerifiedHTTPSConnection object at 0x0000021DB2D360B8>: Failed to establish a new connection: [Errno 11001] getaddrinfo failed',))\n"
     ]
    },
    {
     "name": "stdout",
     "output_type": "stream",
     "text": [
      "HTTPSConnectionPool(host='trends.google.com', port=443): Max retries exceeded with url: /trends/api/explore?hl=En-US&tz=0&req=%7B%22comparisonItem%22%3A+%5B%7B%22keyword%22%3A+%22la+diarrh%5Cu00e9e%22%2C+%22time%22%3A+%222017-03-23T00+2017-03-30T00%22%2C+%22geo%22%3A+%22FR-B%22%7D%2C+%7B%22keyword%22%3A+%22%2Fm%2F0dlj68y%22%2C+%22time%22%3A+%222017-03-23T00+2017-03-30T00%22%2C+%22geo%22%3A+%22FR-B%22%7D%5D%2C+%22category%22%3A+0%2C+%22property%22%3A+%22%22%7D (Caused by NewConnectionError('<requests.packages.urllib3.connection.VerifiedHTTPSConnection object at 0x0000021DB2D36D30>: Failed to establish a new connection: [Errno 11001] getaddrinfo failed',))\n",
      "HTTPSConnectionPool(host='trends.google.com', port=443): Max retries exceeded with url: /trends/api/explore?hl=En-US&tz=0&req=%7B%22comparisonItem%22%3A+%5B%7B%22keyword%22%3A+%22la+diarrh%5Cu00e9e%22%2C+%22time%22%3A+%222017-03-30T00+2017-04-06T00%22%2C+%22geo%22%3A+%22FR-B%22%7D%2C+%7B%22keyword%22%3A+%22%2Fm%2F0dlj68y%22%2C+%22time%22%3A+%222017-03-30T00+2017-04-06T00%22%2C+%22geo%22%3A+%22FR-B%22%7D%5D%2C+%22category%22%3A+0%2C+%22property%22%3A+%22%22%7D (Caused by NewConnectionError('<requests.packages.urllib3.connection.VerifiedHTTPSConnection object at 0x0000021DB2D360B8>: Failed to establish a new connection: [Errno 11001] getaddrinfo failed',))\n",
      "HTTPSConnectionPool(host='trends.google.com', port=443): Max retries exceeded with url: /trends/api/explore?hl=En-US&tz=0&req=%7B%22comparisonItem%22%3A+%5B%7B%22keyword%22%3A+%22la+diarrh%5Cu00e9e%22%2C+%22time%22%3A+%222017-04-06T00+2017-04-13T00%22%2C+%22geo%22%3A+%22FR-B%22%7D%2C+%7B%22keyword%22%3A+%22%2Fm%2F0dlj68y%22%2C+%22time%22%3A+%222017-04-06T00+2017-04-13T00%22%2C+%22geo%22%3A+%22FR-B%22%7D%5D%2C+%22category%22%3A+0%2C+%22property%22%3A+%22%22%7D (Caused by NewConnectionError('<requests.packages.urllib3.connection.VerifiedHTTPSConnection object at 0x0000021DB2D36588>: Failed to establish a new connection: [Errno 11001] getaddrinfo failed',))\n",
      "HTTPSConnectionPool(host='trends.google.com', port=443): Max retries exceeded with url: /trends/api/explore?hl=En-US&tz=0&req=%7B%22comparisonItem%22%3A+%5B%7B%22keyword%22%3A+%22la+diarrh%5Cu00e9e%22%2C+%22time%22%3A+%222017-04-13T00+2017-04-20T00%22%2C+%22geo%22%3A+%22FR-B%22%7D%2C+%7B%22keyword%22%3A+%22%2Fm%2F0dlj68y%22%2C+%22time%22%3A+%222017-04-13T00+2017-04-20T00%22%2C+%22geo%22%3A+%22FR-B%22%7D%5D%2C+%22category%22%3A+0%2C+%22property%22%3A+%22%22%7D (Caused by NewConnectionError('<requests.packages.urllib3.connection.VerifiedHTTPSConnection object at 0x0000021DB2D36B38>: Failed to establish a new connection: [Errno 11001] getaddrinfo failed',))\n",
      "HTTPSConnectionPool(host='trends.google.com', port=443): Max retries exceeded with url: /trends/api/explore?hl=En-US&tz=0&req=%7B%22comparisonItem%22%3A+%5B%7B%22keyword%22%3A+%22la+diarrh%5Cu00e9e%22%2C+%22time%22%3A+%222017-04-20T00+2017-04-27T00%22%2C+%22geo%22%3A+%22FR-B%22%7D%2C+%7B%22keyword%22%3A+%22%2Fm%2F0dlj68y%22%2C+%22time%22%3A+%222017-04-20T00+2017-04-27T00%22%2C+%22geo%22%3A+%22FR-B%22%7D%5D%2C+%22category%22%3A+0%2C+%22property%22%3A+%22%22%7D (Caused by NewConnectionError('<requests.packages.urllib3.connection.VerifiedHTTPSConnection object at 0x0000021DB2D36898>: Failed to establish a new connection: [Errno 11001] getaddrinfo failed',))\n",
      "HTTPSConnectionPool(host='trends.google.com', port=443): Max retries exceeded with url: /trends/api/explore?hl=En-US&tz=0&req=%7B%22comparisonItem%22%3A+%5B%7B%22keyword%22%3A+%22la+diarrh%5Cu00e9e%22%2C+%22time%22%3A+%222017-04-27T00+2017-05-04T00%22%2C+%22geo%22%3A+%22FR-B%22%7D%2C+%7B%22keyword%22%3A+%22%2Fm%2F0dlj68y%22%2C+%22time%22%3A+%222017-04-27T00+2017-05-04T00%22%2C+%22geo%22%3A+%22FR-B%22%7D%5D%2C+%22category%22%3A+0%2C+%22property%22%3A+%22%22%7D (Caused by NewConnectionError('<requests.packages.urllib3.connection.VerifiedHTTPSConnection object at 0x0000021DB2D369B0>: Failed to establish a new connection: [Errno 11001] getaddrinfo failed',))\n",
      "HTTPSConnectionPool(host='trends.google.com', port=443): Max retries exceeded with url: /trends/api/explore?hl=En-US&tz=0&req=%7B%22comparisonItem%22%3A+%5B%7B%22keyword%22%3A+%22la+diarrh%5Cu00e9e%22%2C+%22time%22%3A+%222017-05-04T00+2017-05-11T00%22%2C+%22geo%22%3A+%22FR-B%22%7D%2C+%7B%22keyword%22%3A+%22%2Fm%2F0dlj68y%22%2C+%22time%22%3A+%222017-05-04T00+2017-05-11T00%22%2C+%22geo%22%3A+%22FR-B%22%7D%5D%2C+%22category%22%3A+0%2C+%22property%22%3A+%22%22%7D (Caused by NewConnectionError('<requests.packages.urllib3.connection.VerifiedHTTPSConnection object at 0x0000021DB2D36D30>: Failed to establish a new connection: [Errno 11001] getaddrinfo failed',))\n",
      "HTTPSConnectionPool(host='trends.google.com', port=443): Max retries exceeded with url: /trends/api/explore?hl=En-US&tz=0&req=%7B%22comparisonItem%22%3A+%5B%7B%22keyword%22%3A+%22la+diarrh%5Cu00e9e%22%2C+%22time%22%3A+%222017-05-11T00+2017-05-18T00%22%2C+%22geo%22%3A+%22FR-B%22%7D%2C+%7B%22keyword%22%3A+%22%2Fm%2F0dlj68y%22%2C+%22time%22%3A+%222017-05-11T00+2017-05-18T00%22%2C+%22geo%22%3A+%22FR-B%22%7D%5D%2C+%22category%22%3A+0%2C+%22property%22%3A+%22%22%7D (Caused by NewConnectionError('<requests.packages.urllib3.connection.VerifiedHTTPSConnection object at 0x0000021DB2D366D8>: Failed to establish a new connection: [Errno 11001] getaddrinfo failed',))\n",
      "HTTPSConnectionPool(host='trends.google.com', port=443): Max retries exceeded with url: /trends/api/explore?hl=En-US&tz=0&req=%7B%22comparisonItem%22%3A+%5B%7B%22keyword%22%3A+%22la+diarrh%5Cu00e9e%22%2C+%22time%22%3A+%222017-05-18T00+2017-05-25T00%22%2C+%22geo%22%3A+%22FR-B%22%7D%2C+%7B%22keyword%22%3A+%22%2Fm%2F0dlj68y%22%2C+%22time%22%3A+%222017-05-18T00+2017-05-25T00%22%2C+%22geo%22%3A+%22FR-B%22%7D%5D%2C+%22category%22%3A+0%2C+%22property%22%3A+%22%22%7D (Caused by NewConnectionError('<requests.packages.urllib3.connection.VerifiedHTTPSConnection object at 0x0000021DB2D360B8>: Failed to establish a new connection: [Errno 11001] getaddrinfo failed',))\n",
      "HTTPSConnectionPool(host='trends.google.com', port=443): Max retries exceeded with url: /trends/api/explore?hl=En-US&tz=0&req=%7B%22comparisonItem%22%3A+%5B%7B%22keyword%22%3A+%22la+diarrh%5Cu00e9e%22%2C+%22time%22%3A+%222017-05-25T00+2017-06-01T00%22%2C+%22geo%22%3A+%22FR-B%22%7D%2C+%7B%22keyword%22%3A+%22%2Fm%2F0dlj68y%22%2C+%22time%22%3A+%222017-05-25T00+2017-06-01T00%22%2C+%22geo%22%3A+%22FR-B%22%7D%5D%2C+%22category%22%3A+0%2C+%22property%22%3A+%22%22%7D (Caused by NewConnectionError('<requests.packages.urllib3.connection.VerifiedHTTPSConnection object at 0x0000021DB2D366D8>: Failed to establish a new connection: [Errno 11001] getaddrinfo failed',))\n",
      "HTTPSConnectionPool(host='trends.google.com', port=443): Max retries exceeded with url: /trends/api/explore?hl=En-US&tz=0&req=%7B%22comparisonItem%22%3A+%5B%7B%22keyword%22%3A+%22la+diarrh%5Cu00e9e%22%2C+%22time%22%3A+%222017-06-01T00+2017-06-08T00%22%2C+%22geo%22%3A+%22FR-B%22%7D%2C+%7B%22keyword%22%3A+%22%2Fm%2F0dlj68y%22%2C+%22time%22%3A+%222017-06-01T00+2017-06-08T00%22%2C+%22geo%22%3A+%22FR-B%22%7D%5D%2C+%22category%22%3A+0%2C+%22property%22%3A+%22%22%7D (Caused by NewConnectionError('<requests.packages.urllib3.connection.VerifiedHTTPSConnection object at 0x0000021DB2D369B0>: Failed to establish a new connection: [Errno 11001] getaddrinfo failed',))\n",
      "HTTPSConnectionPool(host='trends.google.com', port=443): Max retries exceeded with url: /trends/api/explore?hl=En-US&tz=0&req=%7B%22comparisonItem%22%3A+%5B%7B%22keyword%22%3A+%22la+diarrh%5Cu00e9e%22%2C+%22time%22%3A+%222017-06-08T00+2017-06-15T00%22%2C+%22geo%22%3A+%22FR-B%22%7D%2C+%7B%22keyword%22%3A+%22%2Fm%2F0dlj68y%22%2C+%22time%22%3A+%222017-06-08T00+2017-06-15T00%22%2C+%22geo%22%3A+%22FR-B%22%7D%5D%2C+%22category%22%3A+0%2C+%22property%22%3A+%22%22%7D (Caused by NewConnectionError('<requests.packages.urllib3.connection.VerifiedHTTPSConnection object at 0x0000021DB2D36D30>: Failed to establish a new connection: [Errno 11001] getaddrinfo failed',))\n",
      "HTTPSConnectionPool(host='trends.google.com', port=443): Max retries exceeded with url: /trends/api/explore?hl=En-US&tz=0&req=%7B%22comparisonItem%22%3A+%5B%7B%22keyword%22%3A+%22la+diarrh%5Cu00e9e%22%2C+%22time%22%3A+%222017-06-15T00+2017-06-22T00%22%2C+%22geo%22%3A+%22FR-B%22%7D%2C+%7B%22keyword%22%3A+%22%2Fm%2F0dlj68y%22%2C+%22time%22%3A+%222017-06-15T00+2017-06-22T00%22%2C+%22geo%22%3A+%22FR-B%22%7D%5D%2C+%22category%22%3A+0%2C+%22property%22%3A+%22%22%7D (Caused by NewConnectionError('<requests.packages.urllib3.connection.VerifiedHTTPSConnection object at 0x0000021DB4372AC8>: Failed to establish a new connection: [Errno 11001] getaddrinfo failed',))\n",
      "HTTPSConnectionPool(host='trends.google.com', port=443): Max retries exceeded with url: /trends/api/explore?hl=En-US&tz=0&req=%7B%22comparisonItem%22%3A+%5B%7B%22keyword%22%3A+%22la+diarrh%5Cu00e9e%22%2C+%22time%22%3A+%222017-06-22T00+2017-06-29T00%22%2C+%22geo%22%3A+%22FR-B%22%7D%2C+%7B%22keyword%22%3A+%22%2Fm%2F0dlj68y%22%2C+%22time%22%3A+%222017-06-22T00+2017-06-29T00%22%2C+%22geo%22%3A+%22FR-B%22%7D%5D%2C+%22category%22%3A+0%2C+%22property%22%3A+%22%22%7D (Caused by NewConnectionError('<requests.packages.urllib3.connection.VerifiedHTTPSConnection object at 0x0000021DB43725F8>: Failed to establish a new connection: [Errno 11001] getaddrinfo failed',))\n",
      "HTTPSConnectionPool(host='trends.google.com', port=443): Max retries exceeded with url: /trends/api/explore?hl=En-US&tz=0&req=%7B%22comparisonItem%22%3A+%5B%7B%22keyword%22%3A+%22la+diarrh%5Cu00e9e%22%2C+%22time%22%3A+%222017-06-29T00+2017-07-06T00%22%2C+%22geo%22%3A+%22FR-B%22%7D%2C+%7B%22keyword%22%3A+%22%2Fm%2F0dlj68y%22%2C+%22time%22%3A+%222017-06-29T00+2017-07-06T00%22%2C+%22geo%22%3A+%22FR-B%22%7D%5D%2C+%22category%22%3A+0%2C+%22property%22%3A+%22%22%7D (Caused by NewConnectionError('<requests.packages.urllib3.connection.VerifiedHTTPSConnection object at 0x0000021DB4372DD8>: Failed to establish a new connection: [Errno 11001] getaddrinfo failed',))\n",
      "HTTPSConnectionPool(host='trends.google.com', port=443): Max retries exceeded with url: /trends/api/explore?hl=En-US&tz=0&req=%7B%22comparisonItem%22%3A+%5B%7B%22keyword%22%3A+%22la+diarrh%5Cu00e9e%22%2C+%22time%22%3A+%222017-07-06T00+2017-07-13T00%22%2C+%22geo%22%3A+%22FR-B%22%7D%2C+%7B%22keyword%22%3A+%22%2Fm%2F0dlj68y%22%2C+%22time%22%3A+%222017-07-06T00+2017-07-13T00%22%2C+%22geo%22%3A+%22FR-B%22%7D%5D%2C+%22category%22%3A+0%2C+%22property%22%3A+%22%22%7D (Caused by NewConnectionError('<requests.packages.urllib3.connection.VerifiedHTTPSConnection object at 0x0000021DB4372B00>: Failed to establish a new connection: [Errno 11001] getaddrinfo failed',))\n",
      "HTTPSConnectionPool(host='trends.google.com', port=443): Max retries exceeded with url: /trends/api/explore?hl=En-US&tz=0&req=%7B%22comparisonItem%22%3A+%5B%7B%22keyword%22%3A+%22la+diarrh%5Cu00e9e%22%2C+%22time%22%3A+%222017-07-13T00+2017-07-20T00%22%2C+%22geo%22%3A+%22FR-B%22%7D%2C+%7B%22keyword%22%3A+%22%2Fm%2F0dlj68y%22%2C+%22time%22%3A+%222017-07-13T00+2017-07-20T00%22%2C+%22geo%22%3A+%22FR-B%22%7D%5D%2C+%22category%22%3A+0%2C+%22property%22%3A+%22%22%7D (Caused by NewConnectionError('<requests.packages.urllib3.connection.VerifiedHTTPSConnection object at 0x0000021DB2D36198>: Failed to establish a new connection: [Errno 11001] getaddrinfo failed',))\n",
      "HTTPSConnectionPool(host='trends.google.com', port=443): Max retries exceeded with url: /trends/api/explore?hl=En-US&tz=0&req=%7B%22comparisonItem%22%3A+%5B%7B%22keyword%22%3A+%22la+diarrh%5Cu00e9e%22%2C+%22time%22%3A+%222017-07-20T00+2017-07-27T00%22%2C+%22geo%22%3A+%22FR-B%22%7D%2C+%7B%22keyword%22%3A+%22%2Fm%2F0dlj68y%22%2C+%22time%22%3A+%222017-07-20T00+2017-07-27T00%22%2C+%22geo%22%3A+%22FR-B%22%7D%5D%2C+%22category%22%3A+0%2C+%22property%22%3A+%22%22%7D (Caused by NewConnectionError('<requests.packages.urllib3.connection.VerifiedHTTPSConnection object at 0x0000021DB2D3AEF0>: Failed to establish a new connection: [Errno 11001] getaddrinfo failed',))\n"
     ]
    },
    {
     "name": "stdout",
     "output_type": "stream",
     "text": [
      "HTTPSConnectionPool(host='trends.google.com', port=443): Max retries exceeded with url: /trends/api/explore?hl=En-US&tz=0&req=%7B%22comparisonItem%22%3A+%5B%7B%22keyword%22%3A+%22la+diarrh%5Cu00e9e%22%2C+%22time%22%3A+%222017-07-27T00+2017-08-03T00%22%2C+%22geo%22%3A+%22FR-B%22%7D%2C+%7B%22keyword%22%3A+%22%2Fm%2F0dlj68y%22%2C+%22time%22%3A+%222017-07-27T00+2017-08-03T00%22%2C+%22geo%22%3A+%22FR-B%22%7D%5D%2C+%22category%22%3A+0%2C+%22property%22%3A+%22%22%7D (Caused by NewConnectionError('<requests.packages.urllib3.connection.VerifiedHTTPSConnection object at 0x0000021DB2D36160>: Failed to establish a new connection: [Errno 11001] getaddrinfo failed',))\n",
      "HTTPSConnectionPool(host='trends.google.com', port=443): Max retries exceeded with url: /trends/api/explore?hl=En-US&tz=0&req=%7B%22comparisonItem%22%3A+%5B%7B%22keyword%22%3A+%22la+diarrh%5Cu00e9e%22%2C+%22time%22%3A+%222017-08-03T00+2017-08-10T00%22%2C+%22geo%22%3A+%22FR-B%22%7D%2C+%7B%22keyword%22%3A+%22%2Fm%2F0dlj68y%22%2C+%22time%22%3A+%222017-08-03T00+2017-08-10T00%22%2C+%22geo%22%3A+%22FR-B%22%7D%5D%2C+%22category%22%3A+0%2C+%22property%22%3A+%22%22%7D (Caused by NewConnectionError('<requests.packages.urllib3.connection.VerifiedHTTPSConnection object at 0x0000021DB2D3ADD8>: Failed to establish a new connection: [Errno 11001] getaddrinfo failed',))\n",
      "HTTPSConnectionPool(host='trends.google.com', port=443): Max retries exceeded with url: /trends/api/explore?hl=En-US&tz=0&req=%7B%22comparisonItem%22%3A+%5B%7B%22keyword%22%3A+%22la+diarrh%5Cu00e9e%22%2C+%22time%22%3A+%222017-08-10T00+2017-08-17T00%22%2C+%22geo%22%3A+%22FR-B%22%7D%2C+%7B%22keyword%22%3A+%22%2Fm%2F0dlj68y%22%2C+%22time%22%3A+%222017-08-10T00+2017-08-17T00%22%2C+%22geo%22%3A+%22FR-B%22%7D%5D%2C+%22category%22%3A+0%2C+%22property%22%3A+%22%22%7D (Caused by NewConnectionError('<requests.packages.urllib3.connection.VerifiedHTTPSConnection object at 0x0000021DB2D3A6D8>: Failed to establish a new connection: [Errno 11001] getaddrinfo failed',))\n",
      "HTTPSConnectionPool(host='trends.google.com', port=443): Max retries exceeded with url: /trends/api/explore?hl=En-US&tz=0&req=%7B%22comparisonItem%22%3A+%5B%7B%22keyword%22%3A+%22la+diarrh%5Cu00e9e%22%2C+%22time%22%3A+%222017-08-17T00+2017-08-24T00%22%2C+%22geo%22%3A+%22FR-B%22%7D%2C+%7B%22keyword%22%3A+%22%2Fm%2F0dlj68y%22%2C+%22time%22%3A+%222017-08-17T00+2017-08-24T00%22%2C+%22geo%22%3A+%22FR-B%22%7D%5D%2C+%22category%22%3A+0%2C+%22property%22%3A+%22%22%7D (Caused by NewConnectionError('<requests.packages.urllib3.connection.VerifiedHTTPSConnection object at 0x0000021DB2D3A048>: Failed to establish a new connection: [Errno 11001] getaddrinfo failed',))\n",
      "HTTPSConnectionPool(host='trends.google.com', port=443): Max retries exceeded with url: /trends/api/explore?hl=En-US&tz=0&req=%7B%22comparisonItem%22%3A+%5B%7B%22keyword%22%3A+%22la+diarrh%5Cu00e9e%22%2C+%22time%22%3A+%222017-08-24T00+2017-08-31T00%22%2C+%22geo%22%3A+%22FR-B%22%7D%2C+%7B%22keyword%22%3A+%22%2Fm%2F0dlj68y%22%2C+%22time%22%3A+%222017-08-24T00+2017-08-31T00%22%2C+%22geo%22%3A+%22FR-B%22%7D%5D%2C+%22category%22%3A+0%2C+%22property%22%3A+%22%22%7D (Caused by NewConnectionError('<requests.packages.urllib3.connection.VerifiedHTTPSConnection object at 0x0000021DB2D3ADA0>: Failed to establish a new connection: [Errno 11001] getaddrinfo failed',))\n",
      "HTTPSConnectionPool(host='trends.google.com', port=443): Max retries exceeded with url: /trends/api/explore?hl=En-US&tz=0&req=%7B%22comparisonItem%22%3A+%5B%7B%22keyword%22%3A+%22la+diarrh%5Cu00e9e%22%2C+%22time%22%3A+%222017-08-31T00+2017-09-07T00%22%2C+%22geo%22%3A+%22FR-B%22%7D%2C+%7B%22keyword%22%3A+%22%2Fm%2F0dlj68y%22%2C+%22time%22%3A+%222017-08-31T00+2017-09-07T00%22%2C+%22geo%22%3A+%22FR-B%22%7D%5D%2C+%22category%22%3A+0%2C+%22property%22%3A+%22%22%7D (Caused by NewConnectionError('<requests.packages.urllib3.connection.VerifiedHTTPSConnection object at 0x0000021DB2D3A470>: Failed to establish a new connection: [Errno 11001] getaddrinfo failed',))\n",
      "HTTPSConnectionPool(host='trends.google.com', port=443): Max retries exceeded with url: /trends/api/explore?hl=En-US&tz=0&req=%7B%22comparisonItem%22%3A+%5B%7B%22keyword%22%3A+%22la+diarrh%5Cu00e9e%22%2C+%22time%22%3A+%222017-09-07T00+2017-09-14T00%22%2C+%22geo%22%3A+%22FR-B%22%7D%2C+%7B%22keyword%22%3A+%22%2Fm%2F0dlj68y%22%2C+%22time%22%3A+%222017-09-07T00+2017-09-14T00%22%2C+%22geo%22%3A+%22FR-B%22%7D%5D%2C+%22category%22%3A+0%2C+%22property%22%3A+%22%22%7D (Caused by NewConnectionError('<requests.packages.urllib3.connection.VerifiedHTTPSConnection object at 0x0000021DB2D3A898>: Failed to establish a new connection: [Errno 11001] getaddrinfo failed',))\n",
      "HTTPSConnectionPool(host='trends.google.com', port=443): Max retries exceeded with url: /trends/api/explore?hl=En-US&tz=0&req=%7B%22comparisonItem%22%3A+%5B%7B%22keyword%22%3A+%22la+diarrh%5Cu00e9e%22%2C+%22time%22%3A+%222017-09-14T00+2017-09-21T00%22%2C+%22geo%22%3A+%22FR-B%22%7D%2C+%7B%22keyword%22%3A+%22%2Fm%2F0dlj68y%22%2C+%22time%22%3A+%222017-09-14T00+2017-09-21T00%22%2C+%22geo%22%3A+%22FR-B%22%7D%5D%2C+%22category%22%3A+0%2C+%22property%22%3A+%22%22%7D (Caused by NewConnectionError('<requests.packages.urllib3.connection.VerifiedHTTPSConnection object at 0x0000021DB2D3ADA0>: Failed to establish a new connection: [Errno 11001] getaddrinfo failed',))\n",
      "HTTPSConnectionPool(host='trends.google.com', port=443): Max retries exceeded with url: /trends/api/explore?hl=En-US&tz=0&req=%7B%22comparisonItem%22%3A+%5B%7B%22keyword%22%3A+%22la+diarrh%5Cu00e9e%22%2C+%22time%22%3A+%222017-09-21T00+2017-09-28T00%22%2C+%22geo%22%3A+%22FR-B%22%7D%2C+%7B%22keyword%22%3A+%22%2Fm%2F0dlj68y%22%2C+%22time%22%3A+%222017-09-21T00+2017-09-28T00%22%2C+%22geo%22%3A+%22FR-B%22%7D%5D%2C+%22category%22%3A+0%2C+%22property%22%3A+%22%22%7D (Caused by NewConnectionError('<requests.packages.urllib3.connection.VerifiedHTTPSConnection object at 0x0000021DB2D3A6D8>: Failed to establish a new connection: [Errno 11001] getaddrinfo failed',))\n",
      "HTTPSConnectionPool(host='trends.google.com', port=443): Max retries exceeded with url: /trends/api/explore?hl=En-US&tz=0&req=%7B%22comparisonItem%22%3A+%5B%7B%22keyword%22%3A+%22la+diarrh%5Cu00e9e%22%2C+%22time%22%3A+%222017-09-28T00+2017-10-05T00%22%2C+%22geo%22%3A+%22FR-B%22%7D%2C+%7B%22keyword%22%3A+%22%2Fm%2F0dlj68y%22%2C+%22time%22%3A+%222017-09-28T00+2017-10-05T00%22%2C+%22geo%22%3A+%22FR-B%22%7D%5D%2C+%22category%22%3A+0%2C+%22property%22%3A+%22%22%7D (Caused by NewConnectionError('<requests.packages.urllib3.connection.VerifiedHTTPSConnection object at 0x0000021DB2D3AEF0>: Failed to establish a new connection: [Errno 11001] getaddrinfo failed',))\n",
      "HTTPSConnectionPool(host='trends.google.com', port=443): Max retries exceeded with url: /trends/api/explore?hl=En-US&tz=0&req=%7B%22comparisonItem%22%3A+%5B%7B%22keyword%22%3A+%22la+diarrh%5Cu00e9e%22%2C+%22time%22%3A+%222017-10-05T00+2017-10-12T00%22%2C+%22geo%22%3A+%22FR-B%22%7D%2C+%7B%22keyword%22%3A+%22%2Fm%2F0dlj68y%22%2C+%22time%22%3A+%222017-10-05T00+2017-10-12T00%22%2C+%22geo%22%3A+%22FR-B%22%7D%5D%2C+%22category%22%3A+0%2C+%22property%22%3A+%22%22%7D (Caused by NewConnectionError('<requests.packages.urllib3.connection.VerifiedHTTPSConnection object at 0x0000021DB2D3A898>: Failed to establish a new connection: [Errno 11001] getaddrinfo failed',))\n",
      "HTTPSConnectionPool(host='trends.google.com', port=443): Max retries exceeded with url: /trends/api/explore?hl=En-US&tz=0&req=%7B%22comparisonItem%22%3A+%5B%7B%22keyword%22%3A+%22la+diarrh%5Cu00e9e%22%2C+%22time%22%3A+%222017-10-12T00+2017-10-19T00%22%2C+%22geo%22%3A+%22FR-B%22%7D%2C+%7B%22keyword%22%3A+%22%2Fm%2F0dlj68y%22%2C+%22time%22%3A+%222017-10-12T00+2017-10-19T00%22%2C+%22geo%22%3A+%22FR-B%22%7D%5D%2C+%22category%22%3A+0%2C+%22property%22%3A+%22%22%7D (Caused by NewConnectionError('<requests.packages.urllib3.connection.VerifiedHTTPSConnection object at 0x0000021DB2D3A6D8>: Failed to establish a new connection: [Errno 11001] getaddrinfo failed',))\n",
      "HTTPSConnectionPool(host='trends.google.com', port=443): Max retries exceeded with url: /trends/api/explore?hl=En-US&tz=0&req=%7B%22comparisonItem%22%3A+%5B%7B%22keyword%22%3A+%22la+diarrh%5Cu00e9e%22%2C+%22time%22%3A+%222017-10-19T00+2017-10-26T00%22%2C+%22geo%22%3A+%22FR-B%22%7D%2C+%7B%22keyword%22%3A+%22%2Fm%2F0dlj68y%22%2C+%22time%22%3A+%222017-10-19T00+2017-10-26T00%22%2C+%22geo%22%3A+%22FR-B%22%7D%5D%2C+%22category%22%3A+0%2C+%22property%22%3A+%22%22%7D (Caused by NewConnectionError('<requests.packages.urllib3.connection.VerifiedHTTPSConnection object at 0x0000021DB2D3AEF0>: Failed to establish a new connection: [Errno 11001] getaddrinfo failed',))\n",
      "HTTPSConnectionPool(host='trends.google.com', port=443): Max retries exceeded with url: /trends/api/explore?hl=En-US&tz=0&req=%7B%22comparisonItem%22%3A+%5B%7B%22keyword%22%3A+%22la+diarrh%5Cu00e9e%22%2C+%22time%22%3A+%222017-10-26T00+2017-11-02T00%22%2C+%22geo%22%3A+%22FR-B%22%7D%2C+%7B%22keyword%22%3A+%22%2Fm%2F0dlj68y%22%2C+%22time%22%3A+%222017-10-26T00+2017-11-02T00%22%2C+%22geo%22%3A+%22FR-B%22%7D%5D%2C+%22category%22%3A+0%2C+%22property%22%3A+%22%22%7D (Caused by NewConnectionError('<requests.packages.urllib3.connection.VerifiedHTTPSConnection object at 0x0000021DB4372898>: Failed to establish a new connection: [Errno 11001] getaddrinfo failed',))\n",
      "HTTPSConnectionPool(host='trends.google.com', port=443): Max retries exceeded with url: /trends/api/explore?hl=En-US&tz=0&req=%7B%22comparisonItem%22%3A+%5B%7B%22keyword%22%3A+%22la+diarrh%5Cu00e9e%22%2C+%22time%22%3A+%222017-11-02T00+2017-11-09T00%22%2C+%22geo%22%3A+%22FR-B%22%7D%2C+%7B%22keyword%22%3A+%22%2Fm%2F0dlj68y%22%2C+%22time%22%3A+%222017-11-02T00+2017-11-09T00%22%2C+%22geo%22%3A+%22FR-B%22%7D%5D%2C+%22category%22%3A+0%2C+%22property%22%3A+%22%22%7D (Caused by NewConnectionError('<requests.packages.urllib3.connection.VerifiedHTTPSConnection object at 0x0000021DB4372908>: Failed to establish a new connection: [Errno 11001] getaddrinfo failed',))\n",
      "HTTPSConnectionPool(host='trends.google.com', port=443): Max retries exceeded with url: /trends/api/explore?hl=En-US&tz=0&req=%7B%22comparisonItem%22%3A+%5B%7B%22keyword%22%3A+%22la+diarrh%5Cu00e9e%22%2C+%22time%22%3A+%222017-11-09T00+2017-11-16T00%22%2C+%22geo%22%3A+%22FR-B%22%7D%2C+%7B%22keyword%22%3A+%22%2Fm%2F0dlj68y%22%2C+%22time%22%3A+%222017-11-09T00+2017-11-16T00%22%2C+%22geo%22%3A+%22FR-B%22%7D%5D%2C+%22category%22%3A+0%2C+%22property%22%3A+%22%22%7D (Caused by NewConnectionError('<requests.packages.urllib3.connection.VerifiedHTTPSConnection object at 0x0000021DB4372B00>: Failed to establish a new connection: [Errno 11001] getaddrinfo failed',))\n",
      "HTTPSConnectionPool(host='trends.google.com', port=443): Max retries exceeded with url: /trends/api/explore?hl=En-US&tz=0&req=%7B%22comparisonItem%22%3A+%5B%7B%22keyword%22%3A+%22la+diarrh%5Cu00e9e%22%2C+%22time%22%3A+%222017-11-16T00+2017-11-23T00%22%2C+%22geo%22%3A+%22FR-B%22%7D%2C+%7B%22keyword%22%3A+%22%2Fm%2F0dlj68y%22%2C+%22time%22%3A+%222017-11-16T00+2017-11-23T00%22%2C+%22geo%22%3A+%22FR-B%22%7D%5D%2C+%22category%22%3A+0%2C+%22property%22%3A+%22%22%7D (Caused by NewConnectionError('<requests.packages.urllib3.connection.VerifiedHTTPSConnection object at 0x0000021DB4372C18>: Failed to establish a new connection: [Errno 11001] getaddrinfo failed',))\n",
      "HTTPSConnectionPool(host='trends.google.com', port=443): Max retries exceeded with url: /trends/api/explore?hl=En-US&tz=0&req=%7B%22comparisonItem%22%3A+%5B%7B%22keyword%22%3A+%22la+diarrh%5Cu00e9e%22%2C+%22time%22%3A+%222017-11-23T00+2017-11-30T00%22%2C+%22geo%22%3A+%22FR-B%22%7D%2C+%7B%22keyword%22%3A+%22%2Fm%2F0dlj68y%22%2C+%22time%22%3A+%222017-11-23T00+2017-11-30T00%22%2C+%22geo%22%3A+%22FR-B%22%7D%5D%2C+%22category%22%3A+0%2C+%22property%22%3A+%22%22%7D (Caused by NewConnectionError('<requests.packages.urllib3.connection.VerifiedHTTPSConnection object at 0x0000021DB2D3ADA0>: Failed to establish a new connection: [Errno 11001] getaddrinfo failed',))\n",
      "HTTPSConnectionPool(host='trends.google.com', port=443): Max retries exceeded with url: /trends/api/explore?hl=En-US&tz=0&req=%7B%22comparisonItem%22%3A+%5B%7B%22keyword%22%3A+%22la+diarrh%5Cu00e9e%22%2C+%22time%22%3A+%222017-11-30T00+2017-12-07T00%22%2C+%22geo%22%3A+%22FR-B%22%7D%2C+%7B%22keyword%22%3A+%22%2Fm%2F0dlj68y%22%2C+%22time%22%3A+%222017-11-30T00+2017-12-07T00%22%2C+%22geo%22%3A+%22FR-B%22%7D%5D%2C+%22category%22%3A+0%2C+%22property%22%3A+%22%22%7D (Caused by NewConnectionError('<requests.packages.urllib3.connection.VerifiedHTTPSConnection object at 0x0000021DB2D367F0>: Failed to establish a new connection: [Errno 11001] getaddrinfo failed',))\n"
     ]
    },
    {
     "name": "stdout",
     "output_type": "stream",
     "text": [
      "HTTPSConnectionPool(host='trends.google.com', port=443): Max retries exceeded with url: /trends/api/explore?hl=En-US&tz=0&req=%7B%22comparisonItem%22%3A+%5B%7B%22keyword%22%3A+%22la+diarrh%5Cu00e9e%22%2C+%22time%22%3A+%222017-12-07T00+2017-12-14T00%22%2C+%22geo%22%3A+%22FR-B%22%7D%2C+%7B%22keyword%22%3A+%22%2Fm%2F0dlj68y%22%2C+%22time%22%3A+%222017-12-07T00+2017-12-14T00%22%2C+%22geo%22%3A+%22FR-B%22%7D%5D%2C+%22category%22%3A+0%2C+%22property%22%3A+%22%22%7D (Caused by NewConnectionError('<requests.packages.urllib3.connection.VerifiedHTTPSConnection object at 0x0000021DB2D3A470>: Failed to establish a new connection: [Errno 11001] getaddrinfo failed',))\n",
      "HTTPSConnectionPool(host='trends.google.com', port=443): Max retries exceeded with url: /trends/api/explore?hl=En-US&tz=0&req=%7B%22comparisonItem%22%3A+%5B%7B%22keyword%22%3A+%22la+diarrh%5Cu00e9e%22%2C+%22time%22%3A+%222017-12-14T00+2017-12-21T00%22%2C+%22geo%22%3A+%22FR-B%22%7D%2C+%7B%22keyword%22%3A+%22%2Fm%2F0dlj68y%22%2C+%22time%22%3A+%222017-12-14T00+2017-12-21T00%22%2C+%22geo%22%3A+%22FR-B%22%7D%5D%2C+%22category%22%3A+0%2C+%22property%22%3A+%22%22%7D (Caused by NewConnectionError('<requests.packages.urllib3.connection.VerifiedHTTPSConnection object at 0x0000021DB2D36898>: Failed to establish a new connection: [Errno 11001] getaddrinfo failed',))\n",
      "HTTPSConnectionPool(host='trends.google.com', port=443): Max retries exceeded with url: /trends/api/explore?hl=En-US&tz=0&req=%7B%22comparisonItem%22%3A+%5B%7B%22keyword%22%3A+%22la+diarrh%5Cu00e9e%22%2C+%22time%22%3A+%222017-12-21T00+2017-12-28T00%22%2C+%22geo%22%3A+%22FR-B%22%7D%2C+%7B%22keyword%22%3A+%22%2Fm%2F0dlj68y%22%2C+%22time%22%3A+%222017-12-21T00+2017-12-28T00%22%2C+%22geo%22%3A+%22FR-B%22%7D%5D%2C+%22category%22%3A+0%2C+%22property%22%3A+%22%22%7D (Caused by NewConnectionError('<requests.packages.urllib3.connection.VerifiedHTTPSConnection object at 0x0000021DB2D367F0>: Failed to establish a new connection: [Errno 11001] getaddrinfo failed',))\n",
      "HTTPSConnectionPool(host='trends.google.com', port=443): Max retries exceeded with url: /trends/api/explore?hl=En-US&tz=0&req=%7B%22comparisonItem%22%3A+%5B%7B%22keyword%22%3A+%22la+diarrh%5Cu00e9e%22%2C+%22time%22%3A+%222017-12-28T00+2018-01-04T00%22%2C+%22geo%22%3A+%22FR-B%22%7D%2C+%7B%22keyword%22%3A+%22%2Fm%2F0dlj68y%22%2C+%22time%22%3A+%222017-12-28T00+2018-01-04T00%22%2C+%22geo%22%3A+%22FR-B%22%7D%5D%2C+%22category%22%3A+0%2C+%22property%22%3A+%22%22%7D (Caused by NewConnectionError('<requests.packages.urllib3.connection.VerifiedHTTPSConnection object at 0x0000021DB2D36FD0>: Failed to establish a new connection: [Errno 11001] getaddrinfo failed',))\n",
      "HTTPSConnectionPool(host='trends.google.com', port=443): Max retries exceeded with url: /trends/api/explore?hl=En-US&tz=0&req=%7B%22comparisonItem%22%3A+%5B%7B%22keyword%22%3A+%22la+diarrh%5Cu00e9e%22%2C+%22time%22%3A+%222018-01-04T00+2018-01-11T00%22%2C+%22geo%22%3A+%22FR-B%22%7D%2C+%7B%22keyword%22%3A+%22%2Fm%2F0dlj68y%22%2C+%22time%22%3A+%222018-01-04T00+2018-01-11T00%22%2C+%22geo%22%3A+%22FR-B%22%7D%5D%2C+%22category%22%3A+0%2C+%22property%22%3A+%22%22%7D (Caused by NewConnectionError('<requests.packages.urllib3.connection.VerifiedHTTPSConnection object at 0x0000021DB2D36048>: Failed to establish a new connection: [Errno 11001] getaddrinfo failed',))\n",
      "HTTPSConnectionPool(host='trends.google.com', port=443): Max retries exceeded with url: /trends/api/explore?hl=En-US&tz=0&req=%7B%22comparisonItem%22%3A+%5B%7B%22keyword%22%3A+%22la+diarrh%5Cu00e9e%22%2C+%22time%22%3A+%222018-01-11T00+2018-01-18T00%22%2C+%22geo%22%3A+%22FR-B%22%7D%2C+%7B%22keyword%22%3A+%22%2Fm%2F0dlj68y%22%2C+%22time%22%3A+%222018-01-11T00+2018-01-18T00%22%2C+%22geo%22%3A+%22FR-B%22%7D%5D%2C+%22category%22%3A+0%2C+%22property%22%3A+%22%22%7D (Caused by NewConnectionError('<requests.packages.urllib3.connection.VerifiedHTTPSConnection object at 0x0000021DB2D36390>: Failed to establish a new connection: [Errno 11001] getaddrinfo failed',))\n",
      "HTTPSConnectionPool(host='trends.google.com', port=443): Max retries exceeded with url: /trends/api/explore?hl=En-US&tz=0&req=%7B%22comparisonItem%22%3A+%5B%7B%22keyword%22%3A+%22la+diarrh%5Cu00e9e%22%2C+%22time%22%3A+%222018-01-18T00+2018-01-25T00%22%2C+%22geo%22%3A+%22FR-B%22%7D%2C+%7B%22keyword%22%3A+%22%2Fm%2F0dlj68y%22%2C+%22time%22%3A+%222018-01-18T00+2018-01-25T00%22%2C+%22geo%22%3A+%22FR-B%22%7D%5D%2C+%22category%22%3A+0%2C+%22property%22%3A+%22%22%7D (Caused by NewConnectionError('<requests.packages.urllib3.connection.VerifiedHTTPSConnection object at 0x0000021DB2D36D30>: Failed to establish a new connection: [Errno 11001] getaddrinfo failed',))\n",
      "HTTPSConnectionPool(host='trends.google.com', port=443): Max retries exceeded with url: /trends/api/explore?hl=En-US&tz=0&req=%7B%22comparisonItem%22%3A+%5B%7B%22keyword%22%3A+%22la+diarrh%5Cu00e9e%22%2C+%22time%22%3A+%222018-01-25T00+2018-02-01T00%22%2C+%22geo%22%3A+%22FR-B%22%7D%2C+%7B%22keyword%22%3A+%22%2Fm%2F0dlj68y%22%2C+%22time%22%3A+%222018-01-25T00+2018-02-01T00%22%2C+%22geo%22%3A+%22FR-B%22%7D%5D%2C+%22category%22%3A+0%2C+%22property%22%3A+%22%22%7D (Caused by NewConnectionError('<requests.packages.urllib3.connection.VerifiedHTTPSConnection object at 0x0000021DB2D36DD8>: Failed to establish a new connection: [Errno 11001] getaddrinfo failed',))\n",
      "HTTPSConnectionPool(host='trends.google.com', port=443): Max retries exceeded with url: /trends/api/explore?hl=En-US&tz=0&req=%7B%22comparisonItem%22%3A+%5B%7B%22keyword%22%3A+%22la+diarrh%5Cu00e9e%22%2C+%22time%22%3A+%222018-02-01T00+2018-02-08T00%22%2C+%22geo%22%3A+%22FR-B%22%7D%2C+%7B%22keyword%22%3A+%22%2Fm%2F0dlj68y%22%2C+%22time%22%3A+%222018-02-01T00+2018-02-08T00%22%2C+%22geo%22%3A+%22FR-B%22%7D%5D%2C+%22category%22%3A+0%2C+%22property%22%3A+%22%22%7D (Caused by NewConnectionError('<requests.packages.urllib3.connection.VerifiedHTTPSConnection object at 0x0000021DB2D36160>: Failed to establish a new connection: [Errno 11001] getaddrinfo failed',))\n",
      "HTTPSConnectionPool(host='trends.google.com', port=443): Max retries exceeded with url: /trends/api/explore?hl=En-US&tz=0&req=%7B%22comparisonItem%22%3A+%5B%7B%22keyword%22%3A+%22la+diarrh%5Cu00e9e%22%2C+%22time%22%3A+%222018-02-08T00+2018-02-15T00%22%2C+%22geo%22%3A+%22FR-B%22%7D%2C+%7B%22keyword%22%3A+%22%2Fm%2F0dlj68y%22%2C+%22time%22%3A+%222018-02-08T00+2018-02-15T00%22%2C+%22geo%22%3A+%22FR-B%22%7D%5D%2C+%22category%22%3A+0%2C+%22property%22%3A+%22%22%7D (Caused by NewConnectionError('<requests.packages.urllib3.connection.VerifiedHTTPSConnection object at 0x0000021DB2D360B8>: Failed to establish a new connection: [Errno 11001] getaddrinfo failed',))\n",
      "HTTPSConnectionPool(host='trends.google.com', port=443): Max retries exceeded with url: /trends/api/explore?hl=En-US&tz=0&req=%7B%22comparisonItem%22%3A+%5B%7B%22keyword%22%3A+%22la+diarrh%5Cu00e9e%22%2C+%22time%22%3A+%222018-02-15T00+2018-02-22T00%22%2C+%22geo%22%3A+%22FR-B%22%7D%2C+%7B%22keyword%22%3A+%22%2Fm%2F0dlj68y%22%2C+%22time%22%3A+%222018-02-15T00+2018-02-22T00%22%2C+%22geo%22%3A+%22FR-B%22%7D%5D%2C+%22category%22%3A+0%2C+%22property%22%3A+%22%22%7D (Caused by NewConnectionError('<requests.packages.urllib3.connection.VerifiedHTTPSConnection object at 0x0000021DB2D3AD30>: Failed to establish a new connection: [Errno 11001] getaddrinfo failed',))\n",
      "HTTPSConnectionPool(host='trends.google.com', port=443): Max retries exceeded with url: /trends/api/explore?hl=En-US&tz=0&req=%7B%22comparisonItem%22%3A+%5B%7B%22keyword%22%3A+%22la+diarrh%5Cu00e9e%22%2C+%22time%22%3A+%222018-02-22T00+2018-03-01T00%22%2C+%22geo%22%3A+%22FR-B%22%7D%2C+%7B%22keyword%22%3A+%22%2Fm%2F0dlj68y%22%2C+%22time%22%3A+%222018-02-22T00+2018-03-01T00%22%2C+%22geo%22%3A+%22FR-B%22%7D%5D%2C+%22category%22%3A+0%2C+%22property%22%3A+%22%22%7D (Caused by NewConnectionError('<requests.packages.urllib3.connection.VerifiedHTTPSConnection object at 0x0000021DB2D3ADD8>: Failed to establish a new connection: [Errno 11001] getaddrinfo failed',))\n",
      "HTTPSConnectionPool(host='trends.google.com', port=443): Max retries exceeded with url: /trends/api/explore?hl=En-US&tz=0&req=%7B%22comparisonItem%22%3A+%5B%7B%22keyword%22%3A+%22la+diarrh%5Cu00e9e%22%2C+%22time%22%3A+%222018-03-01T00+2018-03-08T00%22%2C+%22geo%22%3A+%22FR-B%22%7D%2C+%7B%22keyword%22%3A+%22%2Fm%2F0dlj68y%22%2C+%22time%22%3A+%222018-03-01T00+2018-03-08T00%22%2C+%22geo%22%3A+%22FR-B%22%7D%5D%2C+%22category%22%3A+0%2C+%22property%22%3A+%22%22%7D (Caused by NewConnectionError('<requests.packages.urllib3.connection.VerifiedHTTPSConnection object at 0x0000021DB2D3A4E0>: Failed to establish a new connection: [Errno 11001] getaddrinfo failed',))\n",
      "HTTPSConnectionPool(host='trends.google.com', port=443): Max retries exceeded with url: /trends/api/explore?hl=En-US&tz=0&req=%7B%22comparisonItem%22%3A+%5B%7B%22keyword%22%3A+%22la+diarrh%5Cu00e9e%22%2C+%22time%22%3A+%222018-03-08T00+2018-03-15T00%22%2C+%22geo%22%3A+%22FR-B%22%7D%2C+%7B%22keyword%22%3A+%22%2Fm%2F0dlj68y%22%2C+%22time%22%3A+%222018-03-08T00+2018-03-15T00%22%2C+%22geo%22%3A+%22FR-B%22%7D%5D%2C+%22category%22%3A+0%2C+%22property%22%3A+%22%22%7D (Caused by NewConnectionError('<requests.packages.urllib3.connection.VerifiedHTTPSConnection object at 0x0000021DB4372C88>: Failed to establish a new connection: [Errno 11001] getaddrinfo failed',))\n",
      "HTTPSConnectionPool(host='trends.google.com', port=443): Max retries exceeded with url: /trends/api/explore?hl=En-US&tz=0&req=%7B%22comparisonItem%22%3A+%5B%7B%22keyword%22%3A+%22la+diarrh%5Cu00e9e%22%2C+%22time%22%3A+%222018-03-15T00+2018-03-22T00%22%2C+%22geo%22%3A+%22FR-B%22%7D%2C+%7B%22keyword%22%3A+%22%2Fm%2F0dlj68y%22%2C+%22time%22%3A+%222018-03-15T00+2018-03-22T00%22%2C+%22geo%22%3A+%22FR-B%22%7D%5D%2C+%22category%22%3A+0%2C+%22property%22%3A+%22%22%7D (Caused by NewConnectionError('<requests.packages.urllib3.connection.VerifiedHTTPSConnection object at 0x0000021DB4372E48>: Failed to establish a new connection: [Errno 11001] getaddrinfo failed',))\n",
      "HTTPSConnectionPool(host='trends.google.com', port=443): Max retries exceeded with url: /trends/api/explore?hl=En-US&tz=0&req=%7B%22comparisonItem%22%3A+%5B%7B%22keyword%22%3A+%22la+diarrh%5Cu00e9e%22%2C+%22time%22%3A+%222018-03-22T00+2018-03-29T00%22%2C+%22geo%22%3A+%22FR-B%22%7D%2C+%7B%22keyword%22%3A+%22%2Fm%2F0dlj68y%22%2C+%22time%22%3A+%222018-03-22T00+2018-03-29T00%22%2C+%22geo%22%3A+%22FR-B%22%7D%5D%2C+%22category%22%3A+0%2C+%22property%22%3A+%22%22%7D (Caused by NewConnectionError('<requests.packages.urllib3.connection.VerifiedHTTPSConnection object at 0x0000021DB4372C18>: Failed to establish a new connection: [Errno 11001] getaddrinfo failed',))\n",
      "HTTPSConnectionPool(host='trends.google.com', port=443): Max retries exceeded with url: /trends/api/explore?hl=En-US&tz=0&req=%7B%22comparisonItem%22%3A+%5B%7B%22keyword%22%3A+%22la+diarrh%5Cu00e9e%22%2C+%22time%22%3A+%222018-03-29T00+2018-04-05T00%22%2C+%22geo%22%3A+%22FR-B%22%7D%2C+%7B%22keyword%22%3A+%22%2Fm%2F0dlj68y%22%2C+%22time%22%3A+%222018-03-29T00+2018-04-05T00%22%2C+%22geo%22%3A+%22FR-B%22%7D%5D%2C+%22category%22%3A+0%2C+%22property%22%3A+%22%22%7D (Caused by NewConnectionError('<requests.packages.urllib3.connection.VerifiedHTTPSConnection object at 0x0000021DB4372390>: Failed to establish a new connection: [Errno 11001] getaddrinfo failed',))\n",
      "HTTPSConnectionPool(host='trends.google.com', port=443): Max retries exceeded with url: /trends/api/explore?hl=En-US&tz=0&req=%7B%22comparisonItem%22%3A+%5B%7B%22keyword%22%3A+%22la+diarrh%5Cu00e9e%22%2C+%22time%22%3A+%222018-04-05T00+2018-04-12T00%22%2C+%22geo%22%3A+%22FR-B%22%7D%2C+%7B%22keyword%22%3A+%22%2Fm%2F0dlj68y%22%2C+%22time%22%3A+%222018-04-05T00+2018-04-12T00%22%2C+%22geo%22%3A+%22FR-B%22%7D%5D%2C+%22category%22%3A+0%2C+%22property%22%3A+%22%22%7D (Caused by NewConnectionError('<requests.packages.urllib3.connection.VerifiedHTTPSConnection object at 0x0000021DB2D36F98>: Failed to establish a new connection: [Errno 11001] getaddrinfo failed',))\n",
      "HTTPSConnectionPool(host='trends.google.com', port=443): Max retries exceeded with url: /trends/api/explore?hl=En-US&tz=0&req=%7B%22comparisonItem%22%3A+%5B%7B%22keyword%22%3A+%22la+diarrh%5Cu00e9e%22%2C+%22time%22%3A+%222018-04-12T00+2018-04-19T00%22%2C+%22geo%22%3A+%22FR-B%22%7D%2C+%7B%22keyword%22%3A+%22%2Fm%2F0dlj68y%22%2C+%22time%22%3A+%222018-04-12T00+2018-04-19T00%22%2C+%22geo%22%3A+%22FR-B%22%7D%5D%2C+%22category%22%3A+0%2C+%22property%22%3A+%22%22%7D (Caused by NewConnectionError('<requests.packages.urllib3.connection.VerifiedHTTPSConnection object at 0x0000021DB2D3AFD0>: Failed to establish a new connection: [Errno 11001] getaddrinfo failed',))\n",
      "HTTPSConnectionPool(host='trends.google.com', port=443): Max retries exceeded with url: /trends/api/explore?hl=En-US&tz=0&req=%7B%22comparisonItem%22%3A+%5B%7B%22keyword%22%3A+%22la+diarrh%5Cu00e9e%22%2C+%22time%22%3A+%222018-04-19T00+2018-04-26T00%22%2C+%22geo%22%3A+%22FR-B%22%7D%2C+%7B%22keyword%22%3A+%22%2Fm%2F0dlj68y%22%2C+%22time%22%3A+%222018-04-19T00+2018-04-26T00%22%2C+%22geo%22%3A+%22FR-B%22%7D%5D%2C+%22category%22%3A+0%2C+%22property%22%3A+%22%22%7D (Caused by NewConnectionError('<requests.packages.urllib3.connection.VerifiedHTTPSConnection object at 0x0000021DB2D3A400>: Failed to establish a new connection: [Errno 11001] getaddrinfo failed',))\n"
     ]
    },
    {
     "name": "stdout",
     "output_type": "stream",
     "text": [
      "HTTPSConnectionPool(host='trends.google.com', port=443): Max retries exceeded with url: /trends/api/explore?hl=En-US&tz=0&req=%7B%22comparisonItem%22%3A+%5B%7B%22keyword%22%3A+%22la+diarrh%5Cu00e9e%22%2C+%22time%22%3A+%222018-04-26T00+2018-05-03T00%22%2C+%22geo%22%3A+%22FR-B%22%7D%2C+%7B%22keyword%22%3A+%22%2Fm%2F0dlj68y%22%2C+%22time%22%3A+%222018-04-26T00+2018-05-03T00%22%2C+%22geo%22%3A+%22FR-B%22%7D%5D%2C+%22category%22%3A+0%2C+%22property%22%3A+%22%22%7D (Caused by NewConnectionError('<requests.packages.urllib3.connection.VerifiedHTTPSConnection object at 0x0000021DB2D3AEB8>: Failed to establish a new connection: [Errno 11001] getaddrinfo failed',))\n",
      "HTTPSConnectionPool(host='trends.google.com', port=443): Max retries exceeded with url: /trends/api/explore?hl=En-US&tz=0&req=%7B%22comparisonItem%22%3A+%5B%7B%22keyword%22%3A+%22la+diarrh%5Cu00e9e%22%2C+%22time%22%3A+%222018-05-03T00+2018-05-10T00%22%2C+%22geo%22%3A+%22FR-B%22%7D%2C+%7B%22keyword%22%3A+%22%2Fm%2F0dlj68y%22%2C+%22time%22%3A+%222018-05-03T00+2018-05-10T00%22%2C+%22geo%22%3A+%22FR-B%22%7D%5D%2C+%22category%22%3A+0%2C+%22property%22%3A+%22%22%7D (Caused by NewConnectionError('<requests.packages.urllib3.connection.VerifiedHTTPSConnection object at 0x0000021DB2D3A5C0>: Failed to establish a new connection: [Errno 11001] getaddrinfo failed',))\n",
      "HTTPSConnectionPool(host='trends.google.com', port=443): Max retries exceeded with url: /trends/api/explore?hl=En-US&tz=0&req=%7B%22comparisonItem%22%3A+%5B%7B%22keyword%22%3A+%22la+diarrh%5Cu00e9e%22%2C+%22time%22%3A+%222018-05-10T00+2018-05-17T00%22%2C+%22geo%22%3A+%22FR-B%22%7D%2C+%7B%22keyword%22%3A+%22%2Fm%2F0dlj68y%22%2C+%22time%22%3A+%222018-05-10T00+2018-05-17T00%22%2C+%22geo%22%3A+%22FR-B%22%7D%5D%2C+%22category%22%3A+0%2C+%22property%22%3A+%22%22%7D (Caused by NewConnectionError('<requests.packages.urllib3.connection.VerifiedHTTPSConnection object at 0x0000021DB2D3A4E0>: Failed to establish a new connection: [Errno 11001] getaddrinfo failed',))\n",
      "HTTPSConnectionPool(host='trends.google.com', port=443): Max retries exceeded with url: /trends/api/explore?hl=En-US&tz=0&req=%7B%22comparisonItem%22%3A+%5B%7B%22keyword%22%3A+%22la+diarrh%5Cu00e9e%22%2C+%22time%22%3A+%222018-05-17T00+2018-05-24T00%22%2C+%22geo%22%3A+%22FR-B%22%7D%2C+%7B%22keyword%22%3A+%22%2Fm%2F0dlj68y%22%2C+%22time%22%3A+%222018-05-17T00+2018-05-24T00%22%2C+%22geo%22%3A+%22FR-B%22%7D%5D%2C+%22category%22%3A+0%2C+%22property%22%3A+%22%22%7D (Caused by NewConnectionError('<requests.packages.urllib3.connection.VerifiedHTTPSConnection object at 0x0000021DB2D3AAC8>: Failed to establish a new connection: [Errno 11001] getaddrinfo failed',))\n",
      "HTTPSConnectionPool(host='trends.google.com', port=443): Max retries exceeded with url: /trends/api/explore?hl=En-US&tz=0&req=%7B%22comparisonItem%22%3A+%5B%7B%22keyword%22%3A+%22la+diarrh%5Cu00e9e%22%2C+%22time%22%3A+%222018-05-24T00+2018-05-31T00%22%2C+%22geo%22%3A+%22FR-B%22%7D%2C+%7B%22keyword%22%3A+%22%2Fm%2F0dlj68y%22%2C+%22time%22%3A+%222018-05-24T00+2018-05-31T00%22%2C+%22geo%22%3A+%22FR-B%22%7D%5D%2C+%22category%22%3A+0%2C+%22property%22%3A+%22%22%7D (Caused by NewConnectionError('<requests.packages.urllib3.connection.VerifiedHTTPSConnection object at 0x0000021DB2D3A0F0>: Failed to establish a new connection: [Errno 11001] getaddrinfo failed',))\n",
      "HTTPSConnectionPool(host='trends.google.com', port=443): Max retries exceeded with url: /trends/api/explore?hl=En-US&tz=0&req=%7B%22comparisonItem%22%3A+%5B%7B%22keyword%22%3A+%22la+diarrh%5Cu00e9e%22%2C+%22time%22%3A+%222018-05-31T00+2018-06-07T00%22%2C+%22geo%22%3A+%22FR-B%22%7D%2C+%7B%22keyword%22%3A+%22%2Fm%2F0dlj68y%22%2C+%22time%22%3A+%222018-05-31T00+2018-06-07T00%22%2C+%22geo%22%3A+%22FR-B%22%7D%5D%2C+%22category%22%3A+0%2C+%22property%22%3A+%22%22%7D (Caused by NewConnectionError('<requests.packages.urllib3.connection.VerifiedHTTPSConnection object at 0x0000021DB2D3AEB8>: Failed to establish a new connection: [Errno 11001] getaddrinfo failed',))\n",
      "HTTPSConnectionPool(host='trends.google.com', port=443): Max retries exceeded with url: /trends/api/explore?hl=En-US&tz=0&req=%7B%22comparisonItem%22%3A+%5B%7B%22keyword%22%3A+%22la+diarrh%5Cu00e9e%22%2C+%22time%22%3A+%222018-06-07T00+2018-06-14T00%22%2C+%22geo%22%3A+%22FR-B%22%7D%2C+%7B%22keyword%22%3A+%22%2Fm%2F0dlj68y%22%2C+%22time%22%3A+%222018-06-07T00+2018-06-14T00%22%2C+%22geo%22%3A+%22FR-B%22%7D%5D%2C+%22category%22%3A+0%2C+%22property%22%3A+%22%22%7D (Caused by NewConnectionError('<requests.packages.urllib3.connection.VerifiedHTTPSConnection object at 0x0000021DB2D3A898>: Failed to establish a new connection: [Errno 11001] getaddrinfo failed',))\n",
      "HTTPSConnectionPool(host='trends.google.com', port=443): Max retries exceeded with url: /trends/api/explore?hl=En-US&tz=0&req=%7B%22comparisonItem%22%3A+%5B%7B%22keyword%22%3A+%22la+diarrh%5Cu00e9e%22%2C+%22time%22%3A+%222018-06-14T00+2018-06-21T00%22%2C+%22geo%22%3A+%22FR-B%22%7D%2C+%7B%22keyword%22%3A+%22%2Fm%2F0dlj68y%22%2C+%22time%22%3A+%222018-06-14T00+2018-06-21T00%22%2C+%22geo%22%3A+%22FR-B%22%7D%5D%2C+%22category%22%3A+0%2C+%22property%22%3A+%22%22%7D (Caused by NewConnectionError('<requests.packages.urllib3.connection.VerifiedHTTPSConnection object at 0x0000021DB2D3A400>: Failed to establish a new connection: [Errno 11001] getaddrinfo failed',))\n",
      "HTTPSConnectionPool(host='trends.google.com', port=443): Max retries exceeded with url: /trends/api/explore?hl=En-US&tz=0&req=%7B%22comparisonItem%22%3A+%5B%7B%22keyword%22%3A+%22la+diarrh%5Cu00e9e%22%2C+%22time%22%3A+%222018-06-21T00+2018-06-28T00%22%2C+%22geo%22%3A+%22FR-B%22%7D%2C+%7B%22keyword%22%3A+%22%2Fm%2F0dlj68y%22%2C+%22time%22%3A+%222018-06-21T00+2018-06-28T00%22%2C+%22geo%22%3A+%22FR-B%22%7D%5D%2C+%22category%22%3A+0%2C+%22property%22%3A+%22%22%7D (Caused by NewConnectionError('<requests.packages.urllib3.connection.VerifiedHTTPSConnection object at 0x0000021DB2D3A5C0>: Failed to establish a new connection: [Errno 11001] getaddrinfo failed',))\n",
      "HTTPSConnectionPool(host='trends.google.com', port=443): Max retries exceeded with url: /trends/api/explore?hl=En-US&tz=0&req=%7B%22comparisonItem%22%3A+%5B%7B%22keyword%22%3A+%22la+diarrh%5Cu00e9e%22%2C+%22time%22%3A+%222018-06-28T00+2018-07-05T00%22%2C+%22geo%22%3A+%22FR-B%22%7D%2C+%7B%22keyword%22%3A+%22%2Fm%2F0dlj68y%22%2C+%22time%22%3A+%222018-06-28T00+2018-07-05T00%22%2C+%22geo%22%3A+%22FR-B%22%7D%5D%2C+%22category%22%3A+0%2C+%22property%22%3A+%22%22%7D (Caused by NewConnectionError('<requests.packages.urllib3.connection.VerifiedHTTPSConnection object at 0x0000021DB2D3A0F0>: Failed to establish a new connection: [Errno 11001] getaddrinfo failed',))\n",
      "HTTPSConnectionPool(host='trends.google.com', port=443): Max retries exceeded with url: /trends/api/explore?hl=En-US&tz=0&req=%7B%22comparisonItem%22%3A+%5B%7B%22keyword%22%3A+%22la+diarrh%5Cu00e9e%22%2C+%22time%22%3A+%222018-07-05T00+2018-07-12T00%22%2C+%22geo%22%3A+%22FR-B%22%7D%2C+%7B%22keyword%22%3A+%22%2Fm%2F0dlj68y%22%2C+%22time%22%3A+%222018-07-05T00+2018-07-12T00%22%2C+%22geo%22%3A+%22FR-B%22%7D%5D%2C+%22category%22%3A+0%2C+%22property%22%3A+%22%22%7D (Caused by NewConnectionError('<requests.packages.urllib3.connection.VerifiedHTTPSConnection object at 0x0000021DB2D3A898>: Failed to establish a new connection: [Errno 11001] getaddrinfo failed',))\n",
      "HTTPSConnectionPool(host='trends.google.com', port=443): Max retries exceeded with url: /trends/api/explore?hl=En-US&tz=0&req=%7B%22comparisonItem%22%3A+%5B%7B%22keyword%22%3A+%22la+diarrh%5Cu00e9e%22%2C+%22time%22%3A+%222018-07-12T00+2018-07-19T00%22%2C+%22geo%22%3A+%22FR-B%22%7D%2C+%7B%22keyword%22%3A+%22%2Fm%2F0dlj68y%22%2C+%22time%22%3A+%222018-07-12T00+2018-07-19T00%22%2C+%22geo%22%3A+%22FR-B%22%7D%5D%2C+%22category%22%3A+0%2C+%22property%22%3A+%22%22%7D (Caused by NewConnectionError('<requests.packages.urllib3.connection.VerifiedHTTPSConnection object at 0x0000021DB2D3A5C0>: Failed to establish a new connection: [Errno 11001] getaddrinfo failed',))\n",
      "HTTPSConnectionPool(host='trends.google.com', port=443): Max retries exceeded with url: /trends/api/explore?hl=En-US&tz=0&req=%7B%22comparisonItem%22%3A+%5B%7B%22keyword%22%3A+%22la+diarrh%5Cu00e9e%22%2C+%22time%22%3A+%222018-07-19T00+2018-07-26T00%22%2C+%22geo%22%3A+%22FR-B%22%7D%2C+%7B%22keyword%22%3A+%22%2Fm%2F0dlj68y%22%2C+%22time%22%3A+%222018-07-19T00+2018-07-26T00%22%2C+%22geo%22%3A+%22FR-B%22%7D%5D%2C+%22category%22%3A+0%2C+%22property%22%3A+%22%22%7D (Caused by NewConnectionError('<requests.packages.urllib3.connection.VerifiedHTTPSConnection object at 0x0000021DB4372CF8>: Failed to establish a new connection: [Errno 11001] getaddrinfo failed',))\n",
      "HTTPSConnectionPool(host='trends.google.com', port=443): Max retries exceeded with url: /trends/api/explore?hl=En-US&tz=0&req=%7B%22comparisonItem%22%3A+%5B%7B%22keyword%22%3A+%22la+diarrh%5Cu00e9e%22%2C+%22time%22%3A+%222018-07-26T00+2018-08-02T00%22%2C+%22geo%22%3A+%22FR-B%22%7D%2C+%7B%22keyword%22%3A+%22%2Fm%2F0dlj68y%22%2C+%22time%22%3A+%222018-07-26T00+2018-08-02T00%22%2C+%22geo%22%3A+%22FR-B%22%7D%5D%2C+%22category%22%3A+0%2C+%22property%22%3A+%22%22%7D (Caused by NewConnectionError('<requests.packages.urllib3.connection.VerifiedHTTPSConnection object at 0x0000021DB4372588>: Failed to establish a new connection: [Errno 11001] getaddrinfo failed',))\n",
      "HTTPSConnectionPool(host='trends.google.com', port=443): Max retries exceeded with url: /trends/api/explore?hl=En-US&tz=0&req=%7B%22comparisonItem%22%3A+%5B%7B%22keyword%22%3A+%22la+diarrh%5Cu00e9e%22%2C+%22time%22%3A+%222018-08-02T00+2018-08-09T00%22%2C+%22geo%22%3A+%22FR-B%22%7D%2C+%7B%22keyword%22%3A+%22%2Fm%2F0dlj68y%22%2C+%22time%22%3A+%222018-08-02T00+2018-08-09T00%22%2C+%22geo%22%3A+%22FR-B%22%7D%5D%2C+%22category%22%3A+0%2C+%22property%22%3A+%22%22%7D (Caused by NewConnectionError('<requests.packages.urllib3.connection.VerifiedHTTPSConnection object at 0x0000021DB4372B38>: Failed to establish a new connection: [Errno 11001] getaddrinfo failed',))\n",
      "HTTPSConnectionPool(host='trends.google.com', port=443): Max retries exceeded with url: /trends/api/explore?hl=En-US&tz=0&req=%7B%22comparisonItem%22%3A+%5B%7B%22keyword%22%3A+%22la+diarrh%5Cu00e9e%22%2C+%22time%22%3A+%222018-08-09T00+2018-08-16T00%22%2C+%22geo%22%3A+%22FR-B%22%7D%2C+%7B%22keyword%22%3A+%22%2Fm%2F0dlj68y%22%2C+%22time%22%3A+%222018-08-09T00+2018-08-16T00%22%2C+%22geo%22%3A+%22FR-B%22%7D%5D%2C+%22category%22%3A+0%2C+%22property%22%3A+%22%22%7D (Caused by NewConnectionError('<requests.packages.urllib3.connection.VerifiedHTTPSConnection object at 0x0000021DB4372710>: Failed to establish a new connection: [Errno 11001] getaddrinfo failed',))\n",
      "HTTPSConnectionPool(host='trends.google.com', port=443): Max retries exceeded with url: /trends/api/explore?hl=En-US&tz=0&req=%7B%22comparisonItem%22%3A+%5B%7B%22keyword%22%3A+%22la+diarrh%5Cu00e9e%22%2C+%22time%22%3A+%222018-08-16T00+2018-08-23T00%22%2C+%22geo%22%3A+%22FR-B%22%7D%2C+%7B%22keyword%22%3A+%22%2Fm%2F0dlj68y%22%2C+%22time%22%3A+%222018-08-16T00+2018-08-23T00%22%2C+%22geo%22%3A+%22FR-B%22%7D%5D%2C+%22category%22%3A+0%2C+%22property%22%3A+%22%22%7D (Caused by NewConnectionError('<requests.packages.urllib3.connection.VerifiedHTTPSConnection object at 0x0000021DB2D3A400>: Failed to establish a new connection: [Errno 11001] getaddrinfo failed',))\n",
      "HTTPSConnectionPool(host='trends.google.com', port=443): Max retries exceeded with url: /trends/api/explore?hl=En-US&tz=0&req=%7B%22comparisonItem%22%3A+%5B%7B%22keyword%22%3A+%22la+diarrh%5Cu00e9e%22%2C+%22time%22%3A+%222018-08-23T00+2018-08-30T00%22%2C+%22geo%22%3A+%22FR-B%22%7D%2C+%7B%22keyword%22%3A+%22%2Fm%2F0dlj68y%22%2C+%22time%22%3A+%222018-08-23T00+2018-08-30T00%22%2C+%22geo%22%3A+%22FR-B%22%7D%5D%2C+%22category%22%3A+0%2C+%22property%22%3A+%22%22%7D (Caused by NewConnectionError('<requests.packages.urllib3.connection.VerifiedHTTPSConnection object at 0x0000021DB2D36E10>: Failed to establish a new connection: [Errno 11001] getaddrinfo failed',))\n",
      "save temp file la diarrhée\n"
     ]
    },
    {
     "ename": "ConnectionError",
     "evalue": "HTTPSConnectionPool(host='trends.google.com', port=443): Max retries exceeded with url: /trends/api/autocomplete/respiration?hl=En-US (Caused by NewConnectionError('<requests.packages.urllib3.connection.VerifiedHTTPSConnection object at 0x0000021DB2D36438>: Failed to establish a new connection: [Errno 11001] getaddrinfo failed',))",
     "output_type": "error",
     "traceback": [
      "\u001b[1;31m---------------------------------------------------------------------------\u001b[0m",
      "\u001b[1;31mgaierror\u001b[0m                                  Traceback (most recent call last)",
      "\u001b[1;32mC:\\Wesley_Tao\\6.Software\\Anaconda\\lib\\site-packages\\requests\\packages\\urllib3\\connection.py\u001b[0m in \u001b[0;36m_new_conn\u001b[1;34m(self)\u001b[0m\n\u001b[0;32m    137\u001b[0m             conn = connection.create_connection(\n\u001b[1;32m--> 138\u001b[1;33m                 (self.host, self.port), self.timeout, **extra_kw)\n\u001b[0m\u001b[0;32m    139\u001b[0m \u001b[1;33m\u001b[0m\u001b[0m\n",
      "\u001b[1;32mC:\\Wesley_Tao\\6.Software\\Anaconda\\lib\\site-packages\\requests\\packages\\urllib3\\util\\connection.py\u001b[0m in \u001b[0;36mcreate_connection\u001b[1;34m(address, timeout, source_address, socket_options)\u001b[0m\n\u001b[0;32m     74\u001b[0m \u001b[1;33m\u001b[0m\u001b[0m\n\u001b[1;32m---> 75\u001b[1;33m     \u001b[1;32mfor\u001b[0m \u001b[0mres\u001b[0m \u001b[1;32min\u001b[0m \u001b[0msocket\u001b[0m\u001b[1;33m.\u001b[0m\u001b[0mgetaddrinfo\u001b[0m\u001b[1;33m(\u001b[0m\u001b[0mhost\u001b[0m\u001b[1;33m,\u001b[0m \u001b[0mport\u001b[0m\u001b[1;33m,\u001b[0m \u001b[0mfamily\u001b[0m\u001b[1;33m,\u001b[0m \u001b[0msocket\u001b[0m\u001b[1;33m.\u001b[0m\u001b[0mSOCK_STREAM\u001b[0m\u001b[1;33m)\u001b[0m\u001b[1;33m:\u001b[0m\u001b[1;33m\u001b[0m\u001b[0m\n\u001b[0m\u001b[0;32m     76\u001b[0m         \u001b[0maf\u001b[0m\u001b[1;33m,\u001b[0m \u001b[0msocktype\u001b[0m\u001b[1;33m,\u001b[0m \u001b[0mproto\u001b[0m\u001b[1;33m,\u001b[0m \u001b[0mcanonname\u001b[0m\u001b[1;33m,\u001b[0m \u001b[0msa\u001b[0m \u001b[1;33m=\u001b[0m \u001b[0mres\u001b[0m\u001b[1;33m\u001b[0m\u001b[0m\n",
      "\u001b[1;32mC:\\Wesley_Tao\\6.Software\\Anaconda\\lib\\socket.py\u001b[0m in \u001b[0;36mgetaddrinfo\u001b[1;34m(host, port, family, type, proto, flags)\u001b[0m\n\u001b[0;32m    742\u001b[0m     \u001b[0maddrlist\u001b[0m \u001b[1;33m=\u001b[0m \u001b[1;33m[\u001b[0m\u001b[1;33m]\u001b[0m\u001b[1;33m\u001b[0m\u001b[0m\n\u001b[1;32m--> 743\u001b[1;33m     \u001b[1;32mfor\u001b[0m \u001b[0mres\u001b[0m \u001b[1;32min\u001b[0m \u001b[0m_socket\u001b[0m\u001b[1;33m.\u001b[0m\u001b[0mgetaddrinfo\u001b[0m\u001b[1;33m(\u001b[0m\u001b[0mhost\u001b[0m\u001b[1;33m,\u001b[0m \u001b[0mport\u001b[0m\u001b[1;33m,\u001b[0m \u001b[0mfamily\u001b[0m\u001b[1;33m,\u001b[0m \u001b[0mtype\u001b[0m\u001b[1;33m,\u001b[0m \u001b[0mproto\u001b[0m\u001b[1;33m,\u001b[0m \u001b[0mflags\u001b[0m\u001b[1;33m)\u001b[0m\u001b[1;33m:\u001b[0m\u001b[1;33m\u001b[0m\u001b[0m\n\u001b[0m\u001b[0;32m    744\u001b[0m         \u001b[0maf\u001b[0m\u001b[1;33m,\u001b[0m \u001b[0msocktype\u001b[0m\u001b[1;33m,\u001b[0m \u001b[0mproto\u001b[0m\u001b[1;33m,\u001b[0m \u001b[0mcanonname\u001b[0m\u001b[1;33m,\u001b[0m \u001b[0msa\u001b[0m \u001b[1;33m=\u001b[0m \u001b[0mres\u001b[0m\u001b[1;33m\u001b[0m\u001b[0m\n",
      "\u001b[1;31mgaierror\u001b[0m: [Errno 11001] getaddrinfo failed",
      "\nDuring handling of the above exception, another exception occurred:\n",
      "\u001b[1;31mNewConnectionError\u001b[0m                        Traceback (most recent call last)",
      "\u001b[1;32mC:\\Wesley_Tao\\6.Software\\Anaconda\\lib\\site-packages\\requests\\packages\\urllib3\\connectionpool.py\u001b[0m in \u001b[0;36murlopen\u001b[1;34m(self, method, url, body, headers, retries, redirect, assert_same_host, timeout, pool_timeout, release_conn, chunked, **response_kw)\u001b[0m\n\u001b[0;32m    593\u001b[0m                                                   \u001b[0mbody\u001b[0m\u001b[1;33m=\u001b[0m\u001b[0mbody\u001b[0m\u001b[1;33m,\u001b[0m \u001b[0mheaders\u001b[0m\u001b[1;33m=\u001b[0m\u001b[0mheaders\u001b[0m\u001b[1;33m,\u001b[0m\u001b[1;33m\u001b[0m\u001b[0m\n\u001b[1;32m--> 594\u001b[1;33m                                                   chunked=chunked)\n\u001b[0m\u001b[0;32m    595\u001b[0m \u001b[1;33m\u001b[0m\u001b[0m\n",
      "\u001b[1;32mC:\\Wesley_Tao\\6.Software\\Anaconda\\lib\\site-packages\\requests\\packages\\urllib3\\connectionpool.py\u001b[0m in \u001b[0;36m_make_request\u001b[1;34m(self, conn, method, url, timeout, chunked, **httplib_request_kw)\u001b[0m\n\u001b[0;32m    349\u001b[0m         \u001b[1;32mtry\u001b[0m\u001b[1;33m:\u001b[0m\u001b[1;33m\u001b[0m\u001b[0m\n\u001b[1;32m--> 350\u001b[1;33m             \u001b[0mself\u001b[0m\u001b[1;33m.\u001b[0m\u001b[0m_validate_conn\u001b[0m\u001b[1;33m(\u001b[0m\u001b[0mconn\u001b[0m\u001b[1;33m)\u001b[0m\u001b[1;33m\u001b[0m\u001b[0m\n\u001b[0m\u001b[0;32m    351\u001b[0m         \u001b[1;32mexcept\u001b[0m \u001b[1;33m(\u001b[0m\u001b[0mSocketTimeout\u001b[0m\u001b[1;33m,\u001b[0m \u001b[0mBaseSSLError\u001b[0m\u001b[1;33m)\u001b[0m \u001b[1;32mas\u001b[0m \u001b[0me\u001b[0m\u001b[1;33m:\u001b[0m\u001b[1;33m\u001b[0m\u001b[0m\n",
      "\u001b[1;32mC:\\Wesley_Tao\\6.Software\\Anaconda\\lib\\site-packages\\requests\\packages\\urllib3\\connectionpool.py\u001b[0m in \u001b[0;36m_validate_conn\u001b[1;34m(self, conn)\u001b[0m\n\u001b[0;32m    834\u001b[0m         \u001b[1;32mif\u001b[0m \u001b[1;32mnot\u001b[0m \u001b[0mgetattr\u001b[0m\u001b[1;33m(\u001b[0m\u001b[0mconn\u001b[0m\u001b[1;33m,\u001b[0m \u001b[1;34m'sock'\u001b[0m\u001b[1;33m,\u001b[0m \u001b[1;32mNone\u001b[0m\u001b[1;33m)\u001b[0m\u001b[1;33m:\u001b[0m  \u001b[1;31m# AppEngine might not have  `.sock`\u001b[0m\u001b[1;33m\u001b[0m\u001b[0m\n\u001b[1;32m--> 835\u001b[1;33m             \u001b[0mconn\u001b[0m\u001b[1;33m.\u001b[0m\u001b[0mconnect\u001b[0m\u001b[1;33m(\u001b[0m\u001b[1;33m)\u001b[0m\u001b[1;33m\u001b[0m\u001b[0m\n\u001b[0m\u001b[0;32m    836\u001b[0m \u001b[1;33m\u001b[0m\u001b[0m\n",
      "\u001b[1;32mC:\\Wesley_Tao\\6.Software\\Anaconda\\lib\\site-packages\\requests\\packages\\urllib3\\connection.py\u001b[0m in \u001b[0;36mconnect\u001b[1;34m(self)\u001b[0m\n\u001b[0;32m    280\u001b[0m         \u001b[1;31m# Add certificate verification\u001b[0m\u001b[1;33m\u001b[0m\u001b[1;33m\u001b[0m\u001b[0m\n\u001b[1;32m--> 281\u001b[1;33m         \u001b[0mconn\u001b[0m \u001b[1;33m=\u001b[0m \u001b[0mself\u001b[0m\u001b[1;33m.\u001b[0m\u001b[0m_new_conn\u001b[0m\u001b[1;33m(\u001b[0m\u001b[1;33m)\u001b[0m\u001b[1;33m\u001b[0m\u001b[0m\n\u001b[0m\u001b[0;32m    282\u001b[0m \u001b[1;33m\u001b[0m\u001b[0m\n",
      "\u001b[1;32mC:\\Wesley_Tao\\6.Software\\Anaconda\\lib\\site-packages\\requests\\packages\\urllib3\\connection.py\u001b[0m in \u001b[0;36m_new_conn\u001b[1;34m(self)\u001b[0m\n\u001b[0;32m    146\u001b[0m             raise NewConnectionError(\n\u001b[1;32m--> 147\u001b[1;33m                 self, \"Failed to establish a new connection: %s\" % e)\n\u001b[0m\u001b[0;32m    148\u001b[0m \u001b[1;33m\u001b[0m\u001b[0m\n",
      "\u001b[1;31mNewConnectionError\u001b[0m: <requests.packages.urllib3.connection.VerifiedHTTPSConnection object at 0x0000021DB2D36438>: Failed to establish a new connection: [Errno 11001] getaddrinfo failed",
      "\nDuring handling of the above exception, another exception occurred:\n",
      "\u001b[1;31mMaxRetryError\u001b[0m                             Traceback (most recent call last)",
      "\u001b[1;32mC:\\Wesley_Tao\\6.Software\\Anaconda\\lib\\site-packages\\requests\\adapters.py\u001b[0m in \u001b[0;36msend\u001b[1;34m(self, request, stream, timeout, verify, cert, proxies)\u001b[0m\n\u001b[0;32m    422\u001b[0m                     \u001b[0mretries\u001b[0m\u001b[1;33m=\u001b[0m\u001b[0mself\u001b[0m\u001b[1;33m.\u001b[0m\u001b[0mmax_retries\u001b[0m\u001b[1;33m,\u001b[0m\u001b[1;33m\u001b[0m\u001b[0m\n\u001b[1;32m--> 423\u001b[1;33m                     \u001b[0mtimeout\u001b[0m\u001b[1;33m=\u001b[0m\u001b[0mtimeout\u001b[0m\u001b[1;33m\u001b[0m\u001b[0m\n\u001b[0m\u001b[0;32m    424\u001b[0m                 )\n",
      "\u001b[1;32mC:\\Wesley_Tao\\6.Software\\Anaconda\\lib\\site-packages\\requests\\packages\\urllib3\\connectionpool.py\u001b[0m in \u001b[0;36murlopen\u001b[1;34m(self, method, url, body, headers, retries, redirect, assert_same_host, timeout, pool_timeout, release_conn, chunked, **response_kw)\u001b[0m\n\u001b[0;32m    642\u001b[0m             retries = retries.increment(method, url, error=e, _pool=self,\n\u001b[1;32m--> 643\u001b[1;33m                                         _stacktrace=sys.exc_info()[2])\n\u001b[0m\u001b[0;32m    644\u001b[0m             \u001b[0mretries\u001b[0m\u001b[1;33m.\u001b[0m\u001b[0msleep\u001b[0m\u001b[1;33m(\u001b[0m\u001b[1;33m)\u001b[0m\u001b[1;33m\u001b[0m\u001b[0m\n",
      "\u001b[1;32mC:\\Wesley_Tao\\6.Software\\Anaconda\\lib\\site-packages\\requests\\packages\\urllib3\\util\\retry.py\u001b[0m in \u001b[0;36mincrement\u001b[1;34m(self, method, url, response, error, _pool, _stacktrace)\u001b[0m\n\u001b[0;32m    362\u001b[0m         \u001b[1;32mif\u001b[0m \u001b[0mnew_retry\u001b[0m\u001b[1;33m.\u001b[0m\u001b[0mis_exhausted\u001b[0m\u001b[1;33m(\u001b[0m\u001b[1;33m)\u001b[0m\u001b[1;33m:\u001b[0m\u001b[1;33m\u001b[0m\u001b[0m\n\u001b[1;32m--> 363\u001b[1;33m             \u001b[1;32mraise\u001b[0m \u001b[0mMaxRetryError\u001b[0m\u001b[1;33m(\u001b[0m\u001b[0m_pool\u001b[0m\u001b[1;33m,\u001b[0m \u001b[0murl\u001b[0m\u001b[1;33m,\u001b[0m \u001b[0merror\u001b[0m \u001b[1;32mor\u001b[0m \u001b[0mResponseError\u001b[0m\u001b[1;33m(\u001b[0m\u001b[0mcause\u001b[0m\u001b[1;33m)\u001b[0m\u001b[1;33m)\u001b[0m\u001b[1;33m\u001b[0m\u001b[0m\n\u001b[0m\u001b[0;32m    364\u001b[0m \u001b[1;33m\u001b[0m\u001b[0m\n",
      "\u001b[1;31mMaxRetryError\u001b[0m: HTTPSConnectionPool(host='trends.google.com', port=443): Max retries exceeded with url: /trends/api/autocomplete/respiration?hl=En-US (Caused by NewConnectionError('<requests.packages.urllib3.connection.VerifiedHTTPSConnection object at 0x0000021DB2D36438>: Failed to establish a new connection: [Errno 11001] getaddrinfo failed',))",
      "\nDuring handling of the above exception, another exception occurred:\n",
      "\u001b[1;31mConnectionError\u001b[0m                           Traceback (most recent call last)",
      "\u001b[1;32m<ipython-input-47-818ff080b60b>\u001b[0m in \u001b[0;36m<module>\u001b[1;34m()\u001b[0m\n\u001b[1;32m----> 1\u001b[1;33m \u001b[0mggtrend_list\u001b[0m \u001b[1;33m=\u001b[0m \u001b[0mfetching_trend\u001b[0m\u001b[1;33m(\u001b[0m\u001b[0mparca_table\u001b[0m\u001b[1;33m,\u001b[0m\u001b[0mkw_list\u001b[0m\u001b[1;33m=\u001b[0m\u001b[0mKW_LIST\u001b[0m\u001b[1;33m,\u001b[0m\u001b[0mlocation_code\u001b[0m\u001b[1;33m=\u001b[0m\u001b[0mLOCATION_CODE\u001b[0m\u001b[1;33m,\u001b[0m\u001b[0mtimezone\u001b[0m \u001b[1;33m=\u001b[0m \u001b[1;36m0\u001b[0m\u001b[1;33m)\u001b[0m\u001b[1;33m\u001b[0m\u001b[0m\n\u001b[0m",
      "\u001b[1;32m<ipython-input-19-d23da64c96cd>\u001b[0m in \u001b[0;36mfetching_trend\u001b[1;34m(airdata, kw_list, location_code, timezone)\u001b[0m\n\u001b[0;32m     10\u001b[0m         \u001b[0mthis_list\u001b[0m \u001b[1;33m=\u001b[0m \u001b[1;33m[\u001b[0m\u001b[0mkeyword\u001b[0m\u001b[1;33m]\u001b[0m\u001b[1;33m\u001b[0m\u001b[0m\n\u001b[0;32m     11\u001b[0m         \u001b[1;32mtry\u001b[0m\u001b[1;33m:\u001b[0m\u001b[1;33m\u001b[0m\u001b[0m\n\u001b[1;32m---> 12\u001b[1;33m             \u001b[0mtopic_code\u001b[0m \u001b[1;33m=\u001b[0m \u001b[0mpytrends\u001b[0m\u001b[1;33m.\u001b[0m\u001b[0msuggestions\u001b[0m\u001b[1;33m(\u001b[0m\u001b[0mkeyword\u001b[0m\u001b[1;33m)\u001b[0m\u001b[1;33m[\u001b[0m\u001b[1;36m0\u001b[0m\u001b[1;33m]\u001b[0m\u001b[1;33m[\u001b[0m\u001b[1;34m'mid'\u001b[0m\u001b[1;33m]\u001b[0m\u001b[1;33m\u001b[0m\u001b[0m\n\u001b[0m\u001b[0;32m     13\u001b[0m             \u001b[0mthis_list\u001b[0m\u001b[1;33m.\u001b[0m\u001b[0mappend\u001b[0m\u001b[1;33m(\u001b[0m\u001b[0mtopic_code\u001b[0m\u001b[1;33m)\u001b[0m\u001b[1;33m\u001b[0m\u001b[0m\n\u001b[0;32m     14\u001b[0m             \u001b[0mprint\u001b[0m\u001b[1;33m(\u001b[0m\u001b[1;34m\"keyword {} is encoded as {}\"\u001b[0m\u001b[1;33m.\u001b[0m\u001b[0mformat\u001b[0m\u001b[1;33m(\u001b[0m\u001b[0mkeyword\u001b[0m\u001b[1;33m,\u001b[0m\u001b[0mtopic_code\u001b[0m\u001b[1;33m)\u001b[0m\u001b[1;33m)\u001b[0m\u001b[1;33m\u001b[0m\u001b[0m\n",
      "\u001b[1;32mC:\\Wesley_Tao\\6.Software\\Anaconda\\lib\\site-packages\\pytrends\\request.py\u001b[0m in \u001b[0;36msuggestions\u001b[1;34m(self, keyword)\u001b[0m\n\u001b[0;32m    358\u001b[0m             \u001b[0mparams\u001b[0m\u001b[1;33m=\u001b[0m\u001b[0mparameters\u001b[0m\u001b[1;33m,\u001b[0m\u001b[1;33m\u001b[0m\u001b[0m\n\u001b[0;32m    359\u001b[0m             \u001b[0mmethod\u001b[0m\u001b[1;33m=\u001b[0m\u001b[0mTrendReq\u001b[0m\u001b[1;33m.\u001b[0m\u001b[0mGET_METHOD\u001b[0m\u001b[1;33m,\u001b[0m\u001b[1;33m\u001b[0m\u001b[0m\n\u001b[1;32m--> 360\u001b[1;33m             \u001b[0mtrim_chars\u001b[0m\u001b[1;33m=\u001b[0m\u001b[1;36m5\u001b[0m\u001b[1;33m\u001b[0m\u001b[0m\n\u001b[0m\u001b[0;32m    361\u001b[0m         )['default']['topics']\n\u001b[0;32m    362\u001b[0m         \u001b[1;32mreturn\u001b[0m \u001b[0mreq_json\u001b[0m\u001b[1;33m\u001b[0m\u001b[0m\n",
      "\u001b[1;32mC:\\Wesley_Tao\\6.Software\\Anaconda\\lib\\site-packages\\pytrends\\request.py\u001b[0m in \u001b[0;36m_get_data\u001b[1;34m(self, url, method, trim_chars, **kwargs)\u001b[0m\n\u001b[0;32m     78\u001b[0m             \u001b[0mresponse\u001b[0m \u001b[1;33m=\u001b[0m \u001b[0ms\u001b[0m\u001b[1;33m.\u001b[0m\u001b[0mpost\u001b[0m\u001b[1;33m(\u001b[0m\u001b[0murl\u001b[0m\u001b[1;33m,\u001b[0m \u001b[0mcookies\u001b[0m\u001b[1;33m=\u001b[0m\u001b[0mself\u001b[0m\u001b[1;33m.\u001b[0m\u001b[0mcookies\u001b[0m\u001b[1;33m,\u001b[0m \u001b[1;33m**\u001b[0m\u001b[0mkwargs\u001b[0m\u001b[1;33m)\u001b[0m\u001b[1;33m\u001b[0m\u001b[0m\n\u001b[0;32m     79\u001b[0m         \u001b[1;32melse\u001b[0m\u001b[1;33m:\u001b[0m\u001b[1;33m\u001b[0m\u001b[0m\n\u001b[1;32m---> 80\u001b[1;33m             \u001b[0mresponse\u001b[0m \u001b[1;33m=\u001b[0m \u001b[0ms\u001b[0m\u001b[1;33m.\u001b[0m\u001b[0mget\u001b[0m\u001b[1;33m(\u001b[0m\u001b[0murl\u001b[0m\u001b[1;33m,\u001b[0m \u001b[0mcookies\u001b[0m\u001b[1;33m=\u001b[0m\u001b[0mself\u001b[0m\u001b[1;33m.\u001b[0m\u001b[0mcookies\u001b[0m\u001b[1;33m,\u001b[0m \u001b[1;33m**\u001b[0m\u001b[0mkwargs\u001b[0m\u001b[1;33m)\u001b[0m\u001b[1;33m\u001b[0m\u001b[0m\n\u001b[0m\u001b[0;32m     81\u001b[0m \u001b[1;33m\u001b[0m\u001b[0m\n\u001b[0;32m     82\u001b[0m         \u001b[1;31m# check if the response contains json and throw an exception otherwise\u001b[0m\u001b[1;33m\u001b[0m\u001b[1;33m\u001b[0m\u001b[0m\n",
      "\u001b[1;32mC:\\Wesley_Tao\\6.Software\\Anaconda\\lib\\site-packages\\requests\\sessions.py\u001b[0m in \u001b[0;36mget\u001b[1;34m(self, url, **kwargs)\u001b[0m\n\u001b[0;32m    499\u001b[0m \u001b[1;33m\u001b[0m\u001b[0m\n\u001b[0;32m    500\u001b[0m         \u001b[0mkwargs\u001b[0m\u001b[1;33m.\u001b[0m\u001b[0msetdefault\u001b[0m\u001b[1;33m(\u001b[0m\u001b[1;34m'allow_redirects'\u001b[0m\u001b[1;33m,\u001b[0m \u001b[1;32mTrue\u001b[0m\u001b[1;33m)\u001b[0m\u001b[1;33m\u001b[0m\u001b[0m\n\u001b[1;32m--> 501\u001b[1;33m         \u001b[1;32mreturn\u001b[0m \u001b[0mself\u001b[0m\u001b[1;33m.\u001b[0m\u001b[0mrequest\u001b[0m\u001b[1;33m(\u001b[0m\u001b[1;34m'GET'\u001b[0m\u001b[1;33m,\u001b[0m \u001b[0murl\u001b[0m\u001b[1;33m,\u001b[0m \u001b[1;33m**\u001b[0m\u001b[0mkwargs\u001b[0m\u001b[1;33m)\u001b[0m\u001b[1;33m\u001b[0m\u001b[0m\n\u001b[0m\u001b[0;32m    502\u001b[0m \u001b[1;33m\u001b[0m\u001b[0m\n\u001b[0;32m    503\u001b[0m     \u001b[1;32mdef\u001b[0m \u001b[0moptions\u001b[0m\u001b[1;33m(\u001b[0m\u001b[0mself\u001b[0m\u001b[1;33m,\u001b[0m \u001b[0murl\u001b[0m\u001b[1;33m,\u001b[0m \u001b[1;33m**\u001b[0m\u001b[0mkwargs\u001b[0m\u001b[1;33m)\u001b[0m\u001b[1;33m:\u001b[0m\u001b[1;33m\u001b[0m\u001b[0m\n",
      "\u001b[1;32mC:\\Wesley_Tao\\6.Software\\Anaconda\\lib\\site-packages\\requests\\sessions.py\u001b[0m in \u001b[0;36mrequest\u001b[1;34m(self, method, url, params, data, headers, cookies, files, auth, timeout, allow_redirects, proxies, hooks, stream, verify, cert, json)\u001b[0m\n\u001b[0;32m    486\u001b[0m         }\n\u001b[0;32m    487\u001b[0m         \u001b[0msend_kwargs\u001b[0m\u001b[1;33m.\u001b[0m\u001b[0mupdate\u001b[0m\u001b[1;33m(\u001b[0m\u001b[0msettings\u001b[0m\u001b[1;33m)\u001b[0m\u001b[1;33m\u001b[0m\u001b[0m\n\u001b[1;32m--> 488\u001b[1;33m         \u001b[0mresp\u001b[0m \u001b[1;33m=\u001b[0m \u001b[0mself\u001b[0m\u001b[1;33m.\u001b[0m\u001b[0msend\u001b[0m\u001b[1;33m(\u001b[0m\u001b[0mprep\u001b[0m\u001b[1;33m,\u001b[0m \u001b[1;33m**\u001b[0m\u001b[0msend_kwargs\u001b[0m\u001b[1;33m)\u001b[0m\u001b[1;33m\u001b[0m\u001b[0m\n\u001b[0m\u001b[0;32m    489\u001b[0m \u001b[1;33m\u001b[0m\u001b[0m\n\u001b[0;32m    490\u001b[0m         \u001b[1;32mreturn\u001b[0m \u001b[0mresp\u001b[0m\u001b[1;33m\u001b[0m\u001b[0m\n",
      "\u001b[1;32mC:\\Wesley_Tao\\6.Software\\Anaconda\\lib\\site-packages\\requests\\sessions.py\u001b[0m in \u001b[0;36msend\u001b[1;34m(self, request, **kwargs)\u001b[0m\n\u001b[0;32m    607\u001b[0m \u001b[1;33m\u001b[0m\u001b[0m\n\u001b[0;32m    608\u001b[0m         \u001b[1;31m# Send the request\u001b[0m\u001b[1;33m\u001b[0m\u001b[1;33m\u001b[0m\u001b[0m\n\u001b[1;32m--> 609\u001b[1;33m         \u001b[0mr\u001b[0m \u001b[1;33m=\u001b[0m \u001b[0madapter\u001b[0m\u001b[1;33m.\u001b[0m\u001b[0msend\u001b[0m\u001b[1;33m(\u001b[0m\u001b[0mrequest\u001b[0m\u001b[1;33m,\u001b[0m \u001b[1;33m**\u001b[0m\u001b[0mkwargs\u001b[0m\u001b[1;33m)\u001b[0m\u001b[1;33m\u001b[0m\u001b[0m\n\u001b[0m\u001b[0;32m    610\u001b[0m \u001b[1;33m\u001b[0m\u001b[0m\n\u001b[0;32m    611\u001b[0m         \u001b[1;31m# Total elapsed time of the request (approximately)\u001b[0m\u001b[1;33m\u001b[0m\u001b[1;33m\u001b[0m\u001b[0m\n",
      "\u001b[1;32mC:\\Wesley_Tao\\6.Software\\Anaconda\\lib\\site-packages\\requests\\adapters.py\u001b[0m in \u001b[0;36msend\u001b[1;34m(self, request, stream, timeout, verify, cert, proxies)\u001b[0m\n\u001b[0;32m    485\u001b[0m                 \u001b[1;32mraise\u001b[0m \u001b[0mProxyError\u001b[0m\u001b[1;33m(\u001b[0m\u001b[0me\u001b[0m\u001b[1;33m,\u001b[0m \u001b[0mrequest\u001b[0m\u001b[1;33m=\u001b[0m\u001b[0mrequest\u001b[0m\u001b[1;33m)\u001b[0m\u001b[1;33m\u001b[0m\u001b[0m\n\u001b[0;32m    486\u001b[0m \u001b[1;33m\u001b[0m\u001b[0m\n\u001b[1;32m--> 487\u001b[1;33m             \u001b[1;32mraise\u001b[0m \u001b[0mConnectionError\u001b[0m\u001b[1;33m(\u001b[0m\u001b[0me\u001b[0m\u001b[1;33m,\u001b[0m \u001b[0mrequest\u001b[0m\u001b[1;33m=\u001b[0m\u001b[0mrequest\u001b[0m\u001b[1;33m)\u001b[0m\u001b[1;33m\u001b[0m\u001b[0m\n\u001b[0m\u001b[0;32m    488\u001b[0m \u001b[1;33m\u001b[0m\u001b[0m\n\u001b[0;32m    489\u001b[0m         \u001b[1;32mexcept\u001b[0m \u001b[0mClosedPoolError\u001b[0m \u001b[1;32mas\u001b[0m \u001b[0me\u001b[0m\u001b[1;33m:\u001b[0m\u001b[1;33m\u001b[0m\u001b[0m\n",
      "\u001b[1;31mConnectionError\u001b[0m: HTTPSConnectionPool(host='trends.google.com', port=443): Max retries exceeded with url: /trends/api/autocomplete/respiration?hl=En-US (Caused by NewConnectionError('<requests.packages.urllib3.connection.VerifiedHTTPSConnection object at 0x0000021DB2D36438>: Failed to establish a new connection: [Errno 11001] getaddrinfo failed',))"
     ]
    }
   ],
   "source": [
    "ggtrend_list = fetching_trend(parca_table,kw_list=KW_LIST,location_code=LOCATION_CODE,timezone = 0)"
   ]
  },
  {
   "cell_type": "code",
   "execution_count": null,
   "metadata": {
    "collapsed": true
   },
   "outputs": [],
   "source": [
    "ggtrend=pd.concat(ggtrend_list,axis=1)"
   ]
  },
  {
   "cell_type": "code",
   "execution_count": null,
   "metadata": {
    "collapsed": true
   },
   "outputs": [],
   "source": [
    "ggtrend.reset_index(inplace=True)"
   ]
  },
  {
   "cell_type": "code",
   "execution_count": null,
   "metadata": {
    "collapsed": true
   },
   "outputs": [],
   "source": [
    "merged_t=parca_table.merge(ggtrend,left_on='datetime',right_on='date')\n",
    "kw_str  =\"_\".join(KW_LIST)\n",
    "merged_t.to_csv(\"../stage/parca_{}_{}.csv\".format(kw_str,parca_table.columns[1]))"
   ]
  },
  {
   "cell_type": "code",
   "execution_count": null,
   "metadata": {
    "collapsed": true
   },
   "outputs": [],
   "source": [
    "signal_table=signal_process(merged_t,event_threshold = 35,duration = 12,var_name_list=list(ggtrend.columns)+['PM25_Marseille_Longchamp'])"
   ]
  },
  {
   "cell_type": "code",
   "execution_count": null,
   "metadata": {
    "collapsed": true
   },
   "outputs": [],
   "source": [
    "signal_table.groupby(\"hour_index\").mean().plot()"
   ]
  },
  {
   "cell_type": "code",
   "execution_count": null,
   "metadata": {
    "collapsed": true
   },
   "outputs": [],
   "source": [
    "signal_table.to_csv(\"../output/air_parca_threshold_35_colsum_duration_12H.csv\")"
   ]
  }
 ],
 "metadata": {
  "kernelspec": {
   "display_name": "Python 3",
   "language": "python",
   "name": "python3"
  },
  "language_info": {
   "codemirror_mode": {
    "name": "ipython",
    "version": 3
   },
   "file_extension": ".py",
   "mimetype": "text/x-python",
   "name": "python",
   "nbconvert_exporter": "python",
   "pygments_lexer": "ipython3",
   "version": "3.6.1"
  }
 },
 "nbformat": 4,
 "nbformat_minor": 2
}
