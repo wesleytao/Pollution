{
 "cells": [
  {
   "cell_type": "code",
   "execution_count": 5,
   "metadata": {},
   "outputs": [],
   "source": [
    "import pandas as pd\n",
    "import numpy as np\n",
    "import re\n",
    "import matplotlib.pyplot as plt\n",
    "from vaderSentiment.vaderSentiment import SentimentIntensityAnalyzer\n",
    "%matplotlib inline\n",
    "from googletrans import Translator\n",
    "import time\n",
    "import emoji\n",
    "from tqdm import tqdm_notebook"
   ]
  },
  {
   "cell_type": "code",
   "execution_count": 6,
   "metadata": {},
   "outputs": [],
   "source": [
    "df = pd.read_csv('../output/india.csv', encoding='utf-8')"
   ]
  },
  {
   "cell_type": "code",
   "execution_count": 7,
   "metadata": {},
   "outputs": [],
   "source": [
    "# use google translator\n",
    "# translator=Translator()\n",
    "translator = Translator(service_urls=[\n",
    "      'translate.google.com',\n",
    "      'translate.google.co.kr',\n",
    "    ])\n",
    "trans_text=dict()"
   ]
  },
  {
   "cell_type": "code",
   "execution_count": 10,
   "metadata": {},
   "outputs": [],
   "source": [
    "def trans(error_index=None):\n",
    "    if error_index: \n",
    "        new_error_index=[]\n",
    "        for idx in tqdm_notebook(error_index):\n",
    "            text=emoji.demojize(df.text[idx])\n",
    "            try:\n",
    "                trans = translator.translate(text,dest='en',src='auto')\n",
    "                trans_text[idx]=trans.text\n",
    "            except:\n",
    "                new_error_index.append(idx)\n",
    "    \n",
    "    else:\n",
    "        new_error_index=[]\n",
    "        for i in tqdm_notebook(range(len(df.text))):\n",
    "            text = emoji.demojize(df.text[i])\n",
    "            try:\n",
    "                trans=translator.translate(text,dest='en',src='auto')\n",
    "                trans_text[i]=trans.text\n",
    "            except:\n",
    "                new_error_index.append(i)\n",
    "        \n",
    "    return new_error_index"
   ]
  },
  {
   "cell_type": "code",
   "execution_count": 11,
   "metadata": {},
   "outputs": [
    {
     "data": {
      "application/vnd.jupyter.widget-view+json": {
       "model_id": "14f3531786af49cebb7d1c86a007d76b",
       "version_major": 2,
       "version_minor": 0
      },
      "text/html": [
       "<p>Failed to display Jupyter Widget of type <code>HBox</code>.</p>\n",
       "<p>\n",
       "  If you're reading this message in the Jupyter Notebook or JupyterLab Notebook, it may mean\n",
       "  that the widgets JavaScript is still loading. If this message persists, it\n",
       "  likely means that the widgets JavaScript library is either not installed or\n",
       "  not enabled. See the <a href=\"https://ipywidgets.readthedocs.io/en/stable/user_install.html\">Jupyter\n",
       "  Widgets Documentation</a> for setup instructions.\n",
       "</p>\n",
       "<p>\n",
       "  If you're reading this message in another frontend (for example, a static\n",
       "  rendering on GitHub or <a href=\"https://nbviewer.jupyter.org/\">NBViewer</a>),\n",
       "  it may mean that your frontend doesn't currently support widgets.\n",
       "</p>\n"
      ],
      "text/plain": [
       "HBox(children=(IntProgress(value=0, max=1945), HTML(value='')))"
      ]
     },
     "metadata": {},
     "output_type": "display_data"
    },
    {
     "name": "stdout",
     "output_type": "stream",
     "text": [
      "\n"
     ]
    }
   ],
   "source": [
    "err= trans()\n",
    "len(err)"
   ]
  },
  {
   "cell_type": "code",
   "execution_count": 20,
   "metadata": {},
   "outputs": [
    {
     "data": {
      "application/vnd.jupyter.widget-view+json": {
       "model_id": "f6ad9efae8014d97b2742eeebce489e4",
       "version_major": 2,
       "version_minor": 0
      },
      "text/html": [
       "<p>Failed to display Jupyter Widget of type <code>HBox</code>.</p>\n",
       "<p>\n",
       "  If you're reading this message in the Jupyter Notebook or JupyterLab Notebook, it may mean\n",
       "  that the widgets JavaScript is still loading. If this message persists, it\n",
       "  likely means that the widgets JavaScript library is either not installed or\n",
       "  not enabled. See the <a href=\"https://ipywidgets.readthedocs.io/en/stable/user_install.html\">Jupyter\n",
       "  Widgets Documentation</a> for setup instructions.\n",
       "</p>\n",
       "<p>\n",
       "  If you're reading this message in another frontend (for example, a static\n",
       "  rendering on GitHub or <a href=\"https://nbviewer.jupyter.org/\">NBViewer</a>),\n",
       "  it may mean that your frontend doesn't currently support widgets.\n",
       "</p>\n"
      ],
      "text/plain": [
       "HBox(children=(IntProgress(value=0, max=1), HTML(value='')))"
      ]
     },
     "metadata": {},
     "output_type": "display_data"
    },
    {
     "name": "stdout",
     "output_type": "stream",
     "text": [
      "\n",
      "err 1 , trans_text 1944 df 1945 \n"
     ]
    }
   ],
   "source": [
    "err =trans(err)\n",
    "print(\"err {} , trans_text {} df {} \".format(len(err),len(trans_text),len(df)))"
   ]
  },
  {
   "cell_type": "code",
   "execution_count": 67,
   "metadata": {},
   "outputs": [],
   "source": [
    "text=emoji.demojize(df.text[err[0]])"
   ]
  },
  {
   "cell_type": "code",
   "execution_count": 69,
   "metadata": {},
   "outputs": [
    {
     "data": {
      "text/plain": [
       "'Others: Hugs and Kisses :smiling_face_with_heart-eyes:\\r\\r\\nMe: Bugs and Fixes :sad_but_relieved_face::sad_but_relieved_face:\\r\\r\\n\\r\\r\\nWorking on the final project (Inventory App Stage 2).\\r\\r\\n#GoogleUdacityIndiaScholars \\r\\r\\n#100DaysOfCode \\r\\r\\n@akshtjn \\r\\r\\n@UdacityINDIA \\r\\r\\n@udacity \\r\\r\\n@Google \\r\\r\\n@GoogleIndia https://t.co/KtkHp82exK'"
      ]
     },
     "execution_count": 69,
     "metadata": {},
     "output_type": "execute_result"
    }
   ],
   "source": [
    "text.replace(\"\\U0001f970\",'')"
   ]
  },
  {
   "cell_type": "code",
   "execution_count": 71,
   "metadata": {},
   "outputs": [],
   "source": [
    "trans = translator.translate(text.replace(\"\\U0001f970\",''),dest='en',src='auto')"
   ]
  },
  {
   "cell_type": "code",
   "execution_count": 72,
   "metadata": {},
   "outputs": [],
   "source": [
    "trans_text[err[0]]=trans"
   ]
  },
  {
   "cell_type": "code",
   "execution_count": 73,
   "metadata": {},
   "outputs": [
    {
     "name": "stdout",
     "output_type": "stream",
     "text": [
      "err 1 , trans_text 1945 df 1945 \n"
     ]
    }
   ],
   "source": [
    "print(\"err {} , trans_text {} df {} \".format(len(err),len(trans_text),len(df)))"
   ]
  },
  {
   "cell_type": "code",
   "execution_count": 74,
   "metadata": {},
   "outputs": [],
   "source": [
    "list_trans=[trans_text[i] for i in range(len(df)) ]"
   ]
  },
  {
   "cell_type": "code",
   "execution_count": 75,
   "metadata": {},
   "outputs": [],
   "source": [
    "df[\"trans_text\"]=list_trans"
   ]
  },
  {
   "cell_type": "code",
   "execution_count": 77,
   "metadata": {},
   "outputs": [],
   "source": [
    "df_english=df\n",
    "# df_english.head(10)"
   ]
  },
  {
   "cell_type": "code",
   "execution_count": 78,
   "metadata": {},
   "outputs": [],
   "source": [
    "sentences = list(df_english['trans_text'])"
   ]
  },
  {
   "cell_type": "code",
   "execution_count": 82,
   "metadata": {},
   "outputs": [
    {
     "data": {
      "text/plain": [
       "str"
      ]
     },
     "execution_count": 82,
     "metadata": {},
     "output_type": "execute_result"
    }
   ],
   "source": [
    "type(sentences[0])"
   ]
  },
  {
   "cell_type": "code",
   "execution_count": 85,
   "metadata": {},
   "outputs": [
    {
     "data": {
      "text/plain": [
       "'Dear @TubeBuddy please fix this bug. I am facing problem from past 5-days https://t.co/DRAU7VOpO1'"
      ]
     },
     "execution_count": 85,
     "metadata": {},
     "output_type": "execute_result"
    }
   ],
   "source": [
    "sentences[1272]"
   ]
  },
  {
   "cell_type": "code",
   "execution_count": 86,
   "metadata": {},
   "outputs": [
    {
     "data": {
      "application/vnd.jupyter.widget-view+json": {
       "model_id": "164fff08bf294260af84b8e8e3a2038d",
       "version_major": 2,
       "version_minor": 0
      },
      "text/html": [
       "<p>Failed to display Jupyter Widget of type <code>HBox</code>.</p>\n",
       "<p>\n",
       "  If you're reading this message in the Jupyter Notebook or JupyterLab Notebook, it may mean\n",
       "  that the widgets JavaScript is still loading. If this message persists, it\n",
       "  likely means that the widgets JavaScript library is either not installed or\n",
       "  not enabled. See the <a href=\"https://ipywidgets.readthedocs.io/en/stable/user_install.html\">Jupyter\n",
       "  Widgets Documentation</a> for setup instructions.\n",
       "</p>\n",
       "<p>\n",
       "  If you're reading this message in another frontend (for example, a static\n",
       "  rendering on GitHub or <a href=\"https://nbviewer.jupyter.org/\">NBViewer</a>),\n",
       "  it may mean that your frontend doesn't currently support widgets.\n",
       "</p>\n"
      ],
      "text/plain": [
       "HBox(children=(IntProgress(value=0, max=1945), HTML(value='')))"
      ]
     },
     "metadata": {},
     "output_type": "display_data"
    },
    {
     "name": "stdout",
     "output_type": "stream",
     "text": [
      "\n"
     ]
    }
   ],
   "source": [
    "neg = list()\n",
    "neu = list()\n",
    "pos = list()\n",
    "compound = list()\n",
    "analyzer = SentimentIntensityAnalyzer()\n",
    "for sentence in tqdm_notebook(sentences):\n",
    "    vs = analyzer.polarity_scores(str(sentence))\n",
    "    neg.append(vs['neg'])\n",
    "    neu.append(vs['neu'])\n",
    "    pos.append(vs['pos'])\n",
    "    compound.append(vs['compound'])"
   ]
  },
  {
   "cell_type": "code",
   "execution_count": 87,
   "metadata": {},
   "outputs": [],
   "source": [
    "df_english['neg'] = neg\n",
    "df_english['neu'] = neu\n",
    "df_english['pos'] = pos\n",
    "df_english['compound'] = compound"
   ]
  },
  {
   "cell_type": "code",
   "execution_count": 88,
   "metadata": {},
   "outputs": [
    {
     "data": {
      "text/html": [
       "<div>\n",
       "<style scoped>\n",
       "    .dataframe tbody tr th:only-of-type {\n",
       "        vertical-align: middle;\n",
       "    }\n",
       "\n",
       "    .dataframe tbody tr th {\n",
       "        vertical-align: top;\n",
       "    }\n",
       "\n",
       "    .dataframe thead th {\n",
       "        text-align: right;\n",
       "    }\n",
       "</style>\n",
       "<table border=\"1\" class=\"dataframe\">\n",
       "  <thead>\n",
       "    <tr style=\"text-align: right;\">\n",
       "      <th></th>\n",
       "      <th>id</th>\n",
       "      <th>longitude</th>\n",
       "      <th>latitude</th>\n",
       "      <th>place_country</th>\n",
       "      <th>place_full_name</th>\n",
       "      <th>text</th>\n",
       "      <th>user_id</th>\n",
       "      <th>user_name</th>\n",
       "      <th>user_followers</th>\n",
       "      <th>user_loc</th>\n",
       "      <th>lang</th>\n",
       "      <th>created_at</th>\n",
       "      <th>trans_text</th>\n",
       "      <th>neg</th>\n",
       "      <th>neu</th>\n",
       "      <th>pos</th>\n",
       "      <th>compound</th>\n",
       "    </tr>\n",
       "  </thead>\n",
       "  <tbody>\n",
       "    <tr>\n",
       "      <th>0</th>\n",
       "      <td>1003445793582247936</td>\n",
       "      <td>73.180515</td>\n",
       "      <td>22.276914</td>\n",
       "      <td>India</td>\n",
       "      <td>Vododara, India</td>\n",
       "      <td>@swatchhbharat @PMOIndia @AIMPLB_Official @VHP...</td>\n",
       "      <td>80595705</td>\n",
       "      <td>dr hemant anant sant</td>\n",
       "      <td>862</td>\n",
       "      <td>Vadodara , Gujarat,India</td>\n",
       "      <td>en</td>\n",
       "      <td>2018-06-04 01:18:14</td>\n",
       "      <td>@swatchhbharat @PMOIndia @AIMPLB_Official @VHP...</td>\n",
       "      <td>0.000</td>\n",
       "      <td>0.866</td>\n",
       "      <td>0.134</td>\n",
       "      <td>0.6597</td>\n",
       "    </tr>\n",
       "    <tr>\n",
       "      <th>1</th>\n",
       "      <td>1003464770710900737</td>\n",
       "      <td>77.095086</td>\n",
       "      <td>28.638489</td>\n",
       "      <td>India</td>\n",
       "      <td>New Delhi, India</td>\n",
       "      <td>5.8 earthquake, 4km WSW of Volcano, Hawaii. 20...</td>\n",
       "      <td>182678757</td>\n",
       "      <td>दैनिक- पहली ख़बर</td>\n",
       "      <td>1514</td>\n",
       "      <td>New Delhi, India</td>\n",
       "      <td>en</td>\n",
       "      <td>2018-06-04 02:33:39</td>\n",
       "      <td>5.8 earthquake, 4km WSW of Volcano, Hawaii. 20...</td>\n",
       "      <td>0.000</td>\n",
       "      <td>1.000</td>\n",
       "      <td>0.000</td>\n",
       "      <td>0.0000</td>\n",
       "    </tr>\n",
       "    <tr>\n",
       "      <th>2</th>\n",
       "      <td>1003465099003158528</td>\n",
       "      <td>72.874244</td>\n",
       "      <td>19.174140</td>\n",
       "      <td>India</td>\n",
       "      <td>Mumbai, India</td>\n",
       "      <td>मोतों पर मज़ाक उड़ाने वाले भाजपाइयों को ईश्वर ...</td>\n",
       "      <td>233039234</td>\n",
       "      <td>D. N. Yadav</td>\n",
       "      <td>3033</td>\n",
       "      <td>India</td>\n",
       "      <td>hi</td>\n",
       "      <td>2018-06-04 02:34:57</td>\n",
       "      <td>BJP jokes on pearls are not afraid of God; we ...</td>\n",
       "      <td>0.179</td>\n",
       "      <td>0.756</td>\n",
       "      <td>0.066</td>\n",
       "      <td>-0.3489</td>\n",
       "    </tr>\n",
       "    <tr>\n",
       "      <th>3</th>\n",
       "      <td>1003468734147620869</td>\n",
       "      <td>74.185052</td>\n",
       "      <td>16.647925</td>\n",
       "      <td>India</td>\n",
       "      <td>Kolhapur, India</td>\n",
       "      <td>@tavleen_singh Its not the size of dust bin..I...</td>\n",
       "      <td>356669000</td>\n",
       "      <td>ddp thorat</td>\n",
       "      <td>335</td>\n",
       "      <td>Kolhapur</td>\n",
       "      <td>en</td>\n",
       "      <td>2018-06-04 02:49:24</td>\n",
       "      <td>@tavleen_singh Its not the size of dust bin..I...</td>\n",
       "      <td>0.197</td>\n",
       "      <td>0.803</td>\n",
       "      <td>0.000</td>\n",
       "      <td>-0.8758</td>\n",
       "    </tr>\n",
       "    <tr>\n",
       "      <th>4</th>\n",
       "      <td>1003487339069390849</td>\n",
       "      <td>76.283268</td>\n",
       "      <td>10.514921</td>\n",
       "      <td>India</td>\n",
       "      <td>Trissur, India</td>\n",
       "      <td>Mask  with goggles for open face helmet. Keeps...</td>\n",
       "      <td>825597149119344640</td>\n",
       "      <td>Bandidos Pitstop</td>\n",
       "      <td>44</td>\n",
       "      <td>Trissur, India</td>\n",
       "      <td>en</td>\n",
       "      <td>2018-06-04 04:03:20</td>\n",
       "      <td>Mask  with goggles for open face helmet. Keeps...</td>\n",
       "      <td>0.054</td>\n",
       "      <td>0.790</td>\n",
       "      <td>0.156</td>\n",
       "      <td>0.5423</td>\n",
       "    </tr>\n",
       "    <tr>\n",
       "      <th>5</th>\n",
       "      <td>1003491952552099840</td>\n",
       "      <td>78.598259</td>\n",
       "      <td>17.365103</td>\n",
       "      <td>India</td>\n",
       "      <td>Hayathnagar, India</td>\n",
       "      <td>All were akka's &amp;amp; Anna's \\r\\r\\nBesties are...</td>\n",
       "      <td>870306711306883072</td>\n",
       "      <td>♡Vijay♡Ciya♡Nani♡</td>\n",
       "      <td>431</td>\n",
       "      <td>India</td>\n",
       "      <td>en</td>\n",
       "      <td>2018-06-04 04:21:40</td>\n",
       "      <td>All were akka's &amp;amp; Anna's \\r\\r\\nBesties are...</td>\n",
       "      <td>0.059</td>\n",
       "      <td>0.856</td>\n",
       "      <td>0.085</td>\n",
       "      <td>0.2204</td>\n",
       "    </tr>\n",
       "    <tr>\n",
       "      <th>6</th>\n",
       "      <td>1003516231167590401</td>\n",
       "      <td>77.095086</td>\n",
       "      <td>28.638489</td>\n",
       "      <td>India</td>\n",
       "      <td>New Delhi, India</td>\n",
       "      <td>i woke up with serious 'dust mite allergy',\\r\\...</td>\n",
       "      <td>2417828022</td>\n",
       "      <td>Hussain Mir</td>\n",
       "      <td>28</td>\n",
       "      <td>New Delhi, India</td>\n",
       "      <td>en</td>\n",
       "      <td>2018-06-04 05:58:08</td>\n",
       "      <td>i woke up with serious 'dust mite allergy',\\r\\...</td>\n",
       "      <td>0.133</td>\n",
       "      <td>0.824</td>\n",
       "      <td>0.043</td>\n",
       "      <td>-0.4926</td>\n",
       "    </tr>\n",
       "    <tr>\n",
       "      <th>7</th>\n",
       "      <td>1003516532247293953</td>\n",
       "      <td>77.095086</td>\n",
       "      <td>28.638489</td>\n",
       "      <td>India</td>\n",
       "      <td>New Delhi, India</td>\n",
       "      <td>i woke up with serious 'dust mite allergy',\\r\\...</td>\n",
       "      <td>2417828022</td>\n",
       "      <td>Hussain Mir</td>\n",
       "      <td>28</td>\n",
       "      <td>New Delhi, India</td>\n",
       "      <td>en</td>\n",
       "      <td>2018-06-04 05:59:20</td>\n",
       "      <td>i woke up with serious 'dust mite allergy',\\r\\...</td>\n",
       "      <td>0.126</td>\n",
       "      <td>0.834</td>\n",
       "      <td>0.040</td>\n",
       "      <td>-0.4926</td>\n",
       "    </tr>\n",
       "    <tr>\n",
       "      <th>8</th>\n",
       "      <td>1003516660731424768</td>\n",
       "      <td>76.319629</td>\n",
       "      <td>15.029557</td>\n",
       "      <td>India</td>\n",
       "      <td>Karnataka, India</td>\n",
       "      <td>A few bugs.</td>\n",
       "      <td>803447890588798976</td>\n",
       "      <td>💎☮️💍Natasha Samani🕉️🇮🇳</td>\n",
       "      <td>679</td>\n",
       "      <td>Udupi, India</td>\n",
       "      <td>en</td>\n",
       "      <td>2018-06-04 05:59:51</td>\n",
       "      <td>A few bugs.</td>\n",
       "      <td>0.000</td>\n",
       "      <td>1.000</td>\n",
       "      <td>0.000</td>\n",
       "      <td>0.0000</td>\n",
       "    </tr>\n",
       "    <tr>\n",
       "      <th>9</th>\n",
       "      <td>1003525926502555648</td>\n",
       "      <td>72.874244</td>\n",
       "      <td>19.174140</td>\n",
       "      <td>India</td>\n",
       "      <td>Mumbai, India</td>\n",
       "      <td>@JackIsPriya That unsigned appointment letter ...</td>\n",
       "      <td>475089276</td>\n",
       "      <td>Hardik Avasia</td>\n",
       "      <td>76</td>\n",
       "      <td>New Delhi, India</td>\n",
       "      <td>en</td>\n",
       "      <td>2018-06-04 06:36:40</td>\n",
       "      <td>@JackIsPriya That unsigned appointment letter ...</td>\n",
       "      <td>0.195</td>\n",
       "      <td>0.805</td>\n",
       "      <td>0.000</td>\n",
       "      <td>-0.5267</td>\n",
       "    </tr>\n",
       "  </tbody>\n",
       "</table>\n",
       "</div>"
      ],
      "text/plain": [
       "                    id  longitude   latitude place_country  \\\n",
       "0  1003445793582247936  73.180515  22.276914         India   \n",
       "1  1003464770710900737  77.095086  28.638489         India   \n",
       "2  1003465099003158528  72.874244  19.174140         India   \n",
       "3  1003468734147620869  74.185052  16.647925         India   \n",
       "4  1003487339069390849  76.283268  10.514921         India   \n",
       "5  1003491952552099840  78.598259  17.365103         India   \n",
       "6  1003516231167590401  77.095086  28.638489         India   \n",
       "7  1003516532247293953  77.095086  28.638489         India   \n",
       "8  1003516660731424768  76.319629  15.029557         India   \n",
       "9  1003525926502555648  72.874244  19.174140         India   \n",
       "\n",
       "      place_full_name                                               text  \\\n",
       "0     Vododara, India  @swatchhbharat @PMOIndia @AIMPLB_Official @VHP...   \n",
       "1    New Delhi, India  5.8 earthquake, 4km WSW of Volcano, Hawaii. 20...   \n",
       "2       Mumbai, India  मोतों पर मज़ाक उड़ाने वाले भाजपाइयों को ईश्वर ...   \n",
       "3     Kolhapur, India  @tavleen_singh Its not the size of dust bin..I...   \n",
       "4      Trissur, India  Mask  with goggles for open face helmet. Keeps...   \n",
       "5  Hayathnagar, India  All were akka's &amp; Anna's \\r\\r\\nBesties are...   \n",
       "6    New Delhi, India  i woke up with serious 'dust mite allergy',\\r\\...   \n",
       "7    New Delhi, India  i woke up with serious 'dust mite allergy',\\r\\...   \n",
       "8    Karnataka, India                                        A few bugs.   \n",
       "9       Mumbai, India  @JackIsPriya That unsigned appointment letter ...   \n",
       "\n",
       "              user_id               user_name  user_followers  \\\n",
       "0            80595705    dr hemant anant sant             862   \n",
       "1           182678757         दैनिक- पहली ख़बर            1514   \n",
       "2           233039234             D. N. Yadav            3033   \n",
       "3           356669000              ddp thorat             335   \n",
       "4  825597149119344640        Bandidos Pitstop              44   \n",
       "5  870306711306883072       ♡Vijay♡Ciya♡Nani♡             431   \n",
       "6          2417828022             Hussain Mir              28   \n",
       "7          2417828022             Hussain Mir              28   \n",
       "8  803447890588798976  💎☮️💍Natasha Samani🕉️🇮🇳             679   \n",
       "9           475089276           Hardik Avasia              76   \n",
       "\n",
       "                   user_loc lang           created_at  \\\n",
       "0  Vadodara , Gujarat,India   en  2018-06-04 01:18:14   \n",
       "1          New Delhi, India   en  2018-06-04 02:33:39   \n",
       "2                     India   hi  2018-06-04 02:34:57   \n",
       "3                  Kolhapur   en  2018-06-04 02:49:24   \n",
       "4            Trissur, India   en  2018-06-04 04:03:20   \n",
       "5                     India   en  2018-06-04 04:21:40   \n",
       "6          New Delhi, India   en  2018-06-04 05:58:08   \n",
       "7          New Delhi, India   en  2018-06-04 05:59:20   \n",
       "8              Udupi, India   en  2018-06-04 05:59:51   \n",
       "9          New Delhi, India   en  2018-06-04 06:36:40   \n",
       "\n",
       "                                          trans_text    neg    neu    pos  \\\n",
       "0  @swatchhbharat @PMOIndia @AIMPLB_Official @VHP...  0.000  0.866  0.134   \n",
       "1  5.8 earthquake, 4km WSW of Volcano, Hawaii. 20...  0.000  1.000  0.000   \n",
       "2  BJP jokes on pearls are not afraid of God; we ...  0.179  0.756  0.066   \n",
       "3  @tavleen_singh Its not the size of dust bin..I...  0.197  0.803  0.000   \n",
       "4  Mask  with goggles for open face helmet. Keeps...  0.054  0.790  0.156   \n",
       "5  All were akka's &amp; Anna's \\r\\r\\nBesties are...  0.059  0.856  0.085   \n",
       "6  i woke up with serious 'dust mite allergy',\\r\\...  0.133  0.824  0.043   \n",
       "7  i woke up with serious 'dust mite allergy',\\r\\...  0.126  0.834  0.040   \n",
       "8                                        A few bugs.  0.000  1.000  0.000   \n",
       "9  @JackIsPriya That unsigned appointment letter ...  0.195  0.805  0.000   \n",
       "\n",
       "   compound  \n",
       "0    0.6597  \n",
       "1    0.0000  \n",
       "2   -0.3489  \n",
       "3   -0.8758  \n",
       "4    0.5423  \n",
       "5    0.2204  \n",
       "6   -0.4926  \n",
       "7   -0.4926  \n",
       "8    0.0000  \n",
       "9   -0.5267  "
      ]
     },
     "execution_count": 88,
     "metadata": {},
     "output_type": "execute_result"
    }
   ],
   "source": [
    "df_english.head(10)"
   ]
  },
  {
   "cell_type": "code",
   "execution_count": 92,
   "metadata": {},
   "outputs": [],
   "source": [
    "df_english.to_csv('../output/india_sent.csv',encoding=\"utf-8\")"
   ]
  },
  {
   "cell_type": "code",
   "execution_count": 93,
   "metadata": {},
   "outputs": [
    {
     "data": {
      "image/png": "[encoded data removed]",
      "text/plain": [
       "<Figure size 432x288 with 1 Axes>"
      ]
     },
     "metadata": {},
     "output_type": "display_data"
    }
   ],
   "source": [
    "plt.hist(df_english['compound'],bins=50)\n",
    "plt.show()"
   ]
  }
 ],
 "metadata": {
  "kernelspec": {
   "display_name": "Python 3",
   "language": "python",
   "name": "python3"
  },
  "language_info": {
   "codemirror_mode": {
    "name": "ipython",
    "version": 3
   },
   "file_extension": ".py",
   "mimetype": "text/x-python",
   "name": "python",
   "nbconvert_exporter": "python",
   "pygments_lexer": "ipython3",
   "version": "3.6.4"
  }
 },
 "nbformat": 4,
 "nbformat_minor": 2
}
