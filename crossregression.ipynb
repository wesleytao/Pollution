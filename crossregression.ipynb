{
 "cells": [
  {
   "cell_type": "code",
   "execution_count": 14,
   "metadata": {
    "collapsed": true
   },
   "outputs": [],
   "source": [
    "import pandas as pd\n",
    "from datetime import datetime"
   ]
  },
  {
   "cell_type": "code",
   "execution_count": 29,
   "metadata": {
    "collapsed": true
   },
   "outputs": [],
   "source": [
    "from pandas import Index"
   ]
  },
  {
   "cell_type": "code",
   "execution_count": 15,
   "metadata": {},
   "outputs": [],
   "source": [
    "table=pd.read_csv(\"tempdata/airparif_20180501_20180728-PM25_auto.csv\",sep=';').drop(0,axis=0)\n",
    "table=table.rename(mapper={'heure':'hour'},axis=1)\n",
    "table['date time'] = list(map(lambda stringdate,\n",
    "         dhour: str(datetime.strptime(stringdate,'%d/%m/%Y').replace(hour=int(dhour)-1)),\n",
    "         table['date'],table['hour']))"
   ]
  },
  {
   "cell_type": "code",
   "execution_count": 42,
   "metadata": {},
   "outputs": [],
   "source": [
    "table.to_csv(\"output/pm25airparif.csv\",index=False)"
   ]
  },
  {
   "cell_type": "code",
   "execution_count": 35,
   "metadata": {},
   "outputs": [],
   "source": [
    "trend=pd.read_csv(\"tempdata/googletrend7days.csv\")\n",
    "trend=trend.reset_index().drop(0,axis=0)\n",
    "trend.columns=Index(['date time', 'air pollution'], dtype='object')\n",
    "trend['date time']=list(map(lambda string: str(datetime.strptime(string,'%Y-%m-%dT%H')),trend['date time']))"
   ]
  },
  {
   "cell_type": "code",
   "execution_count": 43,
   "metadata": {},
   "outputs": [],
   "source": [
    "trend.to_csv(\"output/airtopic.csv\",index=False)"
   ]
  }
 ],
 "metadata": {
  "kernelspec": {
   "display_name": "Python 3",
   "language": "python",
   "name": "python3"
  },
  "language_info": {
   "codemirror_mode": {
    "name": "ipython",
    "version": 3
   },
   "file_extension": ".py",
   "mimetype": "text/x-python",
   "name": "python",
   "nbconvert_exporter": "python",
   "pygments_lexer": "ipython3",
   "version": "3.6.1"
  }
 },
 "nbformat": 4,
 "nbformat_minor": 2
}
