{
 "cells": [
  {
   "cell_type": "code",
   "execution_count": 1,
   "metadata": {
    "collapsed": true
   },
   "outputs": [],
   "source": [
    "import pandas as pd\n",
    "from datetime import datetime, timedelta\n",
    "from pandas import Index\n",
    "import numpy as np\n",
    "from pytrends import request\n",
    "import pandas as pd\n",
    "import numpy as np\n",
    "import matplotlib.pyplot as plt\n",
    "from pytrends.request import TrendReq"
   ]
  },
  {
   "cell_type": "code",
   "execution_count": 2,
   "metadata": {
    "collapsed": true
   },
   "outputs": [],
   "source": [
    "parca=pd.read_csv(\"data/airparca_one_year.csv\",sep=';')"
   ]
  },
  {
   "cell_type": "code",
   "execution_count": 5,
   "metadata": {},
   "outputs": [
    {
     "data": {
      "text/plain": [
       "{\"Aix Ecole d'Art\",\n",
       " 'Aix Platanes',\n",
       " 'Aix_Figuière_Parking',\n",
       " 'Antibes Jean Moulin',\n",
       " 'Arles',\n",
       " 'Aubagne Les Passons',\n",
       " 'Avignon Mairie',\n",
       " 'Avignon Semard',\n",
       " 'Aéroport de Nice',\n",
       " \"Berre l'Etang\",\n",
       " 'Breil sur roya_Bd Jean Jaurès',\n",
       " 'Cannes Broussailles',\n",
       " 'Carry le Rouet',\n",
       " 'Chateauneuf',\n",
       " 'Chateauneuf La Mede',\n",
       " 'Cheiron',\n",
       " 'Cians',\n",
       " 'Contes 2',\n",
       " 'Fos Les Carabins',\n",
       " 'Fos sur Mer',\n",
       " 'Gap Commanderie',\n",
       " 'Gap Jean Jaures',\n",
       " 'Gardanne',\n",
       " 'Grasse Clavecin',\n",
       " 'Istres',\n",
       " 'Manosque',\n",
       " 'Marignane',\n",
       " 'Marseille Rabatau',\n",
       " 'Marseille Saint Louis',\n",
       " 'Marseille-Longchamp',\n",
       " 'Marseille_L2_Kaddouz',\n",
       " 'Marseille_L2_Timone',\n",
       " 'Marseille_Port_Mourepiane',\n",
       " 'Martigues  Couronne',\n",
       " 'Martigues La Gatasse',\n",
       " 'Martigues Laurons',\n",
       " 'Martigues Lavera',\n",
       " 'Martigues Notre Dame',\n",
       " 'Miramas Centre Ville',\n",
       " 'Nice Arson',\n",
       " 'Nice Ouest Botanique',\n",
       " 'Nice Promenade des Anglais',\n",
       " 'Nice_Port',\n",
       " 'Obs Haute-Provence',\n",
       " 'Peillon',\n",
       " \"Plan d'aups / Ste Baume\",\n",
       " 'Port Saint Louis',\n",
       " 'Port de Bouc Leque',\n",
       " 'Rognac Barjaquets',\n",
       " 'Salon',\n",
       " 'Sausset les Pins',\n",
       " 'Station Mobile Legré-mante',\n",
       " 'Station Mobile Malet',\n",
       " 'Station Mobile Meyreuil',\n",
       " 'Ste Maries de la Mer',\n",
       " 'Tarascon_Ecole du petit castellet',\n",
       " 'Toulon Claret',\n",
       " \"Vallée de l'Huveaune\",\n",
       " 'Villeneuve_Loubet',\n",
       " 'Vitrolles'}"
      ]
     },
     "execution_count": 5,
     "metadata": {},
     "output_type": "execute_result"
    }
   ],
   "source": [
    "set(parca.Station)"
   ]
  },
  {
   "cell_type": "code",
   "execution_count": 3,
   "metadata": {
    "collapsed": true
   },
   "outputs": [],
   "source": [
    "parca_table = parca.loc[(parca.Station==\"Marseille-Longchamp\") & (parca.Polluant==\"Particules PM2,5\")]"
   ]
  },
  {
   "cell_type": "code",
   "execution_count": 4,
   "metadata": {
    "collapsed": true
   },
   "outputs": [],
   "source": [
    "parca_table = parca_table.drop(columns=['Polluant','Mesure','Unité'])"
   ]
  },
  {
   "cell_type": "code",
   "execution_count": 5,
   "metadata": {
    "collapsed": true
   },
   "outputs": [],
   "source": [
    "parca_table=parca_table.set_index(parca_table['Station']).drop(columns='Station').transpose()\n",
    "parca_table.columns.name=\"date\"\n",
    "def converttype(v):\n",
    "    if v =='-':\n",
    "        return None\n",
    "    else:\n",
    "        return int(v)"
   ]
  },
  {
   "cell_type": "code",
   "execution_count": 6,
   "metadata": {
    "collapsed": true
   },
   "outputs": [],
   "source": [
    "parca_table=parca_table.applymap(converttype)"
   ]
  },
  {
   "cell_type": "code",
   "execution_count": 10,
   "metadata": {
    "collapsed": true
   },
   "outputs": [],
   "source": [
    "parca_table.reset_index(inplace=True)"
   ]
  },
  {
   "cell_type": "code",
   "execution_count": 31,
   "metadata": {
    "collapsed": true
   },
   "outputs": [],
   "source": [
    "import re\n",
    "comma =re.compile('\\.')"
   ]
  },
  {
   "cell_type": "code",
   "execution_count": 32,
   "metadata": {
    "collapsed": true
   },
   "outputs": [],
   "source": [
    "comma.search(\"as\")"
   ]
  },
  {
   "cell_type": "code",
   "execution_count": 33,
   "metadata": {},
   "outputs": [
    {
     "data": {
      "text/plain": [
       "['29/10/2017 2:00.1']"
      ]
     },
     "execution_count": 33,
     "metadata": {},
     "output_type": "execute_result"
    }
   ],
   "source": [
    "list(filter(lambda str1 : comma.search(str1)!=None ,  parca_table['date time']))"
   ]
  },
  {
   "cell_type": "code",
   "execution_count": 44,
   "metadata": {},
   "outputs": [
    {
     "data": {
      "text/plain": [
       "'29/10/2017 2:00:1'"
      ]
     },
     "execution_count": 44,
     "metadata": {},
     "output_type": "execute_result"
    }
   ],
   "source": [
    "'29/10/2017 2:00.1'.replace(\".\",':')"
   ]
  },
  {
   "cell_type": "code",
   "execution_count": 45,
   "metadata": {
    "collapsed": true
   },
   "outputs": [],
   "source": [
    "parca_table.columns = Index(['date time', 'Marseille-Longchamp'], dtype='object', name='index')\n",
    "parca_table['date time']=list(map(lambda string: datetime.strptime(string.replace('.1',''),'%d/%m/%Y %H:%M'),parca_table['date time']))"
   ]
  },
  {
   "cell_type": "code",
   "execution_count": 50,
   "metadata": {
    "collapsed": true
   },
   "outputs": [],
   "source": [
    "parca_table.drop_duplicates(inplace=True)"
   ]
  },
  {
   "cell_type": "code",
   "execution_count": 51,
   "metadata": {},
   "outputs": [
    {
     "data": {
      "text/html": [
       "<div>\n",
       "<style scoped>\n",
       "    .dataframe tbody tr th:only-of-type {\n",
       "        vertical-align: middle;\n",
       "    }\n",
       "\n",
       "    .dataframe tbody tr th {\n",
       "        vertical-align: top;\n",
       "    }\n",
       "\n",
       "    .dataframe thead th {\n",
       "        text-align: right;\n",
       "    }\n",
       "</style>\n",
       "<table border=\"1\" class=\"dataframe\">\n",
       "  <thead>\n",
       "    <tr style=\"text-align: right;\">\n",
       "      <th>index</th>\n",
       "      <th>date time</th>\n",
       "      <th>Marseille-Longchamp</th>\n",
       "    </tr>\n",
       "  </thead>\n",
       "  <tbody>\n",
       "    <tr>\n",
       "      <th>0</th>\n",
       "      <td>2017-08-08 00:00:00</td>\n",
       "      <td>9.0</td>\n",
       "    </tr>\n",
       "    <tr>\n",
       "      <th>1</th>\n",
       "      <td>2017-08-08 01:00:00</td>\n",
       "      <td>7.0</td>\n",
       "    </tr>\n",
       "    <tr>\n",
       "      <th>2</th>\n",
       "      <td>2017-08-08 02:00:00</td>\n",
       "      <td>6.0</td>\n",
       "    </tr>\n",
       "    <tr>\n",
       "      <th>3</th>\n",
       "      <td>2017-08-08 03:00:00</td>\n",
       "      <td>5.0</td>\n",
       "    </tr>\n",
       "    <tr>\n",
       "      <th>4</th>\n",
       "      <td>2017-08-08 04:00:00</td>\n",
       "      <td>4.0</td>\n",
       "    </tr>\n",
       "  </tbody>\n",
       "</table>\n",
       "</div>"
      ],
      "text/plain": [
       "index           date time  Marseille-Longchamp\n",
       "0     2017-08-08 00:00:00                  9.0\n",
       "1     2017-08-08 01:00:00                  7.0\n",
       "2     2017-08-08 02:00:00                  6.0\n",
       "3     2017-08-08 03:00:00                  5.0\n",
       "4     2017-08-08 04:00:00                  4.0"
      ]
     },
     "execution_count": 51,
     "metadata": {},
     "output_type": "execute_result"
    }
   ],
   "source": [
    "parca_table.head()"
   ]
  },
  {
   "cell_type": "code",
   "execution_count": 52,
   "metadata": {
    "collapsed": true
   },
   "outputs": [],
   "source": [
    "table = parca_table"
   ]
  },
  {
   "cell_type": "code",
   "execution_count": 53,
   "metadata": {
    "collapsed": true
   },
   "outputs": [],
   "source": [
    "newest_datetime   = max(table['date time'])\n",
    "earliest_datetime = min(table['date time'])"
   ]
  },
  {
   "cell_type": "code",
   "execution_count": 54,
   "metadata": {
    "collapsed": true
   },
   "outputs": [],
   "source": [
    "# ggtrend\n",
    "pytrends = TrendReq(hl='En-US', tz=-120)\n",
    "kw_list =  [pytrends.suggestions(\"air pollution\")[0]['mid']]"
   ]
  },
  {
   "cell_type": "code",
   "execution_count": 56,
   "metadata": {},
   "outputs": [
    {
     "name": "stdout",
     "output_type": "stream",
     "text": [
      "The request failed: Google returned a response with code 500.\n",
      "The request failed: Google returned a response with code 500.\n"
     ]
    }
   ],
   "source": [
    "ggtrend = pytrends.get_historical_interest(kw_list, \n",
    "                                 year_start=earliest_datetime.year,\n",
    "                                          month_start=earliest_datetime.month, \n",
    "                                          day_start=earliest_datetime.days_in_month, \n",
    "                                          hour_start=earliest_datetime.hour, \n",
    "                                 year_end=newest_datetime.year,\n",
    "                                          month_end=newest_datetime.month, \n",
    "                                          day_end=newest_datetime.days_in_month, \n",
    "                                          hour_end=newest_datetime.hour, \n",
    "                                 cat=0, # all categorical\n",
    "                                          geo='FR-U',  # Provence-Alpes-Côte d'Azur\n",
    "                                          gprop='',  # no specific group # image #hastag etc\n",
    "                                          sleep=0)"
   ]
  },
  {
   "cell_type": "code",
   "execution_count": 57,
   "metadata": {
    "collapsed": true
   },
   "outputs": [],
   "source": [
    "ggtrend.reset_index(inplace=True)"
   ]
  },
  {
   "cell_type": "code",
   "execution_count": 58,
   "metadata": {
    "collapsed": true
   },
   "outputs": [],
   "source": [
    "ggtrend.columns=Index(['date time', 'air pollution topic','isPartial'], dtype='object')"
   ]
  },
  {
   "cell_type": "code",
   "execution_count": 59,
   "metadata": {
    "collapsed": true
   },
   "outputs": [],
   "source": [
    "merged_t=table.merge(ggtrend,left_on='date time',right_on='date time')"
   ]
  },
  {
   "cell_type": "code",
   "execution_count": 37,
   "metadata": {
    "collapsed": true
   },
   "outputs": [],
   "source": [
    "# merged_t.PA04C =merged_t.PA04C.fillna(method='ffill')"
   ]
  },
  {
   "cell_type": "code",
   "execution_count": 63,
   "metadata": {
    "collapsed": true
   },
   "outputs": [],
   "source": [
    "merged_t['air pollution topic']=merged_t['air pollution topic'].astype(np.float)"
   ]
  },
  {
   "cell_type": "code",
   "execution_count": null,
   "metadata": {
    "collapsed": true
   },
   "outputs": [],
   "source": [
    "# cross-correlation"
   ]
  },
  {
   "cell_type": "code",
   "execution_count": 64,
   "metadata": {
    "collapsed": true
   },
   "outputs": [],
   "source": [
    "def df_derived_by_shift(df,lag=0,NON_DER=[]):\n",
    "    df = df.copy()\n",
    "    if not lag:\n",
    "        return df\n",
    "    cols ={}\n",
    "    for i in range(1,lag+1):\n",
    "        for x in list(df.columns):\n",
    "            if x not in NON_DER:\n",
    "                if not x in cols:\n",
    "                    cols[x] = ['{}_{}'.format(x, i)]\n",
    "                else:\n",
    "                    cols[x].append('{}_{}'.format(x, i))\n",
    "    for k,v in cols.items():\n",
    "        columns = v\n",
    "        dfn = pd.DataFrame(data=None, columns=columns, index=df.index)    \n",
    "        i = 1\n",
    "        for c in columns:\n",
    "            dfn[c] = df[k].shift(periods=i)\n",
    "            i+=1\n",
    "        df = pd.concat([df, dfn], axis=1, join_axes=[df.index])\n",
    "    return df"
   ]
  },
  {
   "cell_type": "code",
   "execution_count": 66,
   "metadata": {
    "collapsed": true
   },
   "outputs": [],
   "source": [
    "cross_correlation=merged_t[['air pollution topic','Marseille-Longchamp']]"
   ]
  },
  {
   "cell_type": "code",
   "execution_count": 77,
   "metadata": {
    "collapsed": true
   },
   "outputs": [],
   "source": [
    "new_cross=df_derived_by_shift(cross_correlation,lag=6)"
   ]
  },
  {
   "cell_type": "code",
   "execution_count": 68,
   "metadata": {
    "collapsed": true
   },
   "outputs": [],
   "source": [
    "new_cross = new_cross.dropna()"
   ]
  },
  {
   "cell_type": "code",
   "execution_count": 78,
   "metadata": {
    "scrolled": true
   },
   "outputs": [
    {
     "data": {
      "text/html": [
       "<div>\n",
       "<style scoped>\n",
       "    .dataframe tbody tr th:only-of-type {\n",
       "        vertical-align: middle;\n",
       "    }\n",
       "\n",
       "    .dataframe tbody tr th {\n",
       "        vertical-align: top;\n",
       "    }\n",
       "\n",
       "    .dataframe thead th {\n",
       "        text-align: right;\n",
       "    }\n",
       "</style>\n",
       "<table border=\"1\" class=\"dataframe\">\n",
       "  <thead>\n",
       "    <tr style=\"text-align: right;\">\n",
       "      <th></th>\n",
       "      <th>air pollution topic</th>\n",
       "      <th>Marseille-Longchamp</th>\n",
       "      <th>air pollution topic_1</th>\n",
       "      <th>air pollution topic_2</th>\n",
       "      <th>air pollution topic_3</th>\n",
       "      <th>air pollution topic_4</th>\n",
       "      <th>air pollution topic_5</th>\n",
       "      <th>air pollution topic_6</th>\n",
       "      <th>Marseille-Longchamp_1</th>\n",
       "      <th>Marseille-Longchamp_2</th>\n",
       "      <th>Marseille-Longchamp_3</th>\n",
       "      <th>Marseille-Longchamp_4</th>\n",
       "      <th>Marseille-Longchamp_5</th>\n",
       "      <th>Marseille-Longchamp_6</th>\n",
       "    </tr>\n",
       "  </thead>\n",
       "  <tbody>\n",
       "    <tr>\n",
       "      <th>0</th>\n",
       "      <td>74.0</td>\n",
       "      <td>8.0</td>\n",
       "      <td>NaN</td>\n",
       "      <td>NaN</td>\n",
       "      <td>NaN</td>\n",
       "      <td>NaN</td>\n",
       "      <td>NaN</td>\n",
       "      <td>NaN</td>\n",
       "      <td>NaN</td>\n",
       "      <td>NaN</td>\n",
       "      <td>NaN</td>\n",
       "      <td>NaN</td>\n",
       "      <td>NaN</td>\n",
       "      <td>NaN</td>\n",
       "    </tr>\n",
       "    <tr>\n",
       "      <th>1</th>\n",
       "      <td>0.0</td>\n",
       "      <td>9.0</td>\n",
       "      <td>74.0</td>\n",
       "      <td>NaN</td>\n",
       "      <td>NaN</td>\n",
       "      <td>NaN</td>\n",
       "      <td>NaN</td>\n",
       "      <td>NaN</td>\n",
       "      <td>8.0</td>\n",
       "      <td>NaN</td>\n",
       "      <td>NaN</td>\n",
       "      <td>NaN</td>\n",
       "      <td>NaN</td>\n",
       "      <td>NaN</td>\n",
       "    </tr>\n",
       "    <tr>\n",
       "      <th>2</th>\n",
       "      <td>0.0</td>\n",
       "      <td>8.0</td>\n",
       "      <td>0.0</td>\n",
       "      <td>74.0</td>\n",
       "      <td>NaN</td>\n",
       "      <td>NaN</td>\n",
       "      <td>NaN</td>\n",
       "      <td>NaN</td>\n",
       "      <td>9.0</td>\n",
       "      <td>8.0</td>\n",
       "      <td>NaN</td>\n",
       "      <td>NaN</td>\n",
       "      <td>NaN</td>\n",
       "      <td>NaN</td>\n",
       "    </tr>\n",
       "    <tr>\n",
       "      <th>3</th>\n",
       "      <td>0.0</td>\n",
       "      <td>7.0</td>\n",
       "      <td>0.0</td>\n",
       "      <td>0.0</td>\n",
       "      <td>74.0</td>\n",
       "      <td>NaN</td>\n",
       "      <td>NaN</td>\n",
       "      <td>NaN</td>\n",
       "      <td>8.0</td>\n",
       "      <td>9.0</td>\n",
       "      <td>8.0</td>\n",
       "      <td>NaN</td>\n",
       "      <td>NaN</td>\n",
       "      <td>NaN</td>\n",
       "    </tr>\n",
       "    <tr>\n",
       "      <th>4</th>\n",
       "      <td>0.0</td>\n",
       "      <td>8.0</td>\n",
       "      <td>0.0</td>\n",
       "      <td>0.0</td>\n",
       "      <td>0.0</td>\n",
       "      <td>74.0</td>\n",
       "      <td>NaN</td>\n",
       "      <td>NaN</td>\n",
       "      <td>7.0</td>\n",
       "      <td>8.0</td>\n",
       "      <td>9.0</td>\n",
       "      <td>8.0</td>\n",
       "      <td>NaN</td>\n",
       "      <td>NaN</td>\n",
       "    </tr>\n",
       "    <tr>\n",
       "      <th>5</th>\n",
       "      <td>0.0</td>\n",
       "      <td>6.0</td>\n",
       "      <td>0.0</td>\n",
       "      <td>0.0</td>\n",
       "      <td>0.0</td>\n",
       "      <td>0.0</td>\n",
       "      <td>74.0</td>\n",
       "      <td>NaN</td>\n",
       "      <td>8.0</td>\n",
       "      <td>7.0</td>\n",
       "      <td>8.0</td>\n",
       "      <td>9.0</td>\n",
       "      <td>8.0</td>\n",
       "      <td>NaN</td>\n",
       "    </tr>\n",
       "    <tr>\n",
       "      <th>6</th>\n",
       "      <td>15.0</td>\n",
       "      <td>6.0</td>\n",
       "      <td>0.0</td>\n",
       "      <td>0.0</td>\n",
       "      <td>0.0</td>\n",
       "      <td>0.0</td>\n",
       "      <td>0.0</td>\n",
       "      <td>74.0</td>\n",
       "      <td>6.0</td>\n",
       "      <td>8.0</td>\n",
       "      <td>7.0</td>\n",
       "      <td>8.0</td>\n",
       "      <td>9.0</td>\n",
       "      <td>8.0</td>\n",
       "    </tr>\n",
       "    <tr>\n",
       "      <th>7</th>\n",
       "      <td>11.0</td>\n",
       "      <td>11.0</td>\n",
       "      <td>15.0</td>\n",
       "      <td>0.0</td>\n",
       "      <td>0.0</td>\n",
       "      <td>0.0</td>\n",
       "      <td>0.0</td>\n",
       "      <td>0.0</td>\n",
       "      <td>6.0</td>\n",
       "      <td>6.0</td>\n",
       "      <td>8.0</td>\n",
       "      <td>7.0</td>\n",
       "      <td>8.0</td>\n",
       "      <td>9.0</td>\n",
       "    </tr>\n",
       "    <tr>\n",
       "      <th>8</th>\n",
       "      <td>10.0</td>\n",
       "      <td>8.0</td>\n",
       "      <td>11.0</td>\n",
       "      <td>15.0</td>\n",
       "      <td>0.0</td>\n",
       "      <td>0.0</td>\n",
       "      <td>0.0</td>\n",
       "      <td>0.0</td>\n",
       "      <td>11.0</td>\n",
       "      <td>6.0</td>\n",
       "      <td>6.0</td>\n",
       "      <td>8.0</td>\n",
       "      <td>7.0</td>\n",
       "      <td>8.0</td>\n",
       "    </tr>\n",
       "    <tr>\n",
       "      <th>9</th>\n",
       "      <td>27.0</td>\n",
       "      <td>3.0</td>\n",
       "      <td>10.0</td>\n",
       "      <td>11.0</td>\n",
       "      <td>15.0</td>\n",
       "      <td>0.0</td>\n",
       "      <td>0.0</td>\n",
       "      <td>0.0</td>\n",
       "      <td>8.0</td>\n",
       "      <td>11.0</td>\n",
       "      <td>6.0</td>\n",
       "      <td>6.0</td>\n",
       "      <td>8.0</td>\n",
       "      <td>7.0</td>\n",
       "    </tr>\n",
       "  </tbody>\n",
       "</table>\n",
       "</div>"
      ],
      "text/plain": [
       "   air pollution topic  Marseille-Longchamp  air pollution topic_1  \\\n",
       "0                 74.0                  8.0                    NaN   \n",
       "1                  0.0                  9.0                   74.0   \n",
       "2                  0.0                  8.0                    0.0   \n",
       "3                  0.0                  7.0                    0.0   \n",
       "4                  0.0                  8.0                    0.0   \n",
       "5                  0.0                  6.0                    0.0   \n",
       "6                 15.0                  6.0                    0.0   \n",
       "7                 11.0                 11.0                   15.0   \n",
       "8                 10.0                  8.0                   11.0   \n",
       "9                 27.0                  3.0                   10.0   \n",
       "\n",
       "   air pollution topic_2  air pollution topic_3  air pollution topic_4  \\\n",
       "0                    NaN                    NaN                    NaN   \n",
       "1                    NaN                    NaN                    NaN   \n",
       "2                   74.0                    NaN                    NaN   \n",
       "3                    0.0                   74.0                    NaN   \n",
       "4                    0.0                    0.0                   74.0   \n",
       "5                    0.0                    0.0                    0.0   \n",
       "6                    0.0                    0.0                    0.0   \n",
       "7                    0.0                    0.0                    0.0   \n",
       "8                   15.0                    0.0                    0.0   \n",
       "9                   11.0                   15.0                    0.0   \n",
       "\n",
       "   air pollution topic_5  air pollution topic_6  Marseille-Longchamp_1  \\\n",
       "0                    NaN                    NaN                    NaN   \n",
       "1                    NaN                    NaN                    8.0   \n",
       "2                    NaN                    NaN                    9.0   \n",
       "3                    NaN                    NaN                    8.0   \n",
       "4                    NaN                    NaN                    7.0   \n",
       "5                   74.0                    NaN                    8.0   \n",
       "6                    0.0                   74.0                    6.0   \n",
       "7                    0.0                    0.0                    6.0   \n",
       "8                    0.0                    0.0                   11.0   \n",
       "9                    0.0                    0.0                    8.0   \n",
       "\n",
       "   Marseille-Longchamp_2  Marseille-Longchamp_3  Marseille-Longchamp_4  \\\n",
       "0                    NaN                    NaN                    NaN   \n",
       "1                    NaN                    NaN                    NaN   \n",
       "2                    8.0                    NaN                    NaN   \n",
       "3                    9.0                    8.0                    NaN   \n",
       "4                    8.0                    9.0                    8.0   \n",
       "5                    7.0                    8.0                    9.0   \n",
       "6                    8.0                    7.0                    8.0   \n",
       "7                    6.0                    8.0                    7.0   \n",
       "8                    6.0                    6.0                    8.0   \n",
       "9                   11.0                    6.0                    6.0   \n",
       "\n",
       "   Marseille-Longchamp_5  Marseille-Longchamp_6  \n",
       "0                    NaN                    NaN  \n",
       "1                    NaN                    NaN  \n",
       "2                    NaN                    NaN  \n",
       "3                    NaN                    NaN  \n",
       "4                    NaN                    NaN  \n",
       "5                    8.0                    NaN  \n",
       "6                    9.0                    8.0  \n",
       "7                    8.0                    9.0  \n",
       "8                    7.0                    8.0  \n",
       "9                    8.0                    7.0  "
      ]
     },
     "execution_count": 78,
     "metadata": {},
     "output_type": "execute_result"
    }
   ],
   "source": [
    "new_cross.head(10)"
   ]
  },
  {
   "cell_type": "code",
   "execution_count": 79,
   "metadata": {},
   "outputs": [
    {
     "data": {
      "text/plain": [
       "(8282, 14)"
      ]
     },
     "execution_count": 79,
     "metadata": {},
     "output_type": "execute_result"
    }
   ],
   "source": [
    "new_cross.shape"
   ]
  },
  {
   "cell_type": "code",
   "execution_count": 80,
   "metadata": {},
   "outputs": [
    {
     "data": {
      "text/html": [
       "<div>\n",
       "<style scoped>\n",
       "    .dataframe tbody tr th:only-of-type {\n",
       "        vertical-align: middle;\n",
       "    }\n",
       "\n",
       "    .dataframe tbody tr th {\n",
       "        vertical-align: top;\n",
       "    }\n",
       "\n",
       "    .dataframe thead th {\n",
       "        text-align: right;\n",
       "    }\n",
       "</style>\n",
       "<table border=\"1\" class=\"dataframe\">\n",
       "  <thead>\n",
       "    <tr style=\"text-align: right;\">\n",
       "      <th></th>\n",
       "      <th>air pollution topic</th>\n",
       "      <th>Marseille-Longchamp</th>\n",
       "      <th>air pollution topic_1</th>\n",
       "      <th>air pollution topic_2</th>\n",
       "      <th>air pollution topic_3</th>\n",
       "      <th>air pollution topic_4</th>\n",
       "      <th>air pollution topic_5</th>\n",
       "      <th>air pollution topic_6</th>\n",
       "      <th>Marseille-Longchamp_1</th>\n",
       "      <th>Marseille-Longchamp_2</th>\n",
       "      <th>Marseille-Longchamp_3</th>\n",
       "      <th>Marseille-Longchamp_4</th>\n",
       "      <th>Marseille-Longchamp_5</th>\n",
       "      <th>Marseille-Longchamp_6</th>\n",
       "    </tr>\n",
       "  </thead>\n",
       "  <tbody>\n",
       "    <tr>\n",
       "      <th>air pollution topic</th>\n",
       "      <td>1.000000</td>\n",
       "      <td>0.008402</td>\n",
       "      <td>0.111273</td>\n",
       "      <td>0.076447</td>\n",
       "      <td>0.080094</td>\n",
       "      <td>0.044865</td>\n",
       "      <td>0.057786</td>\n",
       "      <td>0.046886</td>\n",
       "      <td>0.001505</td>\n",
       "      <td>0.003630</td>\n",
       "      <td>0.008177</td>\n",
       "      <td>0.017025</td>\n",
       "      <td>0.017659</td>\n",
       "      <td>0.024060</td>\n",
       "    </tr>\n",
       "    <tr>\n",
       "      <th>Marseille-Longchamp</th>\n",
       "      <td>0.008402</td>\n",
       "      <td>1.000000</td>\n",
       "      <td>0.016834</td>\n",
       "      <td>0.016038</td>\n",
       "      <td>0.024191</td>\n",
       "      <td>0.034611</td>\n",
       "      <td>0.046543</td>\n",
       "      <td>0.034229</td>\n",
       "      <td>0.870478</td>\n",
       "      <td>0.787932</td>\n",
       "      <td>0.723797</td>\n",
       "      <td>0.657687</td>\n",
       "      <td>0.599006</td>\n",
       "      <td>0.557204</td>\n",
       "    </tr>\n",
       "    <tr>\n",
       "      <th>air pollution topic_1</th>\n",
       "      <td>0.111273</td>\n",
       "      <td>0.016834</td>\n",
       "      <td>1.000000</td>\n",
       "      <td>0.111233</td>\n",
       "      <td>0.076405</td>\n",
       "      <td>0.080186</td>\n",
       "      <td>0.044885</td>\n",
       "      <td>0.057807</td>\n",
       "      <td>0.008369</td>\n",
       "      <td>0.001472</td>\n",
       "      <td>0.003597</td>\n",
       "      <td>0.008144</td>\n",
       "      <td>0.016992</td>\n",
       "      <td>0.017636</td>\n",
       "    </tr>\n",
       "    <tr>\n",
       "      <th>air pollution topic_2</th>\n",
       "      <td>0.076447</td>\n",
       "      <td>0.016038</td>\n",
       "      <td>0.111233</td>\n",
       "      <td>1.000000</td>\n",
       "      <td>0.111192</td>\n",
       "      <td>0.076496</td>\n",
       "      <td>0.080207</td>\n",
       "      <td>0.044905</td>\n",
       "      <td>0.016801</td>\n",
       "      <td>0.008336</td>\n",
       "      <td>0.001439</td>\n",
       "      <td>0.003563</td>\n",
       "      <td>0.008111</td>\n",
       "      <td>0.016969</td>\n",
       "    </tr>\n",
       "    <tr>\n",
       "      <th>air pollution topic_3</th>\n",
       "      <td>0.080094</td>\n",
       "      <td>0.024191</td>\n",
       "      <td>0.076405</td>\n",
       "      <td>0.111192</td>\n",
       "      <td>1.000000</td>\n",
       "      <td>0.111286</td>\n",
       "      <td>0.076517</td>\n",
       "      <td>0.080228</td>\n",
       "      <td>0.016006</td>\n",
       "      <td>0.016768</td>\n",
       "      <td>0.008303</td>\n",
       "      <td>0.001405</td>\n",
       "      <td>0.003530</td>\n",
       "      <td>0.008088</td>\n",
       "    </tr>\n",
       "    <tr>\n",
       "      <th>air pollution topic_4</th>\n",
       "      <td>0.044865</td>\n",
       "      <td>0.034611</td>\n",
       "      <td>0.080186</td>\n",
       "      <td>0.076496</td>\n",
       "      <td>0.111286</td>\n",
       "      <td>1.000000</td>\n",
       "      <td>0.111261</td>\n",
       "      <td>0.076489</td>\n",
       "      <td>0.024254</td>\n",
       "      <td>0.016068</td>\n",
       "      <td>0.016831</td>\n",
       "      <td>0.008365</td>\n",
       "      <td>0.001467</td>\n",
       "      <td>0.003573</td>\n",
       "    </tr>\n",
       "    <tr>\n",
       "      <th>air pollution topic_5</th>\n",
       "      <td>0.057786</td>\n",
       "      <td>0.046543</td>\n",
       "      <td>0.044885</td>\n",
       "      <td>0.080207</td>\n",
       "      <td>0.076517</td>\n",
       "      <td>0.111261</td>\n",
       "      <td>1.000000</td>\n",
       "      <td>0.111254</td>\n",
       "      <td>0.034625</td>\n",
       "      <td>0.024269</td>\n",
       "      <td>0.016083</td>\n",
       "      <td>0.016845</td>\n",
       "      <td>0.008379</td>\n",
       "      <td>0.001477</td>\n",
       "    </tr>\n",
       "    <tr>\n",
       "      <th>air pollution topic_6</th>\n",
       "      <td>0.046886</td>\n",
       "      <td>0.034229</td>\n",
       "      <td>0.057807</td>\n",
       "      <td>0.044905</td>\n",
       "      <td>0.080228</td>\n",
       "      <td>0.076489</td>\n",
       "      <td>0.111254</td>\n",
       "      <td>1.000000</td>\n",
       "      <td>0.046558</td>\n",
       "      <td>0.034640</td>\n",
       "      <td>0.024283</td>\n",
       "      <td>0.016097</td>\n",
       "      <td>0.016860</td>\n",
       "      <td>0.008389</td>\n",
       "    </tr>\n",
       "    <tr>\n",
       "      <th>Marseille-Longchamp_1</th>\n",
       "      <td>0.001505</td>\n",
       "      <td>0.870478</td>\n",
       "      <td>0.008369</td>\n",
       "      <td>0.016801</td>\n",
       "      <td>0.016006</td>\n",
       "      <td>0.024254</td>\n",
       "      <td>0.034625</td>\n",
       "      <td>0.046558</td>\n",
       "      <td>1.000000</td>\n",
       "      <td>0.870475</td>\n",
       "      <td>0.787927</td>\n",
       "      <td>0.723790</td>\n",
       "      <td>0.657678</td>\n",
       "      <td>0.598999</td>\n",
       "    </tr>\n",
       "    <tr>\n",
       "      <th>Marseille-Longchamp_2</th>\n",
       "      <td>0.003630</td>\n",
       "      <td>0.787932</td>\n",
       "      <td>0.001472</td>\n",
       "      <td>0.008336</td>\n",
       "      <td>0.016768</td>\n",
       "      <td>0.016068</td>\n",
       "      <td>0.024269</td>\n",
       "      <td>0.034640</td>\n",
       "      <td>0.870475</td>\n",
       "      <td>1.000000</td>\n",
       "      <td>0.870472</td>\n",
       "      <td>0.787922</td>\n",
       "      <td>0.723783</td>\n",
       "      <td>0.657673</td>\n",
       "    </tr>\n",
       "    <tr>\n",
       "      <th>Marseille-Longchamp_3</th>\n",
       "      <td>0.008177</td>\n",
       "      <td>0.723797</td>\n",
       "      <td>0.003597</td>\n",
       "      <td>0.001439</td>\n",
       "      <td>0.008303</td>\n",
       "      <td>0.016831</td>\n",
       "      <td>0.016083</td>\n",
       "      <td>0.024283</td>\n",
       "      <td>0.787927</td>\n",
       "      <td>0.870472</td>\n",
       "      <td>1.000000</td>\n",
       "      <td>0.870469</td>\n",
       "      <td>0.787917</td>\n",
       "      <td>0.723779</td>\n",
       "    </tr>\n",
       "    <tr>\n",
       "      <th>Marseille-Longchamp_4</th>\n",
       "      <td>0.017025</td>\n",
       "      <td>0.657687</td>\n",
       "      <td>0.008144</td>\n",
       "      <td>0.003563</td>\n",
       "      <td>0.001405</td>\n",
       "      <td>0.008365</td>\n",
       "      <td>0.016845</td>\n",
       "      <td>0.016097</td>\n",
       "      <td>0.723790</td>\n",
       "      <td>0.787922</td>\n",
       "      <td>0.870469</td>\n",
       "      <td>1.000000</td>\n",
       "      <td>0.870465</td>\n",
       "      <td>0.787914</td>\n",
       "    </tr>\n",
       "    <tr>\n",
       "      <th>Marseille-Longchamp_5</th>\n",
       "      <td>0.017659</td>\n",
       "      <td>0.599006</td>\n",
       "      <td>0.016992</td>\n",
       "      <td>0.008111</td>\n",
       "      <td>0.003530</td>\n",
       "      <td>0.001467</td>\n",
       "      <td>0.008379</td>\n",
       "      <td>0.016860</td>\n",
       "      <td>0.657678</td>\n",
       "      <td>0.723783</td>\n",
       "      <td>0.787917</td>\n",
       "      <td>0.870465</td>\n",
       "      <td>1.000000</td>\n",
       "      <td>0.870464</td>\n",
       "    </tr>\n",
       "    <tr>\n",
       "      <th>Marseille-Longchamp_6</th>\n",
       "      <td>0.024060</td>\n",
       "      <td>0.557204</td>\n",
       "      <td>0.017636</td>\n",
       "      <td>0.016969</td>\n",
       "      <td>0.008088</td>\n",
       "      <td>0.003573</td>\n",
       "      <td>0.001477</td>\n",
       "      <td>0.008389</td>\n",
       "      <td>0.598999</td>\n",
       "      <td>0.657673</td>\n",
       "      <td>0.723779</td>\n",
       "      <td>0.787914</td>\n",
       "      <td>0.870464</td>\n",
       "      <td>1.000000</td>\n",
       "    </tr>\n",
       "  </tbody>\n",
       "</table>\n",
       "</div>"
      ],
      "text/plain": [
       "                       air pollution topic  Marseille-Longchamp  \\\n",
       "air pollution topic               1.000000             0.008402   \n",
       "Marseille-Longchamp               0.008402             1.000000   \n",
       "air pollution topic_1             0.111273             0.016834   \n",
       "air pollution topic_2             0.076447             0.016038   \n",
       "air pollution topic_3             0.080094             0.024191   \n",
       "air pollution topic_4             0.044865             0.034611   \n",
       "air pollution topic_5             0.057786             0.046543   \n",
       "air pollution topic_6             0.046886             0.034229   \n",
       "Marseille-Longchamp_1             0.001505             0.870478   \n",
       "Marseille-Longchamp_2             0.003630             0.787932   \n",
       "Marseille-Longchamp_3             0.008177             0.723797   \n",
       "Marseille-Longchamp_4             0.017025             0.657687   \n",
       "Marseille-Longchamp_5             0.017659             0.599006   \n",
       "Marseille-Longchamp_6             0.024060             0.557204   \n",
       "\n",
       "                       air pollution topic_1  air pollution topic_2  \\\n",
       "air pollution topic                 0.111273               0.076447   \n",
       "Marseille-Longchamp                 0.016834               0.016038   \n",
       "air pollution topic_1               1.000000               0.111233   \n",
       "air pollution topic_2               0.111233               1.000000   \n",
       "air pollution topic_3               0.076405               0.111192   \n",
       "air pollution topic_4               0.080186               0.076496   \n",
       "air pollution topic_5               0.044885               0.080207   \n",
       "air pollution topic_6               0.057807               0.044905   \n",
       "Marseille-Longchamp_1               0.008369               0.016801   \n",
       "Marseille-Longchamp_2               0.001472               0.008336   \n",
       "Marseille-Longchamp_3               0.003597               0.001439   \n",
       "Marseille-Longchamp_4               0.008144               0.003563   \n",
       "Marseille-Longchamp_5               0.016992               0.008111   \n",
       "Marseille-Longchamp_6               0.017636               0.016969   \n",
       "\n",
       "                       air pollution topic_3  air pollution topic_4  \\\n",
       "air pollution topic                 0.080094               0.044865   \n",
       "Marseille-Longchamp                 0.024191               0.034611   \n",
       "air pollution topic_1               0.076405               0.080186   \n",
       "air pollution topic_2               0.111192               0.076496   \n",
       "air pollution topic_3               1.000000               0.111286   \n",
       "air pollution topic_4               0.111286               1.000000   \n",
       "air pollution topic_5               0.076517               0.111261   \n",
       "air pollution topic_6               0.080228               0.076489   \n",
       "Marseille-Longchamp_1               0.016006               0.024254   \n",
       "Marseille-Longchamp_2               0.016768               0.016068   \n",
       "Marseille-Longchamp_3               0.008303               0.016831   \n",
       "Marseille-Longchamp_4               0.001405               0.008365   \n",
       "Marseille-Longchamp_5               0.003530               0.001467   \n",
       "Marseille-Longchamp_6               0.008088               0.003573   \n",
       "\n",
       "                       air pollution topic_5  air pollution topic_6  \\\n",
       "air pollution topic                 0.057786               0.046886   \n",
       "Marseille-Longchamp                 0.046543               0.034229   \n",
       "air pollution topic_1               0.044885               0.057807   \n",
       "air pollution topic_2               0.080207               0.044905   \n",
       "air pollution topic_3               0.076517               0.080228   \n",
       "air pollution topic_4               0.111261               0.076489   \n",
       "air pollution topic_5               1.000000               0.111254   \n",
       "air pollution topic_6               0.111254               1.000000   \n",
       "Marseille-Longchamp_1               0.034625               0.046558   \n",
       "Marseille-Longchamp_2               0.024269               0.034640   \n",
       "Marseille-Longchamp_3               0.016083               0.024283   \n",
       "Marseille-Longchamp_4               0.016845               0.016097   \n",
       "Marseille-Longchamp_5               0.008379               0.016860   \n",
       "Marseille-Longchamp_6               0.001477               0.008389   \n",
       "\n",
       "                       Marseille-Longchamp_1  Marseille-Longchamp_2  \\\n",
       "air pollution topic                 0.001505               0.003630   \n",
       "Marseille-Longchamp                 0.870478               0.787932   \n",
       "air pollution topic_1               0.008369               0.001472   \n",
       "air pollution topic_2               0.016801               0.008336   \n",
       "air pollution topic_3               0.016006               0.016768   \n",
       "air pollution topic_4               0.024254               0.016068   \n",
       "air pollution topic_5               0.034625               0.024269   \n",
       "air pollution topic_6               0.046558               0.034640   \n",
       "Marseille-Longchamp_1               1.000000               0.870475   \n",
       "Marseille-Longchamp_2               0.870475               1.000000   \n",
       "Marseille-Longchamp_3               0.787927               0.870472   \n",
       "Marseille-Longchamp_4               0.723790               0.787922   \n",
       "Marseille-Longchamp_5               0.657678               0.723783   \n",
       "Marseille-Longchamp_6               0.598999               0.657673   \n",
       "\n",
       "                       Marseille-Longchamp_3  Marseille-Longchamp_4  \\\n",
       "air pollution topic                 0.008177               0.017025   \n",
       "Marseille-Longchamp                 0.723797               0.657687   \n",
       "air pollution topic_1               0.003597               0.008144   \n",
       "air pollution topic_2               0.001439               0.003563   \n",
       "air pollution topic_3               0.008303               0.001405   \n",
       "air pollution topic_4               0.016831               0.008365   \n",
       "air pollution topic_5               0.016083               0.016845   \n",
       "air pollution topic_6               0.024283               0.016097   \n",
       "Marseille-Longchamp_1               0.787927               0.723790   \n",
       "Marseille-Longchamp_2               0.870472               0.787922   \n",
       "Marseille-Longchamp_3               1.000000               0.870469   \n",
       "Marseille-Longchamp_4               0.870469               1.000000   \n",
       "Marseille-Longchamp_5               0.787917               0.870465   \n",
       "Marseille-Longchamp_6               0.723779               0.787914   \n",
       "\n",
       "                       Marseille-Longchamp_5  Marseille-Longchamp_6  \n",
       "air pollution topic                 0.017659               0.024060  \n",
       "Marseille-Longchamp                 0.599006               0.557204  \n",
       "air pollution topic_1               0.016992               0.017636  \n",
       "air pollution topic_2               0.008111               0.016969  \n",
       "air pollution topic_3               0.003530               0.008088  \n",
       "air pollution topic_4               0.001467               0.003573  \n",
       "air pollution topic_5               0.008379               0.001477  \n",
       "air pollution topic_6               0.016860               0.008389  \n",
       "Marseille-Longchamp_1               0.657678               0.598999  \n",
       "Marseille-Longchamp_2               0.723783               0.657673  \n",
       "Marseille-Longchamp_3               0.787917               0.723779  \n",
       "Marseille-Longchamp_4               0.870465               0.787914  \n",
       "Marseille-Longchamp_5               1.000000               0.870464  \n",
       "Marseille-Longchamp_6               0.870464               1.000000  "
      ]
     },
     "execution_count": 80,
     "metadata": {},
     "output_type": "execute_result"
    }
   ],
   "source": [
    "new_cross.corr()"
   ]
  },
  {
   "cell_type": "code",
   "execution_count": 72,
   "metadata": {
    "collapsed": true
   },
   "outputs": [],
   "source": [
    "merged_t.to_csv(\"merged_data_airparca.csv\")"
   ]
  },
  {
   "cell_type": "code",
   "execution_count": 81,
   "metadata": {
    "collapsed": true
   },
   "outputs": [],
   "source": [
    "df_new =new_cross"
   ]
  },
  {
   "cell_type": "code",
   "execution_count": 74,
   "metadata": {
    "collapsed": true
   },
   "outputs": [],
   "source": [
    "import matplotlib.pyplot as plt\n",
    "import numpy as np\n",
    "import seaborn as sns"
   ]
  },
  {
   "cell_type": "code",
   "execution_count": 82,
   "metadata": {},
   "outputs": [
    {
     "data": {
      "image/png": "[encoded data removed]",
      "text/plain": [
       "<Figure size 1080x720 with 2 Axes>"
      ]
     },
     "metadata": {},
     "output_type": "display_data"
    }
   ],
   "source": [
    "colormap = plt.cm.RdBu\n",
    "plt.figure(figsize=(15,10))\n",
    "plt.title(u'6 hours', y=1.05, size=16)\n",
    "\n",
    "mask = np.zeros_like(df_new.corr())\n",
    "mask[np.triu_indices_from(mask)] = True\n",
    "\n",
    "svm = sns.heatmap(df_new.corr(), mask=mask, linewidths=0.1,vmax=1.0, \n",
    "            square=True, cmap=colormap, linecolor='white', annot=True)"
   ]
  },
  {
   "cell_type": "code",
   "execution_count": 76,
   "metadata": {
    "collapsed": true,
    "scrolled": false
   },
   "outputs": [],
   "source": [
    "plt.show()"
   ]
  }
 ],
 "metadata": {
  "kernelspec": {
   "display_name": "Python 3",
   "language": "python",
   "name": "python3"
  },
  "language_info": {
   "codemirror_mode": {
    "name": "ipython",
    "version": 3
   },
   "file_extension": ".py",
   "mimetype": "text/x-python",
   "name": "python",
   "nbconvert_exporter": "python",
   "pygments_lexer": "ipython3",
   "version": "3.6.1"
  }
 },
 "nbformat": 4,
 "nbformat_minor": 2
}
