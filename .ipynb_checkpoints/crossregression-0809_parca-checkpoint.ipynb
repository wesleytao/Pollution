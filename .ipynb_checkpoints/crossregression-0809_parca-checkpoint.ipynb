{
 "cells": [
  {
   "cell_type": "code",
   "execution_count": 2,
   "metadata": {},
   "outputs": [],
   "source": [
    "import pandas as pd\n",
    "from datetime import datetime, timedelta\n",
    "from pandas import Index\n",
    "import numpy as np\n",
    "from pytrends import request\n",
    "import pandas as pd\n",
    "import numpy as np\n",
    "import matplotlib.pyplot as plt\n",
    "from pytrends.request import TrendReq"
   ]
  },
  {
   "cell_type": "code",
   "execution_count": 55,
   "metadata": {},
   "outputs": [],
   "source": [
    "parca=pd.read_csv(\"data/airparca_one_year.csv\",sep=';')"
   ]
  },
  {
   "cell_type": "code",
   "execution_count": 56,
   "metadata": {},
   "outputs": [],
   "source": [
    "parca_table = parca.loc[(parca.Station==\"Marseille-Longchamp\") & (parca.Polluant==\"Particules PM2,5\")]"
   ]
  },
  {
   "cell_type": "code",
   "execution_count": 57,
   "metadata": {},
   "outputs": [],
   "source": [
    "parca_table = parca_table.drop(columns=['Polluant','Mesure','Unité'])"
   ]
  },
  {
   "cell_type": "code",
   "execution_count": 58,
   "metadata": {},
   "outputs": [],
   "source": [
    "parca_table=parca_table.set_index(parca_table['Station']).drop(columns='Station').transpose()\n",
    "parca_table.columns.name=\"date\"\n",
    "def converttype(v):\n",
    "    if v =='-':\n",
    "        return None\n",
    "    else:\n",
    "        return int(v)"
   ]
  },
  {
   "cell_type": "code",
   "execution_count": 60,
   "metadata": {},
   "outputs": [],
   "source": [
    "parca_table=parca_table.applymap(converttype)"
   ]
  },
  {
   "cell_type": "code",
   "execution_count": 7,
   "metadata": {},
   "outputs": [],
   "source": [
    "pm25_path    = \"data/20180101_20180806-PA04C_auto.csv\"\n",
    "table=pd.read_csv(pm25_path ,sep=';').drop(0,axis=0)\n",
    "table=table.rename(mapper={'heure':'hour'},axis=1)\n",
    "table['date time'] = list(map(lambda stringdate,\n",
    "         dhour: datetime.strptime(stringdate,'%d/%m/%Y').replace(hour=int(dhour)-1),\n",
    "         table['date'],table['hour']))"
   ]
  },
  {
   "cell_type": "code",
   "execution_count": 13,
   "metadata": {},
   "outputs": [],
   "source": [
    "newest_datetime   = max(table['date time'])\n",
    "earliest_datetime = min(table['date time'])"
   ]
  },
  {
   "cell_type": "code",
   "execution_count": 32,
   "metadata": {
    "collapsed": true
   },
   "outputs": [],
   "source": [
    "# ggtrend\n",
    "pytrends = TrendReq(hl='En-US', tz=-120)\n",
    "kw_list =  [pytrends.suggestions(\"air pollution\")[0]['mid']]"
   ]
  },
  {
   "cell_type": "code",
   "execution_count": 33,
   "metadata": {},
   "outputs": [
    {
     "name": "stdout",
     "output_type": "stream",
     "text": [
      "The request failed: Google returned a response with code 500.\n",
      "The request failed: Google returned a response with code 500.\n"
     ]
    }
   ],
   "source": [
    "ggtrend = pytrends.get_historical_interest(kw_list, \n",
    "                                 year_start=earliest_datetime.year,\n",
    "                                          month_start=earliest_datetime.month, \n",
    "                                          day_start=earliest_datetime.days_in_month, \n",
    "                                          hour_start=earliest_datetime.hour, \n",
    "                                 year_end=newest_datetime.year,\n",
    "                                          month_end=newest_datetime.month, \n",
    "                                          day_end=newest_datetime.days_in_month, \n",
    "                                          hour_end=newest_datetime.hour, \n",
    "                                 cat=0, # all categorical\n",
    "                                          geo='FR-J',  # france ile-defrance\n",
    "                                          gprop='',  # no specific group # image #hastag etc\n",
    "                                          sleep=0)"
   ]
  },
  {
   "cell_type": "code",
   "execution_count": 35,
   "metadata": {
    "collapsed": true
   },
   "outputs": [],
   "source": [
    "ggtrend.reset_index(inplace=True)"
   ]
  },
  {
   "cell_type": "code",
   "execution_count": 37,
   "metadata": {
    "collapsed": true
   },
   "outputs": [],
   "source": [
    "ggtrend.columns=Index(['date time', 'air pollution topic','isPartial'], dtype='object')"
   ]
  },
  {
   "cell_type": "code",
   "execution_count": 39,
   "metadata": {
    "collapsed": true
   },
   "outputs": [],
   "source": [
    "merged_t=table.merge(ggtrend,left_on='date time',right_on='date time')"
   ]
  },
  {
   "cell_type": "code",
   "execution_count": 41,
   "metadata": {
    "collapsed": true
   },
   "outputs": [],
   "source": [
    "def str2int(mstr):\n",
    "    if mstr == 'n/d':\n",
    "        return None\n",
    "    else: return int(mstr)"
   ]
  },
  {
   "cell_type": "code",
   "execution_count": 42,
   "metadata": {
    "collapsed": true
   },
   "outputs": [],
   "source": [
    "merged_t['PM25']=list(map(lambda mstr: str2int(mstr),merged_t['PM25']))"
   ]
  },
  {
   "cell_type": "code",
   "execution_count": 37,
   "metadata": {
    "collapsed": true
   },
   "outputs": [],
   "source": [
    "# merged_t.PA04C =merged_t.PA04C.fillna(method='ffill')"
   ]
  },
  {
   "cell_type": "code",
   "execution_count": 43,
   "metadata": {
    "collapsed": true
   },
   "outputs": [],
   "source": [
    "merged_t['air pollution topic']=merged_t['air pollution topic'].astype(np.int8)"
   ]
  },
  {
   "cell_type": "code",
   "execution_count": null,
   "metadata": {
    "collapsed": true
   },
   "outputs": [],
   "source": [
    "# cross-correlation"
   ]
  },
  {
   "cell_type": "code",
   "execution_count": 44,
   "metadata": {
    "collapsed": true
   },
   "outputs": [],
   "source": [
    "def df_derived_by_shift(df,lag=0,NON_DER=[]):\n",
    "    df = df.copy()\n",
    "    if not lag:\n",
    "        return df\n",
    "    cols ={}\n",
    "    for i in range(1,lag+1):\n",
    "        for x in list(df.columns):\n",
    "            if x not in NON_DER:\n",
    "                if not x in cols:\n",
    "                    cols[x] = ['{}_{}'.format(x, i)]\n",
    "                else:\n",
    "                    cols[x].append('{}_{}'.format(x, i))\n",
    "    for k,v in cols.items():\n",
    "        columns = v\n",
    "        dfn = pd.DataFrame(data=None, columns=columns, index=df.index)    \n",
    "        i = 1\n",
    "        for c in columns:\n",
    "            dfn[c] = df[k].shift(periods=i)\n",
    "            i+=1\n",
    "        df = pd.concat([df, dfn], axis=1, join_axes=[df.index])\n",
    "    return df"
   ]
  },
  {
   "cell_type": "code",
   "execution_count": 46,
   "metadata": {},
   "outputs": [],
   "source": [
    "cross_correlation=merged_t[['air pollution topic','PM25']]"
   ]
  },
  {
   "cell_type": "code",
   "execution_count": 47,
   "metadata": {
    "collapsed": true
   },
   "outputs": [],
   "source": [
    "new_cross=df_derived_by_shift(cross_correlation,lag=6)"
   ]
  },
  {
   "cell_type": "code",
   "execution_count": 48,
   "metadata": {
    "collapsed": true
   },
   "outputs": [],
   "source": [
    "new_cross = new_cross.dropna()"
   ]
  },
  {
   "cell_type": "code",
   "execution_count": 49,
   "metadata": {
    "scrolled": true
   },
   "outputs": [
    {
     "data": {
      "text/html": [
       "<div>\n",
       "<style scoped>\n",
       "    .dataframe tbody tr th:only-of-type {\n",
       "        vertical-align: middle;\n",
       "    }\n",
       "\n",
       "    .dataframe tbody tr th {\n",
       "        vertical-align: top;\n",
       "    }\n",
       "\n",
       "    .dataframe thead th {\n",
       "        text-align: right;\n",
       "    }\n",
       "</style>\n",
       "<table border=\"1\" class=\"dataframe\">\n",
       "  <thead>\n",
       "    <tr style=\"text-align: right;\">\n",
       "      <th></th>\n",
       "      <th>air pollution topic</th>\n",
       "      <th>PM25</th>\n",
       "      <th>air pollution topic_1</th>\n",
       "      <th>air pollution topic_2</th>\n",
       "      <th>air pollution topic_3</th>\n",
       "      <th>air pollution topic_4</th>\n",
       "      <th>air pollution topic_5</th>\n",
       "      <th>air pollution topic_6</th>\n",
       "      <th>PM25_1</th>\n",
       "      <th>PM25_2</th>\n",
       "      <th>PM25_3</th>\n",
       "      <th>PM25_4</th>\n",
       "      <th>PM25_5</th>\n",
       "      <th>PM25_6</th>\n",
       "    </tr>\n",
       "  </thead>\n",
       "  <tbody>\n",
       "    <tr>\n",
       "      <th>6</th>\n",
       "      <td>68</td>\n",
       "      <td>6.0</td>\n",
       "      <td>92.0</td>\n",
       "      <td>0.0</td>\n",
       "      <td>0.0</td>\n",
       "      <td>43.0</td>\n",
       "      <td>30.0</td>\n",
       "      <td>35.0</td>\n",
       "      <td>7.0</td>\n",
       "      <td>8.0</td>\n",
       "      <td>6.0</td>\n",
       "      <td>5.0</td>\n",
       "      <td>6.0</td>\n",
       "      <td>7.0</td>\n",
       "    </tr>\n",
       "    <tr>\n",
       "      <th>7</th>\n",
       "      <td>31</td>\n",
       "      <td>4.0</td>\n",
       "      <td>68.0</td>\n",
       "      <td>92.0</td>\n",
       "      <td>0.0</td>\n",
       "      <td>0.0</td>\n",
       "      <td>43.0</td>\n",
       "      <td>30.0</td>\n",
       "      <td>6.0</td>\n",
       "      <td>7.0</td>\n",
       "      <td>8.0</td>\n",
       "      <td>6.0</td>\n",
       "      <td>5.0</td>\n",
       "      <td>6.0</td>\n",
       "    </tr>\n",
       "    <tr>\n",
       "      <th>8</th>\n",
       "      <td>40</td>\n",
       "      <td>7.0</td>\n",
       "      <td>31.0</td>\n",
       "      <td>68.0</td>\n",
       "      <td>92.0</td>\n",
       "      <td>0.0</td>\n",
       "      <td>0.0</td>\n",
       "      <td>43.0</td>\n",
       "      <td>4.0</td>\n",
       "      <td>6.0</td>\n",
       "      <td>7.0</td>\n",
       "      <td>8.0</td>\n",
       "      <td>6.0</td>\n",
       "      <td>5.0</td>\n",
       "    </tr>\n",
       "    <tr>\n",
       "      <th>9</th>\n",
       "      <td>46</td>\n",
       "      <td>7.0</td>\n",
       "      <td>40.0</td>\n",
       "      <td>31.0</td>\n",
       "      <td>68.0</td>\n",
       "      <td>92.0</td>\n",
       "      <td>0.0</td>\n",
       "      <td>0.0</td>\n",
       "      <td>7.0</td>\n",
       "      <td>4.0</td>\n",
       "      <td>6.0</td>\n",
       "      <td>7.0</td>\n",
       "      <td>8.0</td>\n",
       "      <td>6.0</td>\n",
       "    </tr>\n",
       "    <tr>\n",
       "      <th>10</th>\n",
       "      <td>29</td>\n",
       "      <td>2.0</td>\n",
       "      <td>46.0</td>\n",
       "      <td>40.0</td>\n",
       "      <td>31.0</td>\n",
       "      <td>68.0</td>\n",
       "      <td>92.0</td>\n",
       "      <td>0.0</td>\n",
       "      <td>7.0</td>\n",
       "      <td>7.0</td>\n",
       "      <td>4.0</td>\n",
       "      <td>6.0</td>\n",
       "      <td>7.0</td>\n",
       "      <td>8.0</td>\n",
       "    </tr>\n",
       "    <tr>\n",
       "      <th>11</th>\n",
       "      <td>28</td>\n",
       "      <td>3.0</td>\n",
       "      <td>29.0</td>\n",
       "      <td>46.0</td>\n",
       "      <td>40.0</td>\n",
       "      <td>31.0</td>\n",
       "      <td>68.0</td>\n",
       "      <td>92.0</td>\n",
       "      <td>2.0</td>\n",
       "      <td>7.0</td>\n",
       "      <td>7.0</td>\n",
       "      <td>4.0</td>\n",
       "      <td>6.0</td>\n",
       "      <td>7.0</td>\n",
       "    </tr>\n",
       "    <tr>\n",
       "      <th>12</th>\n",
       "      <td>26</td>\n",
       "      <td>3.0</td>\n",
       "      <td>28.0</td>\n",
       "      <td>29.0</td>\n",
       "      <td>46.0</td>\n",
       "      <td>40.0</td>\n",
       "      <td>31.0</td>\n",
       "      <td>68.0</td>\n",
       "      <td>3.0</td>\n",
       "      <td>2.0</td>\n",
       "      <td>7.0</td>\n",
       "      <td>7.0</td>\n",
       "      <td>4.0</td>\n",
       "      <td>6.0</td>\n",
       "    </tr>\n",
       "    <tr>\n",
       "      <th>13</th>\n",
       "      <td>44</td>\n",
       "      <td>2.0</td>\n",
       "      <td>26.0</td>\n",
       "      <td>28.0</td>\n",
       "      <td>29.0</td>\n",
       "      <td>46.0</td>\n",
       "      <td>40.0</td>\n",
       "      <td>31.0</td>\n",
       "      <td>3.0</td>\n",
       "      <td>3.0</td>\n",
       "      <td>2.0</td>\n",
       "      <td>7.0</td>\n",
       "      <td>7.0</td>\n",
       "      <td>4.0</td>\n",
       "    </tr>\n",
       "    <tr>\n",
       "      <th>14</th>\n",
       "      <td>19</td>\n",
       "      <td>5.0</td>\n",
       "      <td>44.0</td>\n",
       "      <td>26.0</td>\n",
       "      <td>28.0</td>\n",
       "      <td>29.0</td>\n",
       "      <td>46.0</td>\n",
       "      <td>40.0</td>\n",
       "      <td>2.0</td>\n",
       "      <td>3.0</td>\n",
       "      <td>3.0</td>\n",
       "      <td>2.0</td>\n",
       "      <td>7.0</td>\n",
       "      <td>7.0</td>\n",
       "    </tr>\n",
       "    <tr>\n",
       "      <th>15</th>\n",
       "      <td>25</td>\n",
       "      <td>6.0</td>\n",
       "      <td>19.0</td>\n",
       "      <td>44.0</td>\n",
       "      <td>26.0</td>\n",
       "      <td>28.0</td>\n",
       "      <td>29.0</td>\n",
       "      <td>46.0</td>\n",
       "      <td>5.0</td>\n",
       "      <td>2.0</td>\n",
       "      <td>3.0</td>\n",
       "      <td>3.0</td>\n",
       "      <td>2.0</td>\n",
       "      <td>7.0</td>\n",
       "    </tr>\n",
       "  </tbody>\n",
       "</table>\n",
       "</div>"
      ],
      "text/plain": [
       "    air pollution topic  PM25  air pollution topic_1  air pollution topic_2  \\\n",
       "6                    68   6.0                   92.0                    0.0   \n",
       "7                    31   4.0                   68.0                   92.0   \n",
       "8                    40   7.0                   31.0                   68.0   \n",
       "9                    46   7.0                   40.0                   31.0   \n",
       "10                   29   2.0                   46.0                   40.0   \n",
       "11                   28   3.0                   29.0                   46.0   \n",
       "12                   26   3.0                   28.0                   29.0   \n",
       "13                   44   2.0                   26.0                   28.0   \n",
       "14                   19   5.0                   44.0                   26.0   \n",
       "15                   25   6.0                   19.0                   44.0   \n",
       "\n",
       "    air pollution topic_3  air pollution topic_4  air pollution topic_5  \\\n",
       "6                     0.0                   43.0                   30.0   \n",
       "7                     0.0                    0.0                   43.0   \n",
       "8                    92.0                    0.0                    0.0   \n",
       "9                    68.0                   92.0                    0.0   \n",
       "10                   31.0                   68.0                   92.0   \n",
       "11                   40.0                   31.0                   68.0   \n",
       "12                   46.0                   40.0                   31.0   \n",
       "13                   29.0                   46.0                   40.0   \n",
       "14                   28.0                   29.0                   46.0   \n",
       "15                   26.0                   28.0                   29.0   \n",
       "\n",
       "    air pollution topic_6  PM25_1  PM25_2  PM25_3  PM25_4  PM25_5  PM25_6  \n",
       "6                    35.0     7.0     8.0     6.0     5.0     6.0     7.0  \n",
       "7                    30.0     6.0     7.0     8.0     6.0     5.0     6.0  \n",
       "8                    43.0     4.0     6.0     7.0     8.0     6.0     5.0  \n",
       "9                     0.0     7.0     4.0     6.0     7.0     8.0     6.0  \n",
       "10                    0.0     7.0     7.0     4.0     6.0     7.0     8.0  \n",
       "11                   92.0     2.0     7.0     7.0     4.0     6.0     7.0  \n",
       "12                   68.0     3.0     2.0     7.0     7.0     4.0     6.0  \n",
       "13                   31.0     3.0     3.0     2.0     7.0     7.0     4.0  \n",
       "14                   40.0     2.0     3.0     3.0     2.0     7.0     7.0  \n",
       "15                   46.0     5.0     2.0     3.0     3.0     2.0     7.0  "
      ]
     },
     "execution_count": 49,
     "metadata": {},
     "output_type": "execute_result"
    }
   ],
   "source": [
    "new_cross.head(10)"
   ]
  },
  {
   "cell_type": "code",
   "execution_count": 50,
   "metadata": {},
   "outputs": [
    {
     "data": {
      "text/plain": [
       "(4251, 14)"
      ]
     },
     "execution_count": 50,
     "metadata": {},
     "output_type": "execute_result"
    }
   ],
   "source": [
    "new_cross.shape"
   ]
  },
  {
   "cell_type": "code",
   "execution_count": 51,
   "metadata": {},
   "outputs": [
    {
     "data": {
      "text/html": [
       "<div>\n",
       "<style scoped>\n",
       "    .dataframe tbody tr th:only-of-type {\n",
       "        vertical-align: middle;\n",
       "    }\n",
       "\n",
       "    .dataframe tbody tr th {\n",
       "        vertical-align: top;\n",
       "    }\n",
       "\n",
       "    .dataframe thead th {\n",
       "        text-align: right;\n",
       "    }\n",
       "</style>\n",
       "<table border=\"1\" class=\"dataframe\">\n",
       "  <thead>\n",
       "    <tr style=\"text-align: right;\">\n",
       "      <th></th>\n",
       "      <th>air pollution topic</th>\n",
       "      <th>PM25</th>\n",
       "      <th>air pollution topic_1</th>\n",
       "      <th>air pollution topic_2</th>\n",
       "      <th>air pollution topic_3</th>\n",
       "      <th>air pollution topic_4</th>\n",
       "      <th>air pollution topic_5</th>\n",
       "      <th>air pollution topic_6</th>\n",
       "      <th>PM25_1</th>\n",
       "      <th>PM25_2</th>\n",
       "      <th>PM25_3</th>\n",
       "      <th>PM25_4</th>\n",
       "      <th>PM25_5</th>\n",
       "      <th>PM25_6</th>\n",
       "    </tr>\n",
       "  </thead>\n",
       "  <tbody>\n",
       "    <tr>\n",
       "      <th>air pollution topic</th>\n",
       "      <td>1.000000</td>\n",
       "      <td>0.098534</td>\n",
       "      <td>0.313700</td>\n",
       "      <td>0.243008</td>\n",
       "      <td>0.249360</td>\n",
       "      <td>0.189773</td>\n",
       "      <td>0.186858</td>\n",
       "      <td>0.168174</td>\n",
       "      <td>0.097775</td>\n",
       "      <td>0.095627</td>\n",
       "      <td>0.097306</td>\n",
       "      <td>0.097275</td>\n",
       "      <td>0.101784</td>\n",
       "      <td>0.108554</td>\n",
       "    </tr>\n",
       "    <tr>\n",
       "      <th>PM25</th>\n",
       "      <td>0.098534</td>\n",
       "      <td>1.000000</td>\n",
       "      <td>0.098528</td>\n",
       "      <td>0.095322</td>\n",
       "      <td>0.099188</td>\n",
       "      <td>0.094993</td>\n",
       "      <td>0.088930</td>\n",
       "      <td>0.082827</td>\n",
       "      <td>0.965778</td>\n",
       "      <td>0.919378</td>\n",
       "      <td>0.873928</td>\n",
       "      <td>0.832493</td>\n",
       "      <td>0.796621</td>\n",
       "      <td>0.765809</td>\n",
       "    </tr>\n",
       "    <tr>\n",
       "      <th>air pollution topic_1</th>\n",
       "      <td>0.313700</td>\n",
       "      <td>0.098528</td>\n",
       "      <td>1.000000</td>\n",
       "      <td>0.313287</td>\n",
       "      <td>0.241853</td>\n",
       "      <td>0.248071</td>\n",
       "      <td>0.190388</td>\n",
       "      <td>0.186471</td>\n",
       "      <td>0.096768</td>\n",
       "      <td>0.095587</td>\n",
       "      <td>0.092793</td>\n",
       "      <td>0.094922</td>\n",
       "      <td>0.095830</td>\n",
       "      <td>0.099804</td>\n",
       "    </tr>\n",
       "    <tr>\n",
       "      <th>air pollution topic_2</th>\n",
       "      <td>0.243008</td>\n",
       "      <td>0.095322</td>\n",
       "      <td>0.313287</td>\n",
       "      <td>1.000000</td>\n",
       "      <td>0.314491</td>\n",
       "      <td>0.243067</td>\n",
       "      <td>0.248274</td>\n",
       "      <td>0.191795</td>\n",
       "      <td>0.099253</td>\n",
       "      <td>0.097513</td>\n",
       "      <td>0.096582</td>\n",
       "      <td>0.093415</td>\n",
       "      <td>0.095714</td>\n",
       "      <td>0.096860</td>\n",
       "    </tr>\n",
       "    <tr>\n",
       "      <th>air pollution topic_3</th>\n",
       "      <td>0.249360</td>\n",
       "      <td>0.099188</td>\n",
       "      <td>0.241853</td>\n",
       "      <td>0.314491</td>\n",
       "      <td>1.000000</td>\n",
       "      <td>0.313420</td>\n",
       "      <td>0.245354</td>\n",
       "      <td>0.245540</td>\n",
       "      <td>0.095329</td>\n",
       "      <td>0.099520</td>\n",
       "      <td>0.097757</td>\n",
       "      <td>0.096594</td>\n",
       "      <td>0.093669</td>\n",
       "      <td>0.095792</td>\n",
       "    </tr>\n",
       "    <tr>\n",
       "      <th>air pollution topic_4</th>\n",
       "      <td>0.189773</td>\n",
       "      <td>0.094993</td>\n",
       "      <td>0.248071</td>\n",
       "      <td>0.243067</td>\n",
       "      <td>0.313420</td>\n",
       "      <td>1.000000</td>\n",
       "      <td>0.314406</td>\n",
       "      <td>0.243532</td>\n",
       "      <td>0.098747</td>\n",
       "      <td>0.094704</td>\n",
       "      <td>0.098355</td>\n",
       "      <td>0.096151</td>\n",
       "      <td>0.095327</td>\n",
       "      <td>0.092625</td>\n",
       "    </tr>\n",
       "    <tr>\n",
       "      <th>air pollution topic_5</th>\n",
       "      <td>0.186858</td>\n",
       "      <td>0.088930</td>\n",
       "      <td>0.190388</td>\n",
       "      <td>0.248274</td>\n",
       "      <td>0.245354</td>\n",
       "      <td>0.314406</td>\n",
       "      <td>1.000000</td>\n",
       "      <td>0.315839</td>\n",
       "      <td>0.095015</td>\n",
       "      <td>0.099052</td>\n",
       "      <td>0.095012</td>\n",
       "      <td>0.097919</td>\n",
       "      <td>0.095281</td>\n",
       "      <td>0.094704</td>\n",
       "    </tr>\n",
       "    <tr>\n",
       "      <th>air pollution topic_6</th>\n",
       "      <td>0.168174</td>\n",
       "      <td>0.082827</td>\n",
       "      <td>0.186471</td>\n",
       "      <td>0.191795</td>\n",
       "      <td>0.245540</td>\n",
       "      <td>0.243532</td>\n",
       "      <td>0.315839</td>\n",
       "      <td>1.000000</td>\n",
       "      <td>0.091621</td>\n",
       "      <td>0.097805</td>\n",
       "      <td>0.101612</td>\n",
       "      <td>0.097193</td>\n",
       "      <td>0.100505</td>\n",
       "      <td>0.098084</td>\n",
       "    </tr>\n",
       "    <tr>\n",
       "      <th>PM25_1</th>\n",
       "      <td>0.097775</td>\n",
       "      <td>0.965778</td>\n",
       "      <td>0.096768</td>\n",
       "      <td>0.099253</td>\n",
       "      <td>0.095329</td>\n",
       "      <td>0.098747</td>\n",
       "      <td>0.095015</td>\n",
       "      <td>0.091621</td>\n",
       "      <td>1.000000</td>\n",
       "      <td>0.965933</td>\n",
       "      <td>0.919333</td>\n",
       "      <td>0.873627</td>\n",
       "      <td>0.832207</td>\n",
       "      <td>0.796315</td>\n",
       "    </tr>\n",
       "    <tr>\n",
       "      <th>PM25_2</th>\n",
       "      <td>0.095627</td>\n",
       "      <td>0.919378</td>\n",
       "      <td>0.095587</td>\n",
       "      <td>0.097513</td>\n",
       "      <td>0.099520</td>\n",
       "      <td>0.094704</td>\n",
       "      <td>0.099052</td>\n",
       "      <td>0.097805</td>\n",
       "      <td>0.965933</td>\n",
       "      <td>1.000000</td>\n",
       "      <td>0.965860</td>\n",
       "      <td>0.919456</td>\n",
       "      <td>0.874082</td>\n",
       "      <td>0.832650</td>\n",
       "    </tr>\n",
       "    <tr>\n",
       "      <th>PM25_3</th>\n",
       "      <td>0.097306</td>\n",
       "      <td>0.873928</td>\n",
       "      <td>0.092793</td>\n",
       "      <td>0.096582</td>\n",
       "      <td>0.097757</td>\n",
       "      <td>0.098355</td>\n",
       "      <td>0.095012</td>\n",
       "      <td>0.101612</td>\n",
       "      <td>0.919333</td>\n",
       "      <td>0.965860</td>\n",
       "      <td>1.000000</td>\n",
       "      <td>0.966009</td>\n",
       "      <td>0.919985</td>\n",
       "      <td>0.874632</td>\n",
       "    </tr>\n",
       "    <tr>\n",
       "      <th>PM25_4</th>\n",
       "      <td>0.097275</td>\n",
       "      <td>0.832493</td>\n",
       "      <td>0.094922</td>\n",
       "      <td>0.093415</td>\n",
       "      <td>0.096594</td>\n",
       "      <td>0.096151</td>\n",
       "      <td>0.097919</td>\n",
       "      <td>0.097193</td>\n",
       "      <td>0.873627</td>\n",
       "      <td>0.919456</td>\n",
       "      <td>0.966009</td>\n",
       "      <td>1.000000</td>\n",
       "      <td>0.966111</td>\n",
       "      <td>0.920061</td>\n",
       "    </tr>\n",
       "    <tr>\n",
       "      <th>PM25_5</th>\n",
       "      <td>0.101784</td>\n",
       "      <td>0.796621</td>\n",
       "      <td>0.095830</td>\n",
       "      <td>0.095714</td>\n",
       "      <td>0.093669</td>\n",
       "      <td>0.095327</td>\n",
       "      <td>0.095281</td>\n",
       "      <td>0.100505</td>\n",
       "      <td>0.832207</td>\n",
       "      <td>0.874082</td>\n",
       "      <td>0.919985</td>\n",
       "      <td>0.966111</td>\n",
       "      <td>1.000000</td>\n",
       "      <td>0.966004</td>\n",
       "    </tr>\n",
       "    <tr>\n",
       "      <th>PM25_6</th>\n",
       "      <td>0.108554</td>\n",
       "      <td>0.765809</td>\n",
       "      <td>0.099804</td>\n",
       "      <td>0.096860</td>\n",
       "      <td>0.095792</td>\n",
       "      <td>0.092625</td>\n",
       "      <td>0.094704</td>\n",
       "      <td>0.098084</td>\n",
       "      <td>0.796315</td>\n",
       "      <td>0.832650</td>\n",
       "      <td>0.874632</td>\n",
       "      <td>0.920061</td>\n",
       "      <td>0.966004</td>\n",
       "      <td>1.000000</td>\n",
       "    </tr>\n",
       "  </tbody>\n",
       "</table>\n",
       "</div>"
      ],
      "text/plain": [
       "                       air pollution topic      PM25  air pollution topic_1  \\\n",
       "air pollution topic               1.000000  0.098534               0.313700   \n",
       "PM25                              0.098534  1.000000               0.098528   \n",
       "air pollution topic_1             0.313700  0.098528               1.000000   \n",
       "air pollution topic_2             0.243008  0.095322               0.313287   \n",
       "air pollution topic_3             0.249360  0.099188               0.241853   \n",
       "air pollution topic_4             0.189773  0.094993               0.248071   \n",
       "air pollution topic_5             0.186858  0.088930               0.190388   \n",
       "air pollution topic_6             0.168174  0.082827               0.186471   \n",
       "PM25_1                            0.097775  0.965778               0.096768   \n",
       "PM25_2                            0.095627  0.919378               0.095587   \n",
       "PM25_3                            0.097306  0.873928               0.092793   \n",
       "PM25_4                            0.097275  0.832493               0.094922   \n",
       "PM25_5                            0.101784  0.796621               0.095830   \n",
       "PM25_6                            0.108554  0.765809               0.099804   \n",
       "\n",
       "                       air pollution topic_2  air pollution topic_3  \\\n",
       "air pollution topic                 0.243008               0.249360   \n",
       "PM25                                0.095322               0.099188   \n",
       "air pollution topic_1               0.313287               0.241853   \n",
       "air pollution topic_2               1.000000               0.314491   \n",
       "air pollution topic_3               0.314491               1.000000   \n",
       "air pollution topic_4               0.243067               0.313420   \n",
       "air pollution topic_5               0.248274               0.245354   \n",
       "air pollution topic_6               0.191795               0.245540   \n",
       "PM25_1                              0.099253               0.095329   \n",
       "PM25_2                              0.097513               0.099520   \n",
       "PM25_3                              0.096582               0.097757   \n",
       "PM25_4                              0.093415               0.096594   \n",
       "PM25_5                              0.095714               0.093669   \n",
       "PM25_6                              0.096860               0.095792   \n",
       "\n",
       "                       air pollution topic_4  air pollution topic_5  \\\n",
       "air pollution topic                 0.189773               0.186858   \n",
       "PM25                                0.094993               0.088930   \n",
       "air pollution topic_1               0.248071               0.190388   \n",
       "air pollution topic_2               0.243067               0.248274   \n",
       "air pollution topic_3               0.313420               0.245354   \n",
       "air pollution topic_4               1.000000               0.314406   \n",
       "air pollution topic_5               0.314406               1.000000   \n",
       "air pollution topic_6               0.243532               0.315839   \n",
       "PM25_1                              0.098747               0.095015   \n",
       "PM25_2                              0.094704               0.099052   \n",
       "PM25_3                              0.098355               0.095012   \n",
       "PM25_4                              0.096151               0.097919   \n",
       "PM25_5                              0.095327               0.095281   \n",
       "PM25_6                              0.092625               0.094704   \n",
       "\n",
       "                       air pollution topic_6    PM25_1    PM25_2    PM25_3  \\\n",
       "air pollution topic                 0.168174  0.097775  0.095627  0.097306   \n",
       "PM25                                0.082827  0.965778  0.919378  0.873928   \n",
       "air pollution topic_1               0.186471  0.096768  0.095587  0.092793   \n",
       "air pollution topic_2               0.191795  0.099253  0.097513  0.096582   \n",
       "air pollution topic_3               0.245540  0.095329  0.099520  0.097757   \n",
       "air pollution topic_4               0.243532  0.098747  0.094704  0.098355   \n",
       "air pollution topic_5               0.315839  0.095015  0.099052  0.095012   \n",
       "air pollution topic_6               1.000000  0.091621  0.097805  0.101612   \n",
       "PM25_1                              0.091621  1.000000  0.965933  0.919333   \n",
       "PM25_2                              0.097805  0.965933  1.000000  0.965860   \n",
       "PM25_3                              0.101612  0.919333  0.965860  1.000000   \n",
       "PM25_4                              0.097193  0.873627  0.919456  0.966009   \n",
       "PM25_5                              0.100505  0.832207  0.874082  0.919985   \n",
       "PM25_6                              0.098084  0.796315  0.832650  0.874632   \n",
       "\n",
       "                         PM25_4    PM25_5    PM25_6  \n",
       "air pollution topic    0.097275  0.101784  0.108554  \n",
       "PM25                   0.832493  0.796621  0.765809  \n",
       "air pollution topic_1  0.094922  0.095830  0.099804  \n",
       "air pollution topic_2  0.093415  0.095714  0.096860  \n",
       "air pollution topic_3  0.096594  0.093669  0.095792  \n",
       "air pollution topic_4  0.096151  0.095327  0.092625  \n",
       "air pollution topic_5  0.097919  0.095281  0.094704  \n",
       "air pollution topic_6  0.097193  0.100505  0.098084  \n",
       "PM25_1                 0.873627  0.832207  0.796315  \n",
       "PM25_2                 0.919456  0.874082  0.832650  \n",
       "PM25_3                 0.966009  0.919985  0.874632  \n",
       "PM25_4                 1.000000  0.966111  0.920061  \n",
       "PM25_5                 0.966111  1.000000  0.966004  \n",
       "PM25_6                 0.920061  0.966004  1.000000  "
      ]
     },
     "execution_count": 51,
     "metadata": {},
     "output_type": "execute_result"
    }
   ],
   "source": [
    "new_cross.corr()"
   ]
  },
  {
   "cell_type": "code",
   "execution_count": 59,
   "metadata": {
    "collapsed": true
   },
   "outputs": [],
   "source": [
    "merged_t.to_csv(\"merged_data_airparif.csv\")"
   ]
  },
  {
   "cell_type": "code",
   "execution_count": 52,
   "metadata": {
    "collapsed": true
   },
   "outputs": [],
   "source": [
    "df_new =new_cross"
   ]
  },
  {
   "cell_type": "code",
   "execution_count": 53,
   "metadata": {
    "collapsed": true
   },
   "outputs": [],
   "source": [
    "import matplotlib.pyplot as plt\n",
    "import numpy as np\n",
    "import seaborn as sns"
   ]
  },
  {
   "cell_type": "code",
   "execution_count": 54,
   "metadata": {
    "collapsed": true
   },
   "outputs": [],
   "source": [
    "colormap = plt.cm.RdBu\n",
    "plt.figure(figsize=(15,10))\n",
    "plt.title(u'6 hours', y=1.05, size=16)\n",
    "\n",
    "mask = np.zeros_like(df_new.corr())\n",
    "mask[np.triu_indices_from(mask)] = True\n",
    "\n",
    "svm = sns.heatmap(df_new.corr(), mask=mask, linewidths=0.1,vmax=1.0, \n",
    "            square=True, cmap=colormap, linecolor='white', annot=True)"
   ]
  },
  {
   "cell_type": "code",
   "execution_count": 55,
   "metadata": {
    "scrolled": false
   },
   "outputs": [
    {
     "data": {
      "image/png": "[encoded data removed]",
      "text/plain": [
       "<matplotlib.figure.Figure at 0x1b5b0226c50>"
      ]
     },
     "metadata": {},
     "output_type": "display_data"
    }
   ],
   "source": [
    "plt.show()"
   ]
  }
 ],
 "metadata": {
  "kernelspec": {
   "display_name": "Python 3",
   "language": "python",
   "name": "python3"
  },
  "language_info": {
   "codemirror_mode": {
    "name": "ipython",
    "version": 3
   },
   "file_extension": ".py",
   "mimetype": "text/x-python",
   "name": "python",
   "nbconvert_exporter": "python",
   "pygments_lexer": "ipython3",
   "version": "3.6.4"
  }
 },
 "nbformat": 4,
 "nbformat_minor": 2
}
