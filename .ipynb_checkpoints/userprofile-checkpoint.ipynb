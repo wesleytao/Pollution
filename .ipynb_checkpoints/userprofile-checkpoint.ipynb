{
 "cells": [
  {
   "cell_type": "code",
   "execution_count": 1,
   "metadata": {
    "collapsed": true
   },
   "outputs": [],
   "source": [
    "import pickle\n",
    "import pandas as pd\n",
    "from tqdm import tqdm_notebook,tqdm\n",
    "import datetime\n",
    "import re \n"
   ]
  },
  {
   "cell_type": "code",
   "execution_count": 2,
   "metadata": {
    "collapsed": true
   },
   "outputs": [],
   "source": [
    "path='output/placejson.p'"
   ]
  },
  {
   "cell_type": "code",
   "execution_count": 3,
   "metadata": {
    "collapsed": true
   },
   "outputs": [],
   "source": [
    "with open(path,mode='br') as f:\n",
    "    placejson=pickle.load(f,encoding='utf-8')"
   ]
  },
  {
   "cell_type": "code",
   "execution_count": 4,
   "metadata": {
    "collapsed": true
   },
   "outputs": [],
   "source": [
    "userattribute = [attribute for attribute in set(placejson[0]['user'])]"
   ]
  },
  {
   "cell_type": "code",
   "execution_count": 5,
   "metadata": {
    "scrolled": true
   },
   "outputs": [
    {
     "data": {
      "application/vnd.jupyter.widget-view+json": {
       "model_id": "61110ba06ca94252b9fea09169f430bb"
      }
     },
     "metadata": {},
     "output_type": "display_data"
    },
    {
     "name": "stdout",
     "output_type": "stream",
     "text": [
      "\n"
     ]
    }
   ],
   "source": [
    "userprofile=pd.DataFrame()\n",
    "for attribute in tqdm(userattribute):\n",
    "    userprofile[attribute] = list(map(lambda thistweet: thistweet['user'][attribute] if attribute in thistweet['user'].keys() else None,placejson)) "
   ]
  },
  {
   "cell_type": "code",
   "execution_count": 6,
   "metadata": {
    "collapsed": true
   },
   "outputs": [],
   "source": [
    "def get_full_text(tweet):\n",
    "    try:\n",
    "        return(tweet[\"extended_tweet\"][\"full_text\"])\n",
    "    except:\n",
    "        return(tweet[\"text\"])"
   ]
  },
  {
   "cell_type": "code",
   "execution_count": 7,
   "metadata": {
    "collapsed": true
   },
   "outputs": [],
   "source": [
    "userprofile['text']=list(map(lambda tweet: get_full_text(tweet), placejson))"
   ]
  },
  {
   "cell_type": "code",
   "execution_count": 8,
   "metadata": {},
   "outputs": [],
   "source": [
    "pollution = [\"air #pollution\", \"空气污染\", \"#airpollution\", \"वायु प्रदुषण\", \"la pollution de l'air\", \"la #pollution\",\n",
    "            \"air #pollution\", \"l'air #pollution\", \"वायु प्रदुषण\",'air quality','smog','embouteillage']\n",
    "climate_change=['changement climatique','#changementclimatique']\n",
    "\n",
    "forest_file = [\"forest fire\", \"forest fires\"]\n",
    "water_flood = [\"water poisoning\", \"water contamination\",\"flood flash\", 'flood water', \"flood warning\"]\n",
    "earthquake  = [\"earthquake\"]\n",
    "oil_spill =     [\"oil spill\", \"pipeline spill\", \"tarsands spill\", \"tankers spill\", \"fossilfuel spill\", \"petroleum spill\"]\n",
    "toxic_mildew = [\"acid rain\", \"toxic rain\", \"mildew home\", \"mildew infested\", \"mildew basement\", \"mildew removal\", \n",
    "                \"mildew growth\", \"mildew inspection\", \"mold flood\", \"mildew flood\"]\n",
    "bug = [\"adelgid\", \"aphid\", \"beetle\", \"earwig\", \"insect\", \"locust\", \"louse\", \"moth\", \"psyllid\", \"termites\",\n",
    "              \"termite bites\", \"bug bites\", \"bugs bites\",\"bed bugs\",\"bug\",\"bugs\"]\n",
    "allergy  = \"\"\"allergy\n",
    "allergins\n",
    "pollen\n",
    "dander\n",
    "allergy + cough\n",
    "allergies + cough\n",
    "pollen + cough\n",
    "dander + cough\n",
    "dust + cough\n",
    "allergy + sneeze\n",
    "allergies + sneeze\n",
    "pollen + sneeze\n",
    "dander + sneeze\n",
    "dust + sneeze\n",
    "allergy + asthma\n",
    "allergies + asthma\n",
    "pollen + asthma\n",
    "dander + asthma\n",
    "dust + asthma\n",
    "allergy + respiratory\n",
    "allergies + respiratory\n",
    "pollen + respiratory\n",
    "dander + respiratory\n",
    "dust + respiratory\n",
    "allergy + lung\n",
    "allergies + lung\n",
    "pollen + lung\n",
    "dander + lung\n",
    "dust + lung\"\"\".split(\"\\n\")\n",
    "allergy = [word.replace(\"+\", \"\") for word in allergy]\n",
    "allergy = [word.replace(\"  \", \" \") for word in allergy]\n",
    "dust = [\"dust\"]\n"
   ]
  },
  {
   "cell_type": "code",
   "execution_count": 9,
   "metadata": {},
   "outputs": [],
   "source": [
    "pollution_re          = re.compile(r'('+'|'.join(pollution)+')',  re.IGNORECASE)\n",
    "climate_change_re  = re.compile(r'('+'|'.join(climate_change)+')',  re.IGNORECASE)\n",
    "forest_file_re     = re.compile(r'('+'|'.join(forest_file)+')',  re.IGNORECASE)\n",
    "water_flood_re     = re.compile(r'('+'|'.join(water_flood)+')',  re.IGNORECASE)\n",
    "earthquake_re      = re.compile(r'('+'|'.join(earthquake )+')',  re.IGNORECASE)\n",
    "oil_spill_re       = re.compile(r'('+'|'.join(oil_spill)+')',  re.IGNORECASE)\n",
    "bug_re             = re.compile(r'('+'|'.join(bug)+')',  re.IGNORECASE)\n",
    "allergy_re         = re.compile(r'('+'|'.join(allergy)+')',  re.IGNORECASE)\n",
    "dust_re            = re.compile(r'('+'|'.join(dust)+')',  re.IGNORECASE)\n",
    "toxic_mildew_re    = re.compile(r'('+'|'.join(toxic_mildew)+')',  re.IGNORECASE)"
   ]
  },
  {
   "cell_type": "code",
   "execution_count": 10,
   "metadata": {},
   "outputs": [
    {
     "name": "stderr",
     "output_type": "stream",
     "text": [
      "100%|██████████| 100/100 [00:39<00:00,  2.02it/s]\n"
     ]
    }
   ],
   "source": [
    "print(\"going to get tweet feature for each user\")\n",
    "with tqdm(total =100) as pbar:\n",
    "    userprofile['pollution'] = list(map(lambda tweet: True if pollution_re.search(tweet) else False,userprofile.text))\n",
    "    pbar.update(10)\n",
    "    userprofile['climate_change'] = list(map(lambda tweet: True if climate_change_re.search(tweet) else False,userprofile.text))\n",
    "    pbar.update(10)\n",
    "    userprofile['forest_file'] = list(map(lambda tweet: True if forest_file_re.search(tweet) else False,userprofile.text))\n",
    "    pbar.update(10)\n",
    "    userprofile['water_flood'] = list(map(lambda tweet: True if water_flood_re.search(tweet) else False,userprofile.text))\n",
    "    pbar.update(10)\n",
    "    userprofile['earthquake'] = list(map(lambda tweet: True if earthquake_re.search(tweet) else False,userprofile.text))\n",
    "    pbar.update(10)\n",
    "    userprofile['oil_spill'] = list(map(lambda tweet: True if oil_spill_re.search(tweet) else False,userprofile.text))\n",
    "    pbar.update(10)\n",
    "    userprofile['bug'] = list(map(lambda tweet: True if bug_re.search(tweet) else False,userprofile.text))\n",
    "    pbar.update(10)\n",
    "    userprofile['allergy'] = list(map(lambda tweet: True if allergy_re.search(tweet) else False,userprofile.text))\n",
    "    pbar.update(10)\n",
    "    userprofile['dust'] = list(map(lambda tweet: True if dust_re.search(tweet) else False,userprofile.text))\n",
    "    pbar.update(10)\n",
    "    userprofile['toxic_mildew'] = list(map(lambda tweet: True if toxic_mildew_re.search(tweet) else False,userprofile.text))\n",
    "    pbar.update(10)"
   ]
  },
  {
   "cell_type": "markdown",
   "metadata": {},
   "source": [
    "# formatting"
   ]
  },
  {
   "cell_type": "code",
   "execution_count": 11,
   "metadata": {
    "collapsed": true
   },
   "outputs": [],
   "source": [
    "userprofile.drop(columns=['id_str'],inplace=True)\n",
    "userprofile.drop_duplicates(inplace=True)"
   ]
  },
  {
   "cell_type": "code",
   "execution_count": 12,
   "metadata": {},
   "outputs": [],
   "source": [
    "# time \n",
    "datetime.datetime.strptime('Tue May 05 15:58:46 +0000 2009','%a %b %d %H:%M:%S %z %Y')\n",
    "userprofile['created_at']=list(map(lambda time: datetime.datetime.strptime(time,'%a %b %d %H:%M:%S %z %Y'),userprofile.created_at))"
   ]
  },
  {
   "cell_type": "code",
   "execution_count": 13,
   "metadata": {},
   "outputs": [
    {
     "data": {
      "text/html": [
       "<div>\n",
       "<style scoped>\n",
       "    .dataframe tbody tr th:only-of-type {\n",
       "        vertical-align: middle;\n",
       "    }\n",
       "\n",
       "    .dataframe tbody tr th {\n",
       "        vertical-align: top;\n",
       "    }\n",
       "\n",
       "    .dataframe thead th {\n",
       "        text-align: right;\n",
       "    }\n",
       "</style>\n",
       "<table border=\"1\" class=\"dataframe\">\n",
       "  <thead>\n",
       "    <tr style=\"text-align: right;\">\n",
       "      <th></th>\n",
       "      <th>default_profile</th>\n",
       "      <th>follow_request_sent</th>\n",
       "      <th>protected</th>\n",
       "      <th>profile_sidebar_fill_color</th>\n",
       "      <th>notifications</th>\n",
       "      <th>geo_enabled</th>\n",
       "      <th>translator_type</th>\n",
       "      <th>profile_background_color</th>\n",
       "      <th>default_profile_image</th>\n",
       "      <th>profile_background_image_url_https</th>\n",
       "      <th>...</th>\n",
       "      <th>pollution</th>\n",
       "      <th>climate_change</th>\n",
       "      <th>forest_file</th>\n",
       "      <th>water_flood</th>\n",
       "      <th>earthquake</th>\n",
       "      <th>oil_spill</th>\n",
       "      <th>bug</th>\n",
       "      <th>allergy</th>\n",
       "      <th>dust</th>\n",
       "      <th>toxic_mildew</th>\n",
       "    </tr>\n",
       "  </thead>\n",
       "  <tbody>\n",
       "    <tr>\n",
       "      <th>0</th>\n",
       "      <td>False</td>\n",
       "      <td>None</td>\n",
       "      <td>False</td>\n",
       "      <td>00F7FF</td>\n",
       "      <td>None</td>\n",
       "      <td>True</td>\n",
       "      <td>none</td>\n",
       "      <td>0033FF</td>\n",
       "      <td>False</td>\n",
       "      <td>https://abs.twimg.com/images/themes/theme1/bg.png</td>\n",
       "      <td>...</td>\n",
       "      <td>False</td>\n",
       "      <td>False</td>\n",
       "      <td>False</td>\n",
       "      <td>False</td>\n",
       "      <td>False</td>\n",
       "      <td>False</td>\n",
       "      <td>True</td>\n",
       "      <td>False</td>\n",
       "      <td>False</td>\n",
       "      <td>False</td>\n",
       "    </tr>\n",
       "    <tr>\n",
       "      <th>1</th>\n",
       "      <td>False</td>\n",
       "      <td>None</td>\n",
       "      <td>False</td>\n",
       "      <td>000000</td>\n",
       "      <td>None</td>\n",
       "      <td>True</td>\n",
       "      <td>none</td>\n",
       "      <td>000000</td>\n",
       "      <td>False</td>\n",
       "      <td>https://abs.twimg.com/images/themes/theme1/bg.png</td>\n",
       "      <td>...</td>\n",
       "      <td>False</td>\n",
       "      <td>False</td>\n",
       "      <td>False</td>\n",
       "      <td>False</td>\n",
       "      <td>False</td>\n",
       "      <td>False</td>\n",
       "      <td>True</td>\n",
       "      <td>False</td>\n",
       "      <td>False</td>\n",
       "      <td>False</td>\n",
       "    </tr>\n",
       "    <tr>\n",
       "      <th>2</th>\n",
       "      <td>True</td>\n",
       "      <td>None</td>\n",
       "      <td>False</td>\n",
       "      <td>DDEEF6</td>\n",
       "      <td>None</td>\n",
       "      <td>True</td>\n",
       "      <td>none</td>\n",
       "      <td>C0DEED</td>\n",
       "      <td>False</td>\n",
       "      <td>https://abs.twimg.com/images/themes/theme1/bg.png</td>\n",
       "      <td>...</td>\n",
       "      <td>False</td>\n",
       "      <td>False</td>\n",
       "      <td>False</td>\n",
       "      <td>False</td>\n",
       "      <td>False</td>\n",
       "      <td>False</td>\n",
       "      <td>False</td>\n",
       "      <td>False</td>\n",
       "      <td>True</td>\n",
       "      <td>False</td>\n",
       "    </tr>\n",
       "    <tr>\n",
       "      <th>3</th>\n",
       "      <td>False</td>\n",
       "      <td>None</td>\n",
       "      <td>False</td>\n",
       "      <td>000000</td>\n",
       "      <td>None</td>\n",
       "      <td>True</td>\n",
       "      <td>none</td>\n",
       "      <td>000000</td>\n",
       "      <td>False</td>\n",
       "      <td>https://abs.twimg.com/images/themes/theme1/bg.png</td>\n",
       "      <td>...</td>\n",
       "      <td>False</td>\n",
       "      <td>False</td>\n",
       "      <td>False</td>\n",
       "      <td>False</td>\n",
       "      <td>False</td>\n",
       "      <td>False</td>\n",
       "      <td>False</td>\n",
       "      <td>False</td>\n",
       "      <td>False</td>\n",
       "      <td>False</td>\n",
       "    </tr>\n",
       "    <tr>\n",
       "      <th>4</th>\n",
       "      <td>True</td>\n",
       "      <td>None</td>\n",
       "      <td>False</td>\n",
       "      <td>DDEEF6</td>\n",
       "      <td>None</td>\n",
       "      <td>True</td>\n",
       "      <td>none</td>\n",
       "      <td>C0DEED</td>\n",
       "      <td>False</td>\n",
       "      <td>https://abs.twimg.com/images/themes/theme1/bg.png</td>\n",
       "      <td>...</td>\n",
       "      <td>False</td>\n",
       "      <td>False</td>\n",
       "      <td>False</td>\n",
       "      <td>False</td>\n",
       "      <td>True</td>\n",
       "      <td>False</td>\n",
       "      <td>False</td>\n",
       "      <td>False</td>\n",
       "      <td>False</td>\n",
       "      <td>False</td>\n",
       "    </tr>\n",
       "  </tbody>\n",
       "</table>\n",
       "<p>5 rows × 49 columns</p>\n",
       "</div>"
      ],
      "text/plain": [
       "   default_profile follow_request_sent  protected profile_sidebar_fill_color  \\\n",
       "0            False                None      False                     00F7FF   \n",
       "1            False                None      False                     000000   \n",
       "2             True                None      False                     DDEEF6   \n",
       "3            False                None      False                     000000   \n",
       "4             True                None      False                     DDEEF6   \n",
       "\n",
       "  notifications  geo_enabled translator_type profile_background_color  \\\n",
       "0          None         True            none                   0033FF   \n",
       "1          None         True            none                   000000   \n",
       "2          None         True            none                   C0DEED   \n",
       "3          None         True            none                   000000   \n",
       "4          None         True            none                   C0DEED   \n",
       "\n",
       "   default_profile_image                 profile_background_image_url_https  \\\n",
       "0                  False  https://abs.twimg.com/images/themes/theme1/bg.png   \n",
       "1                  False  https://abs.twimg.com/images/themes/theme1/bg.png   \n",
       "2                  False  https://abs.twimg.com/images/themes/theme1/bg.png   \n",
       "3                  False  https://abs.twimg.com/images/themes/theme1/bg.png   \n",
       "4                  False  https://abs.twimg.com/images/themes/theme1/bg.png   \n",
       "\n",
       "      ...       pollution  climate_change  forest_file water_flood earthquake  \\\n",
       "0     ...           False           False        False       False      False   \n",
       "1     ...           False           False        False       False      False   \n",
       "2     ...           False           False        False       False      False   \n",
       "3     ...           False           False        False       False      False   \n",
       "4     ...           False           False        False       False       True   \n",
       "\n",
       "  oil_spill    bug allergy   dust toxic_mildew  \n",
       "0     False   True   False  False        False  \n",
       "1     False   True   False  False        False  \n",
       "2     False  False   False   True        False  \n",
       "3     False  False   False  False        False  \n",
       "4     False  False   False  False        False  \n",
       "\n",
       "[5 rows x 49 columns]"
      ]
     },
     "execution_count": 13,
     "metadata": {},
     "output_type": "execute_result"
    }
   ],
   "source": [
    "userprofile.head()"
   ]
  },
  {
   "cell_type": "code",
   "execution_count": 78,
   "metadata": {
    "collapsed": true
   },
   "outputs": [],
   "source": [
    "def get_unified(df):\n",
    "    value_column=['followers_count','statuses_count','listed_count','favourites_count','pollution', 'climate_change', 'forest_file', 'water_flood',\n",
    "       'earthquake', 'oil_spill', 'bug', 'allergy', 'dust', 'toxic_mildew']\n",
    "    other_column=set(userprofile.columns) - set(value_column)\n",
    "    # for non value column we only select one \n",
    "    part_a = df.loc[df.id.drop_duplicates().index]  # index\n",
    "    part_a.drop(columns=value_column,inplace=True)\n",
    "    # for value column we select the max\n",
    "    part_b=df.groupby(['id'])[value_column].max()\n",
    "    part_b.reset_index(inplace=True)\n",
    "    # combine both part\n",
    "    assert(part_a.shape[0]==part_b.shape[0])\n",
    "    mydf=part_a.merge(part_b,on=['id'])\n",
    "    return mydf\n",
    "    "
   ]
  },
  {
   "cell_type": "code",
   "execution_count": 79,
   "metadata": {},
   "outputs": [],
   "source": [
    "userprofile_clean=get_unified(userprofile)"
   ]
  },
  {
   "cell_type": "code",
   "execution_count": 42,
   "metadata": {},
   "outputs": [
    {
     "data": {
      "text/plain": [
       "(108895, 38)"
      ]
     },
     "execution_count": 42,
     "metadata": {},
     "output_type": "execute_result"
    }
   ],
   "source": [
    "userprofile_clean.shape"
   ]
  },
  {
   "cell_type": "code",
   "execution_count": 81,
   "metadata": {
    "collapsed": true
   },
   "outputs": [],
   "source": [
    "userprofile_clean.to_csv(\"userprofile.csv\",index=False)"
   ]
  },
  {
   "cell_type": "code",
   "execution_count": 83,
   "metadata": {},
   "outputs": [
    {
     "data": {
      "text/plain": [
       "1412"
      ]
     },
     "execution_count": 83,
     "metadata": {},
     "output_type": "execute_result"
    }
   ],
   "source": [
    "import gc\n",
    "gc.collect()"
   ]
  }
 ],
 "metadata": {
  "kernelspec": {
   "display_name": "Python 3",
   "language": "python",
   "name": "python3"
  },
  "language_info": {
   "codemirror_mode": {
    "name": "ipython",
    "version": 3
   },
   "file_extension": ".py",
   "mimetype": "text/x-python",
   "name": "python",
   "nbconvert_exporter": "python",
   "pygments_lexer": "ipython3",
   "version": "3.6.1"
  }
 },
 "nbformat": 4,
 "nbformat_minor": 2
}
