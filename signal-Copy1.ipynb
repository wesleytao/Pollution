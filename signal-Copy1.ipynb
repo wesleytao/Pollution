{
 "cells": [
  {
   "cell_type": "code",
   "execution_count": 1,
   "metadata": {
    "collapsed": true
   },
   "outputs": [],
   "source": [
    "import pandas as pd\n",
    "import numpy as np\n",
    "from datetime import datetime\n",
    "import matplotlib.pyplot as plt"
   ]
  },
  {
   "cell_type": "code",
   "execution_count": 2,
   "metadata": {
    "collapsed": true
   },
   "outputs": [],
   "source": [
    "table=pd.read_csv(\"merged_data_airparca.csv\")"
   ]
  },
  {
   "cell_type": "code",
   "execution_count": 3,
   "metadata": {
    "collapsed": true
   },
   "outputs": [],
   "source": [
    "table.drop(columns=['Unnamed: 0'],inplace=True)"
   ]
  },
  {
   "cell_type": "code",
   "execution_count": 4,
   "metadata": {
    "collapsed": true
   },
   "outputs": [],
   "source": [
    "table.drop_duplicates(inplace=True)"
   ]
  },
  {
   "cell_type": "code",
   "execution_count": 5,
   "metadata": {
    "collapsed": true
   },
   "outputs": [],
   "source": [
    "table = table.groupby(\"date time\").max().reset_index()"
   ]
  },
  {
   "cell_type": "code",
   "execution_count": 6,
   "metadata": {
    "collapsed": true
   },
   "outputs": [],
   "source": [
    "full_date_time = pd.date_range(table[['date time']].min()[0],table[['date time']].max()[0],freq='H')"
   ]
  },
  {
   "cell_type": "code",
   "execution_count": 9,
   "metadata": {},
   "outputs": [
    {
     "data": {
      "text/plain": [
       "8232"
      ]
     },
     "execution_count": 9,
     "metadata": {},
     "output_type": "execute_result"
    }
   ],
   "source": [
    "len(set(table['date time']))"
   ]
  },
  {
   "cell_type": "code",
   "execution_count": 10,
   "metadata": {},
   "outputs": [
    {
     "data": {
      "text/plain": [
       "8233"
      ]
     },
     "execution_count": 10,
     "metadata": {},
     "output_type": "execute_result"
    }
   ],
   "source": [
    "len(set(map(lambda mytime: mytime.strftime(\"%Y-%m-%d %H:%M:%S\"),full_date_time.to_series())))"
   ]
  },
  {
   "cell_type": "code",
   "execution_count": 11,
   "metadata": {},
   "outputs": [
    {
     "data": {
      "text/plain": [
       "{'2018-03-25 02:00:00'}"
      ]
     },
     "execution_count": 11,
     "metadata": {},
     "output_type": "execute_result"
    }
   ],
   "source": [
    "set(map(lambda mytime: mytime.strftime(\"%Y-%m-%d %H:%M:%S\"),full_date_time.to_series()))-set(table['date time'])"
   ]
  },
  {
   "cell_type": "code",
   "execution_count": 7,
   "metadata": {},
   "outputs": [
    {
     "data": {
      "text/plain": [
       "False"
      ]
     },
     "execution_count": 7,
     "metadata": {},
     "output_type": "execute_result"
    }
   ],
   "source": [
    "len(set(map(lambda mytime: mytime.strftime(\"%Y-%m-%d %H:%M:%S\"),full_date_time.to_series())))==len(set(table['date time']))"
   ]
  },
  {
   "cell_type": "code",
   "execution_count": 8,
   "metadata": {},
   "outputs": [
    {
     "data": {
      "text/html": [
       "<div>\n",
       "<style scoped>\n",
       "    .dataframe tbody tr th:only-of-type {\n",
       "        vertical-align: middle;\n",
       "    }\n",
       "\n",
       "    .dataframe tbody tr th {\n",
       "        vertical-align: top;\n",
       "    }\n",
       "\n",
       "    .dataframe thead th {\n",
       "        text-align: right;\n",
       "    }\n",
       "</style>\n",
       "<table border=\"1\" class=\"dataframe\">\n",
       "  <thead>\n",
       "    <tr style=\"text-align: right;\">\n",
       "      <th></th>\n",
       "      <th>date time</th>\n",
       "      <th>Marseille-Longchamp</th>\n",
       "      <th>air pollution topic</th>\n",
       "      <th>isPartial</th>\n",
       "    </tr>\n",
       "  </thead>\n",
       "  <tbody>\n",
       "    <tr>\n",
       "      <th>0</th>\n",
       "      <td>2017-08-31 00:00:00</td>\n",
       "      <td>8.0</td>\n",
       "      <td>74.0</td>\n",
       "      <td>False</td>\n",
       "    </tr>\n",
       "    <tr>\n",
       "      <th>1</th>\n",
       "      <td>2017-08-31 01:00:00</td>\n",
       "      <td>9.0</td>\n",
       "      <td>0.0</td>\n",
       "      <td>False</td>\n",
       "    </tr>\n",
       "    <tr>\n",
       "      <th>2</th>\n",
       "      <td>2017-08-31 02:00:00</td>\n",
       "      <td>8.0</td>\n",
       "      <td>0.0</td>\n",
       "      <td>False</td>\n",
       "    </tr>\n",
       "    <tr>\n",
       "      <th>3</th>\n",
       "      <td>2017-08-31 03:00:00</td>\n",
       "      <td>7.0</td>\n",
       "      <td>0.0</td>\n",
       "      <td>False</td>\n",
       "    </tr>\n",
       "    <tr>\n",
       "      <th>4</th>\n",
       "      <td>2017-08-31 04:00:00</td>\n",
       "      <td>8.0</td>\n",
       "      <td>0.0</td>\n",
       "      <td>False</td>\n",
       "    </tr>\n",
       "  </tbody>\n",
       "</table>\n",
       "</div>"
      ],
      "text/plain": [
       "             date time  Marseille-Longchamp  air pollution topic  isPartial\n",
       "0  2017-08-31 00:00:00                  8.0                 74.0      False\n",
       "1  2017-08-31 01:00:00                  9.0                  0.0      False\n",
       "2  2017-08-31 02:00:00                  8.0                  0.0      False\n",
       "3  2017-08-31 03:00:00                  7.0                  0.0      False\n",
       "4  2017-08-31 04:00:00                  8.0                  0.0      False"
      ]
     },
     "execution_count": 8,
     "metadata": {},
     "output_type": "execute_result"
    }
   ],
   "source": [
    "table.head()"
   ]
  },
  {
   "cell_type": "code",
   "execution_count": 120,
   "metadata": {
    "collapsed": true
   },
   "outputs": [],
   "source": [
    "table['standardized topic']=(table['air pollution topic']  -  table['air pollution topic'].mean()) /table['air pollution topic'].std()"
   ]
  },
  {
   "cell_type": "code",
   "execution_count": 36,
   "metadata": {
    "collapsed": true
   },
   "outputs": [],
   "source": [
    "index_list=np.where(table['PM25']>50)[0]"
   ]
  },
  {
   "cell_type": "code",
   "execution_count": 57,
   "metadata": {
    "collapsed": true
   },
   "outputs": [],
   "source": [
    "shrink_index_list = [index_list[0]]\n",
    "for cnt in range(1,len(index_list)):\n",
    "    if index_list[cnt]== index_list[cnt-1]+1:\n",
    "        pass\n",
    "    else:\n",
    "        shrink_index_list.append(index_list[cnt].copy())"
   ]
  },
  {
   "cell_type": "code",
   "execution_count": 58,
   "metadata": {},
   "outputs": [
    {
     "data": {
      "text/plain": [
       "[206, 213, 217, 507, 2998, 3143]"
      ]
     },
     "execution_count": 58,
     "metadata": {},
     "output_type": "execute_result"
    }
   ],
   "source": [
    "shrink_index_list"
   ]
  },
  {
   "cell_type": "code",
   "execution_count": 60,
   "metadata": {},
   "outputs": [
    {
     "data": {
      "text/plain": [
       "[range(206, 213),\n",
       " range(213, 220),\n",
       " range(217, 224),\n",
       " range(507, 514),\n",
       " range(2998, 3005),\n",
       " range(3143, 3150)]"
      ]
     },
     "execution_count": 60,
     "metadata": {},
     "output_type": "execute_result"
    }
   ],
   "source": [
    "[range(start,start+7) for start in shrink_index_list]"
   ]
  },
  {
   "cell_type": "code",
   "execution_count": 71,
   "metadata": {},
   "outputs": [
    {
     "data": {
      "text/plain": [
       "array([11,  5, 18, 16, 83,  0,  0], dtype=int64)"
      ]
     },
     "execution_count": 71,
     "metadata": {},
     "output_type": "execute_result"
    }
   ],
   "source": [
    "table.loc[range(213, 220),'air pollution topic'].values"
   ]
  },
  {
   "cell_type": "code",
   "execution_count": 65,
   "metadata": {},
   "outputs": [
    {
     "data": {
      "text/plain": [
       "'2018-02-08 14:00:00'"
      ]
     },
     "execution_count": 65,
     "metadata": {},
     "output_type": "execute_result"
    }
   ],
   "source": [
    "table['date time'][206]"
   ]
  },
  {
   "cell_type": "code",
   "execution_count": 116,
   "metadata": {},
   "outputs": [
    {
     "data": {
      "text/html": [
       "<div>\n",
       "<style scoped>\n",
       "    .dataframe tbody tr th:only-of-type {\n",
       "        vertical-align: middle;\n",
       "    }\n",
       "\n",
       "    .dataframe tbody tr th {\n",
       "        vertical-align: top;\n",
       "    }\n",
       "\n",
       "    .dataframe thead th {\n",
       "        text-align: right;\n",
       "    }\n",
       "</style>\n",
       "<table border=\"1\" class=\"dataframe\">\n",
       "  <thead>\n",
       "    <tr style=\"text-align: right;\">\n",
       "      <th></th>\n",
       "      <th>date time</th>\n",
       "      <th>date</th>\n",
       "      <th>hour</th>\n",
       "      <th>PM25</th>\n",
       "      <th>PM10</th>\n",
       "      <th>O3</th>\n",
       "      <th>NO2</th>\n",
       "      <th>CO</th>\n",
       "      <th>air pollution topic</th>\n",
       "      <th>isPartial</th>\n",
       "      <th>stardardized topic</th>\n",
       "    </tr>\n",
       "  </thead>\n",
       "  <tbody>\n",
       "    <tr>\n",
       "      <th>2998</th>\n",
       "      <td>2018-06-04 22:00:00</td>\n",
       "      <td>04/06/2018</td>\n",
       "      <td>23.0</td>\n",
       "      <td>53.0</td>\n",
       "      <td>63</td>\n",
       "      <td>74</td>\n",
       "      <td>20</td>\n",
       "      <td>300</td>\n",
       "      <td>20</td>\n",
       "      <td>False</td>\n",
       "      <td>-0.014869</td>\n",
       "    </tr>\n",
       "    <tr>\n",
       "      <th>2999</th>\n",
       "      <td>2018-06-04 23:00:00</td>\n",
       "      <td>04/06/2018</td>\n",
       "      <td>24.0</td>\n",
       "      <td>51.0</td>\n",
       "      <td>60</td>\n",
       "      <td>66</td>\n",
       "      <td>18</td>\n",
       "      <td>300</td>\n",
       "      <td>18</td>\n",
       "      <td>False</td>\n",
       "      <td>-0.133193</td>\n",
       "    </tr>\n",
       "    <tr>\n",
       "      <th>3000</th>\n",
       "      <td>2018-06-05 00:00:00</td>\n",
       "      <td>05/06/2018</td>\n",
       "      <td>1.0</td>\n",
       "      <td>48.0</td>\n",
       "      <td>55</td>\n",
       "      <td>65</td>\n",
       "      <td>14</td>\n",
       "      <td>300</td>\n",
       "      <td>30</td>\n",
       "      <td>False</td>\n",
       "      <td>0.576752</td>\n",
       "    </tr>\n",
       "    <tr>\n",
       "      <th>3001</th>\n",
       "      <td>2018-06-05 01:00:00</td>\n",
       "      <td>05/06/2018</td>\n",
       "      <td>2.0</td>\n",
       "      <td>48.0</td>\n",
       "      <td>56</td>\n",
       "      <td>63</td>\n",
       "      <td>14</td>\n",
       "      <td>300</td>\n",
       "      <td>0</td>\n",
       "      <td>False</td>\n",
       "      <td>-1.198112</td>\n",
       "    </tr>\n",
       "    <tr>\n",
       "      <th>3002</th>\n",
       "      <td>2018-06-05 02:00:00</td>\n",
       "      <td>05/06/2018</td>\n",
       "      <td>3.0</td>\n",
       "      <td>47.0</td>\n",
       "      <td>53</td>\n",
       "      <td>64</td>\n",
       "      <td>12</td>\n",
       "      <td>300</td>\n",
       "      <td>89</td>\n",
       "      <td>False</td>\n",
       "      <td>4.067318</td>\n",
       "    </tr>\n",
       "    <tr>\n",
       "      <th>3003</th>\n",
       "      <td>2018-06-05 03:00:00</td>\n",
       "      <td>05/06/2018</td>\n",
       "      <td>4.0</td>\n",
       "      <td>50.0</td>\n",
       "      <td>55</td>\n",
       "      <td>58</td>\n",
       "      <td>14</td>\n",
       "      <td>300</td>\n",
       "      <td>0</td>\n",
       "      <td>False</td>\n",
       "      <td>-1.198112</td>\n",
       "    </tr>\n",
       "    <tr>\n",
       "      <th>3004</th>\n",
       "      <td>2018-06-05 04:00:00</td>\n",
       "      <td>05/06/2018</td>\n",
       "      <td>5.0</td>\n",
       "      <td>46.0</td>\n",
       "      <td>53</td>\n",
       "      <td>51</td>\n",
       "      <td>20</td>\n",
       "      <td>300</td>\n",
       "      <td>41</td>\n",
       "      <td>False</td>\n",
       "      <td>1.227536</td>\n",
       "    </tr>\n",
       "  </tbody>\n",
       "</table>\n",
       "</div>"
      ],
      "text/plain": [
       "                date time        date  hour  PM25 PM10  O3 NO2   CO  \\\n",
       "2998  2018-06-04 22:00:00  04/06/2018  23.0  53.0   63  74  20  300   \n",
       "2999  2018-06-04 23:00:00  04/06/2018  24.0  51.0   60  66  18  300   \n",
       "3000  2018-06-05 00:00:00  05/06/2018   1.0  48.0   55  65  14  300   \n",
       "3001  2018-06-05 01:00:00  05/06/2018   2.0  48.0   56  63  14  300   \n",
       "3002  2018-06-05 02:00:00  05/06/2018   3.0  47.0   53  64  12  300   \n",
       "3003  2018-06-05 03:00:00  05/06/2018   4.0  50.0   55  58  14  300   \n",
       "3004  2018-06-05 04:00:00  05/06/2018   5.0  46.0   53  51  20  300   \n",
       "\n",
       "      air pollution topic  isPartial  stardardized topic  \n",
       "2998                   20      False           -0.014869  \n",
       "2999                   18      False           -0.133193  \n",
       "3000                   30      False            0.576752  \n",
       "3001                    0      False           -1.198112  \n",
       "3002                   89      False            4.067318  \n",
       "3003                    0      False           -1.198112  \n",
       "3004                   41      False            1.227536  "
      ]
     },
     "execution_count": 116,
     "metadata": {},
     "output_type": "execute_result"
    }
   ],
   "source": [
    "table.loc[range(2998, 3005)]"
   ]
  },
  {
   "cell_type": "code",
   "execution_count": 119,
   "metadata": {},
   "outputs": [
    {
     "data": {
      "text/plain": [
       "214     0\n",
       "215    13\n",
       "216    11\n",
       "217    78\n",
       "218    -5\n",
       "219    -5\n",
       "220    62\n",
       "221    27\n",
       "222    10\n",
       "223    14\n",
       "Name: air pollution topic, dtype: int64"
      ]
     },
     "execution_count": 119,
     "metadata": {},
     "output_type": "execute_result"
    }
   ],
   "source": [
    "table.loc[range(214, 224)]['air pollution topic']-table.loc[214,'air pollution topic']"
   ]
  },
  {
   "cell_type": "code",
   "execution_count": 109,
   "metadata": {},
   "outputs": [
    {
     "data": {
      "text/html": [
       "<div>\n",
       "<style scoped>\n",
       "    .dataframe tbody tr th:only-of-type {\n",
       "        vertical-align: middle;\n",
       "    }\n",
       "\n",
       "    .dataframe tbody tr th {\n",
       "        vertical-align: top;\n",
       "    }\n",
       "\n",
       "    .dataframe thead th {\n",
       "        text-align: right;\n",
       "    }\n",
       "</style>\n",
       "<table border=\"1\" class=\"dataframe\">\n",
       "  <thead>\n",
       "    <tr style=\"text-align: right;\">\n",
       "      <th></th>\n",
       "      <th>date time</th>\n",
       "      <th>date</th>\n",
       "      <th>hour</th>\n",
       "      <th>PM25</th>\n",
       "      <th>PM10</th>\n",
       "      <th>O3</th>\n",
       "      <th>NO2</th>\n",
       "      <th>CO</th>\n",
       "      <th>air pollution topic</th>\n",
       "      <th>isPartial</th>\n",
       "      <th>stardardized topic</th>\n",
       "    </tr>\n",
       "  </thead>\n",
       "  <tbody>\n",
       "    <tr>\n",
       "      <th>200</th>\n",
       "      <td>2018-02-08 08:00:00</td>\n",
       "      <td>08/02/2018</td>\n",
       "      <td>9.0</td>\n",
       "      <td>40.0</td>\n",
       "      <td>43</td>\n",
       "      <td>7</td>\n",
       "      <td>60</td>\n",
       "      <td>500</td>\n",
       "      <td>20</td>\n",
       "      <td>False</td>\n",
       "      <td>-0.014869</td>\n",
       "    </tr>\n",
       "    <tr>\n",
       "      <th>201</th>\n",
       "      <td>2018-02-08 09:00:00</td>\n",
       "      <td>08/02/2018</td>\n",
       "      <td>10.0</td>\n",
       "      <td>45.0</td>\n",
       "      <td>53</td>\n",
       "      <td>13</td>\n",
       "      <td>58</td>\n",
       "      <td>500</td>\n",
       "      <td>29</td>\n",
       "      <td>False</td>\n",
       "      <td>0.517590</td>\n",
       "    </tr>\n",
       "    <tr>\n",
       "      <th>202</th>\n",
       "      <td>2018-02-08 10:00:00</td>\n",
       "      <td>08/02/2018</td>\n",
       "      <td>11.0</td>\n",
       "      <td>48.0</td>\n",
       "      <td>56</td>\n",
       "      <td>11</td>\n",
       "      <td>65</td>\n",
       "      <td>500</td>\n",
       "      <td>29</td>\n",
       "      <td>False</td>\n",
       "      <td>0.517590</td>\n",
       "    </tr>\n",
       "    <tr>\n",
       "      <th>203</th>\n",
       "      <td>2018-02-08 11:00:00</td>\n",
       "      <td>08/02/2018</td>\n",
       "      <td>12.0</td>\n",
       "      <td>47.0</td>\n",
       "      <td>59</td>\n",
       "      <td>11</td>\n",
       "      <td>76</td>\n",
       "      <td>600</td>\n",
       "      <td>12</td>\n",
       "      <td>False</td>\n",
       "      <td>-0.488166</td>\n",
       "    </tr>\n",
       "    <tr>\n",
       "      <th>204</th>\n",
       "      <td>2018-02-08 12:00:00</td>\n",
       "      <td>08/02/2018</td>\n",
       "      <td>13.0</td>\n",
       "      <td>50.0</td>\n",
       "      <td>57</td>\n",
       "      <td>16</td>\n",
       "      <td>75</td>\n",
       "      <td>600</td>\n",
       "      <td>26</td>\n",
       "      <td>False</td>\n",
       "      <td>0.340104</td>\n",
       "    </tr>\n",
       "    <tr>\n",
       "      <th>205</th>\n",
       "      <td>2018-02-08 13:00:00</td>\n",
       "      <td>08/02/2018</td>\n",
       "      <td>14.0</td>\n",
       "      <td>45.0</td>\n",
       "      <td>49</td>\n",
       "      <td>12</td>\n",
       "      <td>82</td>\n",
       "      <td>600</td>\n",
       "      <td>21</td>\n",
       "      <td>False</td>\n",
       "      <td>0.044293</td>\n",
       "    </tr>\n",
       "    <tr>\n",
       "      <th>206</th>\n",
       "      <td>2018-02-08 14:00:00</td>\n",
       "      <td>08/02/2018</td>\n",
       "      <td>15.0</td>\n",
       "      <td>51.0</td>\n",
       "      <td>56</td>\n",
       "      <td>9</td>\n",
       "      <td>87</td>\n",
       "      <td>600</td>\n",
       "      <td>45</td>\n",
       "      <td>False</td>\n",
       "      <td>1.464184</td>\n",
       "    </tr>\n",
       "    <tr>\n",
       "      <th>207</th>\n",
       "      <td>2018-02-08 15:00:00</td>\n",
       "      <td>08/02/2018</td>\n",
       "      <td>16.0</td>\n",
       "      <td>52.0</td>\n",
       "      <td>61</td>\n",
       "      <td>7</td>\n",
       "      <td>96</td>\n",
       "      <td>800</td>\n",
       "      <td>53</td>\n",
       "      <td>False</td>\n",
       "      <td>1.937481</td>\n",
       "    </tr>\n",
       "    <tr>\n",
       "      <th>208</th>\n",
       "      <td>2018-02-08 16:00:00</td>\n",
       "      <td>08/02/2018</td>\n",
       "      <td>17.0</td>\n",
       "      <td>52.0</td>\n",
       "      <td>66</td>\n",
       "      <td>4</td>\n",
       "      <td>107</td>\n",
       "      <td>1300</td>\n",
       "      <td>27</td>\n",
       "      <td>False</td>\n",
       "      <td>0.399266</td>\n",
       "    </tr>\n",
       "    <tr>\n",
       "      <th>209</th>\n",
       "      <td>2018-02-08 17:00:00</td>\n",
       "      <td>08/02/2018</td>\n",
       "      <td>18.0</td>\n",
       "      <td>54.0</td>\n",
       "      <td>60</td>\n",
       "      <td>5</td>\n",
       "      <td>103</td>\n",
       "      <td>1000</td>\n",
       "      <td>21</td>\n",
       "      <td>False</td>\n",
       "      <td>0.044293</td>\n",
       "    </tr>\n",
       "    <tr>\n",
       "      <th>210</th>\n",
       "      <td>2018-02-08 18:00:00</td>\n",
       "      <td>08/02/2018</td>\n",
       "      <td>19.0</td>\n",
       "      <td>54.0</td>\n",
       "      <td>62</td>\n",
       "      <td>5</td>\n",
       "      <td>95</td>\n",
       "      <td>900</td>\n",
       "      <td>13</td>\n",
       "      <td>False</td>\n",
       "      <td>-0.429004</td>\n",
       "    </tr>\n",
       "    <tr>\n",
       "      <th>211</th>\n",
       "      <td>2018-02-08 19:00:00</td>\n",
       "      <td>08/02/2018</td>\n",
       "      <td>20.0</td>\n",
       "      <td>50.0</td>\n",
       "      <td>61</td>\n",
       "      <td>5</td>\n",
       "      <td>92</td>\n",
       "      <td>1100</td>\n",
       "      <td>26</td>\n",
       "      <td>False</td>\n",
       "      <td>0.340104</td>\n",
       "    </tr>\n",
       "    <tr>\n",
       "      <th>212</th>\n",
       "      <td>2018-02-08 20:00:00</td>\n",
       "      <td>08/02/2018</td>\n",
       "      <td>21.0</td>\n",
       "      <td>50.0</td>\n",
       "      <td>56</td>\n",
       "      <td>7</td>\n",
       "      <td>88</td>\n",
       "      <td>1000</td>\n",
       "      <td>13</td>\n",
       "      <td>False</td>\n",
       "      <td>-0.429004</td>\n",
       "    </tr>\n",
       "  </tbody>\n",
       "</table>\n",
       "</div>"
      ],
      "text/plain": [
       "               date time        date  hour  PM25 PM10  O3  NO2    CO  \\\n",
       "200  2018-02-08 08:00:00  08/02/2018   9.0  40.0   43   7   60   500   \n",
       "201  2018-02-08 09:00:00  08/02/2018  10.0  45.0   53  13   58   500   \n",
       "202  2018-02-08 10:00:00  08/02/2018  11.0  48.0   56  11   65   500   \n",
       "203  2018-02-08 11:00:00  08/02/2018  12.0  47.0   59  11   76   600   \n",
       "204  2018-02-08 12:00:00  08/02/2018  13.0  50.0   57  16   75   600   \n",
       "205  2018-02-08 13:00:00  08/02/2018  14.0  45.0   49  12   82   600   \n",
       "206  2018-02-08 14:00:00  08/02/2018  15.0  51.0   56   9   87   600   \n",
       "207  2018-02-08 15:00:00  08/02/2018  16.0  52.0   61   7   96   800   \n",
       "208  2018-02-08 16:00:00  08/02/2018  17.0  52.0   66   4  107  1300   \n",
       "209  2018-02-08 17:00:00  08/02/2018  18.0  54.0   60   5  103  1000   \n",
       "210  2018-02-08 18:00:00  08/02/2018  19.0  54.0   62   5   95   900   \n",
       "211  2018-02-08 19:00:00  08/02/2018  20.0  50.0   61   5   92  1100   \n",
       "212  2018-02-08 20:00:00  08/02/2018  21.0  50.0   56   7   88  1000   \n",
       "\n",
       "     air pollution topic  isPartial  stardardized topic  \n",
       "200                   20      False           -0.014869  \n",
       "201                   29      False            0.517590  \n",
       "202                   29      False            0.517590  \n",
       "203                   12      False           -0.488166  \n",
       "204                   26      False            0.340104  \n",
       "205                   21      False            0.044293  \n",
       "206                   45      False            1.464184  \n",
       "207                   53      False            1.937481  \n",
       "208                   27      False            0.399266  \n",
       "209                   21      False            0.044293  \n",
       "210                   13      False           -0.429004  \n",
       "211                   26      False            0.340104  \n",
       "212                   13      False           -0.429004  "
      ]
     },
     "execution_count": 109,
     "metadata": {},
     "output_type": "execute_result"
    }
   ],
   "source": [
    "table.loc[range(200, 213)]"
   ]
  },
  {
   "cell_type": "code",
   "execution_count": 157,
   "metadata": {
    "collapsed": true
   },
   "outputs": [],
   "source": [
    "a={1,4}"
   ]
  },
  {
   "cell_type": "code",
   "execution_count": 160,
   "metadata": {
    "collapsed": true
   },
   "outputs": [],
   "source": [
    "a.add(3)"
   ]
  },
  {
   "cell_type": "code",
   "execution_count": 161,
   "metadata": {},
   "outputs": [
    {
     "data": {
      "text/plain": [
       "{1, 3, 4}"
      ]
     },
     "execution_count": 161,
     "metadata": {},
     "output_type": "execute_result"
    }
   ],
   "source": [
    "a"
   ]
  },
  {
   "cell_type": "code",
   "execution_count": null,
   "metadata": {
    "collapsed": true
   },
   "outputs": [],
   "source": [
    "table['standardized topic']=(table['air pollution topic']  -  table['air pollution topic'].mean()) /table['air pollution topic'].std()"
   ]
  },
  {
   "cell_type": "code",
   "execution_count": 207,
   "metadata": {
    "collapsed": true
   },
   "outputs": [],
   "source": [
    "def signal_process(table,threshold = 40, duration = 6,var_name='standardized topic'):\n",
    "    \"\"\"Find the spike in pm25 and plot a sliding window for google trend \"\"\"\n",
    "    index_list=np.where(table['PM25']>threshold)[0]\n",
    "    shrink_index_list = [index_list[0]]\n",
    "    date_set ={table.date[index_list[0]]}\n",
    "    for cnt in range(1,len(index_list)):\n",
    "        if table.date[index_list[cnt]] in date_set:\n",
    "            pass\n",
    "        else:\n",
    "            shrink_index_list.append(index_list[cnt].copy())\n",
    "            date_set.add(table.date[index_list[cnt]])\n",
    "            \n",
    "    new_table = pd.DataFrame()\n",
    "    \n",
    "    for start_index in shrink_index_list:\n",
    "        this_sequence = table.loc[range(start_index-2,start_index+duration+1),\n",
    "                                  var_name].values\n",
    "#         this_sequence = (this_sequence- this_sequence.mean())/this_sequence.std()\n",
    "        new_table[table['date time'][start_index]] = this_sequence\n",
    "        \n",
    "    \n",
    "    return new_table"
   ]
  },
  {
   "cell_type": "code",
   "execution_count": 211,
   "metadata": {},
   "outputs": [
    {
     "data": {
      "image/png": "[encoded data removed]",
      "text/plain": [
       "<matplotlib.figure.Figure at 0x199cc247400>"
      ]
     },
     "metadata": {},
     "output_type": "display_data"
    }
   ],
   "source": [
    "signal_process(table,threshold = 35,duration = 24,var_name='air pollution topic').mean(axis=1).plot()\n",
    "plt.show()"
   ]
  },
  {
   "cell_type": "code",
   "execution_count": 151,
   "metadata": {
    "collapsed": true
   },
   "outputs": [],
   "source": [
    "from pandas import RangeIndex"
   ]
  },
  {
   "cell_type": "code",
   "execution_count": 212,
   "metadata": {
    "collapsed": true
   },
   "outputs": [],
   "source": [
    "signal_table = signal_process(table,threshold = 35,duration =24)\n",
    "signal_table.index = RangeIndex(start=-2, stop=25, step=1)"
   ]
  },
  {
   "cell_type": "code",
   "execution_count": 217,
   "metadata": {
    "collapsed": true
   },
   "outputs": [],
   "source": [
    "signal_table['col_sum'] = signal_table.mean(axis=1)"
   ]
  },
  {
   "cell_type": "code",
   "execution_count": 220,
   "metadata": {},
   "outputs": [
    {
     "data": {
      "text/plain": [
       "(27, 32)"
      ]
     },
     "execution_count": 220,
     "metadata": {},
     "output_type": "execute_result"
    }
   ],
   "source": [
    "signal_table.shape"
   ]
  },
  {
   "cell_type": "code",
   "execution_count": 219,
   "metadata": {
    "collapsed": true
   },
   "outputs": [],
   "source": [
    "signal_table.to_csv(\"air_parif_threshold_35_colsum_duration_24H.csv\")"
   ]
  }
 ],
 "metadata": {
  "kernelspec": {
   "display_name": "Python 3",
   "language": "python",
   "name": "python3"
  },
  "language_info": {
   "codemirror_mode": {
    "name": "ipython",
    "version": 3
   },
   "file_extension": ".py",
   "mimetype": "text/x-python",
   "name": "python",
   "nbconvert_exporter": "python",
   "pygments_lexer": "ipython3",
   "version": "3.6.1"
  }
 },
 "nbformat": 4,
 "nbformat_minor": 2
}
